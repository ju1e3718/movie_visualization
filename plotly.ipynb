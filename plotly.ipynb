{
 "cells": [
  {
   "cell_type": "markdown",
   "metadata": {},
   "source": [
    "# 동은님 코드"
   ]
  },
  {
   "cell_type": "code",
   "execution_count": null,
   "metadata": {},
   "outputs": [],
   "source": [
    "pip install dash-extensions"
   ]
  },
  {
   "cell_type": "code",
   "execution_count": 4,
   "metadata": {},
   "outputs": [
    {
     "data": {
      "text/html": [
       "\n",
       "        <iframe\n",
       "            width=\"100%\"\n",
       "            height=\"650\"\n",
       "            src=\"http://127.0.0.1:8050/\"\n",
       "            frameborder=\"0\"\n",
       "            allowfullscreen\n",
       "            \n",
       "        ></iframe>\n",
       "        "
      ],
      "text/plain": [
       "<IPython.lib.display.IFrame at 0x13d6c7b10>"
      ]
     },
     "metadata": {},
     "output_type": "display_data"
    }
   ],
   "source": [
    "import dash\n",
    "from dash import dcc, html, Input, Output\n",
    "import plotly.express as px\n",
    "import pandas as pd\n",
    "\n",
    "# Create dummy movie data\n",
    "data = {\n",
    "    'Movie': ['Movie A', 'Movie B', 'Movie C', 'Movie D', 'Movie E'],\n",
    "    'Distributor': ['Distributor X', 'Distributor Y', 'Distributor X', 'Distributor Z', 'Distributor Y'],\n",
    "    'Rating': [8.5, 7.9, 6.8, 9.2, 8.0]\n",
    "}\n",
    "df = pd.DataFrame(data)\n",
    "\n",
    "# Create Dash application\n",
    "app = dash.Dash(__name__)\n",
    "\n",
    "# Save HTML to file function\n",
    "def save_graph_to_html(fig, filename='graph.html'):\n",
    "    fig.write_html(filename)\n",
    "\n",
    "# Layout configuration\n",
    "app.layout = html.Div([\n",
    "    html.H1(\"Performance of Movie Distributors\"),\n",
    "    dcc.Checklist(\n",
    "        id='distributor-selector',\n",
    "        options=[{'label': distributor, 'value': distributor} for distributor in df['Distributor'].unique()],\n",
    "        value=[],\n",
    "        labelStyle={'display': 'inline-block'}\n",
    "    ),\n",
    "    dcc.Graph(id='rating-graph'),\n",
    "    html.Button('Export to HTML', id='export-button', n_clicks=0)\n",
    "])\n",
    "\n",
    "# Callback function definition\n",
    "@app.callback(\n",
    "    Output('rating-graph', 'figure'),\n",
    "    [Input('distributor-selector', 'value')]\n",
    ")\n",
    "def update_graph(selected_distributors):\n",
    "    if not selected_distributors:\n",
    "        return px.scatter()\n",
    "    else:\n",
    "        filtered_df = df[df['Distributor'].isin(selected_distributors)]\n",
    "        fig = px.bar(filtered_df, x='Movie', y='Rating', color='Distributor', barmode='group', title='Movie Performance')\n",
    "        return fig\n",
    "\n",
    "@app.callback(\n",
    "    Output('export-button', 'children'),\n",
    "    [Input('export-button', 'n_clicks'),\n",
    "     Input('rating-graph', 'figure')]\n",
    ")\n",
    "def download_html(n_clicks, graph_figure):\n",
    "    if n_clicks > 0 and graph_figure:\n",
    "        fig = px.bar(df, x='Movie', y='Rating', color='Distributor')\n",
    "        save_graph_to_html(fig)\n",
    "        return 'Exported! Click Again to Export Again'\n",
    "    return 'Export to HTML'\n",
    "\n",
    "# Run application\n",
    "if __name__ == '__main__':\n",
    "    app.run_server(debug=True)\n"
   ]
  },
  {
   "cell_type": "code",
   "execution_count": 6,
   "metadata": {},
   "outputs": [
    {
     "name": "stdout",
     "output_type": "stream",
     "text": [
      "인터랙티브 그래프가 interactive_movie_ratings.html로 저장되었습니다.\n"
     ]
    }
   ],
   "source": [
    "import plotly.graph_objs as go\n",
    "import pandas as pd\n",
    "\n",
    "# 가상의 영화 데이터 생성\n",
    "data = {\n",
    "    'Movie': ['Movie A', 'Movie B', 'Movie C', 'Movie D', 'Movie E'],\n",
    "    'Distributor': ['Distributor X', 'Distributor Y', 'Distributor X', 'Distributor Z', 'Distributor Y'],\n",
    "    'Rating': [8.5, 7.9, 6.8, 9.2, 8.0]\n",
    "}\n",
    "df = pd.DataFrame(data)\n",
    "\n",
    "# 영화 배급사를 기준으로 데이터를 그룹화하여 그래프를 생성하는 함수\n",
    "def get_figure(distributor):\n",
    "    filtered_df = df[df['Distributor'] == distributor]\n",
    "    fig = go.Figure()\n",
    "    fig.add_trace(go.Bar(x=filtered_df['Movie'], y=filtered_df['Rating'], name=distributor))\n",
    "    fig.update_layout(title=f'{distributor}의 영화 성적', xaxis_title='영화', yaxis_title='평점')\n",
    "    return fig\n",
    "\n",
    "# 기본 그래프 생성\n",
    "fig = get_figure('Distributor X')\n",
    "\n",
    "# 각 배급사를 선택할 수 있는 버튼 추가\n",
    "buttons = [\n",
    "    dict(\n",
    "        label=distributor,\n",
    "        method='update',\n",
    "        args=[{'x': [df[df['Distributor'] == distributor]['Movie']],\n",
    "               'y': [df[df['Distributor'] == distributor]['Rating']],\n",
    "               'type': 'bar'},\n",
    "              {'title': f'{distributor}의 영화 성적'}]\n",
    "    )\n",
    "    for distributor in df['Distributor'].unique()\n",
    "]\n",
    "\n",
    "# 레이아웃에 버튼 추가\n",
    "fig.update_layout(\n",
    "    updatemenus=[{\n",
    "        'buttons': buttons,\n",
    "        'direction': 'down',\n",
    "        'showactive': True,\n",
    "    }],\n",
    "    title='배급사별 영화 성적',\n",
    "    xaxis_title='영화',\n",
    "    yaxis_title='평점'\n",
    ")\n",
    "\n",
    "# 그래프를 HTML로 내보내기\n",
    "fig.write_html('interactive_movie_ratings.html')\n",
    "\n",
    "print(\"인터랙티브 그래프가 interactive_movie_ratings.html로 저장되었습니다.\")\n"
   ]
  },
  {
   "cell_type": "markdown",
   "metadata": {},
   "source": [
    "# 현준님 코드"
   ]
  },
  {
   "cell_type": "code",
   "execution_count": 9,
   "metadata": {},
   "outputs": [
    {
     "data": {
      "application/vnd.plotly.v1+json": {
       "config": {
        "plotlyServerURL": "https://plot.ly"
       },
       "data": [
        {
         "alignmentgroup": "True",
         "hovertemplate": "배급사=(주)시네마서비스<br>연도=%{x}<br>매출액=%{y}<extra></extra>",
         "legendgroup": "(주)시네마서비스",
         "marker": {
          "color": "#636efa",
          "pattern": {
           "shape": ""
          }
         },
         "name": "(주)시네마서비스",
         "offsetgroup": "(주)시네마서비스",
         "orientation": "v",
         "showlegend": true,
         "textposition": "auto",
         "type": "bar",
         "x": [
          1999,
          2001,
          2002,
          2003,
          2004,
          2005,
          2006,
          2007,
          2010
         ],
         "xaxis": "x",
         "y": [
          0,
          0,
          0,
          0,
          0,
          0,
          0,
          0,
          8737627361
         ],
         "yaxis": "y"
        },
        {
         "alignmentgroup": "True",
         "hovertemplate": "배급사=CJ ENM<br>연도=%{x}<br>매출액=%{y}<extra></extra>",
         "legendgroup": "CJ ENM",
         "marker": {
          "color": "#EF553B",
          "pattern": {
           "shape": ""
          }
         },
         "name": "CJ ENM",
         "offsetgroup": "CJ ENM",
         "orientation": "v",
         "showlegend": true,
         "textposition": "auto",
         "type": "bar",
         "x": [
          2000,
          2001,
          2003,
          2004,
          2005,
          2006,
          2007,
          2008,
          2009,
          2010,
          2011
         ],
         "xaxis": "x",
         "y": [
          0,
          0,
          0,
          0,
          0,
          0,
          511288500,
          106202025921,
          227408027253,
          176820665071,
          13757574500
         ],
         "yaxis": "y"
        },
        {
         "alignmentgroup": "True",
         "hovertemplate": "배급사=이언픽쳐스,(주)시네마서비스<br>연도=%{x}<br>매출액=%{y}<extra></extra>",
         "legendgroup": "이언픽쳐스,(주)시네마서비스",
         "marker": {
          "color": "#00cc96",
          "pattern": {
           "shape": ""
          }
         },
         "name": "이언픽쳐스,(주)시네마서비스",
         "offsetgroup": "이언픽쳐스,(주)시네마서비스",
         "orientation": "v",
         "showlegend": true,
         "textposition": "auto",
         "type": "bar",
         "x": [
          2001
         ],
         "xaxis": "x",
         "y": [
          0
         ],
         "yaxis": "y"
        },
        {
         "alignmentgroup": "True",
         "hovertemplate": "배급사=(주)쇼박스<br>연도=%{x}<br>매출액=%{y}<extra></extra>",
         "legendgroup": "(주)쇼박스",
         "marker": {
          "color": "#ab63fa",
          "pattern": {
           "shape": ""
          }
         },
         "name": "(주)쇼박스",
         "offsetgroup": "(주)쇼박스",
         "orientation": "v",
         "showlegend": true,
         "textposition": "auto",
         "type": "bar",
         "x": [
          2002,
          2003,
          2004,
          2005,
          2006,
          2007,
          2008,
          2009,
          2010,
          2011,
          2012,
          2013,
          2014,
          2015,
          2016,
          2017,
          2018,
          2019,
          2020,
          2021,
          2022,
          2023,
          2024
         ],
         "xaxis": "x",
         "y": [
          0,
          0,
          0,
          0,
          0,
          0,
          70771003449,
          104399918899,
          54949804627,
          83198378100,
          168274317500,
          218992686403,
          92805981355,
          291442437438,
          208206097132,
          182829639368,
          103718915135,
          94992427218,
          41223596650,
          21395652690,
          20926361328,
          10192141216,
          121898990305
         ],
         "yaxis": "y"
        },
        {
         "alignmentgroup": "True",
         "hovertemplate": "배급사=영화사청어람(주)<br>연도=%{x}<br>매출액=%{y}<extra></extra>",
         "legendgroup": "영화사청어람(주)",
         "marker": {
          "color": "#FFA15A",
          "pattern": {
           "shape": ""
          }
         },
         "name": "영화사청어람(주)",
         "offsetgroup": "영화사청어람(주)",
         "orientation": "v",
         "showlegend": true,
         "textposition": "auto",
         "type": "bar",
         "x": [
          2002,
          2003,
          2004
         ],
         "xaxis": "x",
         "y": [
          0,
          0,
          0
         ],
         "yaxis": "y"
        },
        {
         "alignmentgroup": "True",
         "hovertemplate": "배급사=쇼이스트(주)<br>연도=%{x}<br>매출액=%{y}<extra></extra>",
         "legendgroup": "쇼이스트(주)",
         "marker": {
          "color": "#19d3f3",
          "pattern": {
           "shape": ""
          }
         },
         "name": "쇼이스트(주)",
         "offsetgroup": "쇼이스트(주)",
         "orientation": "v",
         "showlegend": true,
         "textposition": "auto",
         "type": "bar",
         "x": [
          2003,
          2005,
          2006
         ],
         "xaxis": "x",
         "y": [
          0,
          0,
          0
         ],
         "yaxis": "y"
        },
        {
         "alignmentgroup": "True",
         "hovertemplate": "배급사=쇼이스트(주),(주)씨제이이엔엠<br>연도=%{x}<br>매출액=%{y}<extra></extra>",
         "legendgroup": "쇼이스트(주),(주)씨제이이엔엠",
         "marker": {
          "color": "#FF6692",
          "pattern": {
           "shape": ""
          }
         },
         "name": "쇼이스트(주),(주)씨제이이엔엠",
         "offsetgroup": "쇼이스트(주),(주)씨제이이엔엠",
         "orientation": "v",
         "showlegend": true,
         "textposition": "auto",
         "type": "bar",
         "x": [
          2003
         ],
         "xaxis": "x",
         "y": [
          0
         ],
         "yaxis": "y"
        },
        {
         "alignmentgroup": "True",
         "hovertemplate": "배급사=(주)다자인소프트,(주)쇼박스<br>연도=%{x}<br>매출액=%{y}<extra></extra>",
         "legendgroup": "(주)다자인소프트,(주)쇼박스",
         "marker": {
          "color": "#B6E880",
          "pattern": {
           "shape": ""
          }
         },
         "name": "(주)다자인소프트,(주)쇼박스",
         "offsetgroup": "(주)다자인소프트,(주)쇼박스",
         "orientation": "v",
         "showlegend": true,
         "textposition": "auto",
         "type": "bar",
         "x": [
          2004
         ],
         "xaxis": "x",
         "y": [
          0
         ],
         "yaxis": "y"
        },
        {
         "alignmentgroup": "True",
         "hovertemplate": "배급사=(주)튜브엔터테인먼트<br>연도=%{x}<br>매출액=%{y}<extra></extra>",
         "legendgroup": "(주)튜브엔터테인먼트",
         "marker": {
          "color": "#FF97FF",
          "pattern": {
           "shape": ""
          }
         },
         "name": "(주)튜브엔터테인먼트",
         "offsetgroup": "(주)튜브엔터테인먼트",
         "orientation": "v",
         "showlegend": true,
         "textposition": "auto",
         "type": "bar",
         "x": [
          2004
         ],
         "xaxis": "x",
         "y": [
          0
         ],
         "yaxis": "y"
        },
        {
         "alignmentgroup": "True",
         "hovertemplate": "배급사=CJ ENM,아이러브시네마<br>연도=%{x}<br>매출액=%{y}<extra></extra>",
         "legendgroup": "CJ ENM,아이러브시네마",
         "marker": {
          "color": "#FECB52",
          "pattern": {
           "shape": ""
          }
         },
         "name": "CJ ENM,아이러브시네마",
         "offsetgroup": "CJ ENM,아이러브시네마",
         "orientation": "v",
         "showlegend": true,
         "textposition": "auto",
         "type": "bar",
         "x": [
          2004
         ],
         "xaxis": "x",
         "y": [
          0
         ],
         "yaxis": "y"
        },
        {
         "alignmentgroup": "True",
         "hovertemplate": "배급사=코리아픽쳐스(주)<br>연도=%{x}<br>매출액=%{y}<extra></extra>",
         "legendgroup": "코리아픽쳐스(주)",
         "marker": {
          "color": "#636efa",
          "pattern": {
           "shape": ""
          }
         },
         "name": "코리아픽쳐스(주)",
         "offsetgroup": "코리아픽쳐스(주)",
         "orientation": "v",
         "showlegend": true,
         "textposition": "auto",
         "type": "bar",
         "x": [
          2004,
          2005
         ],
         "xaxis": "x",
         "y": [
          0,
          0
         ],
         "yaxis": "y"
        },
        {
         "alignmentgroup": "True",
         "hovertemplate": "배급사=(주)엠케이픽처스<br>연도=%{x}<br>매출액=%{y}<extra></extra>",
         "legendgroup": "(주)엠케이픽처스",
         "marker": {
          "color": "#EF553B",
          "pattern": {
           "shape": ""
          }
         },
         "name": "(주)엠케이픽처스",
         "offsetgroup": "(주)엠케이픽처스",
         "orientation": "v",
         "showlegend": true,
         "textposition": "auto",
         "type": "bar",
         "x": [
          2005
         ],
         "xaxis": "x",
         "y": [
          0
         ],
         "yaxis": "y"
        },
        {
         "alignmentgroup": "True",
         "hovertemplate": "배급사=롯데쇼핑㈜롯데엔터테인먼트<br>연도=%{x}<br>매출액=%{y}<extra></extra>",
         "legendgroup": "롯데쇼핑㈜롯데엔터테인먼트",
         "marker": {
          "color": "#00cc96",
          "pattern": {
           "shape": ""
          }
         },
         "name": "롯데쇼핑㈜롯데엔터테인먼트",
         "offsetgroup": "롯데쇼핑㈜롯데엔터테인먼트",
         "orientation": "v",
         "showlegend": true,
         "textposition": "auto",
         "type": "bar",
         "x": [
          2005,
          2006,
          2007,
          2008,
          2009,
          2010,
          2011,
          2012,
          2013,
          2014,
          2015,
          2016,
          2017,
          2018
         ],
         "xaxis": "x",
         "y": [
          0,
          0,
          0,
          67354125034,
          39378263000,
          78403863396,
          127157339000,
          95202164369,
          94000056940,
          127846661267,
          8946842910,
          53754961757,
          190829616884,
          20800916128
         ],
         "yaxis": "y"
        },
        {
         "alignmentgroup": "True",
         "hovertemplate": "배급사=롯데쇼핑㈜롯데엔터테인먼트,아이러브시네마<br>연도=%{x}<br>매출액=%{y}<extra></extra>",
         "legendgroup": "롯데쇼핑㈜롯데엔터테인먼트,아이러브시네마",
         "marker": {
          "color": "#ab63fa",
          "pattern": {
           "shape": ""
          }
         },
         "name": "롯데쇼핑㈜롯데엔터테인먼트,아이러브시네마",
         "offsetgroup": "롯데쇼핑㈜롯데엔터테인먼트,아이러브시네마",
         "orientation": "v",
         "showlegend": true,
         "textposition": "auto",
         "type": "bar",
         "x": [
          2005
         ],
         "xaxis": "x",
         "y": [
          0
         ],
         "yaxis": "y"
        },
        {
         "alignmentgroup": "True",
         "hovertemplate": "배급사=(주)씨제이이엔엠<br>연도=%{x}<br>매출액=%{y}<extra></extra>",
         "legendgroup": "(주)씨제이이엔엠",
         "marker": {
          "color": "#FFA15A",
          "pattern": {
           "shape": ""
          }
         },
         "name": "(주)씨제이이엔엠",
         "offsetgroup": "(주)씨제이이엔엠",
         "orientation": "v",
         "showlegend": true,
         "textposition": "auto",
         "type": "bar",
         "x": [
          2006,
          2011,
          2012,
          2013,
          2014,
          2015,
          2016,
          2017,
          2018,
          2019,
          2020,
          2021,
          2022,
          2023,
          2024
         ],
         "xaxis": "x",
         "y": [
          0,
          200448541900,
          313781806716,
          207309382254,
          353017596810,
          291523441742,
          229559187396,
          236470050741,
          180983057899,
          398178976275,
          78284689490,
          14025546720,
          151463125392,
          18635492555,
          13792326337
         ],
         "yaxis": "y"
        },
        {
         "alignmentgroup": "True",
         "hovertemplate": "배급사=(주)프라임엔터테인먼트<br>연도=%{x}<br>매출액=%{y}<extra></extra>",
         "legendgroup": "(주)프라임엔터테인먼트",
         "marker": {
          "color": "#19d3f3",
          "pattern": {
           "shape": ""
          }
         },
         "name": "(주)프라임엔터테인먼트",
         "offsetgroup": "(주)프라임엔터테인먼트",
         "orientation": "v",
         "showlegend": true,
         "textposition": "auto",
         "type": "bar",
         "x": [
          2006,
          2007
         ],
         "xaxis": "x",
         "y": [
          0,
          38146000
         ],
         "yaxis": "y"
        },
        {
         "alignmentgroup": "True",
         "hovertemplate": "배급사=(주)엠케이픽처스 ,(주)두엔터테인먼트<br>연도=%{x}<br>매출액=%{y}<extra></extra>",
         "legendgroup": "(주)엠케이픽처스 ,(주)두엔터테인먼트",
         "marker": {
          "color": "#FF6692",
          "pattern": {
           "shape": ""
          }
         },
         "name": "(주)엠케이픽처스 ,(주)두엔터테인먼트",
         "offsetgroup": "(주)엠케이픽처스 ,(주)두엔터테인먼트",
         "orientation": "v",
         "showlegend": true,
         "textposition": "auto",
         "type": "bar",
         "x": [
          2007
         ],
         "xaxis": "x",
         "y": [
          0
         ],
         "yaxis": "y"
        },
        {
         "alignmentgroup": "True",
         "hovertemplate": "배급사=㈜스튜디오이쩜영<br>연도=%{x}<br>매출액=%{y}<extra></extra>",
         "legendgroup": "㈜스튜디오이쩜영",
         "marker": {
          "color": "#B6E880",
          "pattern": {
           "shape": ""
          }
         },
         "name": "㈜스튜디오이쩜영",
         "offsetgroup": "㈜스튜디오이쩜영",
         "orientation": "v",
         "showlegend": true,
         "textposition": "auto",
         "type": "bar",
         "x": [
          2007,
          2008
         ],
         "xaxis": "x",
         "y": [
          0,
          8943849000
         ],
         "yaxis": "y"
        },
        {
         "alignmentgroup": "True",
         "hovertemplate": "배급사=CJ ENM,(주)시네마서비스<br>연도=%{x}<br>매출액=%{y}<extra></extra>",
         "legendgroup": "CJ ENM,(주)시네마서비스",
         "marker": {
          "color": "#FF97FF",
          "pattern": {
           "shape": ""
          }
         },
         "name": "CJ ENM,(주)시네마서비스",
         "offsetgroup": "CJ ENM,(주)시네마서비스",
         "orientation": "v",
         "showlegend": true,
         "textposition": "auto",
         "type": "bar",
         "x": [
          2008
         ],
         "xaxis": "x",
         "y": [
          28465757767
         ],
         "yaxis": "y"
        },
        {
         "alignmentgroup": "True",
         "hovertemplate": "배급사=(주)싸이더스<br>연도=%{x}<br>매출액=%{y}<extra></extra>",
         "legendgroup": "(주)싸이더스",
         "marker": {
          "color": "#FECB52",
          "pattern": {
           "shape": ""
          }
         },
         "name": "(주)싸이더스",
         "offsetgroup": "(주)싸이더스",
         "orientation": "v",
         "showlegend": true,
         "textposition": "auto",
         "type": "bar",
         "x": [
          2008,
          2010
         ],
         "xaxis": "x",
         "y": [
          26151780425,
          17310669976
         ],
         "yaxis": "y"
        },
        {
         "alignmentgroup": "True",
         "hovertemplate": "배급사=에스케이텔레콤(주)<br>연도=%{x}<br>매출액=%{y}<extra></extra>",
         "legendgroup": "에스케이텔레콤(주)",
         "marker": {
          "color": "#636efa",
          "pattern": {
           "shape": ""
          }
         },
         "name": "에스케이텔레콤(주)",
         "offsetgroup": "에스케이텔레콤(주)",
         "orientation": "v",
         "showlegend": true,
         "textposition": "auto",
         "type": "bar",
         "x": [
          2008,
          2009,
          2010
         ],
         "xaxis": "x",
         "y": [
          10299976000,
          7900084842,
          10408565262
         ],
         "yaxis": "y"
        },
        {
         "alignmentgroup": "True",
         "hovertemplate": "배급사=(유)씨에이치엔터테인먼트<br>연도=%{x}<br>매출액=%{y}<extra></extra>",
         "legendgroup": "(유)씨에이치엔터테인먼트",
         "marker": {
          "color": "#EF553B",
          "pattern": {
           "shape": ""
          }
         },
         "name": "(유)씨에이치엔터테인먼트",
         "offsetgroup": "(유)씨에이치엔터테인먼트",
         "orientation": "v",
         "showlegend": true,
         "textposition": "auto",
         "type": "bar",
         "x": [
          2008
         ],
         "xaxis": "x",
         "y": [
          10180143111
         ],
         "yaxis": "y"
        },
        {
         "alignmentgroup": "True",
         "hovertemplate": "배급사=(주)스튜디오210<br>연도=%{x}<br>매출액=%{y}<extra></extra>",
         "legendgroup": "(주)스튜디오210",
         "marker": {
          "color": "#00cc96",
          "pattern": {
           "shape": ""
          }
         },
         "name": "(주)스튜디오210",
         "offsetgroup": "(주)스튜디오210",
         "orientation": "v",
         "showlegend": true,
         "textposition": "auto",
         "type": "bar",
         "x": [
          2008
         ],
         "xaxis": "x",
         "y": [
          7460438000
         ],
         "yaxis": "y"
        },
        {
         "alignmentgroup": "True",
         "hovertemplate": "배급사=오퍼스픽쳐스(유),(주)쇼박스<br>연도=%{x}<br>매출액=%{y}<extra></extra>",
         "legendgroup": "오퍼스픽쳐스(유),(주)쇼박스",
         "marker": {
          "color": "#ab63fa",
          "pattern": {
           "shape": ""
          }
         },
         "name": "오퍼스픽쳐스(유),(주)쇼박스",
         "offsetgroup": "오퍼스픽쳐스(유),(주)쇼박스",
         "orientation": "v",
         "showlegend": true,
         "textposition": "auto",
         "type": "bar",
         "x": [
          2008
         ],
         "xaxis": "x",
         "y": [
          7367880833
         ],
         "yaxis": "y"
        },
        {
         "alignmentgroup": "True",
         "hovertemplate": "배급사=㈜인디스토리<br>연도=%{x}<br>매출액=%{y}<extra></extra>",
         "legendgroup": "㈜인디스토리",
         "marker": {
          "color": "#FFA15A",
          "pattern": {
           "shape": ""
          }
         },
         "name": "㈜인디스토리",
         "offsetgroup": "㈜인디스토리",
         "orientation": "v",
         "showlegend": true,
         "textposition": "auto",
         "type": "bar",
         "x": [
          2009
         ],
         "xaxis": "x",
         "y": [
          19259975032
         ],
         "yaxis": "y"
        },
        {
         "alignmentgroup": "True",
         "hovertemplate": "배급사=(주)넥스트엔터테인먼트월드(NEW)<br>연도=%{x}<br>매출액=%{y}<extra></extra>",
         "legendgroup": "(주)넥스트엔터테인먼트월드(NEW)",
         "marker": {
          "color": "#19d3f3",
          "pattern": {
           "shape": ""
          }
         },
         "name": "(주)넥스트엔터테인먼트월드(NEW)",
         "offsetgroup": "(주)넥스트엔터테인먼트월드(NEW)",
         "orientation": "v",
         "showlegend": true,
         "textposition": "auto",
         "type": "bar",
         "x": [
          2009,
          2010,
          2011,
          2012,
          2013,
          2014,
          2015,
          2016,
          2017,
          2018,
          2019,
          2020,
          2021,
          2022,
          2023
         ],
         "xaxis": "x",
         "y": [
          18284950605,
          36773092737,
          48219431000,
          125885262948,
          303170613054,
          46453608797,
          111077081347,
          147231548464,
          99057100228,
          146695421293,
          84876637610,
          45907389810,
          15585244870,
          61782908794,
          49685009003
         ],
         "yaxis": "y"
        },
        {
         "alignmentgroup": "True",
         "hovertemplate": "배급사=(주)시너지하우스 (시너지)<br>연도=%{x}<br>매출액=%{y}<extra></extra>",
         "legendgroup": "(주)시너지하우스 (시너지)",
         "marker": {
          "color": "#FF6692",
          "pattern": {
           "shape": ""
          }
         },
         "name": "(주)시너지하우스 (시너지)",
         "offsetgroup": "(주)시너지하우스 (시너지)",
         "orientation": "v",
         "showlegend": true,
         "textposition": "auto",
         "type": "bar",
         "x": [
          2009,
          2010
         ],
         "xaxis": "x",
         "y": [
          13785879439,
          15931363295
         ],
         "yaxis": "y"
        },
        {
         "alignmentgroup": "True",
         "hovertemplate": "배급사=(주)쇼박스,이십세기폭스코리아(주)<br>연도=%{x}<br>매출액=%{y}<extra></extra>",
         "legendgroup": "(주)쇼박스,이십세기폭스코리아(주)",
         "marker": {
          "color": "#B6E880",
          "pattern": {
           "shape": ""
          }
         },
         "name": "(주)쇼박스,이십세기폭스코리아(주)",
         "offsetgroup": "(주)쇼박스,이십세기폭스코리아(주)",
         "orientation": "v",
         "showlegend": true,
         "textposition": "auto",
         "type": "bar",
         "x": [
          2010
         ],
         "xaxis": "x",
         "y": [
          16765970362
         ],
         "yaxis": "y"
        },
        {
         "alignmentgroup": "True",
         "hovertemplate": "배급사=(주)넥스트엔터테인먼트월드(NEW),(주)에스비에스콘텐츠허브<br>연도=%{x}<br>매출액=%{y}<extra></extra>",
         "legendgroup": "(주)넥스트엔터테인먼트월드(NEW),(주)에스비에스콘텐츠허브",
         "marker": {
          "color": "#FF97FF",
          "pattern": {
           "shape": ""
          }
         },
         "name": "(주)넥스트엔터테인먼트월드(NEW),(주)에스비에스콘텐츠허브",
         "offsetgroup": "(주)넥스트엔터테인먼트월드(NEW),(주)에스비에스콘텐츠허브",
         "orientation": "v",
         "showlegend": true,
         "textposition": "auto",
         "type": "bar",
         "x": [
          2010
         ],
         "xaxis": "x",
         "y": [
          14063913437
         ],
         "yaxis": "y"
        },
        {
         "alignmentgroup": "True",
         "hovertemplate": "배급사=에스케이플래닛(주),(주)씨제이이엔엠<br>연도=%{x}<br>매출액=%{y}<extra></extra>",
         "legendgroup": "에스케이플래닛(주),(주)씨제이이엔엠",
         "marker": {
          "color": "#FECB52",
          "pattern": {
           "shape": ""
          }
         },
         "name": "에스케이플래닛(주),(주)씨제이이엔엠",
         "offsetgroup": "에스케이플래닛(주),(주)씨제이이엔엠",
         "orientation": "v",
         "showlegend": true,
         "textposition": "auto",
         "type": "bar",
         "x": [
          2011
         ],
         "xaxis": "x",
         "y": [
          15994803000
         ],
         "yaxis": "y"
        },
        {
         "alignmentgroup": "True",
         "hovertemplate": "배급사=(주)시너지하우스 (시너지),롯데쇼핑㈜롯데엔터테인먼트<br>연도=%{x}<br>매출액=%{y}<extra></extra>",
         "legendgroup": "(주)시너지하우스 (시너지),롯데쇼핑㈜롯데엔터테인먼트",
         "marker": {
          "color": "#636efa",
          "pattern": {
           "shape": ""
          }
         },
         "name": "(주)시너지하우스 (시너지),롯데쇼핑㈜롯데엔터테인먼트",
         "offsetgroup": "(주)시너지하우스 (시너지),롯데쇼핑㈜롯데엔터테인먼트",
         "orientation": "v",
         "showlegend": true,
         "textposition": "auto",
         "type": "bar",
         "x": [
          2011,
          2012
         ],
         "xaxis": "x",
         "y": [
          8096052500,
          8780178611
         ],
         "yaxis": "y"
        },
        {
         "alignmentgroup": "True",
         "hovertemplate": "배급사=(주)인벤트스톤,영화사청어람(주)<br>연도=%{x}<br>매출액=%{y}<extra></extra>",
         "legendgroup": "(주)인벤트스톤,영화사청어람(주)",
         "marker": {
          "color": "#EF553B",
          "pattern": {
           "shape": ""
          }
         },
         "name": "(주)인벤트스톤,영화사청어람(주)",
         "offsetgroup": "(주)인벤트스톤,영화사청어람(주)",
         "orientation": "v",
         "showlegend": true,
         "textposition": "auto",
         "type": "bar",
         "x": [
          2012
         ],
         "xaxis": "x",
         "y": [
          21241327145
         ],
         "yaxis": "y"
        },
        {
         "alignmentgroup": "True",
         "hovertemplate": "배급사=필라멘트픽쳐스<br>연도=%{x}<br>매출액=%{y}<extra></extra>",
         "legendgroup": "필라멘트픽쳐스",
         "marker": {
          "color": "#00cc96",
          "pattern": {
           "shape": ""
          }
         },
         "name": "필라멘트픽쳐스",
         "offsetgroup": "필라멘트픽쳐스",
         "orientation": "v",
         "showlegend": true,
         "textposition": "auto",
         "type": "bar",
         "x": [
          2012
         ],
         "xaxis": "x",
         "y": [
          18459203000
         ],
         "yaxis": "y"
        },
        {
         "alignmentgroup": "True",
         "hovertemplate": "배급사=씨너스엔터테인먼트(주),타임스토리그룹(주)<br>연도=%{x}<br>매출액=%{y}<extra></extra>",
         "legendgroup": "씨너스엔터테인먼트(주),타임스토리그룹(주)",
         "marker": {
          "color": "#ab63fa",
          "pattern": {
           "shape": ""
          }
         },
         "name": "씨너스엔터테인먼트(주),타임스토리그룹(주)",
         "offsetgroup": "씨너스엔터테인먼트(주),타임스토리그룹(주)",
         "orientation": "v",
         "showlegend": true,
         "textposition": "auto",
         "type": "bar",
         "x": [
          2012
         ],
         "xaxis": "x",
         "y": [
          12240964500
         ],
         "yaxis": "y"
        },
        {
         "alignmentgroup": "True",
         "hovertemplate": "배급사=아이러브시네마<br>연도=%{x}<br>매출액=%{y}<extra></extra>",
         "legendgroup": "아이러브시네마",
         "marker": {
          "color": "#FFA15A",
          "pattern": {
           "shape": ""
          }
         },
         "name": "아이러브시네마",
         "offsetgroup": "아이러브시네마",
         "orientation": "v",
         "showlegend": true,
         "textposition": "auto",
         "type": "bar",
         "x": [
          2013
         ],
         "xaxis": "x",
         "y": [
          21784202000
         ],
         "yaxis": "y"
        },
        {
         "alignmentgroup": "True",
         "hovertemplate": "배급사=이십세기폭스코리아(주)<br>연도=%{x}<br>매출액=%{y}<extra></extra>",
         "legendgroup": "이십세기폭스코리아(주)",
         "marker": {
          "color": "#19d3f3",
          "pattern": {
           "shape": ""
          }
         },
         "name": "이십세기폭스코리아(주)",
         "offsetgroup": "이십세기폭스코리아(주)",
         "orientation": "v",
         "showlegend": true,
         "textposition": "auto",
         "type": "bar",
         "x": [
          2013,
          2014,
          2016
         ],
         "xaxis": "x",
         "y": [
          10060239500,
          8913092219,
          55863520382
         ],
         "yaxis": "y"
        },
        {
         "alignmentgroup": "True",
         "hovertemplate": "배급사=씨너스엔터테인먼트(주)<br>연도=%{x}<br>매출액=%{y}<extra></extra>",
         "legendgroup": "씨너스엔터테인먼트(주)",
         "marker": {
          "color": "#FF6692",
          "pattern": {
           "shape": ""
          }
         },
         "name": "씨너스엔터테인먼트(주)",
         "offsetgroup": "씨너스엔터테인먼트(주)",
         "orientation": "v",
         "showlegend": true,
         "textposition": "auto",
         "type": "bar",
         "x": [
          2013
         ],
         "xaxis": "x",
         "y": [
          8444337719
         ],
         "yaxis": "y"
        },
        {
         "alignmentgroup": "True",
         "hovertemplate": "배급사=CGV아트하우스,(주)대명문화공장<br>연도=%{x}<br>매출액=%{y}<extra></extra>",
         "legendgroup": "CGV아트하우스,(주)대명문화공장",
         "marker": {
          "color": "#B6E880",
          "pattern": {
           "shape": ""
          }
         },
         "name": "CGV아트하우스,(주)대명문화공장",
         "offsetgroup": "CGV아트하우스,(주)대명문화공장",
         "orientation": "v",
         "showlegend": true,
         "textposition": "auto",
         "type": "bar",
         "x": [
          2014
         ],
         "xaxis": "x",
         "y": [
          37355277679
         ],
         "yaxis": "y"
        },
        {
         "alignmentgroup": "True",
         "hovertemplate": "배급사=롯데쇼핑㈜롯데엔터테인먼트,(주)싸이더스<br>연도=%{x}<br>매출액=%{y}<extra></extra>",
         "legendgroup": "롯데쇼핑㈜롯데엔터테인먼트,(주)싸이더스",
         "marker": {
          "color": "#FF97FF",
          "pattern": {
           "shape": ""
          }
         },
         "name": "롯데쇼핑㈜롯데엔터테인먼트,(주)싸이더스",
         "offsetgroup": "롯데쇼핑㈜롯데엔터테인먼트,(주)싸이더스",
         "orientation": "v",
         "showlegend": true,
         "textposition": "auto",
         "type": "bar",
         "x": [
          2014
         ],
         "xaxis": "x",
         "y": [
          32373120927
         ],
         "yaxis": "y"
        },
        {
         "alignmentgroup": "True",
         "hovertemplate": "배급사=씨네그루(주)다우기술<br>연도=%{x}<br>매출액=%{y}<extra></extra>",
         "legendgroup": "씨네그루(주)다우기술",
         "marker": {
          "color": "#FECB52",
          "pattern": {
           "shape": ""
          }
         },
         "name": "씨네그루(주)다우기술",
         "offsetgroup": "씨네그루(주)다우기술",
         "orientation": "v",
         "showlegend": true,
         "textposition": "auto",
         "type": "bar",
         "x": [
          2014
         ],
         "xaxis": "x",
         "y": [
          16636404305
         ],
         "yaxis": "y"
        },
        {
         "alignmentgroup": "True",
         "hovertemplate": "배급사=플러스엠 엔터테인먼트<br>연도=%{x}<br>매출액=%{y}<extra></extra>",
         "legendgroup": "플러스엠 엔터테인먼트",
         "marker": {
          "color": "#636efa",
          "pattern": {
           "shape": ""
          }
         },
         "name": "플러스엠 엔터테인먼트",
         "offsetgroup": "플러스엠 엔터테인먼트",
         "orientation": "v",
         "showlegend": true,
         "textposition": "auto",
         "type": "bar",
         "x": [
          2014,
          2016,
          2017,
          2018,
          2020,
          2022,
          2023
         ],
         "xaxis": "x",
         "y": [
          13515762802,
          26587798908,
          29876653793,
          66304995564,
          10979887910,
          44600858153,
          156204360890
         ],
         "yaxis": "y"
        },
        {
         "alignmentgroup": "True",
         "hovertemplate": "배급사=CGV아트하우스<br>연도=%{x}<br>매출액=%{y}<extra></extra>",
         "legendgroup": "CGV아트하우스",
         "marker": {
          "color": "#EF553B",
          "pattern": {
           "shape": ""
          }
         },
         "name": "CGV아트하우스",
         "offsetgroup": "CGV아트하우스",
         "orientation": "v",
         "showlegend": true,
         "textposition": "auto",
         "type": "bar",
         "x": [
          2014,
          2015,
          2019
         ],
         "xaxis": "x",
         "y": [
          11727360300,
          20088211830,
          10233455040
         ],
         "yaxis": "y"
        },
        {
         "alignmentgroup": "True",
         "hovertemplate": "배급사=워너브러더스 코리아(주)<br>연도=%{x}<br>매출액=%{y}<extra></extra>",
         "legendgroup": "워너브러더스 코리아(주)",
         "marker": {
          "color": "#00cc96",
          "pattern": {
           "shape": ""
          }
         },
         "name": "워너브러더스 코리아(주)",
         "offsetgroup": "워너브러더스 코리아(주)",
         "orientation": "v",
         "showlegend": true,
         "textposition": "auto",
         "type": "bar",
         "x": [
          2016,
          2017,
          2018
         ],
         "xaxis": "x",
         "y": [
          61269783831,
          10956621835,
          36713167693
         ],
         "yaxis": "y"
        },
        {
         "alignmentgroup": "True",
         "hovertemplate": "배급사=(주)와우픽쳐스<br>연도=%{x}<br>매출액=%{y}<extra></extra>",
         "legendgroup": "(주)와우픽쳐스",
         "marker": {
          "color": "#ab63fa",
          "pattern": {
           "shape": ""
          }
         },
         "name": "(주)와우픽쳐스",
         "offsetgroup": "(주)와우픽쳐스",
         "orientation": "v",
         "showlegend": true,
         "textposition": "auto",
         "type": "bar",
         "x": [
          2016
         ],
         "xaxis": "x",
         "y": [
          27248705990
         ],
         "yaxis": "y"
        },
        {
         "alignmentgroup": "True",
         "hovertemplate": "배급사=플러스엠 엔터테인먼트,(주)키위미디어그룹<br>연도=%{x}<br>매출액=%{y}<extra></extra>",
         "legendgroup": "플러스엠 엔터테인먼트,(주)키위미디어그룹",
         "marker": {
          "color": "#FFA15A",
          "pattern": {
           "shape": ""
          }
         },
         "name": "플러스엠 엔터테인먼트,(주)키위미디어그룹",
         "offsetgroup": "플러스엠 엔터테인먼트,(주)키위미디어그룹",
         "orientation": "v",
         "showlegend": true,
         "textposition": "auto",
         "type": "bar",
         "x": [
          2017
         ],
         "xaxis": "x",
         "y": [
          56318014149
         ],
         "yaxis": "y"
        },
        {
         "alignmentgroup": "True",
         "hovertemplate": "배급사=롯데쇼핑㈜롯데엔터테인먼트,(주)리틀빅픽쳐스<br>연도=%{x}<br>매출액=%{y}<extra></extra>",
         "legendgroup": "롯데쇼핑㈜롯데엔터테인먼트,(주)리틀빅픽쳐스",
         "marker": {
          "color": "#19d3f3",
          "pattern": {
           "shape": ""
          }
         },
         "name": "롯데쇼핑㈜롯데엔터테인먼트,(주)리틀빅픽쳐스",
         "offsetgroup": "롯데쇼핑㈜롯데엔터테인먼트,(주)리틀빅픽쳐스",
         "orientation": "v",
         "showlegend": true,
         "textposition": "auto",
         "type": "bar",
         "x": [
          2017
         ],
         "xaxis": "x",
         "y": [
          25532214986
         ],
         "yaxis": "y"
        },
        {
         "alignmentgroup": "True",
         "hovertemplate": "배급사=오퍼스픽쳐스(유),CGV아트하우스<br>연도=%{x}<br>매출액=%{y}<extra></extra>",
         "legendgroup": "오퍼스픽쳐스(유),CGV아트하우스",
         "marker": {
          "color": "#FF6692",
          "pattern": {
           "shape": ""
          }
         },
         "name": "오퍼스픽쳐스(유),CGV아트하우스",
         "offsetgroup": "오퍼스픽쳐스(유),CGV아트하우스",
         "orientation": "v",
         "showlegend": true,
         "textposition": "auto",
         "type": "bar",
         "x": [
          2017
         ],
         "xaxis": "x",
         "y": [
          19264792637
         ],
         "yaxis": "y"
        },
        {
         "alignmentgroup": "True",
         "hovertemplate": "배급사=CGV아트하우스,영화사 풀<br>연도=%{x}<br>매출액=%{y}<extra></extra>",
         "legendgroup": "CGV아트하우스,영화사 풀",
         "marker": {
          "color": "#B6E880",
          "pattern": {
           "shape": ""
          }
         },
         "name": "CGV아트하우스,영화사 풀",
         "offsetgroup": "CGV아트하우스,영화사 풀",
         "orientation": "v",
         "showlegend": true,
         "textposition": "auto",
         "type": "bar",
         "x": [
          2017
         ],
         "xaxis": "x",
         "y": [
          14554935612
         ],
         "yaxis": "y"
        },
        {
         "alignmentgroup": "True",
         "hovertemplate": "배급사=롯데컬처웍스(주)롯데엔터테인먼트<br>연도=%{x}<br>매출액=%{y}<extra></extra>",
         "legendgroup": "롯데컬처웍스(주)롯데엔터테인먼트",
         "marker": {
          "color": "#FF97FF",
          "pattern": {
           "shape": ""
          }
         },
         "name": "롯데컬처웍스(주)롯데엔터테인먼트",
         "offsetgroup": "롯데컬처웍스(주)롯데엔터테인먼트",
         "orientation": "v",
         "showlegend": true,
         "textposition": "auto",
         "type": "bar",
         "x": [
          2018,
          2019,
          2020,
          2021,
          2022,
          2023
         ],
         "xaxis": "x",
         "y": [
          147022899383,
          133167095641,
          65220859880,
          34558297730,
          97123182386,
          51307061165
         ],
         "yaxis": "y"
        },
        {
         "alignmentgroup": "True",
         "hovertemplate": "배급사=(주)키다리이엔티<br>연도=%{x}<br>매출액=%{y}<extra></extra>",
         "legendgroup": "(주)키다리이엔티",
         "marker": {
          "color": "#FECB52",
          "pattern": {
           "shape": ""
          }
         },
         "name": "(주)키다리이엔티",
         "offsetgroup": "(주)키다리이엔티",
         "orientation": "v",
         "showlegend": true,
         "textposition": "auto",
         "type": "bar",
         "x": [
          2018
         ],
         "xaxis": "x",
         "y": [
          10697981316
         ],
         "yaxis": "y"
        },
        {
         "alignmentgroup": "True",
         "hovertemplate": "배급사=(주)씨제이이엔엠,(주)덱스터스튜디오<br>연도=%{x}<br>매출액=%{y}<extra></extra>",
         "legendgroup": "(주)씨제이이엔엠,(주)덱스터스튜디오",
         "marker": {
          "color": "#636efa",
          "pattern": {
           "shape": ""
          }
         },
         "name": "(주)씨제이이엔엠,(주)덱스터스튜디오",
         "offsetgroup": "(주)씨제이이엔엠,(주)덱스터스튜디오",
         "orientation": "v",
         "showlegend": true,
         "textposition": "auto",
         "type": "bar",
         "x": [
          2019
         ],
         "xaxis": "x",
         "y": [
          69825366300
         ],
         "yaxis": "y"
        },
        {
         "alignmentgroup": "True",
         "hovertemplate": "배급사=(주)에이스메이커무비웍스<br>연도=%{x}<br>매출액=%{y}<extra></extra>",
         "legendgroup": "(주)에이스메이커무비웍스",
         "marker": {
          "color": "#EF553B",
          "pattern": {
           "shape": ""
          }
         },
         "name": "(주)에이스메이커무비웍스",
         "offsetgroup": "(주)에이스메이커무비웍스",
         "orientation": "v",
         "showlegend": true,
         "textposition": "auto",
         "type": "bar",
         "x": [
          2019,
          2020
         ],
         "xaxis": "x",
         "y": [
          36284556935,
          10282332090
         ],
         "yaxis": "y"
        },
        {
         "alignmentgroup": "True",
         "hovertemplate": "배급사=(주)에이스메이커무비웍스,(주)키위미디어그룹<br>연도=%{x}<br>매출액=%{y}<extra></extra>",
         "legendgroup": "(주)에이스메이커무비웍스,(주)키위미디어그룹",
         "marker": {
          "color": "#00cc96",
          "pattern": {
           "shape": ""
          }
         },
         "name": "(주)에이스메이커무비웍스,(주)키위미디어그룹",
         "offsetgroup": "(주)에이스메이커무비웍스,(주)키위미디어그룹",
         "orientation": "v",
         "showlegend": true,
         "textposition": "auto",
         "type": "bar",
         "x": [
          2019
         ],
         "xaxis": "x",
         "y": [
          29130540150
         ],
         "yaxis": "y"
        },
        {
         "alignmentgroup": "True",
         "hovertemplate": "배급사=(주)메리크리스마스,TCO(주)더콘텐츠온<br>연도=%{x}<br>매출액=%{y}<extra></extra>",
         "legendgroup": "(주)메리크리스마스,TCO(주)더콘텐츠온",
         "marker": {
          "color": "#ab63fa",
          "pattern": {
           "shape": ""
          }
         },
         "name": "(주)메리크리스마스,TCO(주)더콘텐츠온",
         "offsetgroup": "(주)메리크리스마스,TCO(주)더콘텐츠온",
         "orientation": "v",
         "showlegend": true,
         "textposition": "auto",
         "type": "bar",
         "x": [
          2019
         ],
         "xaxis": "x",
         "y": [
          16412116567
         ],
         "yaxis": "y"
        },
        {
         "alignmentgroup": "True",
         "hovertemplate": "배급사=플러스엠 엔터테인먼트,(주)콘텐츠지오<br>연도=%{x}<br>매출액=%{y}<extra></extra>",
         "legendgroup": "플러스엠 엔터테인먼트,(주)콘텐츠지오",
         "marker": {
          "color": "#FFA15A",
          "pattern": {
           "shape": ""
          }
         },
         "name": "플러스엠 엔터테인먼트,(주)콘텐츠지오",
         "offsetgroup": "플러스엠 엔터테인먼트,(주)콘텐츠지오",
         "orientation": "v",
         "showlegend": true,
         "textposition": "auto",
         "type": "bar",
         "x": [
          2019
         ],
         "xaxis": "x",
         "y": [
          9228798910
         ],
         "yaxis": "y"
        },
        {
         "alignmentgroup": "True",
         "hovertemplate": "배급사=주식회사 에이비오엔터테인먼트,플러스엠 엔터테인먼트<br>연도=%{x}<br>매출액=%{y}<extra></extra>",
         "legendgroup": "주식회사 에이비오엔터테인먼트,플러스엠 엔터테인먼트",
         "marker": {
          "color": "#19d3f3",
          "pattern": {
           "shape": ""
          }
         },
         "name": "주식회사 에이비오엔터테인먼트,플러스엠 엔터테인먼트",
         "offsetgroup": "주식회사 에이비오엔터테인먼트,플러스엠 엔터테인먼트",
         "orientation": "v",
         "showlegend": true,
         "textposition": "auto",
         "type": "bar",
         "x": [
          2022,
          2023
         ],
         "xaxis": "x",
         "y": [
          131295679478,
          104687737771
         ],
         "yaxis": "y"
        },
        {
         "alignmentgroup": "True",
         "hovertemplate": "배급사=(주)홈초이스,(주)싸이더스<br>연도=%{x}<br>매출액=%{y}<extra></extra>",
         "legendgroup": "(주)홈초이스,(주)싸이더스",
         "marker": {
          "color": "#FF6692",
          "pattern": {
           "shape": ""
          }
         },
         "name": "(주)홈초이스,(주)싸이더스",
         "offsetgroup": "(주)홈초이스,(주)싸이더스",
         "orientation": "v",
         "showlegend": true,
         "textposition": "auto",
         "type": "bar",
         "x": [
          2022
         ],
         "xaxis": "x",
         "y": [
          19791166880
         ],
         "yaxis": "y"
        },
        {
         "alignmentgroup": "True",
         "hovertemplate": "배급사=롯데컬처웍스(주)롯데엔터테인먼트,(주)에이스메이커무비웍스<br>연도=%{x}<br>매출액=%{y}<extra></extra>",
         "legendgroup": "롯데컬처웍스(주)롯데엔터테인먼트,(주)에이스메이커무비웍스",
         "marker": {
          "color": "#B6E880",
          "pattern": {
           "shape": ""
          }
         },
         "name": "롯데컬처웍스(주)롯데엔터테인먼트,(주)에이스메이커무비웍스",
         "offsetgroup": "롯데컬처웍스(주)롯데엔터테인먼트,(주)에이스메이커무비웍스",
         "orientation": "v",
         "showlegend": true,
         "textposition": "auto",
         "type": "bar",
         "x": [
          2023
         ],
         "xaxis": "x",
         "y": [
          45001435027
         ],
         "yaxis": "y"
        },
        {
         "alignmentgroup": "True",
         "hovertemplate": "배급사=(주)마인드마크<br>연도=%{x}<br>매출액=%{y}<extra></extra>",
         "legendgroup": "(주)마인드마크",
         "marker": {
          "color": "#FF97FF",
          "pattern": {
           "shape": ""
          }
         },
         "name": "(주)마인드마크",
         "offsetgroup": "(주)마인드마크",
         "orientation": "v",
         "showlegend": true,
         "textposition": "auto",
         "type": "bar",
         "x": [
          2023
         ],
         "xaxis": "x",
         "y": [
          34702401415
         ],
         "yaxis": "y"
        }
       ],
       "layout": {
        "barmode": "relative",
        "legend": {
         "title": {
          "text": "배급사"
         },
         "tracegroupgap": 0
        },
        "template": {
         "data": {
          "bar": [
           {
            "error_x": {
             "color": "#2a3f5f"
            },
            "error_y": {
             "color": "#2a3f5f"
            },
            "marker": {
             "line": {
              "color": "#E5ECF6",
              "width": 0.5
             },
             "pattern": {
              "fillmode": "overlay",
              "size": 10,
              "solidity": 0.2
             }
            },
            "type": "bar"
           }
          ],
          "barpolar": [
           {
            "marker": {
             "line": {
              "color": "#E5ECF6",
              "width": 0.5
             },
             "pattern": {
              "fillmode": "overlay",
              "size": 10,
              "solidity": 0.2
             }
            },
            "type": "barpolar"
           }
          ],
          "carpet": [
           {
            "aaxis": {
             "endlinecolor": "#2a3f5f",
             "gridcolor": "white",
             "linecolor": "white",
             "minorgridcolor": "white",
             "startlinecolor": "#2a3f5f"
            },
            "baxis": {
             "endlinecolor": "#2a3f5f",
             "gridcolor": "white",
             "linecolor": "white",
             "minorgridcolor": "white",
             "startlinecolor": "#2a3f5f"
            },
            "type": "carpet"
           }
          ],
          "choropleth": [
           {
            "colorbar": {
             "outlinewidth": 0,
             "ticks": ""
            },
            "type": "choropleth"
           }
          ],
          "contour": [
           {
            "colorbar": {
             "outlinewidth": 0,
             "ticks": ""
            },
            "colorscale": [
             [
              0,
              "#0d0887"
             ],
             [
              0.1111111111111111,
              "#46039f"
             ],
             [
              0.2222222222222222,
              "#7201a8"
             ],
             [
              0.3333333333333333,
              "#9c179e"
             ],
             [
              0.4444444444444444,
              "#bd3786"
             ],
             [
              0.5555555555555556,
              "#d8576b"
             ],
             [
              0.6666666666666666,
              "#ed7953"
             ],
             [
              0.7777777777777778,
              "#fb9f3a"
             ],
             [
              0.8888888888888888,
              "#fdca26"
             ],
             [
              1,
              "#f0f921"
             ]
            ],
            "type": "contour"
           }
          ],
          "contourcarpet": [
           {
            "colorbar": {
             "outlinewidth": 0,
             "ticks": ""
            },
            "type": "contourcarpet"
           }
          ],
          "heatmap": [
           {
            "colorbar": {
             "outlinewidth": 0,
             "ticks": ""
            },
            "colorscale": [
             [
              0,
              "#0d0887"
             ],
             [
              0.1111111111111111,
              "#46039f"
             ],
             [
              0.2222222222222222,
              "#7201a8"
             ],
             [
              0.3333333333333333,
              "#9c179e"
             ],
             [
              0.4444444444444444,
              "#bd3786"
             ],
             [
              0.5555555555555556,
              "#d8576b"
             ],
             [
              0.6666666666666666,
              "#ed7953"
             ],
             [
              0.7777777777777778,
              "#fb9f3a"
             ],
             [
              0.8888888888888888,
              "#fdca26"
             ],
             [
              1,
              "#f0f921"
             ]
            ],
            "type": "heatmap"
           }
          ],
          "heatmapgl": [
           {
            "colorbar": {
             "outlinewidth": 0,
             "ticks": ""
            },
            "colorscale": [
             [
              0,
              "#0d0887"
             ],
             [
              0.1111111111111111,
              "#46039f"
             ],
             [
              0.2222222222222222,
              "#7201a8"
             ],
             [
              0.3333333333333333,
              "#9c179e"
             ],
             [
              0.4444444444444444,
              "#bd3786"
             ],
             [
              0.5555555555555556,
              "#d8576b"
             ],
             [
              0.6666666666666666,
              "#ed7953"
             ],
             [
              0.7777777777777778,
              "#fb9f3a"
             ],
             [
              0.8888888888888888,
              "#fdca26"
             ],
             [
              1,
              "#f0f921"
             ]
            ],
            "type": "heatmapgl"
           }
          ],
          "histogram": [
           {
            "marker": {
             "pattern": {
              "fillmode": "overlay",
              "size": 10,
              "solidity": 0.2
             }
            },
            "type": "histogram"
           }
          ],
          "histogram2d": [
           {
            "colorbar": {
             "outlinewidth": 0,
             "ticks": ""
            },
            "colorscale": [
             [
              0,
              "#0d0887"
             ],
             [
              0.1111111111111111,
              "#46039f"
             ],
             [
              0.2222222222222222,
              "#7201a8"
             ],
             [
              0.3333333333333333,
              "#9c179e"
             ],
             [
              0.4444444444444444,
              "#bd3786"
             ],
             [
              0.5555555555555556,
              "#d8576b"
             ],
             [
              0.6666666666666666,
              "#ed7953"
             ],
             [
              0.7777777777777778,
              "#fb9f3a"
             ],
             [
              0.8888888888888888,
              "#fdca26"
             ],
             [
              1,
              "#f0f921"
             ]
            ],
            "type": "histogram2d"
           }
          ],
          "histogram2dcontour": [
           {
            "colorbar": {
             "outlinewidth": 0,
             "ticks": ""
            },
            "colorscale": [
             [
              0,
              "#0d0887"
             ],
             [
              0.1111111111111111,
              "#46039f"
             ],
             [
              0.2222222222222222,
              "#7201a8"
             ],
             [
              0.3333333333333333,
              "#9c179e"
             ],
             [
              0.4444444444444444,
              "#bd3786"
             ],
             [
              0.5555555555555556,
              "#d8576b"
             ],
             [
              0.6666666666666666,
              "#ed7953"
             ],
             [
              0.7777777777777778,
              "#fb9f3a"
             ],
             [
              0.8888888888888888,
              "#fdca26"
             ],
             [
              1,
              "#f0f921"
             ]
            ],
            "type": "histogram2dcontour"
           }
          ],
          "mesh3d": [
           {
            "colorbar": {
             "outlinewidth": 0,
             "ticks": ""
            },
            "type": "mesh3d"
           }
          ],
          "parcoords": [
           {
            "line": {
             "colorbar": {
              "outlinewidth": 0,
              "ticks": ""
             }
            },
            "type": "parcoords"
           }
          ],
          "pie": [
           {
            "automargin": true,
            "type": "pie"
           }
          ],
          "scatter": [
           {
            "fillpattern": {
             "fillmode": "overlay",
             "size": 10,
             "solidity": 0.2
            },
            "type": "scatter"
           }
          ],
          "scatter3d": [
           {
            "line": {
             "colorbar": {
              "outlinewidth": 0,
              "ticks": ""
             }
            },
            "marker": {
             "colorbar": {
              "outlinewidth": 0,
              "ticks": ""
             }
            },
            "type": "scatter3d"
           }
          ],
          "scattercarpet": [
           {
            "marker": {
             "colorbar": {
              "outlinewidth": 0,
              "ticks": ""
             }
            },
            "type": "scattercarpet"
           }
          ],
          "scattergeo": [
           {
            "marker": {
             "colorbar": {
              "outlinewidth": 0,
              "ticks": ""
             }
            },
            "type": "scattergeo"
           }
          ],
          "scattergl": [
           {
            "marker": {
             "colorbar": {
              "outlinewidth": 0,
              "ticks": ""
             }
            },
            "type": "scattergl"
           }
          ],
          "scattermapbox": [
           {
            "marker": {
             "colorbar": {
              "outlinewidth": 0,
              "ticks": ""
             }
            },
            "type": "scattermapbox"
           }
          ],
          "scatterpolar": [
           {
            "marker": {
             "colorbar": {
              "outlinewidth": 0,
              "ticks": ""
             }
            },
            "type": "scatterpolar"
           }
          ],
          "scatterpolargl": [
           {
            "marker": {
             "colorbar": {
              "outlinewidth": 0,
              "ticks": ""
             }
            },
            "type": "scatterpolargl"
           }
          ],
          "scatterternary": [
           {
            "marker": {
             "colorbar": {
              "outlinewidth": 0,
              "ticks": ""
             }
            },
            "type": "scatterternary"
           }
          ],
          "surface": [
           {
            "colorbar": {
             "outlinewidth": 0,
             "ticks": ""
            },
            "colorscale": [
             [
              0,
              "#0d0887"
             ],
             [
              0.1111111111111111,
              "#46039f"
             ],
             [
              0.2222222222222222,
              "#7201a8"
             ],
             [
              0.3333333333333333,
              "#9c179e"
             ],
             [
              0.4444444444444444,
              "#bd3786"
             ],
             [
              0.5555555555555556,
              "#d8576b"
             ],
             [
              0.6666666666666666,
              "#ed7953"
             ],
             [
              0.7777777777777778,
              "#fb9f3a"
             ],
             [
              0.8888888888888888,
              "#fdca26"
             ],
             [
              1,
              "#f0f921"
             ]
            ],
            "type": "surface"
           }
          ],
          "table": [
           {
            "cells": {
             "fill": {
              "color": "#EBF0F8"
             },
             "line": {
              "color": "white"
             }
            },
            "header": {
             "fill": {
              "color": "#C8D4E3"
             },
             "line": {
              "color": "white"
             }
            },
            "type": "table"
           }
          ]
         },
         "layout": {
          "annotationdefaults": {
           "arrowcolor": "#2a3f5f",
           "arrowhead": 0,
           "arrowwidth": 1
          },
          "autotypenumbers": "strict",
          "coloraxis": {
           "colorbar": {
            "outlinewidth": 0,
            "ticks": ""
           }
          },
          "colorscale": {
           "diverging": [
            [
             0,
             "#8e0152"
            ],
            [
             0.1,
             "#c51b7d"
            ],
            [
             0.2,
             "#de77ae"
            ],
            [
             0.3,
             "#f1b6da"
            ],
            [
             0.4,
             "#fde0ef"
            ],
            [
             0.5,
             "#f7f7f7"
            ],
            [
             0.6,
             "#e6f5d0"
            ],
            [
             0.7,
             "#b8e186"
            ],
            [
             0.8,
             "#7fbc41"
            ],
            [
             0.9,
             "#4d9221"
            ],
            [
             1,
             "#276419"
            ]
           ],
           "sequential": [
            [
             0,
             "#0d0887"
            ],
            [
             0.1111111111111111,
             "#46039f"
            ],
            [
             0.2222222222222222,
             "#7201a8"
            ],
            [
             0.3333333333333333,
             "#9c179e"
            ],
            [
             0.4444444444444444,
             "#bd3786"
            ],
            [
             0.5555555555555556,
             "#d8576b"
            ],
            [
             0.6666666666666666,
             "#ed7953"
            ],
            [
             0.7777777777777778,
             "#fb9f3a"
            ],
            [
             0.8888888888888888,
             "#fdca26"
            ],
            [
             1,
             "#f0f921"
            ]
           ],
           "sequentialminus": [
            [
             0,
             "#0d0887"
            ],
            [
             0.1111111111111111,
             "#46039f"
            ],
            [
             0.2222222222222222,
             "#7201a8"
            ],
            [
             0.3333333333333333,
             "#9c179e"
            ],
            [
             0.4444444444444444,
             "#bd3786"
            ],
            [
             0.5555555555555556,
             "#d8576b"
            ],
            [
             0.6666666666666666,
             "#ed7953"
            ],
            [
             0.7777777777777778,
             "#fb9f3a"
            ],
            [
             0.8888888888888888,
             "#fdca26"
            ],
            [
             1,
             "#f0f921"
            ]
           ]
          },
          "colorway": [
           "#636efa",
           "#EF553B",
           "#00cc96",
           "#ab63fa",
           "#FFA15A",
           "#19d3f3",
           "#FF6692",
           "#B6E880",
           "#FF97FF",
           "#FECB52"
          ],
          "font": {
           "color": "#2a3f5f"
          },
          "geo": {
           "bgcolor": "white",
           "lakecolor": "white",
           "landcolor": "#E5ECF6",
           "showlakes": true,
           "showland": true,
           "subunitcolor": "white"
          },
          "hoverlabel": {
           "align": "left"
          },
          "hovermode": "closest",
          "mapbox": {
           "style": "light"
          },
          "paper_bgcolor": "white",
          "plot_bgcolor": "#E5ECF6",
          "polar": {
           "angularaxis": {
            "gridcolor": "white",
            "linecolor": "white",
            "ticks": ""
           },
           "bgcolor": "#E5ECF6",
           "radialaxis": {
            "gridcolor": "white",
            "linecolor": "white",
            "ticks": ""
           }
          },
          "scene": {
           "xaxis": {
            "backgroundcolor": "#E5ECF6",
            "gridcolor": "white",
            "gridwidth": 2,
            "linecolor": "white",
            "showbackground": true,
            "ticks": "",
            "zerolinecolor": "white"
           },
           "yaxis": {
            "backgroundcolor": "#E5ECF6",
            "gridcolor": "white",
            "gridwidth": 2,
            "linecolor": "white",
            "showbackground": true,
            "ticks": "",
            "zerolinecolor": "white"
           },
           "zaxis": {
            "backgroundcolor": "#E5ECF6",
            "gridcolor": "white",
            "gridwidth": 2,
            "linecolor": "white",
            "showbackground": true,
            "ticks": "",
            "zerolinecolor": "white"
           }
          },
          "shapedefaults": {
           "line": {
            "color": "#2a3f5f"
           }
          },
          "ternary": {
           "aaxis": {
            "gridcolor": "white",
            "linecolor": "white",
            "ticks": ""
           },
           "baxis": {
            "gridcolor": "white",
            "linecolor": "white",
            "ticks": ""
           },
           "bgcolor": "#E5ECF6",
           "caxis": {
            "gridcolor": "white",
            "linecolor": "white",
            "ticks": ""
           }
          },
          "title": {
           "x": 0.05
          },
          "xaxis": {
           "automargin": true,
           "gridcolor": "white",
           "linecolor": "white",
           "ticks": "",
           "title": {
            "standoff": 15
           },
           "zerolinecolor": "white",
           "zerolinewidth": 2
          },
          "yaxis": {
           "automargin": true,
           "gridcolor": "white",
           "linecolor": "white",
           "ticks": "",
           "title": {
            "standoff": 15
           },
           "zerolinecolor": "white",
           "zerolinewidth": 2
          }
         }
        },
        "title": {
         "text": "연도별 상위 10개 배급사의 매출액"
        },
        "xaxis": {
         "anchor": "y",
         "domain": [
          0,
          1
         ],
         "title": {
          "text": "연도"
         }
        },
        "yaxis": {
         "anchor": "x",
         "domain": [
          0,
          1
         ],
         "title": {
          "text": "매출액"
         }
        }
       }
      }
     },
     "metadata": {},
     "output_type": "display_data"
    },
    {
     "data": {
      "application/vnd.plotly.v1+json": {
       "config": {
        "plotlyServerURL": "https://plot.ly"
       },
       "data": [
        {
         "alignmentgroup": "True",
         "hovertemplate": "배급사=(주)시네마서비스<br>연도=%{x}<br>관객수=%{y}<extra></extra>",
         "legendgroup": "(주)시네마서비스",
         "marker": {
          "color": "#636efa",
          "pattern": {
           "shape": ""
          }
         },
         "name": "(주)시네마서비스",
         "offsetgroup": "(주)시네마서비스",
         "orientation": "v",
         "showlegend": true,
         "textposition": "auto",
         "type": "bar",
         "x": [
          1999,
          2001,
          2002,
          2003,
          2004,
          2005,
          2006,
          2007,
          2010
         ],
         "xaxis": "x",
         "y": [
          3540000,
          1608211,
          3101900,
          20322185,
          10618000,
          22107609,
          1879501,
          8981723,
          1144238
         ],
         "yaxis": "y"
        },
        {
         "alignmentgroup": "True",
         "hovertemplate": "배급사=CJ ENM<br>연도=%{x}<br>관객수=%{y}<extra></extra>",
         "legendgroup": "CJ ENM",
         "marker": {
          "color": "#EF553B",
          "pattern": {
           "shape": ""
          }
         },
         "name": "CJ ENM",
         "offsetgroup": "CJ ENM",
         "orientation": "v",
         "showlegend": true,
         "textposition": "auto",
         "type": "bar",
         "x": [
          2000,
          2001,
          2003,
          2004,
          2005,
          2006,
          2007,
          2008,
          2009,
          2010,
          2011
         ],
         "xaxis": "x",
         "y": [
          2513540,
          1228142,
          2251491,
          11805745,
          21783095,
          30977055,
          26021105,
          16141237,
          32081096,
          23579183,
          1888100
         ],
         "yaxis": "y"
        },
        {
         "alignmentgroup": "True",
         "hovertemplate": "배급사=이언픽쳐스,(주)시네마서비스<br>연도=%{x}<br>관객수=%{y}<extra></extra>",
         "legendgroup": "이언픽쳐스,(주)시네마서비스",
         "marker": {
          "color": "#00cc96",
          "pattern": {
           "shape": ""
          }
         },
         "name": "이언픽쳐스,(주)시네마서비스",
         "offsetgroup": "이언픽쳐스,(주)시네마서비스",
         "orientation": "v",
         "showlegend": true,
         "textposition": "auto",
         "type": "bar",
         "x": [
          2001
         ],
         "xaxis": "x",
         "y": [
          1735692
         ],
         "yaxis": "y"
        },
        {
         "alignmentgroup": "True",
         "hovertemplate": "배급사=(주)쇼박스<br>연도=%{x}<br>관객수=%{y}<extra></extra>",
         "legendgroup": "(주)쇼박스",
         "marker": {
          "color": "#ab63fa",
          "pattern": {
           "shape": ""
          }
         },
         "name": "(주)쇼박스",
         "offsetgroup": "(주)쇼박스",
         "orientation": "v",
         "showlegend": true,
         "textposition": "auto",
         "type": "bar",
         "x": [
          2002,
          2003,
          2004,
          2005,
          2006,
          2007,
          2008,
          2009,
          2010,
          2011,
          2012,
          2013,
          2014,
          2015,
          2016,
          2017,
          2018,
          2019,
          2020,
          2021,
          2022,
          2023,
          2024
         ],
         "xaxis": "x",
         "y": [
          4082797,
          3148748,
          10824886,
          29864828,
          33618301,
          13678669,
          10557748,
          14772407,
          7355524,
          11152104,
          22789718,
          30610951,
          11791536,
          37033542,
          25911229,
          23158145,
          12366465,
          11243309,
          4750104,
          2195683,
          2058762,
          1058645,
          12662540
         ],
         "yaxis": "y"
        },
        {
         "alignmentgroup": "True",
         "hovertemplate": "배급사=영화사청어람(주)<br>연도=%{x}<br>관객수=%{y}<extra></extra>",
         "legendgroup": "영화사청어람(주)",
         "marker": {
          "color": "#FFA15A",
          "pattern": {
           "shape": ""
          }
         },
         "name": "영화사청어람(주)",
         "offsetgroup": "영화사청어람(주)",
         "orientation": "v",
         "showlegend": true,
         "textposition": "auto",
         "type": "bar",
         "x": [
          2002,
          2003,
          2004
         ],
         "xaxis": "x",
         "y": [
          1694637,
          3146217,
          2346446
         ],
         "yaxis": "y"
        },
        {
         "alignmentgroup": "True",
         "hovertemplate": "배급사=쇼이스트(주),(주)씨제이이엔엠<br>연도=%{x}<br>관객수=%{y}<extra></extra>",
         "legendgroup": "쇼이스트(주),(주)씨제이이엔엠",
         "marker": {
          "color": "#19d3f3",
          "pattern": {
           "shape": ""
          }
         },
         "name": "쇼이스트(주),(주)씨제이이엔엠",
         "offsetgroup": "쇼이스트(주),(주)씨제이이엔엠",
         "orientation": "v",
         "showlegend": true,
         "textposition": "auto",
         "type": "bar",
         "x": [
          2003
         ],
         "xaxis": "x",
         "y": [
          3269000
         ],
         "yaxis": "y"
        },
        {
         "alignmentgroup": "True",
         "hovertemplate": "배급사=쇼이스트(주)<br>연도=%{x}<br>관객수=%{y}<extra></extra>",
         "legendgroup": "쇼이스트(주)",
         "marker": {
          "color": "#FF6692",
          "pattern": {
           "shape": ""
          }
         },
         "name": "쇼이스트(주)",
         "offsetgroup": "쇼이스트(주)",
         "orientation": "v",
         "showlegend": true,
         "textposition": "auto",
         "type": "bar",
         "x": [
          2003,
          2005,
          2006
         ],
         "xaxis": "x",
         "y": [
          1394000,
          3926032,
          1858668
         ],
         "yaxis": "y"
        },
        {
         "alignmentgroup": "True",
         "hovertemplate": "배급사=(주)다자인소프트,(주)쇼박스<br>연도=%{x}<br>관객수=%{y}<extra></extra>",
         "legendgroup": "(주)다자인소프트,(주)쇼박스",
         "marker": {
          "color": "#B6E880",
          "pattern": {
           "shape": ""
          }
         },
         "name": "(주)다자인소프트,(주)쇼박스",
         "offsetgroup": "(주)다자인소프트,(주)쇼박스",
         "orientation": "v",
         "showlegend": true,
         "textposition": "auto",
         "type": "bar",
         "x": [
          2004
         ],
         "xaxis": "x",
         "y": [
          11746135
         ],
         "yaxis": "y"
        },
        {
         "alignmentgroup": "True",
         "hovertemplate": "배급사=코리아픽쳐스(주)<br>연도=%{x}<br>관객수=%{y}<extra></extra>",
         "legendgroup": "코리아픽쳐스(주)",
         "marker": {
          "color": "#FF97FF",
          "pattern": {
           "shape": ""
          }
         },
         "name": "코리아픽쳐스(주)",
         "offsetgroup": "코리아픽쳐스(주)",
         "orientation": "v",
         "showlegend": true,
         "textposition": "auto",
         "type": "bar",
         "x": [
          2004,
          2005
         ],
         "xaxis": "x",
         "y": [
          6187676,
          1203146
         ],
         "yaxis": "y"
        },
        {
         "alignmentgroup": "True",
         "hovertemplate": "배급사=CJ ENM,아이러브시네마<br>연도=%{x}<br>관객수=%{y}<extra></extra>",
         "legendgroup": "CJ ENM,아이러브시네마",
         "marker": {
          "color": "#FECB52",
          "pattern": {
           "shape": ""
          }
         },
         "name": "CJ ENM,아이러브시네마",
         "offsetgroup": "CJ ENM,아이러브시네마",
         "orientation": "v",
         "showlegend": true,
         "textposition": "auto",
         "type": "bar",
         "x": [
          2004
         ],
         "xaxis": "x",
         "y": [
          3731199
         ],
         "yaxis": "y"
        },
        {
         "alignmentgroup": "True",
         "hovertemplate": "배급사=(주)튜브엔터테인먼트<br>연도=%{x}<br>관객수=%{y}<extra></extra>",
         "legendgroup": "(주)튜브엔터테인먼트",
         "marker": {
          "color": "#636efa",
          "pattern": {
           "shape": ""
          }
         },
         "name": "(주)튜브엔터테인먼트",
         "offsetgroup": "(주)튜브엔터테인먼트",
         "orientation": "v",
         "showlegend": true,
         "textposition": "auto",
         "type": "bar",
         "x": [
          2004
         ],
         "xaxis": "x",
         "y": [
          1932304
         ],
         "yaxis": "y"
        },
        {
         "alignmentgroup": "True",
         "hovertemplate": "배급사=롯데쇼핑㈜롯데엔터테인먼트<br>연도=%{x}<br>관객수=%{y}<extra></extra>",
         "legendgroup": "롯데쇼핑㈜롯데엔터테인먼트",
         "marker": {
          "color": "#EF553B",
          "pattern": {
           "shape": ""
          }
         },
         "name": "롯데쇼핑㈜롯데엔터테인먼트",
         "offsetgroup": "롯데쇼핑㈜롯데엔터테인먼트",
         "orientation": "v",
         "showlegend": true,
         "textposition": "auto",
         "type": "bar",
         "x": [
          2005,
          2006,
          2007,
          2008,
          2009,
          2010,
          2011,
          2012,
          2013,
          2014,
          2015,
          2016,
          2017,
          2018
         ],
         "xaxis": "x",
         "y": [
          3936234,
          2581295,
          3428246,
          10304287,
          5888155,
          10660363,
          17360479,
          12998254,
          13131337,
          16755859,
          1110246,
          6767854,
          23857241,
          2602273
         ],
         "yaxis": "y"
        },
        {
         "alignmentgroup": "True",
         "hovertemplate": "배급사=(주)엠케이픽처스<br>연도=%{x}<br>관객수=%{y}<extra></extra>",
         "legendgroup": "(주)엠케이픽처스",
         "marker": {
          "color": "#00cc96",
          "pattern": {
           "shape": ""
          }
         },
         "name": "(주)엠케이픽처스",
         "offsetgroup": "(주)엠케이픽처스",
         "orientation": "v",
         "showlegend": true,
         "textposition": "auto",
         "type": "bar",
         "x": [
          2005
         ],
         "xaxis": "x",
         "y": [
          3514162
         ],
         "yaxis": "y"
        },
        {
         "alignmentgroup": "True",
         "hovertemplate": "배급사=롯데쇼핑㈜롯데엔터테인먼트,아이러브시네마<br>연도=%{x}<br>관객수=%{y}<extra></extra>",
         "legendgroup": "롯데쇼핑㈜롯데엔터테인먼트,아이러브시네마",
         "marker": {
          "color": "#ab63fa",
          "pattern": {
           "shape": ""
          }
         },
         "name": "롯데쇼핑㈜롯데엔터테인먼트,아이러브시네마",
         "offsetgroup": "롯데쇼핑㈜롯데엔터테인먼트,아이러브시네마",
         "orientation": "v",
         "showlegend": true,
         "textposition": "auto",
         "type": "bar",
         "x": [
          2005
         ],
         "xaxis": "x",
         "y": [
          1066765
         ],
         "yaxis": "y"
        },
        {
         "alignmentgroup": "True",
         "hovertemplate": "배급사=(주)프라임엔터테인먼트<br>연도=%{x}<br>관객수=%{y}<extra></extra>",
         "legendgroup": "(주)프라임엔터테인먼트",
         "marker": {
          "color": "#FFA15A",
          "pattern": {
           "shape": ""
          }
         },
         "name": "(주)프라임엔터테인먼트",
         "offsetgroup": "(주)프라임엔터테인먼트",
         "orientation": "v",
         "showlegend": true,
         "textposition": "auto",
         "type": "bar",
         "x": [
          2006,
          2007
         ],
         "xaxis": "x",
         "y": [
          3132320,
          2120741
         ],
         "yaxis": "y"
        },
        {
         "alignmentgroup": "True",
         "hovertemplate": "배급사=(주)씨제이이엔엠<br>연도=%{x}<br>관객수=%{y}<extra></extra>",
         "legendgroup": "(주)씨제이이엔엠",
         "marker": {
          "color": "#19d3f3",
          "pattern": {
           "shape": ""
          }
         },
         "name": "(주)씨제이이엔엠",
         "offsetgroup": "(주)씨제이이엔엠",
         "orientation": "v",
         "showlegend": true,
         "textposition": "auto",
         "type": "bar",
         "x": [
          2006,
          2011,
          2012,
          2013,
          2014,
          2015,
          2016,
          2017,
          2018,
          2019,
          2020,
          2021,
          2022,
          2023,
          2024
         ],
         "xaxis": "x",
         "y": [
          2104716,
          26772084,
          43187121,
          28869104,
          46215003,
          37332905,
          28748400,
          29639668,
          21667304,
          46762902,
          8893511,
          1426357,
          14954030,
          1916429,
          1430121
         ],
         "yaxis": "y"
        },
        {
         "alignmentgroup": "True",
         "hovertemplate": "배급사=(주)엠케이픽처스 ,(주)두엔터테인먼트<br>연도=%{x}<br>관객수=%{y}<extra></extra>",
         "legendgroup": "(주)엠케이픽처스 ,(주)두엔터테인먼트",
         "marker": {
          "color": "#FF6692",
          "pattern": {
           "shape": ""
          }
         },
         "name": "(주)엠케이픽처스 ,(주)두엔터테인먼트",
         "offsetgroup": "(주)엠케이픽처스 ,(주)두엔터테인먼트",
         "orientation": "v",
         "showlegend": true,
         "textposition": "auto",
         "type": "bar",
         "x": [
          2007
         ],
         "xaxis": "x",
         "y": [
          2259511
         ],
         "yaxis": "y"
        },
        {
         "alignmentgroup": "True",
         "hovertemplate": "배급사=㈜스튜디오이쩜영<br>연도=%{x}<br>관객수=%{y}<extra></extra>",
         "legendgroup": "㈜스튜디오이쩜영",
         "marker": {
          "color": "#B6E880",
          "pattern": {
           "shape": ""
          }
         },
         "name": "㈜스튜디오이쩜영",
         "offsetgroup": "㈜스튜디오이쩜영",
         "orientation": "v",
         "showlegend": true,
         "textposition": "auto",
         "type": "bar",
         "x": [
          2007,
          2008
         ],
         "xaxis": "x",
         "y": [
          1611192,
          1307688
         ],
         "yaxis": "y"
        },
        {
         "alignmentgroup": "True",
         "hovertemplate": "배급사=CJ ENM,(주)시네마서비스<br>연도=%{x}<br>관객수=%{y}<extra></extra>",
         "legendgroup": "CJ ENM,(주)시네마서비스",
         "marker": {
          "color": "#FF97FF",
          "pattern": {
           "shape": ""
          }
         },
         "name": "CJ ENM,(주)시네마서비스",
         "offsetgroup": "CJ ENM,(주)시네마서비스",
         "orientation": "v",
         "showlegend": true,
         "textposition": "auto",
         "type": "bar",
         "x": [
          2008
         ],
         "xaxis": "x",
         "y": [
          4300670
         ],
         "yaxis": "y"
        },
        {
         "alignmentgroup": "True",
         "hovertemplate": "배급사=(주)싸이더스<br>연도=%{x}<br>관객수=%{y}<extra></extra>",
         "legendgroup": "(주)싸이더스",
         "marker": {
          "color": "#FECB52",
          "pattern": {
           "shape": ""
          }
         },
         "name": "(주)싸이더스",
         "offsetgroup": "(주)싸이더스",
         "orientation": "v",
         "showlegend": true,
         "textposition": "auto",
         "type": "bar",
         "x": [
          2008,
          2010
         ],
         "xaxis": "x",
         "y": [
          4044582,
          2304487
         ],
         "yaxis": "y"
        },
        {
         "alignmentgroup": "True",
         "hovertemplate": "배급사=에스케이텔레콤(주)<br>연도=%{x}<br>관객수=%{y}<extra></extra>",
         "legendgroup": "에스케이텔레콤(주)",
         "marker": {
          "color": "#636efa",
          "pattern": {
           "shape": ""
          }
         },
         "name": "에스케이텔레콤(주)",
         "offsetgroup": "에스케이텔레콤(주)",
         "orientation": "v",
         "showlegend": true,
         "textposition": "auto",
         "type": "bar",
         "x": [
          2008,
          2009,
          2010
         ],
         "xaxis": "x",
         "y": [
          1634051,
          1206101,
          1407681
         ],
         "yaxis": "y"
        },
        {
         "alignmentgroup": "True",
         "hovertemplate": "배급사=(유)씨에이치엔터테인먼트<br>연도=%{x}<br>관객수=%{y}<extra></extra>",
         "legendgroup": "(유)씨에이치엔터테인먼트",
         "marker": {
          "color": "#EF553B",
          "pattern": {
           "shape": ""
          }
         },
         "name": "(유)씨에이치엔터테인먼트",
         "offsetgroup": "(유)씨에이치엔터테인먼트",
         "orientation": "v",
         "showlegend": true,
         "textposition": "auto",
         "type": "bar",
         "x": [
          2008
         ],
         "xaxis": "x",
         "y": [
          1562486
         ],
         "yaxis": "y"
        },
        {
         "alignmentgroup": "True",
         "hovertemplate": "배급사=오퍼스픽쳐스(유),(주)쇼박스<br>연도=%{x}<br>관객수=%{y}<extra></extra>",
         "legendgroup": "오퍼스픽쳐스(유),(주)쇼박스",
         "marker": {
          "color": "#00cc96",
          "pattern": {
           "shape": ""
          }
         },
         "name": "오퍼스픽쳐스(유),(주)쇼박스",
         "offsetgroup": "오퍼스픽쳐스(유),(주)쇼박스",
         "orientation": "v",
         "showlegend": true,
         "textposition": "auto",
         "type": "bar",
         "x": [
          2008
         ],
         "xaxis": "x",
         "y": [
          1173310
         ],
         "yaxis": "y"
        },
        {
         "alignmentgroup": "True",
         "hovertemplate": "배급사=(주)스튜디오210<br>연도=%{x}<br>관객수=%{y}<extra></extra>",
         "legendgroup": "(주)스튜디오210",
         "marker": {
          "color": "#ab63fa",
          "pattern": {
           "shape": ""
          }
         },
         "name": "(주)스튜디오210",
         "offsetgroup": "(주)스튜디오210",
         "orientation": "v",
         "showlegend": true,
         "textposition": "auto",
         "type": "bar",
         "x": [
          2008
         ],
         "xaxis": "x",
         "y": [
          1123294
         ],
         "yaxis": "y"
        },
        {
         "alignmentgroup": "True",
         "hovertemplate": "배급사=㈜인디스토리<br>연도=%{x}<br>관객수=%{y}<extra></extra>",
         "legendgroup": "㈜인디스토리",
         "marker": {
          "color": "#FFA15A",
          "pattern": {
           "shape": ""
          }
         },
         "name": "㈜인디스토리",
         "offsetgroup": "㈜인디스토리",
         "orientation": "v",
         "showlegend": true,
         "textposition": "auto",
         "type": "bar",
         "x": [
          2009
         ],
         "xaxis": "x",
         "y": [
          2962897
         ],
         "yaxis": "y"
        },
        {
         "alignmentgroup": "True",
         "hovertemplate": "배급사=(주)넥스트엔터테인먼트월드(NEW)<br>연도=%{x}<br>관객수=%{y}<extra></extra>",
         "legendgroup": "(주)넥스트엔터테인먼트월드(NEW)",
         "marker": {
          "color": "#19d3f3",
          "pattern": {
           "shape": ""
          }
         },
         "name": "(주)넥스트엔터테인먼트월드(NEW)",
         "offsetgroup": "(주)넥스트엔터테인먼트월드(NEW)",
         "orientation": "v",
         "showlegend": true,
         "textposition": "auto",
         "type": "bar",
         "x": [
          2009,
          2010,
          2011,
          2012,
          2013,
          2014,
          2015,
          2016,
          2017,
          2018,
          2019,
          2020,
          2021,
          2022,
          2023
         ],
         "xaxis": "x",
         "y": [
          2598805,
          5062282,
          6380665,
          17170299,
          42076021,
          6074185,
          14498651,
          18460459,
          12283584,
          17292905,
          10098411,
          5347880,
          1638439,
          6136048,
          5143219
         ],
         "yaxis": "y"
        },
        {
         "alignmentgroup": "True",
         "hovertemplate": "배급사=(주)시너지하우스 (시너지)<br>연도=%{x}<br>관객수=%{y}<extra></extra>",
         "legendgroup": "(주)시너지하우스 (시너지)",
         "marker": {
          "color": "#FF6692",
          "pattern": {
           "shape": ""
          }
         },
         "name": "(주)시너지하우스 (시너지)",
         "offsetgroup": "(주)시너지하우스 (시너지)",
         "orientation": "v",
         "showlegend": true,
         "textposition": "auto",
         "type": "bar",
         "x": [
          2009,
          2010
         ],
         "xaxis": "x",
         "y": [
          1922634,
          2129950
         ],
         "yaxis": "y"
        },
        {
         "alignmentgroup": "True",
         "hovertemplate": "배급사=(주)쇼박스,이십세기폭스코리아(주)<br>연도=%{x}<br>관객수=%{y}<extra></extra>",
         "legendgroup": "(주)쇼박스,이십세기폭스코리아(주)",
         "marker": {
          "color": "#B6E880",
          "pattern": {
           "shape": ""
          }
         },
         "name": "(주)쇼박스,이십세기폭스코리아(주)",
         "offsetgroup": "(주)쇼박스,이십세기폭스코리아(주)",
         "orientation": "v",
         "showlegend": true,
         "textposition": "auto",
         "type": "bar",
         "x": [
          2010
         ],
         "xaxis": "x",
         "y": [
          2167426
         ],
         "yaxis": "y"
        },
        {
         "alignmentgroup": "True",
         "hovertemplate": "배급사=(주)넥스트엔터테인먼트월드(NEW),(주)에스비에스콘텐츠허브<br>연도=%{x}<br>관객수=%{y}<extra></extra>",
         "legendgroup": "(주)넥스트엔터테인먼트월드(NEW),(주)에스비에스콘텐츠허브",
         "marker": {
          "color": "#FF97FF",
          "pattern": {
           "shape": ""
          }
         },
         "name": "(주)넥스트엔터테인먼트월드(NEW),(주)에스비에스콘텐츠허브",
         "offsetgroup": "(주)넥스트엔터테인먼트월드(NEW),(주)에스비에스콘텐츠허브",
         "orientation": "v",
         "showlegend": true,
         "textposition": "auto",
         "type": "bar",
         "x": [
          2010
         ],
         "xaxis": "x",
         "y": [
          1873327
         ],
         "yaxis": "y"
        },
        {
         "alignmentgroup": "True",
         "hovertemplate": "배급사=에스케이플래닛(주),(주)씨제이이엔엠<br>연도=%{x}<br>관객수=%{y}<extra></extra>",
         "legendgroup": "에스케이플래닛(주),(주)씨제이이엔엠",
         "marker": {
          "color": "#FECB52",
          "pattern": {
           "shape": ""
          }
         },
         "name": "에스케이플래닛(주),(주)씨제이이엔엠",
         "offsetgroup": "에스케이플래닛(주),(주)씨제이이엔엠",
         "orientation": "v",
         "showlegend": true,
         "textposition": "auto",
         "type": "bar",
         "x": [
          2011
         ],
         "xaxis": "x",
         "y": [
          2142622
         ],
         "yaxis": "y"
        },
        {
         "alignmentgroup": "True",
         "hovertemplate": "배급사=(주)시너지하우스 (시너지),롯데쇼핑㈜롯데엔터테인먼트<br>연도=%{x}<br>관객수=%{y}<extra></extra>",
         "legendgroup": "(주)시너지하우스 (시너지),롯데쇼핑㈜롯데엔터테인먼트",
         "marker": {
          "color": "#636efa",
          "pattern": {
           "shape": ""
          }
         },
         "name": "(주)시너지하우스 (시너지),롯데쇼핑㈜롯데엔터테인먼트",
         "offsetgroup": "(주)시너지하우스 (시너지),롯데쇼핑㈜롯데엔터테인먼트",
         "orientation": "v",
         "showlegend": true,
         "textposition": "auto",
         "type": "bar",
         "x": [
          2011,
          2012
         ],
         "xaxis": "x",
         "y": [
          1118258,
          1166018
         ],
         "yaxis": "y"
        },
        {
         "alignmentgroup": "True",
         "hovertemplate": "배급사=(주)인벤트스톤,영화사청어람(주)<br>연도=%{x}<br>관객수=%{y}<extra></extra>",
         "legendgroup": "(주)인벤트스톤,영화사청어람(주)",
         "marker": {
          "color": "#EF553B",
          "pattern": {
           "shape": ""
          }
         },
         "name": "(주)인벤트스톤,영화사청어람(주)",
         "offsetgroup": "(주)인벤트스톤,영화사청어람(주)",
         "orientation": "v",
         "showlegend": true,
         "textposition": "auto",
         "type": "bar",
         "x": [
          2012
         ],
         "xaxis": "x",
         "y": [
          2963449
         ],
         "yaxis": "y"
        },
        {
         "alignmentgroup": "True",
         "hovertemplate": "배급사=필라멘트픽쳐스<br>연도=%{x}<br>관객수=%{y}<extra></extra>",
         "legendgroup": "필라멘트픽쳐스",
         "marker": {
          "color": "#00cc96",
          "pattern": {
           "shape": ""
          }
         },
         "name": "필라멘트픽쳐스",
         "offsetgroup": "필라멘트픽쳐스",
         "orientation": "v",
         "showlegend": true,
         "textposition": "auto",
         "type": "bar",
         "x": [
          2012
         ],
         "xaxis": "x",
         "y": [
          2436400
         ],
         "yaxis": "y"
        },
        {
         "alignmentgroup": "True",
         "hovertemplate": "배급사=씨너스엔터테인먼트(주),타임스토리그룹(주)<br>연도=%{x}<br>관객수=%{y}<extra></extra>",
         "legendgroup": "씨너스엔터테인먼트(주),타임스토리그룹(주)",
         "marker": {
          "color": "#ab63fa",
          "pattern": {
           "shape": ""
          }
         },
         "name": "씨너스엔터테인먼트(주),타임스토리그룹(주)",
         "offsetgroup": "씨너스엔터테인먼트(주),타임스토리그룹(주)",
         "orientation": "v",
         "showlegend": true,
         "textposition": "auto",
         "type": "bar",
         "x": [
          2012
         ],
         "xaxis": "x",
         "y": [
          1646142
         ],
         "yaxis": "y"
        },
        {
         "alignmentgroup": "True",
         "hovertemplate": "배급사=아이러브시네마<br>연도=%{x}<br>관객수=%{y}<extra></extra>",
         "legendgroup": "아이러브시네마",
         "marker": {
          "color": "#FFA15A",
          "pattern": {
           "shape": ""
          }
         },
         "name": "아이러브시네마",
         "offsetgroup": "아이러브시네마",
         "orientation": "v",
         "showlegend": true,
         "textposition": "auto",
         "type": "bar",
         "x": [
          2013
         ],
         "xaxis": "x",
         "y": [
          3119023
         ],
         "yaxis": "y"
        },
        {
         "alignmentgroup": "True",
         "hovertemplate": "배급사=이십세기폭스코리아(주)<br>연도=%{x}<br>관객수=%{y}<extra></extra>",
         "legendgroup": "이십세기폭스코리아(주)",
         "marker": {
          "color": "#19d3f3",
          "pattern": {
           "shape": ""
          }
         },
         "name": "이십세기폭스코리아(주)",
         "offsetgroup": "이십세기폭스코리아(주)",
         "orientation": "v",
         "showlegend": true,
         "textposition": "auto",
         "type": "bar",
         "x": [
          2013,
          2014,
          2016
         ],
         "xaxis": "x",
         "y": [
          1422844,
          1169562,
          6879908
         ],
         "yaxis": "y"
        },
        {
         "alignmentgroup": "True",
         "hovertemplate": "배급사=씨너스엔터테인먼트(주)<br>연도=%{x}<br>관객수=%{y}<extra></extra>",
         "legendgroup": "씨너스엔터테인먼트(주)",
         "marker": {
          "color": "#FF6692",
          "pattern": {
           "shape": ""
          }
         },
         "name": "씨너스엔터테인먼트(주)",
         "offsetgroup": "씨너스엔터테인먼트(주)",
         "orientation": "v",
         "showlegend": true,
         "textposition": "auto",
         "type": "bar",
         "x": [
          2013
         ],
         "xaxis": "x",
         "y": [
          1214836
         ],
         "yaxis": "y"
        },
        {
         "alignmentgroup": "True",
         "hovertemplate": "배급사=CGV아트하우스,(주)대명문화공장<br>연도=%{x}<br>관객수=%{y}<extra></extra>",
         "legendgroup": "CGV아트하우스,(주)대명문화공장",
         "marker": {
          "color": "#B6E880",
          "pattern": {
           "shape": ""
          }
         },
         "name": "CGV아트하우스,(주)대명문화공장",
         "offsetgroup": "CGV아트하우스,(주)대명문화공장",
         "orientation": "v",
         "showlegend": true,
         "textposition": "auto",
         "type": "bar",
         "x": [
          2014
         ],
         "xaxis": "x",
         "y": [
          4801527
         ],
         "yaxis": "y"
        },
        {
         "alignmentgroup": "True",
         "hovertemplate": "배급사=롯데쇼핑㈜롯데엔터테인먼트,(주)싸이더스<br>연도=%{x}<br>관객수=%{y}<extra></extra>",
         "legendgroup": "롯데쇼핑㈜롯데엔터테인먼트,(주)싸이더스",
         "marker": {
          "color": "#FF97FF",
          "pattern": {
           "shape": ""
          }
         },
         "name": "롯데쇼핑㈜롯데엔터테인먼트,(주)싸이더스",
         "offsetgroup": "롯데쇼핑㈜롯데엔터테인먼트,(주)싸이더스",
         "orientation": "v",
         "showlegend": true,
         "textposition": "auto",
         "type": "bar",
         "x": [
          2014
         ],
         "xaxis": "x",
         "y": [
          4015361
         ],
         "yaxis": "y"
        },
        {
         "alignmentgroup": "True",
         "hovertemplate": "배급사=씨네그루(주)다우기술<br>연도=%{x}<br>관객수=%{y}<extra></extra>",
         "legendgroup": "씨네그루(주)다우기술",
         "marker": {
          "color": "#FECB52",
          "pattern": {
           "shape": ""
          }
         },
         "name": "씨네그루(주)다우기술",
         "offsetgroup": "씨네그루(주)다우기술",
         "orientation": "v",
         "showlegend": true,
         "textposition": "auto",
         "type": "bar",
         "x": [
          2014
         ],
         "xaxis": "x",
         "y": [
          2141155
         ],
         "yaxis": "y"
        },
        {
         "alignmentgroup": "True",
         "hovertemplate": "배급사=플러스엠 엔터테인먼트<br>연도=%{x}<br>관객수=%{y}<extra></extra>",
         "legendgroup": "플러스엠 엔터테인먼트",
         "marker": {
          "color": "#636efa",
          "pattern": {
           "shape": ""
          }
         },
         "name": "플러스엠 엔터테인먼트",
         "offsetgroup": "플러스엠 엔터테인먼트",
         "orientation": "v",
         "showlegend": true,
         "textposition": "auto",
         "type": "bar",
         "x": [
          2014,
          2016,
          2017,
          2018,
          2020,
          2022,
          2023
         ],
         "xaxis": "x",
         "y": [
          1755181,
          3385865,
          3852077,
          7975261,
          1228685,
          4352390,
          15976817
         ],
         "yaxis": "y"
        },
        {
         "alignmentgroup": "True",
         "hovertemplate": "배급사=CGV아트하우스<br>연도=%{x}<br>관객수=%{y}<extra></extra>",
         "legendgroup": "CGV아트하우스",
         "marker": {
          "color": "#EF553B",
          "pattern": {
           "shape": ""
          }
         },
         "name": "CGV아트하우스",
         "offsetgroup": "CGV아트하우스",
         "orientation": "v",
         "showlegend": true,
         "textposition": "auto",
         "type": "bar",
         "x": [
          2014,
          2015,
          2019
         ],
         "xaxis": "x",
         "y": [
          1618988,
          2518319,
          1245532
         ],
         "yaxis": "y"
        },
        {
         "alignmentgroup": "True",
         "hovertemplate": "배급사=워너브러더스 코리아(주)<br>연도=%{x}<br>관객수=%{y}<extra></extra>",
         "legendgroup": "워너브러더스 코리아(주)",
         "marker": {
          "color": "#00cc96",
          "pattern": {
           "shape": ""
          }
         },
         "name": "워너브러더스 코리아(주)",
         "offsetgroup": "워너브러더스 코리아(주)",
         "orientation": "v",
         "showlegend": true,
         "textposition": "auto",
         "type": "bar",
         "x": [
          2016,
          2018,
          2019
         ],
         "xaxis": "x",
         "y": [
          7500420,
          4317865,
          1140876
         ],
         "yaxis": "y"
        },
        {
         "alignmentgroup": "True",
         "hovertemplate": "배급사=(주)와우픽쳐스<br>연도=%{x}<br>관객수=%{y}<extra></extra>",
         "legendgroup": "(주)와우픽쳐스",
         "marker": {
          "color": "#ab63fa",
          "pattern": {
           "shape": ""
          }
         },
         "name": "(주)와우픽쳐스",
         "offsetgroup": "(주)와우픽쳐스",
         "orientation": "v",
         "showlegend": true,
         "textposition": "auto",
         "type": "bar",
         "x": [
          2016
         ],
         "xaxis": "x",
         "y": [
          3586929
         ],
         "yaxis": "y"
        },
        {
         "alignmentgroup": "True",
         "hovertemplate": "배급사=플러스엠 엔터테인먼트,(주)키위미디어그룹<br>연도=%{x}<br>관객수=%{y}<extra></extra>",
         "legendgroup": "플러스엠 엔터테인먼트,(주)키위미디어그룹",
         "marker": {
          "color": "#FFA15A",
          "pattern": {
           "shape": ""
          }
         },
         "name": "플러스엠 엔터테인먼트,(주)키위미디어그룹",
         "offsetgroup": "플러스엠 엔터테인먼트,(주)키위미디어그룹",
         "orientation": "v",
         "showlegend": true,
         "textposition": "auto",
         "type": "bar",
         "x": [
          2017
         ],
         "xaxis": "x",
         "y": [
          6879841
         ],
         "yaxis": "y"
        },
        {
         "alignmentgroup": "True",
         "hovertemplate": "배급사=롯데쇼핑㈜롯데엔터테인먼트,(주)리틀빅픽쳐스<br>연도=%{x}<br>관객수=%{y}<extra></extra>",
         "legendgroup": "롯데쇼핑㈜롯데엔터테인먼트,(주)리틀빅픽쳐스",
         "marker": {
          "color": "#19d3f3",
          "pattern": {
           "shape": ""
          }
         },
         "name": "롯데쇼핑㈜롯데엔터테인먼트,(주)리틀빅픽쳐스",
         "offsetgroup": "롯데쇼핑㈜롯데엔터테인먼트,(주)리틀빅픽쳐스",
         "orientation": "v",
         "showlegend": true,
         "textposition": "auto",
         "type": "bar",
         "x": [
          2017
         ],
         "xaxis": "x",
         "y": [
          3280243
         ],
         "yaxis": "y"
        },
        {
         "alignmentgroup": "True",
         "hovertemplate": "배급사=오퍼스픽쳐스(유),CGV아트하우스<br>연도=%{x}<br>관객수=%{y}<extra></extra>",
         "legendgroup": "오퍼스픽쳐스(유),CGV아트하우스",
         "marker": {
          "color": "#FF6692",
          "pattern": {
           "shape": ""
          }
         },
         "name": "오퍼스픽쳐스(유),CGV아트하우스",
         "offsetgroup": "오퍼스픽쳐스(유),CGV아트하우스",
         "orientation": "v",
         "showlegend": true,
         "textposition": "auto",
         "type": "bar",
         "x": [
          2017
         ],
         "xaxis": "x",
         "y": [
          2421011
         ],
         "yaxis": "y"
        },
        {
         "alignmentgroup": "True",
         "hovertemplate": "배급사=CGV아트하우스,영화사 풀<br>연도=%{x}<br>관객수=%{y}<extra></extra>",
         "legendgroup": "CGV아트하우스,영화사 풀",
         "marker": {
          "color": "#B6E880",
          "pattern": {
           "shape": ""
          }
         },
         "name": "CGV아트하우스,영화사 풀",
         "offsetgroup": "CGV아트하우스,영화사 풀",
         "orientation": "v",
         "showlegend": true,
         "textposition": "auto",
         "type": "bar",
         "x": [
          2017
         ],
         "xaxis": "x",
         "y": [
          1854867
         ],
         "yaxis": "y"
        },
        {
         "alignmentgroup": "True",
         "hovertemplate": "배급사=플러스엠 엔터테인먼트,주식회사 키위컴퍼니<br>연도=%{x}<br>관객수=%{y}<extra></extra>",
         "legendgroup": "플러스엠 엔터테인먼트,주식회사 키위컴퍼니",
         "marker": {
          "color": "#FF97FF",
          "pattern": {
           "shape": ""
          }
         },
         "name": "플러스엠 엔터테인먼트,주식회사 키위컴퍼니",
         "offsetgroup": "플러스엠 엔터테인먼트,주식회사 키위컴퍼니",
         "orientation": "v",
         "showlegend": true,
         "textposition": "auto",
         "type": "bar",
         "x": [
          2017
         ],
         "xaxis": "x",
         "y": [
          1387599
         ],
         "yaxis": "y"
        },
        {
         "alignmentgroup": "True",
         "hovertemplate": "배급사=롯데컬처웍스(주)롯데엔터테인먼트<br>연도=%{x}<br>관객수=%{y}<extra></extra>",
         "legendgroup": "롯데컬처웍스(주)롯데엔터테인먼트",
         "marker": {
          "color": "#FECB52",
          "pattern": {
           "shape": ""
          }
         },
         "name": "롯데컬처웍스(주)롯데엔터테인먼트",
         "offsetgroup": "롯데컬처웍스(주)롯데엔터테인먼트",
         "orientation": "v",
         "showlegend": true,
         "textposition": "auto",
         "type": "bar",
         "x": [
          2018,
          2019,
          2020,
          2021,
          2022,
          2023
         ],
         "xaxis": "x",
         "y": [
          17569115,
          16076287,
          7672506,
          3613984,
          9775824,
          5319601
         ],
         "yaxis": "y"
        },
        {
         "alignmentgroup": "True",
         "hovertemplate": "배급사=(주)키다리이엔티<br>연도=%{x}<br>관객수=%{y}<extra></extra>",
         "legendgroup": "(주)키다리이엔티",
         "marker": {
          "color": "#636efa",
          "pattern": {
           "shape": ""
          }
         },
         "name": "(주)키다리이엔티",
         "offsetgroup": "(주)키다리이엔티",
         "orientation": "v",
         "showlegend": true,
         "textposition": "auto",
         "type": "bar",
         "x": [
          2018
         ],
         "xaxis": "x",
         "y": [
          1315726
         ],
         "yaxis": "y"
        },
        {
         "alignmentgroup": "True",
         "hovertemplate": "배급사=(주)씨제이이엔엠,(주)덱스터스튜디오<br>연도=%{x}<br>관객수=%{y}<extra></extra>",
         "legendgroup": "(주)씨제이이엔엠,(주)덱스터스튜디오",
         "marker": {
          "color": "#EF553B",
          "pattern": {
           "shape": ""
          }
         },
         "name": "(주)씨제이이엔엠,(주)덱스터스튜디오",
         "offsetgroup": "(주)씨제이이엔엠,(주)덱스터스튜디오",
         "orientation": "v",
         "showlegend": true,
         "textposition": "auto",
         "type": "bar",
         "x": [
          2019
         ],
         "xaxis": "x",
         "y": [
          8252669
         ],
         "yaxis": "y"
        },
        {
         "alignmentgroup": "True",
         "hovertemplate": "배급사=(주)에이스메이커무비웍스<br>연도=%{x}<br>관객수=%{y}<extra></extra>",
         "legendgroup": "(주)에이스메이커무비웍스",
         "marker": {
          "color": "#00cc96",
          "pattern": {
           "shape": ""
          }
         },
         "name": "(주)에이스메이커무비웍스",
         "offsetgroup": "(주)에이스메이커무비웍스",
         "orientation": "v",
         "showlegend": true,
         "textposition": "auto",
         "type": "bar",
         "x": [
          2019,
          2020
         ],
         "xaxis": "x",
         "y": [
          4283776,
          1224726
         ],
         "yaxis": "y"
        },
        {
         "alignmentgroup": "True",
         "hovertemplate": "배급사=(주)에이스메이커무비웍스,(주)키위미디어그룹<br>연도=%{x}<br>관객수=%{y}<extra></extra>",
         "legendgroup": "(주)에이스메이커무비웍스,(주)키위미디어그룹",
         "marker": {
          "color": "#ab63fa",
          "pattern": {
           "shape": ""
          }
         },
         "name": "(주)에이스메이커무비웍스,(주)키위미디어그룹",
         "offsetgroup": "(주)에이스메이커무비웍스,(주)키위미디어그룹",
         "orientation": "v",
         "showlegend": true,
         "textposition": "auto",
         "type": "bar",
         "x": [
          2019
         ],
         "xaxis": "x",
         "y": [
          3364360
         ],
         "yaxis": "y"
        },
        {
         "alignmentgroup": "True",
         "hovertemplate": "배급사=(주)메리크리스마스,TCO(주)더콘텐츠온<br>연도=%{x}<br>관객수=%{y}<extra></extra>",
         "legendgroup": "(주)메리크리스마스,TCO(주)더콘텐츠온",
         "marker": {
          "color": "#FFA15A",
          "pattern": {
           "shape": ""
          }
         },
         "name": "(주)메리크리스마스,TCO(주)더콘텐츠온",
         "offsetgroup": "(주)메리크리스마스,TCO(주)더콘텐츠온",
         "orientation": "v",
         "showlegend": true,
         "textposition": "auto",
         "type": "bar",
         "x": [
          2019
         ],
         "xaxis": "x",
         "y": [
          1916855
         ],
         "yaxis": "y"
        },
        {
         "alignmentgroup": "True",
         "hovertemplate": "배급사=주식회사 에이비오엔터테인먼트,플러스엠 엔터테인먼트<br>연도=%{x}<br>관객수=%{y}<extra></extra>",
         "legendgroup": "주식회사 에이비오엔터테인먼트,플러스엠 엔터테인먼트",
         "marker": {
          "color": "#19d3f3",
          "pattern": {
           "shape": ""
          }
         },
         "name": "주식회사 에이비오엔터테인먼트,플러스엠 엔터테인먼트",
         "offsetgroup": "주식회사 에이비오엔터테인먼트,플러스엠 엔터테인먼트",
         "orientation": "v",
         "showlegend": true,
         "textposition": "auto",
         "type": "bar",
         "x": [
          2022,
          2023
         ],
         "xaxis": "x",
         "y": [
          12693175,
          10682813
         ],
         "yaxis": "y"
        },
        {
         "alignmentgroup": "True",
         "hovertemplate": "배급사=(주)홈초이스,(주)싸이더스<br>연도=%{x}<br>관객수=%{y}<extra></extra>",
         "legendgroup": "(주)홈초이스,(주)싸이더스",
         "marker": {
          "color": "#FF6692",
          "pattern": {
           "shape": ""
          }
         },
         "name": "(주)홈초이스,(주)싸이더스",
         "offsetgroup": "(주)홈초이스,(주)싸이더스",
         "orientation": "v",
         "showlegend": true,
         "textposition": "auto",
         "type": "bar",
         "x": [
          2022
         ],
         "xaxis": "x",
         "y": [
          1980769
         ],
         "yaxis": "y"
        },
        {
         "alignmentgroup": "True",
         "hovertemplate": "배급사=롯데컬처웍스(주)롯데엔터테인먼트,(주)에이스메이커무비웍스<br>연도=%{x}<br>관객수=%{y}<extra></extra>",
         "legendgroup": "롯데컬처웍스(주)롯데엔터테인먼트,(주)에이스메이커무비웍스",
         "marker": {
          "color": "#B6E880",
          "pattern": {
           "shape": ""
          }
         },
         "name": "롯데컬처웍스(주)롯데엔터테인먼트,(주)에이스메이커무비웍스",
         "offsetgroup": "롯데컬처웍스(주)롯데엔터테인먼트,(주)에이스메이커무비웍스",
         "orientation": "v",
         "showlegend": true,
         "textposition": "auto",
         "type": "bar",
         "x": [
          2023
         ],
         "xaxis": "x",
         "y": [
          4572386
         ],
         "yaxis": "y"
        },
        {
         "alignmentgroup": "True",
         "hovertemplate": "배급사=(주)마인드마크<br>연도=%{x}<br>관객수=%{y}<extra></extra>",
         "legendgroup": "(주)마인드마크",
         "marker": {
          "color": "#FF97FF",
          "pattern": {
           "shape": ""
          }
         },
         "name": "(주)마인드마크",
         "offsetgroup": "(주)마인드마크",
         "orientation": "v",
         "showlegend": true,
         "textposition": "auto",
         "type": "bar",
         "x": [
          2023
         ],
         "xaxis": "x",
         "y": [
          3553667
         ],
         "yaxis": "y"
        }
       ],
       "layout": {
        "barmode": "relative",
        "legend": {
         "title": {
          "text": "배급사"
         },
         "tracegroupgap": 0
        },
        "template": {
         "data": {
          "bar": [
           {
            "error_x": {
             "color": "#2a3f5f"
            },
            "error_y": {
             "color": "#2a3f5f"
            },
            "marker": {
             "line": {
              "color": "#E5ECF6",
              "width": 0.5
             },
             "pattern": {
              "fillmode": "overlay",
              "size": 10,
              "solidity": 0.2
             }
            },
            "type": "bar"
           }
          ],
          "barpolar": [
           {
            "marker": {
             "line": {
              "color": "#E5ECF6",
              "width": 0.5
             },
             "pattern": {
              "fillmode": "overlay",
              "size": 10,
              "solidity": 0.2
             }
            },
            "type": "barpolar"
           }
          ],
          "carpet": [
           {
            "aaxis": {
             "endlinecolor": "#2a3f5f",
             "gridcolor": "white",
             "linecolor": "white",
             "minorgridcolor": "white",
             "startlinecolor": "#2a3f5f"
            },
            "baxis": {
             "endlinecolor": "#2a3f5f",
             "gridcolor": "white",
             "linecolor": "white",
             "minorgridcolor": "white",
             "startlinecolor": "#2a3f5f"
            },
            "type": "carpet"
           }
          ],
          "choropleth": [
           {
            "colorbar": {
             "outlinewidth": 0,
             "ticks": ""
            },
            "type": "choropleth"
           }
          ],
          "contour": [
           {
            "colorbar": {
             "outlinewidth": 0,
             "ticks": ""
            },
            "colorscale": [
             [
              0,
              "#0d0887"
             ],
             [
              0.1111111111111111,
              "#46039f"
             ],
             [
              0.2222222222222222,
              "#7201a8"
             ],
             [
              0.3333333333333333,
              "#9c179e"
             ],
             [
              0.4444444444444444,
              "#bd3786"
             ],
             [
              0.5555555555555556,
              "#d8576b"
             ],
             [
              0.6666666666666666,
              "#ed7953"
             ],
             [
              0.7777777777777778,
              "#fb9f3a"
             ],
             [
              0.8888888888888888,
              "#fdca26"
             ],
             [
              1,
              "#f0f921"
             ]
            ],
            "type": "contour"
           }
          ],
          "contourcarpet": [
           {
            "colorbar": {
             "outlinewidth": 0,
             "ticks": ""
            },
            "type": "contourcarpet"
           }
          ],
          "heatmap": [
           {
            "colorbar": {
             "outlinewidth": 0,
             "ticks": ""
            },
            "colorscale": [
             [
              0,
              "#0d0887"
             ],
             [
              0.1111111111111111,
              "#46039f"
             ],
             [
              0.2222222222222222,
              "#7201a8"
             ],
             [
              0.3333333333333333,
              "#9c179e"
             ],
             [
              0.4444444444444444,
              "#bd3786"
             ],
             [
              0.5555555555555556,
              "#d8576b"
             ],
             [
              0.6666666666666666,
              "#ed7953"
             ],
             [
              0.7777777777777778,
              "#fb9f3a"
             ],
             [
              0.8888888888888888,
              "#fdca26"
             ],
             [
              1,
              "#f0f921"
             ]
            ],
            "type": "heatmap"
           }
          ],
          "heatmapgl": [
           {
            "colorbar": {
             "outlinewidth": 0,
             "ticks": ""
            },
            "colorscale": [
             [
              0,
              "#0d0887"
             ],
             [
              0.1111111111111111,
              "#46039f"
             ],
             [
              0.2222222222222222,
              "#7201a8"
             ],
             [
              0.3333333333333333,
              "#9c179e"
             ],
             [
              0.4444444444444444,
              "#bd3786"
             ],
             [
              0.5555555555555556,
              "#d8576b"
             ],
             [
              0.6666666666666666,
              "#ed7953"
             ],
             [
              0.7777777777777778,
              "#fb9f3a"
             ],
             [
              0.8888888888888888,
              "#fdca26"
             ],
             [
              1,
              "#f0f921"
             ]
            ],
            "type": "heatmapgl"
           }
          ],
          "histogram": [
           {
            "marker": {
             "pattern": {
              "fillmode": "overlay",
              "size": 10,
              "solidity": 0.2
             }
            },
            "type": "histogram"
           }
          ],
          "histogram2d": [
           {
            "colorbar": {
             "outlinewidth": 0,
             "ticks": ""
            },
            "colorscale": [
             [
              0,
              "#0d0887"
             ],
             [
              0.1111111111111111,
              "#46039f"
             ],
             [
              0.2222222222222222,
              "#7201a8"
             ],
             [
              0.3333333333333333,
              "#9c179e"
             ],
             [
              0.4444444444444444,
              "#bd3786"
             ],
             [
              0.5555555555555556,
              "#d8576b"
             ],
             [
              0.6666666666666666,
              "#ed7953"
             ],
             [
              0.7777777777777778,
              "#fb9f3a"
             ],
             [
              0.8888888888888888,
              "#fdca26"
             ],
             [
              1,
              "#f0f921"
             ]
            ],
            "type": "histogram2d"
           }
          ],
          "histogram2dcontour": [
           {
            "colorbar": {
             "outlinewidth": 0,
             "ticks": ""
            },
            "colorscale": [
             [
              0,
              "#0d0887"
             ],
             [
              0.1111111111111111,
              "#46039f"
             ],
             [
              0.2222222222222222,
              "#7201a8"
             ],
             [
              0.3333333333333333,
              "#9c179e"
             ],
             [
              0.4444444444444444,
              "#bd3786"
             ],
             [
              0.5555555555555556,
              "#d8576b"
             ],
             [
              0.6666666666666666,
              "#ed7953"
             ],
             [
              0.7777777777777778,
              "#fb9f3a"
             ],
             [
              0.8888888888888888,
              "#fdca26"
             ],
             [
              1,
              "#f0f921"
             ]
            ],
            "type": "histogram2dcontour"
           }
          ],
          "mesh3d": [
           {
            "colorbar": {
             "outlinewidth": 0,
             "ticks": ""
            },
            "type": "mesh3d"
           }
          ],
          "parcoords": [
           {
            "line": {
             "colorbar": {
              "outlinewidth": 0,
              "ticks": ""
             }
            },
            "type": "parcoords"
           }
          ],
          "pie": [
           {
            "automargin": true,
            "type": "pie"
           }
          ],
          "scatter": [
           {
            "fillpattern": {
             "fillmode": "overlay",
             "size": 10,
             "solidity": 0.2
            },
            "type": "scatter"
           }
          ],
          "scatter3d": [
           {
            "line": {
             "colorbar": {
              "outlinewidth": 0,
              "ticks": ""
             }
            },
            "marker": {
             "colorbar": {
              "outlinewidth": 0,
              "ticks": ""
             }
            },
            "type": "scatter3d"
           }
          ],
          "scattercarpet": [
           {
            "marker": {
             "colorbar": {
              "outlinewidth": 0,
              "ticks": ""
             }
            },
            "type": "scattercarpet"
           }
          ],
          "scattergeo": [
           {
            "marker": {
             "colorbar": {
              "outlinewidth": 0,
              "ticks": ""
             }
            },
            "type": "scattergeo"
           }
          ],
          "scattergl": [
           {
            "marker": {
             "colorbar": {
              "outlinewidth": 0,
              "ticks": ""
             }
            },
            "type": "scattergl"
           }
          ],
          "scattermapbox": [
           {
            "marker": {
             "colorbar": {
              "outlinewidth": 0,
              "ticks": ""
             }
            },
            "type": "scattermapbox"
           }
          ],
          "scatterpolar": [
           {
            "marker": {
             "colorbar": {
              "outlinewidth": 0,
              "ticks": ""
             }
            },
            "type": "scatterpolar"
           }
          ],
          "scatterpolargl": [
           {
            "marker": {
             "colorbar": {
              "outlinewidth": 0,
              "ticks": ""
             }
            },
            "type": "scatterpolargl"
           }
          ],
          "scatterternary": [
           {
            "marker": {
             "colorbar": {
              "outlinewidth": 0,
              "ticks": ""
             }
            },
            "type": "scatterternary"
           }
          ],
          "surface": [
           {
            "colorbar": {
             "outlinewidth": 0,
             "ticks": ""
            },
            "colorscale": [
             [
              0,
              "#0d0887"
             ],
             [
              0.1111111111111111,
              "#46039f"
             ],
             [
              0.2222222222222222,
              "#7201a8"
             ],
             [
              0.3333333333333333,
              "#9c179e"
             ],
             [
              0.4444444444444444,
              "#bd3786"
             ],
             [
              0.5555555555555556,
              "#d8576b"
             ],
             [
              0.6666666666666666,
              "#ed7953"
             ],
             [
              0.7777777777777778,
              "#fb9f3a"
             ],
             [
              0.8888888888888888,
              "#fdca26"
             ],
             [
              1,
              "#f0f921"
             ]
            ],
            "type": "surface"
           }
          ],
          "table": [
           {
            "cells": {
             "fill": {
              "color": "#EBF0F8"
             },
             "line": {
              "color": "white"
             }
            },
            "header": {
             "fill": {
              "color": "#C8D4E3"
             },
             "line": {
              "color": "white"
             }
            },
            "type": "table"
           }
          ]
         },
         "layout": {
          "annotationdefaults": {
           "arrowcolor": "#2a3f5f",
           "arrowhead": 0,
           "arrowwidth": 1
          },
          "autotypenumbers": "strict",
          "coloraxis": {
           "colorbar": {
            "outlinewidth": 0,
            "ticks": ""
           }
          },
          "colorscale": {
           "diverging": [
            [
             0,
             "#8e0152"
            ],
            [
             0.1,
             "#c51b7d"
            ],
            [
             0.2,
             "#de77ae"
            ],
            [
             0.3,
             "#f1b6da"
            ],
            [
             0.4,
             "#fde0ef"
            ],
            [
             0.5,
             "#f7f7f7"
            ],
            [
             0.6,
             "#e6f5d0"
            ],
            [
             0.7,
             "#b8e186"
            ],
            [
             0.8,
             "#7fbc41"
            ],
            [
             0.9,
             "#4d9221"
            ],
            [
             1,
             "#276419"
            ]
           ],
           "sequential": [
            [
             0,
             "#0d0887"
            ],
            [
             0.1111111111111111,
             "#46039f"
            ],
            [
             0.2222222222222222,
             "#7201a8"
            ],
            [
             0.3333333333333333,
             "#9c179e"
            ],
            [
             0.4444444444444444,
             "#bd3786"
            ],
            [
             0.5555555555555556,
             "#d8576b"
            ],
            [
             0.6666666666666666,
             "#ed7953"
            ],
            [
             0.7777777777777778,
             "#fb9f3a"
            ],
            [
             0.8888888888888888,
             "#fdca26"
            ],
            [
             1,
             "#f0f921"
            ]
           ],
           "sequentialminus": [
            [
             0,
             "#0d0887"
            ],
            [
             0.1111111111111111,
             "#46039f"
            ],
            [
             0.2222222222222222,
             "#7201a8"
            ],
            [
             0.3333333333333333,
             "#9c179e"
            ],
            [
             0.4444444444444444,
             "#bd3786"
            ],
            [
             0.5555555555555556,
             "#d8576b"
            ],
            [
             0.6666666666666666,
             "#ed7953"
            ],
            [
             0.7777777777777778,
             "#fb9f3a"
            ],
            [
             0.8888888888888888,
             "#fdca26"
            ],
            [
             1,
             "#f0f921"
            ]
           ]
          },
          "colorway": [
           "#636efa",
           "#EF553B",
           "#00cc96",
           "#ab63fa",
           "#FFA15A",
           "#19d3f3",
           "#FF6692",
           "#B6E880",
           "#FF97FF",
           "#FECB52"
          ],
          "font": {
           "color": "#2a3f5f"
          },
          "geo": {
           "bgcolor": "white",
           "lakecolor": "white",
           "landcolor": "#E5ECF6",
           "showlakes": true,
           "showland": true,
           "subunitcolor": "white"
          },
          "hoverlabel": {
           "align": "left"
          },
          "hovermode": "closest",
          "mapbox": {
           "style": "light"
          },
          "paper_bgcolor": "white",
          "plot_bgcolor": "#E5ECF6",
          "polar": {
           "angularaxis": {
            "gridcolor": "white",
            "linecolor": "white",
            "ticks": ""
           },
           "bgcolor": "#E5ECF6",
           "radialaxis": {
            "gridcolor": "white",
            "linecolor": "white",
            "ticks": ""
           }
          },
          "scene": {
           "xaxis": {
            "backgroundcolor": "#E5ECF6",
            "gridcolor": "white",
            "gridwidth": 2,
            "linecolor": "white",
            "showbackground": true,
            "ticks": "",
            "zerolinecolor": "white"
           },
           "yaxis": {
            "backgroundcolor": "#E5ECF6",
            "gridcolor": "white",
            "gridwidth": 2,
            "linecolor": "white",
            "showbackground": true,
            "ticks": "",
            "zerolinecolor": "white"
           },
           "zaxis": {
            "backgroundcolor": "#E5ECF6",
            "gridcolor": "white",
            "gridwidth": 2,
            "linecolor": "white",
            "showbackground": true,
            "ticks": "",
            "zerolinecolor": "white"
           }
          },
          "shapedefaults": {
           "line": {
            "color": "#2a3f5f"
           }
          },
          "ternary": {
           "aaxis": {
            "gridcolor": "white",
            "linecolor": "white",
            "ticks": ""
           },
           "baxis": {
            "gridcolor": "white",
            "linecolor": "white",
            "ticks": ""
           },
           "bgcolor": "#E5ECF6",
           "caxis": {
            "gridcolor": "white",
            "linecolor": "white",
            "ticks": ""
           }
          },
          "title": {
           "x": 0.05
          },
          "xaxis": {
           "automargin": true,
           "gridcolor": "white",
           "linecolor": "white",
           "ticks": "",
           "title": {
            "standoff": 15
           },
           "zerolinecolor": "white",
           "zerolinewidth": 2
          },
          "yaxis": {
           "automargin": true,
           "gridcolor": "white",
           "linecolor": "white",
           "ticks": "",
           "title": {
            "standoff": 15
           },
           "zerolinecolor": "white",
           "zerolinewidth": 2
          }
         }
        },
        "title": {
         "text": "연도별 상위 10개 배급사의 관객수"
        },
        "xaxis": {
         "anchor": "y",
         "domain": [
          0,
          1
         ],
         "title": {
          "text": "연도"
         }
        },
        "yaxis": {
         "anchor": "x",
         "domain": [
          0,
          1
         ],
         "title": {
          "text": "관객수"
         }
        }
       }
      }
     },
     "metadata": {},
     "output_type": "display_data"
    }
   ],
   "source": [
    "import pandas as pd\n",
    "import plotly.express as px\n",
    "\n",
    "# Load data\n",
    "df = pd.read_csv('../5.2_dataset_forviz_add_gener.csv')\n",
    "\n",
    "# Convert sales column to numeric\n",
    "df['매출액'] = pd.to_numeric(df['매출액'].str.replace(',', ''), errors='coerce')\n",
    "\n",
    "# Drop rows with missing sales data\n",
    "df = df.dropna(subset=['매출액'])\n",
    "\n",
    "# Convert audience column to numeric\n",
    "df['관객수'] = pd.to_numeric(df['관객수'].str.replace(',', ''), errors='coerce')\n",
    "\n",
    "# Drop rows with missing audience data\n",
    "df = df.dropna(subset=['관객수'])\n",
    "\n",
    "# Convert release date to datetime\n",
    "df['개봉일'] = pd.to_datetime(df['개봉일'])\n",
    "\n",
    "# Extract year from release date\n",
    "df['연도'] = df['개봉일'].dt.year\n",
    "\n",
    "# Calculate sum of sales by distributor and year\n",
    "sales_by_company_year = df.groupby(['배급사', '연도'], as_index=False).sum(numeric_only=True)\n",
    "\n",
    "# Calculate sum of audience by distributor and year\n",
    "audience_by_company_year = df.groupby(['배급사', '연도'], as_index=False).sum(numeric_only=True)\n",
    "\n",
    "# Select top 10 distributors by sales each year\n",
    "top_sales_companies_by_year = sales_by_company_year.groupby('연도').apply(lambda x: x.nlargest(10, '매출액')).reset_index(drop=True)\n",
    "top_audience_companies_by_year = audience_by_company_year.groupby('연도').apply(lambda x: x.nlargest(10, '관객수')).reset_index(drop=True)\n",
    "\n",
    "# Visualize sales (top 10 distributors)\n",
    "fig_sales_top10 = px.bar(top_sales_companies_by_year, x='연도', y='매출액', color='배급사', title='연도별 상위 10개 배급사의 매출액')\n",
    "fig_sales_top10.show()\n",
    "fig_sales_top10.write_html('sales_top10.html')\n",
    "\n",
    "# Visualize audience (top 10 distributors)\n",
    "fig_audience_top10 = px.bar(top_audience_companies_by_year, x='연도', y='관객수', color='배급사', title='연도별 상위 10개 배급사의 관객수')\n",
    "fig_audience_top10.show()\n",
    "fig_audience_top10.write_html('audience_top10.html')\n"
   ]
  },
  {
   "cell_type": "code",
   "execution_count": 10,
   "metadata": {},
   "outputs": [
    {
     "data": {
      "application/vnd.plotly.v1+json": {
       "config": {
        "plotlyServerURL": "https://plot.ly"
       },
       "data": [
        {
         "alignmentgroup": "True",
         "hovertemplate": "only_gener= 코미디 <br>배급사=%{x}<br>매출액=%{y}<extra></extra>",
         "legendgroup": " 코미디 ",
         "marker": {
          "color": "#636efa",
          "pattern": {
           "shape": ""
          }
         },
         "name": " 코미디 ",
         "offsetgroup": " 코미디 ",
         "orientation": "v",
         "showlegend": true,
         "textposition": "auto",
         "type": "bar",
         "x": [
          "(주)씨제이이엔엠"
         ],
         "xaxis": "x",
         "y": [
          139647979516
         ],
         "yaxis": "y"
        },
        {
         "alignmentgroup": "True",
         "hovertemplate": "only_gener= 범죄, 액션 <br>배급사=%{x}<br>매출액=%{y}<extra></extra>",
         "legendgroup": " 범죄, 액션 ",
         "marker": {
          "color": "#EF553B",
          "pattern": {
           "shape": ""
          }
         },
         "name": " 범죄, 액션 ",
         "offsetgroup": " 범죄, 액션 ",
         "orientation": "v",
         "showlegend": true,
         "textposition": "auto",
         "type": "bar",
         "x": [
          "주식회사 에이비오엔터테인먼트,플러스엠 엔터테인먼트"
         ],
         "xaxis": "x",
         "y": [
          131295679478
         ],
         "yaxis": "y"
        },
        {
         "alignmentgroup": "True",
         "hovertemplate": "only_gener= 드라마 <br>배급사=%{x}<br>매출액=%{y}<extra></extra>",
         "legendgroup": " 드라마 ",
         "marker": {
          "color": "#00cc96",
          "pattern": {
           "shape": ""
          }
         },
         "name": " 드라마 ",
         "offsetgroup": " 드라마 ",
         "orientation": "v",
         "showlegend": true,
         "textposition": "auto",
         "type": "bar",
         "x": [
          "플러스엠 엔터테인먼트"
         ],
         "xaxis": "x",
         "y": [
          127924472553
         ],
         "yaxis": "y"
        },
        {
         "alignmentgroup": "True",
         "hovertemplate": "only_gener= 판타지, 드라마 <br>배급사=%{x}<br>매출액=%{y}<extra></extra>",
         "legendgroup": " 판타지, 드라마 ",
         "marker": {
          "color": "#ab63fa",
          "pattern": {
           "shape": ""
          }
         },
         "name": " 판타지, 드라마 ",
         "offsetgroup": " 판타지, 드라마 ",
         "orientation": "v",
         "showlegend": true,
         "textposition": "auto",
         "type": "bar",
         "x": [
          "롯데쇼핑㈜롯데엔터테인먼트",
          "롯데컬처웍스(주)롯데엔터테인먼트"
         ],
         "xaxis": "x",
         "y": [
          115698654137,
          102666146909
         ],
         "yaxis": "y"
        },
        {
         "alignmentgroup": "True",
         "hovertemplate": "only_gener= 미스터리, 공포(호러) <br>배급사=%{x}<br>매출액=%{y}<extra></extra>",
         "legendgroup": " 미스터리, 공포(호러) ",
         "marker": {
          "color": "#FFA15A",
          "pattern": {
           "shape": ""
          }
         },
         "name": " 미스터리, 공포(호러) ",
         "offsetgroup": " 미스터리, 공포(호러) ",
         "orientation": "v",
         "showlegend": true,
         "textposition": "auto",
         "type": "bar",
         "x": [
          "(주)쇼박스"
         ],
         "xaxis": "x",
         "y": [
          105793676208
         ],
         "yaxis": "y"
        },
        {
         "alignmentgroup": "True",
         "hovertemplate": "only_gener= 액션, 스릴러 <br>배급사=%{x}<br>매출액=%{y}<extra></extra>",
         "legendgroup": " 액션, 스릴러 ",
         "marker": {
          "color": "#19d3f3",
          "pattern": {
           "shape": ""
          }
         },
         "name": " 액션, 스릴러 ",
         "offsetgroup": " 액션, 스릴러 ",
         "orientation": "v",
         "showlegend": true,
         "textposition": "auto",
         "type": "bar",
         "x": [
          "(주)넥스트엔터테인먼트월드(NEW)"
         ],
         "xaxis": "x",
         "y": [
          93178283048
         ],
         "yaxis": "y"
        },
        {
         "alignmentgroup": "True",
         "hovertemplate": "only_gener= 액션, 드라마, 어드벤처 <br>배급사=%{x}<br>매출액=%{y}<extra></extra>",
         "legendgroup": " 액션, 드라마, 어드벤처 ",
         "marker": {
          "color": "#FF6692",
          "pattern": {
           "shape": ""
          }
         },
         "name": " 액션, 드라마, 어드벤처 ",
         "offsetgroup": " 액션, 드라마, 어드벤처 ",
         "orientation": "v",
         "showlegend": true,
         "textposition": "auto",
         "type": "bar",
         "x": [
          "CJ ENM"
         ],
         "xaxis": "x",
         "y": [
          81934638201
         ],
         "yaxis": "y"
        },
        {
         "alignmentgroup": "True",
         "hovertemplate": "only_gener= 어드벤처, 드라마 <br>배급사=%{x}<br>매출액=%{y}<extra></extra>",
         "legendgroup": " 어드벤처, 드라마 ",
         "marker": {
          "color": "#B6E880",
          "pattern": {
           "shape": ""
          }
         },
         "name": " 어드벤처, 드라마 ",
         "offsetgroup": " 어드벤처, 드라마 ",
         "orientation": "v",
         "showlegend": true,
         "textposition": "auto",
         "type": "bar",
         "x": [
          "(주)씨제이이엔엠,(주)덱스터스튜디오"
         ],
         "xaxis": "x",
         "y": [
          69825366300
         ],
         "yaxis": "y"
        },
        {
         "alignmentgroup": "True",
         "hovertemplate": "only_gener= 액션 <br>배급사=%{x}<br>매출액=%{y}<extra></extra>",
         "legendgroup": " 액션 ",
         "marker": {
          "color": "#FF97FF",
          "pattern": {
           "shape": ""
          }
         },
         "name": " 액션 ",
         "offsetgroup": " 액션 ",
         "orientation": "v",
         "showlegend": true,
         "textposition": "auto",
         "type": "bar",
         "x": [
          "워너브러더스 코리아(주)"
         ],
         "xaxis": "x",
         "y": [
          61269783831
         ],
         "yaxis": "y"
        }
       ],
       "layout": {
        "barmode": "relative",
        "legend": {
         "title": {
          "text": "only_gener"
         },
         "tracegroupgap": 0
        },
        "template": {
         "data": {
          "bar": [
           {
            "error_x": {
             "color": "#2a3f5f"
            },
            "error_y": {
             "color": "#2a3f5f"
            },
            "marker": {
             "line": {
              "color": "#E5ECF6",
              "width": 0.5
             },
             "pattern": {
              "fillmode": "overlay",
              "size": 10,
              "solidity": 0.2
             }
            },
            "type": "bar"
           }
          ],
          "barpolar": [
           {
            "marker": {
             "line": {
              "color": "#E5ECF6",
              "width": 0.5
             },
             "pattern": {
              "fillmode": "overlay",
              "size": 10,
              "solidity": 0.2
             }
            },
            "type": "barpolar"
           }
          ],
          "carpet": [
           {
            "aaxis": {
             "endlinecolor": "#2a3f5f",
             "gridcolor": "white",
             "linecolor": "white",
             "minorgridcolor": "white",
             "startlinecolor": "#2a3f5f"
            },
            "baxis": {
             "endlinecolor": "#2a3f5f",
             "gridcolor": "white",
             "linecolor": "white",
             "minorgridcolor": "white",
             "startlinecolor": "#2a3f5f"
            },
            "type": "carpet"
           }
          ],
          "choropleth": [
           {
            "colorbar": {
             "outlinewidth": 0,
             "ticks": ""
            },
            "type": "choropleth"
           }
          ],
          "contour": [
           {
            "colorbar": {
             "outlinewidth": 0,
             "ticks": ""
            },
            "colorscale": [
             [
              0,
              "#0d0887"
             ],
             [
              0.1111111111111111,
              "#46039f"
             ],
             [
              0.2222222222222222,
              "#7201a8"
             ],
             [
              0.3333333333333333,
              "#9c179e"
             ],
             [
              0.4444444444444444,
              "#bd3786"
             ],
             [
              0.5555555555555556,
              "#d8576b"
             ],
             [
              0.6666666666666666,
              "#ed7953"
             ],
             [
              0.7777777777777778,
              "#fb9f3a"
             ],
             [
              0.8888888888888888,
              "#fdca26"
             ],
             [
              1,
              "#f0f921"
             ]
            ],
            "type": "contour"
           }
          ],
          "contourcarpet": [
           {
            "colorbar": {
             "outlinewidth": 0,
             "ticks": ""
            },
            "type": "contourcarpet"
           }
          ],
          "heatmap": [
           {
            "colorbar": {
             "outlinewidth": 0,
             "ticks": ""
            },
            "colorscale": [
             [
              0,
              "#0d0887"
             ],
             [
              0.1111111111111111,
              "#46039f"
             ],
             [
              0.2222222222222222,
              "#7201a8"
             ],
             [
              0.3333333333333333,
              "#9c179e"
             ],
             [
              0.4444444444444444,
              "#bd3786"
             ],
             [
              0.5555555555555556,
              "#d8576b"
             ],
             [
              0.6666666666666666,
              "#ed7953"
             ],
             [
              0.7777777777777778,
              "#fb9f3a"
             ],
             [
              0.8888888888888888,
              "#fdca26"
             ],
             [
              1,
              "#f0f921"
             ]
            ],
            "type": "heatmap"
           }
          ],
          "heatmapgl": [
           {
            "colorbar": {
             "outlinewidth": 0,
             "ticks": ""
            },
            "colorscale": [
             [
              0,
              "#0d0887"
             ],
             [
              0.1111111111111111,
              "#46039f"
             ],
             [
              0.2222222222222222,
              "#7201a8"
             ],
             [
              0.3333333333333333,
              "#9c179e"
             ],
             [
              0.4444444444444444,
              "#bd3786"
             ],
             [
              0.5555555555555556,
              "#d8576b"
             ],
             [
              0.6666666666666666,
              "#ed7953"
             ],
             [
              0.7777777777777778,
              "#fb9f3a"
             ],
             [
              0.8888888888888888,
              "#fdca26"
             ],
             [
              1,
              "#f0f921"
             ]
            ],
            "type": "heatmapgl"
           }
          ],
          "histogram": [
           {
            "marker": {
             "pattern": {
              "fillmode": "overlay",
              "size": 10,
              "solidity": 0.2
             }
            },
            "type": "histogram"
           }
          ],
          "histogram2d": [
           {
            "colorbar": {
             "outlinewidth": 0,
             "ticks": ""
            },
            "colorscale": [
             [
              0,
              "#0d0887"
             ],
             [
              0.1111111111111111,
              "#46039f"
             ],
             [
              0.2222222222222222,
              "#7201a8"
             ],
             [
              0.3333333333333333,
              "#9c179e"
             ],
             [
              0.4444444444444444,
              "#bd3786"
             ],
             [
              0.5555555555555556,
              "#d8576b"
             ],
             [
              0.6666666666666666,
              "#ed7953"
             ],
             [
              0.7777777777777778,
              "#fb9f3a"
             ],
             [
              0.8888888888888888,
              "#fdca26"
             ],
             [
              1,
              "#f0f921"
             ]
            ],
            "type": "histogram2d"
           }
          ],
          "histogram2dcontour": [
           {
            "colorbar": {
             "outlinewidth": 0,
             "ticks": ""
            },
            "colorscale": [
             [
              0,
              "#0d0887"
             ],
             [
              0.1111111111111111,
              "#46039f"
             ],
             [
              0.2222222222222222,
              "#7201a8"
             ],
             [
              0.3333333333333333,
              "#9c179e"
             ],
             [
              0.4444444444444444,
              "#bd3786"
             ],
             [
              0.5555555555555556,
              "#d8576b"
             ],
             [
              0.6666666666666666,
              "#ed7953"
             ],
             [
              0.7777777777777778,
              "#fb9f3a"
             ],
             [
              0.8888888888888888,
              "#fdca26"
             ],
             [
              1,
              "#f0f921"
             ]
            ],
            "type": "histogram2dcontour"
           }
          ],
          "mesh3d": [
           {
            "colorbar": {
             "outlinewidth": 0,
             "ticks": ""
            },
            "type": "mesh3d"
           }
          ],
          "parcoords": [
           {
            "line": {
             "colorbar": {
              "outlinewidth": 0,
              "ticks": ""
             }
            },
            "type": "parcoords"
           }
          ],
          "pie": [
           {
            "automargin": true,
            "type": "pie"
           }
          ],
          "scatter": [
           {
            "fillpattern": {
             "fillmode": "overlay",
             "size": 10,
             "solidity": 0.2
            },
            "type": "scatter"
           }
          ],
          "scatter3d": [
           {
            "line": {
             "colorbar": {
              "outlinewidth": 0,
              "ticks": ""
             }
            },
            "marker": {
             "colorbar": {
              "outlinewidth": 0,
              "ticks": ""
             }
            },
            "type": "scatter3d"
           }
          ],
          "scattercarpet": [
           {
            "marker": {
             "colorbar": {
              "outlinewidth": 0,
              "ticks": ""
             }
            },
            "type": "scattercarpet"
           }
          ],
          "scattergeo": [
           {
            "marker": {
             "colorbar": {
              "outlinewidth": 0,
              "ticks": ""
             }
            },
            "type": "scattergeo"
           }
          ],
          "scattergl": [
           {
            "marker": {
             "colorbar": {
              "outlinewidth": 0,
              "ticks": ""
             }
            },
            "type": "scattergl"
           }
          ],
          "scattermapbox": [
           {
            "marker": {
             "colorbar": {
              "outlinewidth": 0,
              "ticks": ""
             }
            },
            "type": "scattermapbox"
           }
          ],
          "scatterpolar": [
           {
            "marker": {
             "colorbar": {
              "outlinewidth": 0,
              "ticks": ""
             }
            },
            "type": "scatterpolar"
           }
          ],
          "scatterpolargl": [
           {
            "marker": {
             "colorbar": {
              "outlinewidth": 0,
              "ticks": ""
             }
            },
            "type": "scatterpolargl"
           }
          ],
          "scatterternary": [
           {
            "marker": {
             "colorbar": {
              "outlinewidth": 0,
              "ticks": ""
             }
            },
            "type": "scatterternary"
           }
          ],
          "surface": [
           {
            "colorbar": {
             "outlinewidth": 0,
             "ticks": ""
            },
            "colorscale": [
             [
              0,
              "#0d0887"
             ],
             [
              0.1111111111111111,
              "#46039f"
             ],
             [
              0.2222222222222222,
              "#7201a8"
             ],
             [
              0.3333333333333333,
              "#9c179e"
             ],
             [
              0.4444444444444444,
              "#bd3786"
             ],
             [
              0.5555555555555556,
              "#d8576b"
             ],
             [
              0.6666666666666666,
              "#ed7953"
             ],
             [
              0.7777777777777778,
              "#fb9f3a"
             ],
             [
              0.8888888888888888,
              "#fdca26"
             ],
             [
              1,
              "#f0f921"
             ]
            ],
            "type": "surface"
           }
          ],
          "table": [
           {
            "cells": {
             "fill": {
              "color": "#EBF0F8"
             },
             "line": {
              "color": "white"
             }
            },
            "header": {
             "fill": {
              "color": "#C8D4E3"
             },
             "line": {
              "color": "white"
             }
            },
            "type": "table"
           }
          ]
         },
         "layout": {
          "annotationdefaults": {
           "arrowcolor": "#2a3f5f",
           "arrowhead": 0,
           "arrowwidth": 1
          },
          "autotypenumbers": "strict",
          "coloraxis": {
           "colorbar": {
            "outlinewidth": 0,
            "ticks": ""
           }
          },
          "colorscale": {
           "diverging": [
            [
             0,
             "#8e0152"
            ],
            [
             0.1,
             "#c51b7d"
            ],
            [
             0.2,
             "#de77ae"
            ],
            [
             0.3,
             "#f1b6da"
            ],
            [
             0.4,
             "#fde0ef"
            ],
            [
             0.5,
             "#f7f7f7"
            ],
            [
             0.6,
             "#e6f5d0"
            ],
            [
             0.7,
             "#b8e186"
            ],
            [
             0.8,
             "#7fbc41"
            ],
            [
             0.9,
             "#4d9221"
            ],
            [
             1,
             "#276419"
            ]
           ],
           "sequential": [
            [
             0,
             "#0d0887"
            ],
            [
             0.1111111111111111,
             "#46039f"
            ],
            [
             0.2222222222222222,
             "#7201a8"
            ],
            [
             0.3333333333333333,
             "#9c179e"
            ],
            [
             0.4444444444444444,
             "#bd3786"
            ],
            [
             0.5555555555555556,
             "#d8576b"
            ],
            [
             0.6666666666666666,
             "#ed7953"
            ],
            [
             0.7777777777777778,
             "#fb9f3a"
            ],
            [
             0.8888888888888888,
             "#fdca26"
            ],
            [
             1,
             "#f0f921"
            ]
           ],
           "sequentialminus": [
            [
             0,
             "#0d0887"
            ],
            [
             0.1111111111111111,
             "#46039f"
            ],
            [
             0.2222222222222222,
             "#7201a8"
            ],
            [
             0.3333333333333333,
             "#9c179e"
            ],
            [
             0.4444444444444444,
             "#bd3786"
            ],
            [
             0.5555555555555556,
             "#d8576b"
            ],
            [
             0.6666666666666666,
             "#ed7953"
            ],
            [
             0.7777777777777778,
             "#fb9f3a"
            ],
            [
             0.8888888888888888,
             "#fdca26"
            ],
            [
             1,
             "#f0f921"
            ]
           ]
          },
          "colorway": [
           "#636efa",
           "#EF553B",
           "#00cc96",
           "#ab63fa",
           "#FFA15A",
           "#19d3f3",
           "#FF6692",
           "#B6E880",
           "#FF97FF",
           "#FECB52"
          ],
          "font": {
           "color": "#2a3f5f"
          },
          "geo": {
           "bgcolor": "white",
           "lakecolor": "white",
           "landcolor": "#E5ECF6",
           "showlakes": true,
           "showland": true,
           "subunitcolor": "white"
          },
          "hoverlabel": {
           "align": "left"
          },
          "hovermode": "closest",
          "mapbox": {
           "style": "light"
          },
          "paper_bgcolor": "white",
          "plot_bgcolor": "#E5ECF6",
          "polar": {
           "angularaxis": {
            "gridcolor": "white",
            "linecolor": "white",
            "ticks": ""
           },
           "bgcolor": "#E5ECF6",
           "radialaxis": {
            "gridcolor": "white",
            "linecolor": "white",
            "ticks": ""
           }
          },
          "scene": {
           "xaxis": {
            "backgroundcolor": "#E5ECF6",
            "gridcolor": "white",
            "gridwidth": 2,
            "linecolor": "white",
            "showbackground": true,
            "ticks": "",
            "zerolinecolor": "white"
           },
           "yaxis": {
            "backgroundcolor": "#E5ECF6",
            "gridcolor": "white",
            "gridwidth": 2,
            "linecolor": "white",
            "showbackground": true,
            "ticks": "",
            "zerolinecolor": "white"
           },
           "zaxis": {
            "backgroundcolor": "#E5ECF6",
            "gridcolor": "white",
            "gridwidth": 2,
            "linecolor": "white",
            "showbackground": true,
            "ticks": "",
            "zerolinecolor": "white"
           }
          },
          "shapedefaults": {
           "line": {
            "color": "#2a3f5f"
           }
          },
          "ternary": {
           "aaxis": {
            "gridcolor": "white",
            "linecolor": "white",
            "ticks": ""
           },
           "baxis": {
            "gridcolor": "white",
            "linecolor": "white",
            "ticks": ""
           },
           "bgcolor": "#E5ECF6",
           "caxis": {
            "gridcolor": "white",
            "linecolor": "white",
            "ticks": ""
           }
          },
          "title": {
           "x": 0.05
          },
          "xaxis": {
           "automargin": true,
           "gridcolor": "white",
           "linecolor": "white",
           "ticks": "",
           "title": {
            "standoff": 15
           },
           "zerolinecolor": "white",
           "zerolinewidth": 2
          },
          "yaxis": {
           "automargin": true,
           "gridcolor": "white",
           "linecolor": "white",
           "ticks": "",
           "title": {
            "standoff": 15
           },
           "zerolinecolor": "white",
           "zerolinewidth": 2
          }
         }
        },
        "title": {
         "text": "배급사별 가장 많은 매출을 올린 영화의 장르 (상위 10개)"
        },
        "xaxis": {
         "anchor": "y",
         "domain": [
          0,
          1
         ],
         "title": {
          "text": "배급사"
         }
        },
        "yaxis": {
         "anchor": "x",
         "domain": [
          0,
          1
         ],
         "title": {
          "text": "매출액"
         }
        }
       }
      }
     },
     "metadata": {},
     "output_type": "display_data"
    },
    {
     "data": {
      "application/vnd.plotly.v1+json": {
       "config": {
        "plotlyServerURL": "https://plot.ly"
       },
       "data": [
        {
         "alignmentgroup": "True",
         "hovertemplate": "배급사=(주)씨제이이엔엠<br>only_gener=%{x}<br>매출액=%{y}<extra></extra>",
         "legendgroup": "(주)씨제이이엔엠",
         "marker": {
          "color": "#636efa",
          "pattern": {
           "shape": ""
          }
         },
         "name": "(주)씨제이이엔엠",
         "offsetgroup": "(주)씨제이이엔엠",
         "orientation": "v",
         "showlegend": true,
         "textposition": "auto",
         "type": "bar",
         "x": [
          " 코미디 ",
          " 사극, 액션 ",
          " 액션, 드라마 "
         ],
         "xaxis": "x",
         "y": [
          139647979516,
          135748398910,
          105168155250
         ],
         "yaxis": "y"
        },
        {
         "alignmentgroup": "True",
         "hovertemplate": "배급사=주식회사 에이비오엔터테인먼트,플러스엠 엔터테인먼트<br>only_gener=%{x}<br>매출액=%{y}<extra></extra>",
         "legendgroup": "주식회사 에이비오엔터테인먼트,플러스엠 엔터테인먼트",
         "marker": {
          "color": "#EF553B",
          "pattern": {
           "shape": ""
          }
         },
         "name": "주식회사 에이비오엔터테인먼트,플러스엠 엔터테인먼트",
         "offsetgroup": "주식회사 에이비오엔터테인먼트,플러스엠 엔터테인먼트",
         "orientation": "v",
         "showlegend": true,
         "textposition": "auto",
         "type": "bar",
         "x": [
          " 범죄, 액션 "
         ],
         "xaxis": "x",
         "y": [
          131295679478
         ],
         "yaxis": "y"
        },
        {
         "alignmentgroup": "True",
         "hovertemplate": "배급사=플러스엠 엔터테인먼트<br>only_gener=%{x}<br>매출액=%{y}<extra></extra>",
         "legendgroup": "플러스엠 엔터테인먼트",
         "marker": {
          "color": "#00cc96",
          "pattern": {
           "shape": ""
          }
         },
         "name": "플러스엠 엔터테인먼트",
         "offsetgroup": "플러스엠 엔터테인먼트",
         "orientation": "v",
         "showlegend": true,
         "textposition": "auto",
         "type": "bar",
         "x": [
          " 드라마 "
         ],
         "xaxis": "x",
         "y": [
          127924472553
         ],
         "yaxis": "y"
        },
        {
         "alignmentgroup": "True",
         "hovertemplate": "배급사=롯데쇼핑㈜롯데엔터테인먼트<br>only_gener=%{x}<br>매출액=%{y}<extra></extra>",
         "legendgroup": "롯데쇼핑㈜롯데엔터테인먼트",
         "marker": {
          "color": "#ab63fa",
          "pattern": {
           "shape": ""
          }
         },
         "name": "롯데쇼핑㈜롯데엔터테인먼트",
         "offsetgroup": "롯데쇼핑㈜롯데엔터테인먼트",
         "orientation": "v",
         "showlegend": true,
         "textposition": "auto",
         "type": "bar",
         "x": [
          " 판타지, 드라마 "
         ],
         "xaxis": "x",
         "y": [
          115698654137
         ],
         "yaxis": "y"
        },
        {
         "alignmentgroup": "True",
         "hovertemplate": "배급사=(주)쇼박스<br>only_gener=%{x}<br>매출액=%{y}<extra></extra>",
         "legendgroup": "(주)쇼박스",
         "marker": {
          "color": "#FFA15A",
          "pattern": {
           "shape": ""
          }
         },
         "name": "(주)쇼박스",
         "offsetgroup": "(주)쇼박스",
         "orientation": "v",
         "showlegend": true,
         "textposition": "auto",
         "type": "bar",
         "x": [
          " 미스터리, 공포(호러) ",
          " 액션, 범죄 "
         ],
         "xaxis": "x",
         "y": [
          105793676208,
          93665568500
         ],
         "yaxis": "y"
        },
        {
         "alignmentgroup": "True",
         "hovertemplate": "배급사=(주)넥스트엔터테인먼트월드(NEW)<br>only_gener=%{x}<br>매출액=%{y}<extra></extra>",
         "legendgroup": "(주)넥스트엔터테인먼트월드(NEW)",
         "marker": {
          "color": "#19d3f3",
          "pattern": {
           "shape": ""
          }
         },
         "name": "(주)넥스트엔터테인먼트월드(NEW)",
         "offsetgroup": "(주)넥스트엔터테인먼트월드(NEW)",
         "orientation": "v",
         "showlegend": true,
         "textposition": "auto",
         "type": "bar",
         "x": [
          " 액션, 스릴러 ",
          " 코미디, 드라마 "
         ],
         "xaxis": "x",
         "y": [
          93178283048,
          91431914670
         ],
         "yaxis": "y"
        }
       ],
       "layout": {
        "barmode": "relative",
        "legend": {
         "title": {
          "text": "배급사"
         },
         "tracegroupgap": 0
        },
        "template": {
         "data": {
          "bar": [
           {
            "error_x": {
             "color": "#2a3f5f"
            },
            "error_y": {
             "color": "#2a3f5f"
            },
            "marker": {
             "line": {
              "color": "#E5ECF6",
              "width": 0.5
             },
             "pattern": {
              "fillmode": "overlay",
              "size": 10,
              "solidity": 0.2
             }
            },
            "type": "bar"
           }
          ],
          "barpolar": [
           {
            "marker": {
             "line": {
              "color": "#E5ECF6",
              "width": 0.5
             },
             "pattern": {
              "fillmode": "overlay",
              "size": 10,
              "solidity": 0.2
             }
            },
            "type": "barpolar"
           }
          ],
          "carpet": [
           {
            "aaxis": {
             "endlinecolor": "#2a3f5f",
             "gridcolor": "white",
             "linecolor": "white",
             "minorgridcolor": "white",
             "startlinecolor": "#2a3f5f"
            },
            "baxis": {
             "endlinecolor": "#2a3f5f",
             "gridcolor": "white",
             "linecolor": "white",
             "minorgridcolor": "white",
             "startlinecolor": "#2a3f5f"
            },
            "type": "carpet"
           }
          ],
          "choropleth": [
           {
            "colorbar": {
             "outlinewidth": 0,
             "ticks": ""
            },
            "type": "choropleth"
           }
          ],
          "contour": [
           {
            "colorbar": {
             "outlinewidth": 0,
             "ticks": ""
            },
            "colorscale": [
             [
              0,
              "#0d0887"
             ],
             [
              0.1111111111111111,
              "#46039f"
             ],
             [
              0.2222222222222222,
              "#7201a8"
             ],
             [
              0.3333333333333333,
              "#9c179e"
             ],
             [
              0.4444444444444444,
              "#bd3786"
             ],
             [
              0.5555555555555556,
              "#d8576b"
             ],
             [
              0.6666666666666666,
              "#ed7953"
             ],
             [
              0.7777777777777778,
              "#fb9f3a"
             ],
             [
              0.8888888888888888,
              "#fdca26"
             ],
             [
              1,
              "#f0f921"
             ]
            ],
            "type": "contour"
           }
          ],
          "contourcarpet": [
           {
            "colorbar": {
             "outlinewidth": 0,
             "ticks": ""
            },
            "type": "contourcarpet"
           }
          ],
          "heatmap": [
           {
            "colorbar": {
             "outlinewidth": 0,
             "ticks": ""
            },
            "colorscale": [
             [
              0,
              "#0d0887"
             ],
             [
              0.1111111111111111,
              "#46039f"
             ],
             [
              0.2222222222222222,
              "#7201a8"
             ],
             [
              0.3333333333333333,
              "#9c179e"
             ],
             [
              0.4444444444444444,
              "#bd3786"
             ],
             [
              0.5555555555555556,
              "#d8576b"
             ],
             [
              0.6666666666666666,
              "#ed7953"
             ],
             [
              0.7777777777777778,
              "#fb9f3a"
             ],
             [
              0.8888888888888888,
              "#fdca26"
             ],
             [
              1,
              "#f0f921"
             ]
            ],
            "type": "heatmap"
           }
          ],
          "heatmapgl": [
           {
            "colorbar": {
             "outlinewidth": 0,
             "ticks": ""
            },
            "colorscale": [
             [
              0,
              "#0d0887"
             ],
             [
              0.1111111111111111,
              "#46039f"
             ],
             [
              0.2222222222222222,
              "#7201a8"
             ],
             [
              0.3333333333333333,
              "#9c179e"
             ],
             [
              0.4444444444444444,
              "#bd3786"
             ],
             [
              0.5555555555555556,
              "#d8576b"
             ],
             [
              0.6666666666666666,
              "#ed7953"
             ],
             [
              0.7777777777777778,
              "#fb9f3a"
             ],
             [
              0.8888888888888888,
              "#fdca26"
             ],
             [
              1,
              "#f0f921"
             ]
            ],
            "type": "heatmapgl"
           }
          ],
          "histogram": [
           {
            "marker": {
             "pattern": {
              "fillmode": "overlay",
              "size": 10,
              "solidity": 0.2
             }
            },
            "type": "histogram"
           }
          ],
          "histogram2d": [
           {
            "colorbar": {
             "outlinewidth": 0,
             "ticks": ""
            },
            "colorscale": [
             [
              0,
              "#0d0887"
             ],
             [
              0.1111111111111111,
              "#46039f"
             ],
             [
              0.2222222222222222,
              "#7201a8"
             ],
             [
              0.3333333333333333,
              "#9c179e"
             ],
             [
              0.4444444444444444,
              "#bd3786"
             ],
             [
              0.5555555555555556,
              "#d8576b"
             ],
             [
              0.6666666666666666,
              "#ed7953"
             ],
             [
              0.7777777777777778,
              "#fb9f3a"
             ],
             [
              0.8888888888888888,
              "#fdca26"
             ],
             [
              1,
              "#f0f921"
             ]
            ],
            "type": "histogram2d"
           }
          ],
          "histogram2dcontour": [
           {
            "colorbar": {
             "outlinewidth": 0,
             "ticks": ""
            },
            "colorscale": [
             [
              0,
              "#0d0887"
             ],
             [
              0.1111111111111111,
              "#46039f"
             ],
             [
              0.2222222222222222,
              "#7201a8"
             ],
             [
              0.3333333333333333,
              "#9c179e"
             ],
             [
              0.4444444444444444,
              "#bd3786"
             ],
             [
              0.5555555555555556,
              "#d8576b"
             ],
             [
              0.6666666666666666,
              "#ed7953"
             ],
             [
              0.7777777777777778,
              "#fb9f3a"
             ],
             [
              0.8888888888888888,
              "#fdca26"
             ],
             [
              1,
              "#f0f921"
             ]
            ],
            "type": "histogram2dcontour"
           }
          ],
          "mesh3d": [
           {
            "colorbar": {
             "outlinewidth": 0,
             "ticks": ""
            },
            "type": "mesh3d"
           }
          ],
          "parcoords": [
           {
            "line": {
             "colorbar": {
              "outlinewidth": 0,
              "ticks": ""
             }
            },
            "type": "parcoords"
           }
          ],
          "pie": [
           {
            "automargin": true,
            "type": "pie"
           }
          ],
          "scatter": [
           {
            "fillpattern": {
             "fillmode": "overlay",
             "size": 10,
             "solidity": 0.2
            },
            "type": "scatter"
           }
          ],
          "scatter3d": [
           {
            "line": {
             "colorbar": {
              "outlinewidth": 0,
              "ticks": ""
             }
            },
            "marker": {
             "colorbar": {
              "outlinewidth": 0,
              "ticks": ""
             }
            },
            "type": "scatter3d"
           }
          ],
          "scattercarpet": [
           {
            "marker": {
             "colorbar": {
              "outlinewidth": 0,
              "ticks": ""
             }
            },
            "type": "scattercarpet"
           }
          ],
          "scattergeo": [
           {
            "marker": {
             "colorbar": {
              "outlinewidth": 0,
              "ticks": ""
             }
            },
            "type": "scattergeo"
           }
          ],
          "scattergl": [
           {
            "marker": {
             "colorbar": {
              "outlinewidth": 0,
              "ticks": ""
             }
            },
            "type": "scattergl"
           }
          ],
          "scattermapbox": [
           {
            "marker": {
             "colorbar": {
              "outlinewidth": 0,
              "ticks": ""
             }
            },
            "type": "scattermapbox"
           }
          ],
          "scatterpolar": [
           {
            "marker": {
             "colorbar": {
              "outlinewidth": 0,
              "ticks": ""
             }
            },
            "type": "scatterpolar"
           }
          ],
          "scatterpolargl": [
           {
            "marker": {
             "colorbar": {
              "outlinewidth": 0,
              "ticks": ""
             }
            },
            "type": "scatterpolargl"
           }
          ],
          "scatterternary": [
           {
            "marker": {
             "colorbar": {
              "outlinewidth": 0,
              "ticks": ""
             }
            },
            "type": "scatterternary"
           }
          ],
          "surface": [
           {
            "colorbar": {
             "outlinewidth": 0,
             "ticks": ""
            },
            "colorscale": [
             [
              0,
              "#0d0887"
             ],
             [
              0.1111111111111111,
              "#46039f"
             ],
             [
              0.2222222222222222,
              "#7201a8"
             ],
             [
              0.3333333333333333,
              "#9c179e"
             ],
             [
              0.4444444444444444,
              "#bd3786"
             ],
             [
              0.5555555555555556,
              "#d8576b"
             ],
             [
              0.6666666666666666,
              "#ed7953"
             ],
             [
              0.7777777777777778,
              "#fb9f3a"
             ],
             [
              0.8888888888888888,
              "#fdca26"
             ],
             [
              1,
              "#f0f921"
             ]
            ],
            "type": "surface"
           }
          ],
          "table": [
           {
            "cells": {
             "fill": {
              "color": "#EBF0F8"
             },
             "line": {
              "color": "white"
             }
            },
            "header": {
             "fill": {
              "color": "#C8D4E3"
             },
             "line": {
              "color": "white"
             }
            },
            "type": "table"
           }
          ]
         },
         "layout": {
          "annotationdefaults": {
           "arrowcolor": "#2a3f5f",
           "arrowhead": 0,
           "arrowwidth": 1
          },
          "autotypenumbers": "strict",
          "coloraxis": {
           "colorbar": {
            "outlinewidth": 0,
            "ticks": ""
           }
          },
          "colorscale": {
           "diverging": [
            [
             0,
             "#8e0152"
            ],
            [
             0.1,
             "#c51b7d"
            ],
            [
             0.2,
             "#de77ae"
            ],
            [
             0.3,
             "#f1b6da"
            ],
            [
             0.4,
             "#fde0ef"
            ],
            [
             0.5,
             "#f7f7f7"
            ],
            [
             0.6,
             "#e6f5d0"
            ],
            [
             0.7,
             "#b8e186"
            ],
            [
             0.8,
             "#7fbc41"
            ],
            [
             0.9,
             "#4d9221"
            ],
            [
             1,
             "#276419"
            ]
           ],
           "sequential": [
            [
             0,
             "#0d0887"
            ],
            [
             0.1111111111111111,
             "#46039f"
            ],
            [
             0.2222222222222222,
             "#7201a8"
            ],
            [
             0.3333333333333333,
             "#9c179e"
            ],
            [
             0.4444444444444444,
             "#bd3786"
            ],
            [
             0.5555555555555556,
             "#d8576b"
            ],
            [
             0.6666666666666666,
             "#ed7953"
            ],
            [
             0.7777777777777778,
             "#fb9f3a"
            ],
            [
             0.8888888888888888,
             "#fdca26"
            ],
            [
             1,
             "#f0f921"
            ]
           ],
           "sequentialminus": [
            [
             0,
             "#0d0887"
            ],
            [
             0.1111111111111111,
             "#46039f"
            ],
            [
             0.2222222222222222,
             "#7201a8"
            ],
            [
             0.3333333333333333,
             "#9c179e"
            ],
            [
             0.4444444444444444,
             "#bd3786"
            ],
            [
             0.5555555555555556,
             "#d8576b"
            ],
            [
             0.6666666666666666,
             "#ed7953"
            ],
            [
             0.7777777777777778,
             "#fb9f3a"
            ],
            [
             0.8888888888888888,
             "#fdca26"
            ],
            [
             1,
             "#f0f921"
            ]
           ]
          },
          "colorway": [
           "#636efa",
           "#EF553B",
           "#00cc96",
           "#ab63fa",
           "#FFA15A",
           "#19d3f3",
           "#FF6692",
           "#B6E880",
           "#FF97FF",
           "#FECB52"
          ],
          "font": {
           "color": "#2a3f5f"
          },
          "geo": {
           "bgcolor": "white",
           "lakecolor": "white",
           "landcolor": "#E5ECF6",
           "showlakes": true,
           "showland": true,
           "subunitcolor": "white"
          },
          "hoverlabel": {
           "align": "left"
          },
          "hovermode": "closest",
          "mapbox": {
           "style": "light"
          },
          "paper_bgcolor": "white",
          "plot_bgcolor": "#E5ECF6",
          "polar": {
           "angularaxis": {
            "gridcolor": "white",
            "linecolor": "white",
            "ticks": ""
           },
           "bgcolor": "#E5ECF6",
           "radialaxis": {
            "gridcolor": "white",
            "linecolor": "white",
            "ticks": ""
           }
          },
          "scene": {
           "xaxis": {
            "backgroundcolor": "#E5ECF6",
            "gridcolor": "white",
            "gridwidth": 2,
            "linecolor": "white",
            "showbackground": true,
            "ticks": "",
            "zerolinecolor": "white"
           },
           "yaxis": {
            "backgroundcolor": "#E5ECF6",
            "gridcolor": "white",
            "gridwidth": 2,
            "linecolor": "white",
            "showbackground": true,
            "ticks": "",
            "zerolinecolor": "white"
           },
           "zaxis": {
            "backgroundcolor": "#E5ECF6",
            "gridcolor": "white",
            "gridwidth": 2,
            "linecolor": "white",
            "showbackground": true,
            "ticks": "",
            "zerolinecolor": "white"
           }
          },
          "shapedefaults": {
           "line": {
            "color": "#2a3f5f"
           }
          },
          "ternary": {
           "aaxis": {
            "gridcolor": "white",
            "linecolor": "white",
            "ticks": ""
           },
           "baxis": {
            "gridcolor": "white",
            "linecolor": "white",
            "ticks": ""
           },
           "bgcolor": "#E5ECF6",
           "caxis": {
            "gridcolor": "white",
            "linecolor": "white",
            "ticks": ""
           }
          },
          "title": {
           "x": 0.05
          },
          "xaxis": {
           "automargin": true,
           "gridcolor": "white",
           "linecolor": "white",
           "ticks": "",
           "title": {
            "standoff": 15
           },
           "zerolinecolor": "white",
           "zerolinewidth": 2
          },
          "yaxis": {
           "automargin": true,
           "gridcolor": "white",
           "linecolor": "white",
           "ticks": "",
           "title": {
            "standoff": 15
           },
           "zerolinecolor": "white",
           "zerolinewidth": 2
          }
         }
        },
        "title": {
         "text": "장르별 가장 많은 매출을 기록한 배급사 (상위 10개)"
        },
        "xaxis": {
         "anchor": "y",
         "domain": [
          0,
          1
         ],
         "title": {
          "text": "only_gener"
         }
        },
        "yaxis": {
         "anchor": "x",
         "domain": [
          0,
          1
         ],
         "title": {
          "text": "매출액"
         }
        }
       }
      }
     },
     "metadata": {},
     "output_type": "display_data"
    }
   ],
   "source": [
    "# 배급사별 가장 많은 매출을 올린 영화 찾기\n",
    "top_movies = df.loc[df.groupby('배급사')['매출액'].idxmax()]\n",
    "\n",
    "# 매출액을 기준으로 내림차순으로 정렬하고 상위 10개만 선택\n",
    "top_movies = top_movies.sort_values(by='매출액', ascending=False).head(10)\n",
    "\n",
    "# 시각화\n",
    "fig = px.bar(top_movies, x='배급사', y='매출액', color='only_gener', title='배급사별 가장 많은 매출을 올린 영화의 장르 (상위 10개)')\n",
    "fig.show()\n",
    "\n",
    "# 장르별 가장 많은 매출을 기록한 영화 찾기\n",
    "top_movies_by_genre = df.loc[df.groupby('only_gener')['매출액'].idxmax()]\n",
    "\n",
    "# 매출액을 기준으로 내림차순으로 정렬하고 상위 10개만 선택\n",
    "top_movies_by_genre = top_movies_by_genre.sort_values(by='매출액', ascending=False).head(10)\n",
    "\n",
    "# 시각화\n",
    "fig = px.bar(top_movies_by_genre, x='only_gener', y='매출액', color='배급사', title='장르별 가장 많은 매출을 기록한 배급사 (상위 10개)')\n",
    "fig.show()"
   ]
  },
  {
   "cell_type": "markdown",
   "metadata": {},
   "source": [
    "# 재호님 코드"
   ]
  },
  {
   "cell_type": "code",
   "execution_count": 16,
   "metadata": {},
   "outputs": [
    {
     "data": {
      "application/vnd.plotly.v1+json": {
       "config": {
        "plotlyServerURL": "https://plot.ly"
       },
       "data": [
        {
         "alignmentgroup": "True",
         "hovertemplate": "Actor=김수안<br>Genre=%{x}<br>Count=%{y}<extra></extra>",
         "legendgroup": "김수안",
         "marker": {
          "color": "#636efa",
          "pattern": {
           "shape": ""
          }
         },
         "name": "김수안",
         "offsetgroup": "김수안",
         "orientation": "v",
         "showlegend": true,
         "textposition": "auto",
         "type": "bar",
         "x": [
          "드라마"
         ],
         "xaxis": "x",
         "y": [
          3
         ],
         "yaxis": "y"
        },
        {
         "alignmentgroup": "True",
         "hovertemplate": "Actor=임원희<br>Genre=%{x}<br>Count=%{y}<extra></extra>",
         "legendgroup": "임원희",
         "marker": {
          "color": "#EF553B",
          "pattern": {
           "shape": ""
          }
         },
         "name": "임원희",
         "offsetgroup": "임원희",
         "orientation": "v",
         "showlegend": true,
         "textposition": "auto",
         "type": "bar",
         "x": [
          "드라마"
         ],
         "xaxis": "x",
         "y": [
          3
         ],
         "yaxis": "y"
        },
        {
         "alignmentgroup": "True",
         "hovertemplate": "Actor=정지훈<br>Genre=%{x}<br>Count=%{y}<extra></extra>",
         "legendgroup": "정지훈",
         "marker": {
          "color": "#00cc96",
          "pattern": {
           "shape": ""
          }
         },
         "name": "정지훈",
         "offsetgroup": "정지훈",
         "orientation": "v",
         "showlegend": true,
         "textposition": "auto",
         "type": "bar",
         "x": [
          "드라마",
          "액션",
          "판타지"
         ],
         "xaxis": "x",
         "y": [
          3,
          3,
          3
         ],
         "yaxis": "y"
        },
        {
         "alignmentgroup": "True",
         "hovertemplate": "Actor=김동욱<br>Genre=%{x}<br>Count=%{y}<extra></extra>",
         "legendgroup": "김동욱",
         "marker": {
          "color": "#ab63fa",
          "pattern": {
           "shape": ""
          }
         },
         "name": "김동욱",
         "offsetgroup": "김동욱",
         "orientation": "v",
         "showlegend": true,
         "textposition": "auto",
         "type": "bar",
         "x": [
          "드라마"
         ],
         "xaxis": "x",
         "y": [
          3
         ],
         "yaxis": "y"
        },
        {
         "alignmentgroup": "True",
         "hovertemplate": "Actor=김윤진<br>Genre=%{x}<br>Count=%{y}<extra></extra>",
         "legendgroup": "김윤진",
         "marker": {
          "color": "#FFA15A",
          "pattern": {
           "shape": ""
          }
         },
         "name": "김윤진",
         "offsetgroup": "김윤진",
         "orientation": "v",
         "showlegend": true,
         "textposition": "auto",
         "type": "bar",
         "x": [
          "드라마"
         ],
         "xaxis": "x",
         "y": [
          3
         ],
         "yaxis": "y"
        },
        {
         "alignmentgroup": "True",
         "hovertemplate": "Actor=오대환<br>Genre=%{x}<br>Count=%{y}<extra></extra>",
         "legendgroup": "오대환",
         "marker": {
          "color": "#19d3f3",
          "pattern": {
           "shape": ""
          }
         },
         "name": "오대환",
         "offsetgroup": "오대환",
         "orientation": "v",
         "showlegend": true,
         "textposition": "auto",
         "type": "bar",
         "x": [
          "드라마",
          "범죄",
          "액션"
         ],
         "xaxis": "x",
         "y": [
          3,
          3,
          4
         ],
         "yaxis": "y"
        },
        {
         "alignmentgroup": "True",
         "hovertemplate": "Actor=김시후<br>Genre=%{x}<br>Count=%{y}<extra></extra>",
         "legendgroup": "김시후",
         "marker": {
          "color": "#FF6692",
          "pattern": {
           "shape": ""
          }
         },
         "name": "김시후",
         "offsetgroup": "김시후",
         "orientation": "v",
         "showlegend": true,
         "textposition": "auto",
         "type": "bar",
         "x": [
          "드라마",
          "액션"
         ],
         "xaxis": "x",
         "y": [
          3,
          3
         ],
         "yaxis": "y"
        },
        {
         "alignmentgroup": "True",
         "hovertemplate": "Actor=박소담<br>Genre=%{x}<br>Count=%{y}<extra></extra>",
         "legendgroup": "박소담",
         "marker": {
          "color": "#B6E880",
          "pattern": {
           "shape": ""
          }
         },
         "name": "박소담",
         "offsetgroup": "박소담",
         "orientation": "v",
         "showlegend": true,
         "textposition": "auto",
         "type": "bar",
         "x": [
          "드라마"
         ],
         "xaxis": "x",
         "y": [
          3
         ],
         "yaxis": "y"
        },
        {
         "alignmentgroup": "True",
         "hovertemplate": "Actor=진경<br>Genre=%{x}<br>Count=%{y}<extra></extra>",
         "legendgroup": "진경",
         "marker": {
          "color": "#FF97FF",
          "pattern": {
           "shape": ""
          }
         },
         "name": "진경",
         "offsetgroup": "진경",
         "orientation": "v",
         "showlegend": true,
         "textposition": "auto",
         "type": "bar",
         "x": [
          "드라마",
          "액션",
          "코미디"
         ],
         "xaxis": "x",
         "y": [
          3,
          4,
          4
         ],
         "yaxis": "y"
        },
        {
         "alignmentgroup": "True",
         "hovertemplate": "Actor=서광재<br>Genre=%{x}<br>Count=%{y}<extra></extra>",
         "legendgroup": "서광재",
         "marker": {
          "color": "#FECB52",
          "pattern": {
           "shape": ""
          }
         },
         "name": "서광재",
         "offsetgroup": "서광재",
         "orientation": "v",
         "showlegend": true,
         "textposition": "auto",
         "type": "bar",
         "x": [
          "드라마"
         ],
         "xaxis": "x",
         "y": [
          3
         ],
         "yaxis": "y"
        },
        {
         "alignmentgroup": "True",
         "hovertemplate": "Actor=현봉식<br>Genre=%{x}<br>Count=%{y}<extra></extra>",
         "legendgroup": "현봉식",
         "marker": {
          "color": "#636efa",
          "pattern": {
           "shape": ""
          }
         },
         "name": "현봉식",
         "offsetgroup": "현봉식",
         "orientation": "v",
         "showlegend": true,
         "textposition": "auto",
         "type": "bar",
         "x": [
          "드라마"
         ],
         "xaxis": "x",
         "y": [
          3
         ],
         "yaxis": "y"
        },
        {
         "alignmentgroup": "True",
         "hovertemplate": "Actor=유성주<br>Genre=%{x}<br>Count=%{y}<extra></extra>",
         "legendgroup": "유성주",
         "marker": {
          "color": "#EF553B",
          "pattern": {
           "shape": ""
          }
         },
         "name": "유성주",
         "offsetgroup": "유성주",
         "orientation": "v",
         "showlegend": true,
         "textposition": "auto",
         "type": "bar",
         "x": [
          "드라마"
         ],
         "xaxis": "x",
         "y": [
          3
         ],
         "yaxis": "y"
        },
        {
         "alignmentgroup": "True",
         "hovertemplate": "Actor=이재응<br>Genre=%{x}<br>Count=%{y}<extra></extra>",
         "legendgroup": "이재응",
         "marker": {
          "color": "#00cc96",
          "pattern": {
           "shape": ""
          }
         },
         "name": "이재응",
         "offsetgroup": "이재응",
         "orientation": "v",
         "showlegend": true,
         "textposition": "auto",
         "type": "bar",
         "x": [
          "드라마"
         ],
         "xaxis": "x",
         "y": [
          3
         ],
         "yaxis": "y"
        },
        {
         "alignmentgroup": "True",
         "hovertemplate": "Actor=박신혜<br>Genre=%{x}<br>Count=%{y}<extra></extra>",
         "legendgroup": "박신혜",
         "marker": {
          "color": "#ab63fa",
          "pattern": {
           "shape": ""
          }
         },
         "name": "박신혜",
         "offsetgroup": "박신혜",
         "orientation": "v",
         "showlegend": true,
         "textposition": "auto",
         "type": "bar",
         "x": [
          "드라마",
          "코미디"
         ],
         "xaxis": "x",
         "y": [
          3,
          3
         ],
         "yaxis": "y"
        },
        {
         "alignmentgroup": "True",
         "hovertemplate": "Actor=박길수<br>Genre=%{x}<br>Count=%{y}<extra></extra>",
         "legendgroup": "박길수",
         "marker": {
          "color": "#FFA15A",
          "pattern": {
           "shape": ""
          }
         },
         "name": "박길수",
         "offsetgroup": "박길수",
         "orientation": "v",
         "showlegend": true,
         "textposition": "auto",
         "type": "bar",
         "x": [
          "드라마"
         ],
         "xaxis": "x",
         "y": [
          3
         ],
         "yaxis": "y"
        },
        {
         "alignmentgroup": "True",
         "hovertemplate": "Actor=심희섭<br>Genre=%{x}<br>Count=%{y}<extra></extra>",
         "legendgroup": "심희섭",
         "marker": {
          "color": "#19d3f3",
          "pattern": {
           "shape": ""
          }
         },
         "name": "심희섭",
         "offsetgroup": "심희섭",
         "orientation": "v",
         "showlegend": true,
         "textposition": "auto",
         "type": "bar",
         "x": [
          "드라마",
          "액션"
         ],
         "xaxis": "x",
         "y": [
          3,
          3
         ],
         "yaxis": "y"
        },
        {
         "alignmentgroup": "True",
         "hovertemplate": "Actor=전국향<br>Genre=%{x}<br>Count=%{y}<extra></extra>",
         "legendgroup": "전국향",
         "marker": {
          "color": "#FF6692",
          "pattern": {
           "shape": ""
          }
         },
         "name": "전국향",
         "offsetgroup": "전국향",
         "orientation": "v",
         "showlegend": true,
         "textposition": "auto",
         "type": "bar",
         "x": [
          "드라마"
         ],
         "xaxis": "x",
         "y": [
          3
         ],
         "yaxis": "y"
        },
        {
         "alignmentgroup": "True",
         "hovertemplate": "Actor=한효주<br>Genre=%{x}<br>Count=%{y}<extra></extra>",
         "legendgroup": "한효주",
         "marker": {
          "color": "#B6E880",
          "pattern": {
           "shape": ""
          }
         },
         "name": "한효주",
         "offsetgroup": "한효주",
         "orientation": "v",
         "showlegend": true,
         "textposition": "auto",
         "type": "bar",
         "x": [
          "드라마",
          "멜로/로맨스",
          "코미디"
         ],
         "xaxis": "x",
         "y": [
          3,
          4,
          3
         ],
         "yaxis": "y"
        },
        {
         "alignmentgroup": "True",
         "hovertemplate": "Actor=이정은<br>Genre=%{x}<br>Count=%{y}<extra></extra>",
         "legendgroup": "이정은",
         "marker": {
          "color": "#FF97FF",
          "pattern": {
           "shape": ""
          }
         },
         "name": "이정은",
         "offsetgroup": "이정은",
         "orientation": "v",
         "showlegend": true,
         "textposition": "auto",
         "type": "bar",
         "x": [
          "드라마"
         ],
         "xaxis": "x",
         "y": [
          3
         ],
         "yaxis": "y"
        },
        {
         "alignmentgroup": "True",
         "hovertemplate": "Actor=천보근<br>Genre=%{x}<br>Count=%{y}<extra></extra>",
         "legendgroup": "천보근",
         "marker": {
          "color": "#FECB52",
          "pattern": {
           "shape": ""
          }
         },
         "name": "천보근",
         "offsetgroup": "천보근",
         "orientation": "v",
         "showlegend": true,
         "textposition": "auto",
         "type": "bar",
         "x": [
          "드라마",
          "코미디"
         ],
         "xaxis": "x",
         "y": [
          3,
          3
         ],
         "yaxis": "y"
        },
        {
         "alignmentgroup": "True",
         "hovertemplate": "Actor=임시완<br>Genre=%{x}<br>Count=%{y}<extra></extra>",
         "legendgroup": "임시완",
         "marker": {
          "color": "#636efa",
          "pattern": {
           "shape": ""
          }
         },
         "name": "임시완",
         "offsetgroup": "임시완",
         "orientation": "v",
         "showlegend": true,
         "textposition": "auto",
         "type": "bar",
         "x": [
          "드라마"
         ],
         "xaxis": "x",
         "y": [
          3
         ],
         "yaxis": "y"
        },
        {
         "alignmentgroup": "True",
         "hovertemplate": "Actor=최우식<br>Genre=%{x}<br>Count=%{y}<extra></extra>",
         "legendgroup": "최우식",
         "marker": {
          "color": "#EF553B",
          "pattern": {
           "shape": ""
          }
         },
         "name": "최우식",
         "offsetgroup": "최우식",
         "orientation": "v",
         "showlegend": true,
         "textposition": "auto",
         "type": "bar",
         "x": [
          "드라마",
          "액션"
         ],
         "xaxis": "x",
         "y": [
          3,
          4
         ],
         "yaxis": "y"
        },
        {
         "alignmentgroup": "True",
         "hovertemplate": "Actor=박혜진<br>Genre=%{x}<br>Count=%{y}<extra></extra>",
         "legendgroup": "박혜진",
         "marker": {
          "color": "#00cc96",
          "pattern": {
           "shape": ""
          }
         },
         "name": "박혜진",
         "offsetgroup": "박혜진",
         "orientation": "v",
         "showlegend": true,
         "textposition": "auto",
         "type": "bar",
         "x": [
          "드라마"
         ],
         "xaxis": "x",
         "y": [
          3
         ],
         "yaxis": "y"
        },
        {
         "alignmentgroup": "True",
         "hovertemplate": "Actor=박성근<br>Genre=%{x}<br>Count=%{y}<extra></extra>",
         "legendgroup": "박성근",
         "marker": {
          "color": "#ab63fa",
          "pattern": {
           "shape": ""
          }
         },
         "name": "박성근",
         "offsetgroup": "박성근",
         "orientation": "v",
         "showlegend": true,
         "textposition": "auto",
         "type": "bar",
         "x": [
          "드라마"
         ],
         "xaxis": "x",
         "y": [
          3
         ],
         "yaxis": "y"
        },
        {
         "alignmentgroup": "True",
         "hovertemplate": "Actor=서현우<br>Genre=%{x}<br>Count=%{y}<extra></extra>",
         "legendgroup": "서현우",
         "marker": {
          "color": "#FFA15A",
          "pattern": {
           "shape": ""
          }
         },
         "name": "서현우",
         "offsetgroup": "서현우",
         "orientation": "v",
         "showlegend": true,
         "textposition": "auto",
         "type": "bar",
         "x": [
          "드라마"
         ],
         "xaxis": "x",
         "y": [
          3
         ],
         "yaxis": "y"
        },
        {
         "alignmentgroup": "True",
         "hovertemplate": "Actor=강신철<br>Genre=%{x}<br>Count=%{y}<extra></extra>",
         "legendgroup": "강신철",
         "marker": {
          "color": "#19d3f3",
          "pattern": {
           "shape": ""
          }
         },
         "name": "강신철",
         "offsetgroup": "강신철",
         "orientation": "v",
         "showlegend": true,
         "textposition": "auto",
         "type": "bar",
         "x": [
          "드라마"
         ],
         "xaxis": "x",
         "y": [
          3
         ],
         "yaxis": "y"
        },
        {
         "alignmentgroup": "True",
         "hovertemplate": "Actor=강혜정<br>Genre=%{x}<br>Count=%{y}<extra></extra>",
         "legendgroup": "강혜정",
         "marker": {
          "color": "#FF6692",
          "pattern": {
           "shape": ""
          }
         },
         "name": "강혜정",
         "offsetgroup": "강혜정",
         "orientation": "v",
         "showlegend": true,
         "textposition": "auto",
         "type": "bar",
         "x": [
          "드라마"
         ],
         "xaxis": "x",
         "y": [
          3
         ],
         "yaxis": "y"
        },
        {
         "alignmentgroup": "True",
         "hovertemplate": "Actor=유선<br>Genre=%{x}<br>Count=%{y}<extra></extra>",
         "legendgroup": "유선",
         "marker": {
          "color": "#B6E880",
          "pattern": {
           "shape": ""
          }
         },
         "name": "유선",
         "offsetgroup": "유선",
         "orientation": "v",
         "showlegend": true,
         "textposition": "auto",
         "type": "bar",
         "x": [
          "드라마"
         ],
         "xaxis": "x",
         "y": [
          3
         ],
         "yaxis": "y"
        },
        {
         "alignmentgroup": "True",
         "hovertemplate": "Actor=정우<br>Genre=%{x}<br>Count=%{y}<extra></extra>",
         "legendgroup": "정우",
         "marker": {
          "color": "#FF97FF",
          "pattern": {
           "shape": ""
          }
         },
         "name": "정우",
         "offsetgroup": "정우",
         "orientation": "v",
         "showlegend": true,
         "textposition": "auto",
         "type": "bar",
         "x": [
          "드라마"
         ],
         "xaxis": "x",
         "y": [
          3
         ],
         "yaxis": "y"
        },
        {
         "alignmentgroup": "True",
         "hovertemplate": "Actor=김예원<br>Genre=%{x}<br>Count=%{y}<extra></extra>",
         "legendgroup": "김예원",
         "marker": {
          "color": "#FECB52",
          "pattern": {
           "shape": ""
          }
         },
         "name": "김예원",
         "offsetgroup": "김예원",
         "orientation": "v",
         "showlegend": true,
         "textposition": "auto",
         "type": "bar",
         "x": [
          "드라마"
         ],
         "xaxis": "x",
         "y": [
          3
         ],
         "yaxis": "y"
        },
        {
         "alignmentgroup": "True",
         "hovertemplate": "Actor=이얼<br>Genre=%{x}<br>Count=%{y}<extra></extra>",
         "legendgroup": "이얼",
         "marker": {
          "color": "#636efa",
          "pattern": {
           "shape": ""
          }
         },
         "name": "이얼",
         "offsetgroup": "이얼",
         "orientation": "v",
         "showlegend": true,
         "textposition": "auto",
         "type": "bar",
         "x": [
          "드라마"
         ],
         "xaxis": "x",
         "y": [
          3
         ],
         "yaxis": "y"
        },
        {
         "alignmentgroup": "True",
         "hovertemplate": "Actor=김민재<br>Genre=%{x}<br>Count=%{y}<extra></extra>",
         "legendgroup": "김민재",
         "marker": {
          "color": "#EF553B",
          "pattern": {
           "shape": ""
          }
         },
         "name": "김민재",
         "offsetgroup": "김민재",
         "orientation": "v",
         "showlegend": true,
         "textposition": "auto",
         "type": "bar",
         "x": [
          "드라마",
          "범죄",
          "액션"
         ],
         "xaxis": "x",
         "y": [
          3,
          4,
          5
         ],
         "yaxis": "y"
        },
        {
         "alignmentgroup": "True",
         "hovertemplate": "Actor=김영웅<br>Genre=%{x}<br>Count=%{y}<extra></extra>",
         "legendgroup": "김영웅",
         "marker": {
          "color": "#00cc96",
          "pattern": {
           "shape": ""
          }
         },
         "name": "김영웅",
         "offsetgroup": "김영웅",
         "orientation": "v",
         "showlegend": true,
         "textposition": "auto",
         "type": "bar",
         "x": [
          "드라마"
         ],
         "xaxis": "x",
         "y": [
          3
         ],
         "yaxis": "y"
        },
        {
         "alignmentgroup": "True",
         "hovertemplate": "Actor=공정환<br>Genre=%{x}<br>Count=%{y}<extra></extra>",
         "legendgroup": "공정환",
         "marker": {
          "color": "#ab63fa",
          "pattern": {
           "shape": ""
          }
         },
         "name": "공정환",
         "offsetgroup": "공정환",
         "orientation": "v",
         "showlegend": true,
         "textposition": "auto",
         "type": "bar",
         "x": [
          "드라마",
          "액션"
         ],
         "xaxis": "x",
         "y": [
          3,
          4
         ],
         "yaxis": "y"
        },
        {
         "alignmentgroup": "True",
         "hovertemplate": "Actor=김태리<br>Genre=%{x}<br>Count=%{y}<extra></extra>",
         "legendgroup": "김태리",
         "marker": {
          "color": "#FFA15A",
          "pattern": {
           "shape": ""
          }
         },
         "name": "김태리",
         "offsetgroup": "김태리",
         "orientation": "v",
         "showlegend": true,
         "textposition": "auto",
         "type": "bar",
         "x": [
          "드라마"
         ],
         "xaxis": "x",
         "y": [
          3
         ],
         "yaxis": "y"
        },
        {
         "alignmentgroup": "True",
         "hovertemplate": "Actor=이엘<br>Genre=%{x}<br>Count=%{y}<extra></extra>",
         "legendgroup": "이엘",
         "marker": {
          "color": "#19d3f3",
          "pattern": {
           "shape": ""
          }
         },
         "name": "이엘",
         "offsetgroup": "이엘",
         "orientation": "v",
         "showlegend": true,
         "textposition": "auto",
         "type": "bar",
         "x": [
          "드라마",
          "범죄"
         ],
         "xaxis": "x",
         "y": [
          3,
          3
         ],
         "yaxis": "y"
        },
        {
         "alignmentgroup": "True",
         "hovertemplate": "Actor=정준호<br>Genre=%{x}<br>Count=%{y}<extra></extra>",
         "legendgroup": "정준호",
         "marker": {
          "color": "#FF6692",
          "pattern": {
           "shape": ""
          }
         },
         "name": "정준호",
         "offsetgroup": "정준호",
         "orientation": "v",
         "showlegend": true,
         "textposition": "auto",
         "type": "bar",
         "x": [
          "드라마",
          "액션",
          "코미디"
         ],
         "xaxis": "x",
         "y": [
          3,
          3,
          6
         ],
         "yaxis": "y"
        },
        {
         "alignmentgroup": "True",
         "hovertemplate": "Actor=김도윤<br>Genre=%{x}<br>Count=%{y}<extra></extra>",
         "legendgroup": "김도윤",
         "marker": {
          "color": "#B6E880",
          "pattern": {
           "shape": ""
          }
         },
         "name": "김도윤",
         "offsetgroup": "김도윤",
         "orientation": "v",
         "showlegend": true,
         "textposition": "auto",
         "type": "bar",
         "x": [
          "드라마"
         ],
         "xaxis": "x",
         "y": [
          3
         ],
         "yaxis": "y"
        },
        {
         "alignmentgroup": "True",
         "hovertemplate": "Actor=장원영<br>Genre=%{x}<br>Count=%{y}<extra></extra>",
         "legendgroup": "장원영",
         "marker": {
          "color": "#FF97FF",
          "pattern": {
           "shape": ""
          }
         },
         "name": "장원영",
         "offsetgroup": "장원영",
         "orientation": "v",
         "showlegend": true,
         "textposition": "auto",
         "type": "bar",
         "x": [
          "드라마"
         ],
         "xaxis": "x",
         "y": [
          3
         ],
         "yaxis": "y"
        },
        {
         "alignmentgroup": "True",
         "hovertemplate": "Actor=박보영<br>Genre=%{x}<br>Count=%{y}<extra></extra>",
         "legendgroup": "박보영",
         "marker": {
          "color": "#FECB52",
          "pattern": {
           "shape": ""
          }
         },
         "name": "박보영",
         "offsetgroup": "박보영",
         "orientation": "v",
         "showlegend": true,
         "textposition": "auto",
         "type": "bar",
         "x": [
          "드라마",
          "멜로/로맨스"
         ],
         "xaxis": "x",
         "y": [
          3,
          3
         ],
         "yaxis": "y"
        },
        {
         "alignmentgroup": "True",
         "hovertemplate": "Actor=송중기<br>Genre=%{x}<br>Count=%{y}<extra></extra>",
         "legendgroup": "송중기",
         "marker": {
          "color": "#636efa",
          "pattern": {
           "shape": ""
          }
         },
         "name": "송중기",
         "offsetgroup": "송중기",
         "orientation": "v",
         "showlegend": true,
         "textposition": "auto",
         "type": "bar",
         "x": [
          "드라마"
         ],
         "xaxis": "x",
         "y": [
          3
         ],
         "yaxis": "y"
        },
        {
         "alignmentgroup": "True",
         "hovertemplate": "Actor=소지섭<br>Genre=%{x}<br>Count=%{y}<extra></extra>",
         "legendgroup": "소지섭",
         "marker": {
          "color": "#EF553B",
          "pattern": {
           "shape": ""
          }
         },
         "name": "소지섭",
         "offsetgroup": "소지섭",
         "orientation": "v",
         "showlegend": true,
         "textposition": "auto",
         "type": "bar",
         "x": [
          "드라마",
          "액션"
         ],
         "xaxis": "x",
         "y": [
          3,
          4
         ],
         "yaxis": "y"
        },
        {
         "alignmentgroup": "True",
         "hovertemplate": "Actor=윤경호<br>Genre=%{x}<br>Count=%{y}<extra></extra>",
         "legendgroup": "윤경호",
         "marker": {
          "color": "#00cc96",
          "pattern": {
           "shape": ""
          }
         },
         "name": "윤경호",
         "offsetgroup": "윤경호",
         "orientation": "v",
         "showlegend": true,
         "textposition": "auto",
         "type": "bar",
         "x": [
          "드라마",
          "코미디"
         ],
         "xaxis": "x",
         "y": [
          3,
          5
         ],
         "yaxis": "y"
        },
        {
         "alignmentgroup": "True",
         "hovertemplate": "Actor=김태훈<br>Genre=%{x}<br>Count=%{y}<extra></extra>",
         "legendgroup": "김태훈",
         "marker": {
          "color": "#ab63fa",
          "pattern": {
           "shape": ""
          }
         },
         "name": "김태훈",
         "offsetgroup": "김태훈",
         "orientation": "v",
         "showlegend": true,
         "textposition": "auto",
         "type": "bar",
         "x": [
          "드라마",
          "액션"
         ],
         "xaxis": "x",
         "y": [
          3,
          3
         ],
         "yaxis": "y"
        },
        {
         "alignmentgroup": "True",
         "hovertemplate": "Actor=송재호<br>Genre=%{x}<br>Count=%{y}<extra></extra>",
         "legendgroup": "송재호",
         "marker": {
          "color": "#FFA15A",
          "pattern": {
           "shape": ""
          }
         },
         "name": "송재호",
         "offsetgroup": "송재호",
         "orientation": "v",
         "showlegend": true,
         "textposition": "auto",
         "type": "bar",
         "x": [
          "드라마"
         ],
         "xaxis": "x",
         "y": [
          3
         ],
         "yaxis": "y"
        },
        {
         "alignmentgroup": "True",
         "hovertemplate": "Actor=최정우<br>Genre=%{x}<br>Count=%{y}<extra></extra>",
         "legendgroup": "최정우",
         "marker": {
          "color": "#19d3f3",
          "pattern": {
           "shape": ""
          }
         },
         "name": "최정우",
         "offsetgroup": "최정우",
         "orientation": "v",
         "showlegend": true,
         "textposition": "auto",
         "type": "bar",
         "x": [
          "드라마",
          "액션"
         ],
         "xaxis": "x",
         "y": [
          3,
          3
         ],
         "yaxis": "y"
        },
        {
         "alignmentgroup": "True",
         "hovertemplate": "Actor=김동영<br>Genre=%{x}<br>Count=%{y}<extra></extra>",
         "legendgroup": "김동영",
         "marker": {
          "color": "#FF6692",
          "pattern": {
           "shape": ""
          }
         },
         "name": "김동영",
         "offsetgroup": "김동영",
         "orientation": "v",
         "showlegend": true,
         "textposition": "auto",
         "type": "bar",
         "x": [
          "드라마",
          "액션"
         ],
         "xaxis": "x",
         "y": [
          3,
          5
         ],
         "yaxis": "y"
        },
        {
         "alignmentgroup": "True",
         "hovertemplate": "Actor=양현민<br>Genre=%{x}<br>Count=%{y}<extra></extra>",
         "legendgroup": "양현민",
         "marker": {
          "color": "#B6E880",
          "pattern": {
           "shape": ""
          }
         },
         "name": "양현민",
         "offsetgroup": "양현민",
         "orientation": "v",
         "showlegend": true,
         "textposition": "auto",
         "type": "bar",
         "x": [
          "드라마",
          "코미디"
         ],
         "xaxis": "x",
         "y": [
          3,
          3
         ],
         "yaxis": "y"
        },
        {
         "alignmentgroup": "True",
         "hovertemplate": "Actor=임현성<br>Genre=%{x}<br>Count=%{y}<extra></extra>",
         "legendgroup": "임현성",
         "marker": {
          "color": "#FF97FF",
          "pattern": {
           "shape": ""
          }
         },
         "name": "임현성",
         "offsetgroup": "임현성",
         "orientation": "v",
         "showlegend": true,
         "textposition": "auto",
         "type": "bar",
         "x": [
          "드라마",
          "액션"
         ],
         "xaxis": "x",
         "y": [
          3,
          3
         ],
         "yaxis": "y"
        },
        {
         "alignmentgroup": "True",
         "hovertemplate": "Actor=최진호<br>Genre=%{x}<br>Count=%{y}<extra></extra>",
         "legendgroup": "최진호",
         "marker": {
          "color": "#FECB52",
          "pattern": {
           "shape": ""
          }
         },
         "name": "최진호",
         "offsetgroup": "최진호",
         "orientation": "v",
         "showlegend": true,
         "textposition": "auto",
         "type": "bar",
         "x": [
          "드라마",
          "액션"
         ],
         "xaxis": "x",
         "y": [
          3,
          4
         ],
         "yaxis": "y"
        },
        {
         "alignmentgroup": "True",
         "hovertemplate": "Actor=공유<br>Genre=%{x}<br>Count=%{y}<extra></extra>",
         "legendgroup": "공유",
         "marker": {
          "color": "#636efa",
          "pattern": {
           "shape": ""
          }
         },
         "name": "공유",
         "offsetgroup": "공유",
         "orientation": "v",
         "showlegend": true,
         "textposition": "auto",
         "type": "bar",
         "x": [
          "드라마",
          "액션",
          "코미디"
         ],
         "xaxis": "x",
         "y": [
          3,
          4,
          3
         ],
         "yaxis": "y"
        },
        {
         "alignmentgroup": "True",
         "hovertemplate": "Actor=박윤희<br>Genre=%{x}<br>Count=%{y}<extra></extra>",
         "legendgroup": "박윤희",
         "marker": {
          "color": "#EF553B",
          "pattern": {
           "shape": ""
          }
         },
         "name": "박윤희",
         "offsetgroup": "박윤희",
         "orientation": "v",
         "showlegend": true,
         "textposition": "auto",
         "type": "bar",
         "x": [
          "드라마"
         ],
         "xaxis": "x",
         "y": [
          3
         ],
         "yaxis": "y"
        },
        {
         "alignmentgroup": "True",
         "hovertemplate": "Actor=박사랑<br>Genre=%{x}<br>Count=%{y}<extra></extra>",
         "legendgroup": "박사랑",
         "marker": {
          "color": "#00cc96",
          "pattern": {
           "shape": ""
          }
         },
         "name": "박사랑",
         "offsetgroup": "박사랑",
         "orientation": "v",
         "showlegend": true,
         "textposition": "auto",
         "type": "bar",
         "x": [
          "드라마"
         ],
         "xaxis": "x",
         "y": [
          3
         ],
         "yaxis": "y"
        },
        {
         "alignmentgroup": "True",
         "hovertemplate": "Actor=정성화<br>Genre=%{x}<br>Count=%{y}<extra></extra>",
         "legendgroup": "정성화",
         "marker": {
          "color": "#ab63fa",
          "pattern": {
           "shape": ""
          }
         },
         "name": "정성화",
         "offsetgroup": "정성화",
         "orientation": "v",
         "showlegend": true,
         "textposition": "auto",
         "type": "bar",
         "x": [
          "드라마"
         ],
         "xaxis": "x",
         "y": [
          3
         ],
         "yaxis": "y"
        },
        {
         "alignmentgroup": "True",
         "hovertemplate": "Actor=이미도<br>Genre=%{x}<br>Count=%{y}<extra></extra>",
         "legendgroup": "이미도",
         "marker": {
          "color": "#FFA15A",
          "pattern": {
           "shape": ""
          }
         },
         "name": "이미도",
         "offsetgroup": "이미도",
         "orientation": "v",
         "showlegend": true,
         "textposition": "auto",
         "type": "bar",
         "x": [
          "드라마",
          "멜로/로맨스"
         ],
         "xaxis": "x",
         "y": [
          3,
          3
         ],
         "yaxis": "y"
        },
        {
         "alignmentgroup": "True",
         "hovertemplate": "Actor=이봉규<br>Genre=%{x}<br>Count=%{y}<extra></extra>",
         "legendgroup": "이봉규",
         "marker": {
          "color": "#19d3f3",
          "pattern": {
           "shape": ""
          }
         },
         "name": "이봉규",
         "offsetgroup": "이봉규",
         "orientation": "v",
         "showlegend": true,
         "textposition": "auto",
         "type": "bar",
         "x": [
          "드라마"
         ],
         "xaxis": "x",
         "y": [
          3
         ],
         "yaxis": "y"
        },
        {
         "alignmentgroup": "True",
         "hovertemplate": "Actor=최승현<br>Genre=%{x}<br>Count=%{y}<extra></extra>",
         "legendgroup": "최승현",
         "marker": {
          "color": "#FF6692",
          "pattern": {
           "shape": ""
          }
         },
         "name": "최승현",
         "offsetgroup": "최승현",
         "orientation": "v",
         "showlegend": true,
         "textposition": "auto",
         "type": "bar",
         "x": [
          "드라마"
         ],
         "xaxis": "x",
         "y": [
          3
         ],
         "yaxis": "y"
        },
        {
         "alignmentgroup": "True",
         "hovertemplate": "Actor=이하늬<br>Genre=%{x}<br>Count=%{y}<extra></extra>",
         "legendgroup": "이하늬",
         "marker": {
          "color": "#B6E880",
          "pattern": {
           "shape": ""
          }
         },
         "name": "이하늬",
         "offsetgroup": "이하늬",
         "orientation": "v",
         "showlegend": true,
         "textposition": "auto",
         "type": "bar",
         "x": [
          "드라마",
          "코미디"
         ],
         "xaxis": "x",
         "y": [
          3,
          3
         ],
         "yaxis": "y"
        },
        {
         "alignmentgroup": "True",
         "hovertemplate": "Actor=박서준<br>Genre=%{x}<br>Count=%{y}<extra></extra>",
         "legendgroup": "박서준",
         "marker": {
          "color": "#FF97FF",
          "pattern": {
           "shape": ""
          }
         },
         "name": "박서준",
         "offsetgroup": "박서준",
         "orientation": "v",
         "showlegend": true,
         "textposition": "auto",
         "type": "bar",
         "x": [
          "드라마"
         ],
         "xaxis": "x",
         "y": [
          3
         ],
         "yaxis": "y"
        },
        {
         "alignmentgroup": "True",
         "hovertemplate": "Actor=김선영<br>Genre=%{x}<br>Count=%{y}<extra></extra>",
         "legendgroup": "김선영",
         "marker": {
          "color": "#FECB52",
          "pattern": {
           "shape": ""
          }
         },
         "name": "김선영",
         "offsetgroup": "김선영",
         "orientation": "v",
         "showlegend": true,
         "textposition": "auto",
         "type": "bar",
         "x": [
          "드라마"
         ],
         "xaxis": "x",
         "y": [
          3
         ],
         "yaxis": "y"
        },
        {
         "alignmentgroup": "True",
         "hovertemplate": "Actor=김국희<br>Genre=%{x}<br>Count=%{y}<extra></extra>",
         "legendgroup": "김국희",
         "marker": {
          "color": "#636efa",
          "pattern": {
           "shape": ""
          }
         },
         "name": "김국희",
         "offsetgroup": "김국희",
         "orientation": "v",
         "showlegend": true,
         "textposition": "auto",
         "type": "bar",
         "x": [
          "드라마"
         ],
         "xaxis": "x",
         "y": [
          3
         ],
         "yaxis": "y"
        },
        {
         "alignmentgroup": "True",
         "hovertemplate": "Actor=백현진<br>Genre=%{x}<br>Count=%{y}<extra></extra>",
         "legendgroup": "백현진",
         "marker": {
          "color": "#EF553B",
          "pattern": {
           "shape": ""
          }
         },
         "name": "백현진",
         "offsetgroup": "백현진",
         "orientation": "v",
         "showlegend": true,
         "textposition": "auto",
         "type": "bar",
         "x": [
          "드라마"
         ],
         "xaxis": "x",
         "y": [
          3
         ],
         "yaxis": "y"
        },
        {
         "alignmentgroup": "True",
         "hovertemplate": "Actor=신현탁<br>Genre=%{x}<br>Count=%{y}<extra></extra>",
         "legendgroup": "신현탁",
         "marker": {
          "color": "#00cc96",
          "pattern": {
           "shape": ""
          }
         },
         "name": "신현탁",
         "offsetgroup": "신현탁",
         "orientation": "v",
         "showlegend": true,
         "textposition": "auto",
         "type": "bar",
         "x": [
          "드라마"
         ],
         "xaxis": "x",
         "y": [
          3
         ],
         "yaxis": "y"
        },
        {
         "alignmentgroup": "True",
         "hovertemplate": "Actor=수애<br>Genre=%{x}<br>Count=%{y}<extra></extra>",
         "legendgroup": "수애",
         "marker": {
          "color": "#ab63fa",
          "pattern": {
           "shape": ""
          }
         },
         "name": "수애",
         "offsetgroup": "수애",
         "orientation": "v",
         "showlegend": true,
         "textposition": "auto",
         "type": "bar",
         "x": [
          "드라마"
         ],
         "xaxis": "x",
         "y": [
          3
         ],
         "yaxis": "y"
        },
        {
         "alignmentgroup": "True",
         "hovertemplate": "Actor=송윤아<br>Genre=%{x}<br>Count=%{y}<extra></extra>",
         "legendgroup": "송윤아",
         "marker": {
          "color": "#FFA15A",
          "pattern": {
           "shape": ""
          }
         },
         "name": "송윤아",
         "offsetgroup": "송윤아",
         "orientation": "v",
         "showlegend": true,
         "textposition": "auto",
         "type": "bar",
         "x": [
          "드라마"
         ],
         "xaxis": "x",
         "y": [
          3
         ],
         "yaxis": "y"
        },
        {
         "alignmentgroup": "True",
         "hovertemplate": "Actor=이무생<br>Genre=%{x}<br>Count=%{y}<extra></extra>",
         "legendgroup": "이무생",
         "marker": {
          "color": "#19d3f3",
          "pattern": {
           "shape": ""
          }
         },
         "name": "이무생",
         "offsetgroup": "이무생",
         "orientation": "v",
         "showlegend": true,
         "textposition": "auto",
         "type": "bar",
         "x": [
          "드라마"
         ],
         "xaxis": "x",
         "y": [
          3
         ],
         "yaxis": "y"
        },
        {
         "alignmentgroup": "True",
         "hovertemplate": "Actor=김강현<br>Genre=%{x}<br>Count=%{y}<extra></extra>",
         "legendgroup": "김강현",
         "marker": {
          "color": "#FF6692",
          "pattern": {
           "shape": ""
          }
         },
         "name": "김강현",
         "offsetgroup": "김강현",
         "orientation": "v",
         "showlegend": true,
         "textposition": "auto",
         "type": "bar",
         "x": [
          "드라마",
          "코미디"
         ],
         "xaxis": "x",
         "y": [
          3,
          3
         ],
         "yaxis": "y"
        },
        {
         "alignmentgroup": "True",
         "hovertemplate": "Actor=우현<br>Genre=%{x}<br>Count=%{y}<extra></extra>",
         "legendgroup": "우현",
         "marker": {
          "color": "#B6E880",
          "pattern": {
           "shape": ""
          }
         },
         "name": "우현",
         "offsetgroup": "우현",
         "orientation": "v",
         "showlegend": true,
         "textposition": "auto",
         "type": "bar",
         "x": [
          "드라마",
          "코미디"
         ],
         "xaxis": "x",
         "y": [
          3,
          5
         ],
         "yaxis": "y"
        },
        {
         "alignmentgroup": "True",
         "hovertemplate": "Actor=이윤희<br>Genre=%{x}<br>Count=%{y}<extra></extra>",
         "legendgroup": "이윤희",
         "marker": {
          "color": "#FF97FF",
          "pattern": {
           "shape": ""
          }
         },
         "name": "이윤희",
         "offsetgroup": "이윤희",
         "orientation": "v",
         "showlegend": true,
         "textposition": "auto",
         "type": "bar",
         "x": [
          "드라마"
         ],
         "xaxis": "x",
         "y": [
          3
         ],
         "yaxis": "y"
        },
        {
         "alignmentgroup": "True",
         "hovertemplate": "Actor=박근형<br>Genre=%{x}<br>Count=%{y}<extra></extra>",
         "legendgroup": "박근형",
         "marker": {
          "color": "#FECB52",
          "pattern": {
           "shape": ""
          }
         },
         "name": "박근형",
         "offsetgroup": "박근형",
         "orientation": "v",
         "showlegend": true,
         "textposition": "auto",
         "type": "bar",
         "x": [
          "드라마"
         ],
         "xaxis": "x",
         "y": [
          3
         ],
         "yaxis": "y"
        },
        {
         "alignmentgroup": "True",
         "hovertemplate": "Actor=최희서<br>Genre=%{x}<br>Count=%{y}<extra></extra>",
         "legendgroup": "최희서",
         "marker": {
          "color": "#636efa",
          "pattern": {
           "shape": ""
          }
         },
         "name": "최희서",
         "offsetgroup": "최희서",
         "orientation": "v",
         "showlegend": true,
         "textposition": "auto",
         "type": "bar",
         "x": [
          "드라마"
         ],
         "xaxis": "x",
         "y": [
          3
         ],
         "yaxis": "y"
        },
        {
         "alignmentgroup": "True",
         "hovertemplate": "Actor=정준원<br>Genre=%{x}<br>Count=%{y}<extra></extra>",
         "legendgroup": "정준원",
         "marker": {
          "color": "#EF553B",
          "pattern": {
           "shape": ""
          }
         },
         "name": "정준원",
         "offsetgroup": "정준원",
         "orientation": "v",
         "showlegend": true,
         "textposition": "auto",
         "type": "bar",
         "x": [
          "드라마"
         ],
         "xaxis": "x",
         "y": [
          3
         ],
         "yaxis": "y"
        },
        {
         "alignmentgroup": "True",
         "hovertemplate": "Actor=김수미<br>Genre=%{x}<br>Count=%{y}<extra></extra>",
         "legendgroup": "김수미",
         "marker": {
          "color": "#00cc96",
          "pattern": {
           "shape": ""
          }
         },
         "name": "김수미",
         "offsetgroup": "김수미",
         "orientation": "v",
         "showlegend": true,
         "textposition": "auto",
         "type": "bar",
         "x": [
          "드라마",
          "코미디"
         ],
         "xaxis": "x",
         "y": [
          3,
          12
         ],
         "yaxis": "y"
        },
        {
         "alignmentgroup": "True",
         "hovertemplate": "Actor=이광수<br>Genre=%{x}<br>Count=%{y}<extra></extra>",
         "legendgroup": "이광수",
         "marker": {
          "color": "#ab63fa",
          "pattern": {
           "shape": ""
          }
         },
         "name": "이광수",
         "offsetgroup": "이광수",
         "orientation": "v",
         "showlegend": true,
         "textposition": "auto",
         "type": "bar",
         "x": [
          "드라마",
          "코미디"
         ],
         "xaxis": "x",
         "y": [
          3,
          6
         ],
         "yaxis": "y"
        },
        {
         "alignmentgroup": "True",
         "hovertemplate": "Actor=유재명<br>Genre=%{x}<br>Count=%{y}<extra></extra>",
         "legendgroup": "유재명",
         "marker": {
          "color": "#FFA15A",
          "pattern": {
           "shape": ""
          }
         },
         "name": "유재명",
         "offsetgroup": "유재명",
         "orientation": "v",
         "showlegend": true,
         "textposition": "auto",
         "type": "bar",
         "x": [
          "드라마",
          "범죄"
         ],
         "xaxis": "x",
         "y": [
          3,
          3
         ],
         "yaxis": "y"
        },
        {
         "alignmentgroup": "True",
         "hovertemplate": "Actor=허준석<br>Genre=%{x}<br>Count=%{y}<extra></extra>",
         "legendgroup": "허준석",
         "marker": {
          "color": "#19d3f3",
          "pattern": {
           "shape": ""
          }
         },
         "name": "허준석",
         "offsetgroup": "허준석",
         "orientation": "v",
         "showlegend": true,
         "textposition": "auto",
         "type": "bar",
         "x": [
          "드라마"
         ],
         "xaxis": "x",
         "y": [
          3
         ],
         "yaxis": "y"
        },
        {
         "alignmentgroup": "True",
         "hovertemplate": "Actor=김중기<br>Genre=%{x}<br>Count=%{y}<extra></extra>",
         "legendgroup": "김중기",
         "marker": {
          "color": "#FF6692",
          "pattern": {
           "shape": ""
          }
         },
         "name": "김중기",
         "offsetgroup": "김중기",
         "orientation": "v",
         "showlegend": true,
         "textposition": "auto",
         "type": "bar",
         "x": [
          "드라마"
         ],
         "xaxis": "x",
         "y": [
          3
         ],
         "yaxis": "y"
        },
        {
         "alignmentgroup": "True",
         "hovertemplate": "Actor=성지루<br>Genre=%{x}<br>Count=%{y}<extra></extra>",
         "legendgroup": "성지루",
         "marker": {
          "color": "#B6E880",
          "pattern": {
           "shape": ""
          }
         },
         "name": "성지루",
         "offsetgroup": "성지루",
         "orientation": "v",
         "showlegend": true,
         "textposition": "auto",
         "type": "bar",
         "x": [
          "드라마",
          "범죄",
          "스릴러",
          "코미디"
         ],
         "xaxis": "x",
         "y": [
          3,
          3,
          3,
          6
         ],
         "yaxis": "y"
        },
        {
         "alignmentgroup": "True",
         "hovertemplate": "Actor=이상훈<br>Genre=%{x}<br>Count=%{y}<extra></extra>",
         "legendgroup": "이상훈",
         "marker": {
          "color": "#FF97FF",
          "pattern": {
           "shape": ""
          }
         },
         "name": "이상훈",
         "offsetgroup": "이상훈",
         "orientation": "v",
         "showlegend": true,
         "textposition": "auto",
         "type": "bar",
         "x": [
          "드라마"
         ],
         "xaxis": "x",
         "y": [
          3
         ],
         "yaxis": "y"
        },
        {
         "alignmentgroup": "True",
         "hovertemplate": "Actor=조복래<br>Genre=%{x}<br>Count=%{y}<extra></extra>",
         "legendgroup": "조복래",
         "marker": {
          "color": "#FECB52",
          "pattern": {
           "shape": ""
          }
         },
         "name": "조복래",
         "offsetgroup": "조복래",
         "orientation": "v",
         "showlegend": true,
         "textposition": "auto",
         "type": "bar",
         "x": [
          "드라마",
          "코미디"
         ],
         "xaxis": "x",
         "y": [
          3,
          3
         ],
         "yaxis": "y"
        },
        {
         "alignmentgroup": "True",
         "hovertemplate": "Actor=박혜수<br>Genre=%{x}<br>Count=%{y}<extra></extra>",
         "legendgroup": "박혜수",
         "marker": {
          "color": "#636efa",
          "pattern": {
           "shape": ""
          }
         },
         "name": "박혜수",
         "offsetgroup": "박혜수",
         "orientation": "v",
         "showlegend": true,
         "textposition": "auto",
         "type": "bar",
         "x": [
          "드라마"
         ],
         "xaxis": "x",
         "y": [
          3
         ],
         "yaxis": "y"
        },
        {
         "alignmentgroup": "True",
         "hovertemplate": "Actor=공효진<br>Genre=%{x}<br>Count=%{y}<extra></extra>",
         "legendgroup": "공효진",
         "marker": {
          "color": "#EF553B",
          "pattern": {
           "shape": ""
          }
         },
         "name": "공효진",
         "offsetgroup": "공효진",
         "orientation": "v",
         "showlegend": true,
         "textposition": "auto",
         "type": "bar",
         "x": [
          "드라마",
          "멜로/로맨스",
          "코미디"
         ],
         "xaxis": "x",
         "y": [
          3,
          3,
          4
         ],
         "yaxis": "y"
        },
        {
         "alignmentgroup": "True",
         "hovertemplate": "Actor=도경수<br>Genre=%{x}<br>Count=%{y}<extra></extra>",
         "legendgroup": "도경수",
         "marker": {
          "color": "#00cc96",
          "pattern": {
           "shape": ""
          }
         },
         "name": "도경수",
         "offsetgroup": "도경수",
         "orientation": "v",
         "showlegend": true,
         "textposition": "auto",
         "type": "bar",
         "x": [
          "드라마"
         ],
         "xaxis": "x",
         "y": [
          4
         ],
         "yaxis": "y"
        },
        {
         "alignmentgroup": "True",
         "hovertemplate": "Actor=천호진<br>Genre=%{x}<br>Count=%{y}<extra></extra>",
         "legendgroup": "천호진",
         "marker": {
          "color": "#ab63fa",
          "pattern": {
           "shape": ""
          }
         },
         "name": "천호진",
         "offsetgroup": "천호진",
         "orientation": "v",
         "showlegend": true,
         "textposition": "auto",
         "type": "bar",
         "x": [
          "드라마",
          "스릴러"
         ],
         "xaxis": "x",
         "y": [
          4,
          3
         ],
         "yaxis": "y"
        },
        {
         "alignmentgroup": "True",
         "hovertemplate": "Actor=박해준<br>Genre=%{x}<br>Count=%{y}<extra></extra>",
         "legendgroup": "박해준",
         "marker": {
          "color": "#FFA15A",
          "pattern": {
           "shape": ""
          }
         },
         "name": "박해준",
         "offsetgroup": "박해준",
         "orientation": "v",
         "showlegend": true,
         "textposition": "auto",
         "type": "bar",
         "x": [
          "드라마"
         ],
         "xaxis": "x",
         "y": [
          4
         ],
         "yaxis": "y"
        },
        {
         "alignmentgroup": "True",
         "hovertemplate": "Actor=안내상<br>Genre=%{x}<br>Count=%{y}<extra></extra>",
         "legendgroup": "안내상",
         "marker": {
          "color": "#19d3f3",
          "pattern": {
           "shape": ""
          }
         },
         "name": "안내상",
         "offsetgroup": "안내상",
         "orientation": "v",
         "showlegend": true,
         "textposition": "auto",
         "type": "bar",
         "x": [
          "드라마"
         ],
         "xaxis": "x",
         "y": [
          4
         ],
         "yaxis": "y"
        },
        {
         "alignmentgroup": "True",
         "hovertemplate": "Actor=고수희<br>Genre=%{x}<br>Count=%{y}<extra></extra>",
         "legendgroup": "고수희",
         "marker": {
          "color": "#FF6692",
          "pattern": {
           "shape": ""
          }
         },
         "name": "고수희",
         "offsetgroup": "고수희",
         "orientation": "v",
         "showlegend": true,
         "textposition": "auto",
         "type": "bar",
         "x": [
          "드라마"
         ],
         "xaxis": "x",
         "y": [
          4
         ],
         "yaxis": "y"
        },
        {
         "alignmentgroup": "True",
         "hovertemplate": "Actor=김기천<br>Genre=%{x}<br>Count=%{y}<extra></extra>",
         "legendgroup": "김기천",
         "marker": {
          "color": "#B6E880",
          "pattern": {
           "shape": ""
          }
         },
         "name": "김기천",
         "offsetgroup": "김기천",
         "orientation": "v",
         "showlegend": true,
         "textposition": "auto",
         "type": "bar",
         "x": [
          "드라마",
          "액션",
          "코미디"
         ],
         "xaxis": "x",
         "y": [
          4,
          7,
          5
         ],
         "yaxis": "y"
        },
        {
         "alignmentgroup": "True",
         "hovertemplate": "Actor=최덕문<br>Genre=%{x}<br>Count=%{y}<extra></extra>",
         "legendgroup": "최덕문",
         "marker": {
          "color": "#FF97FF",
          "pattern": {
           "shape": ""
          }
         },
         "name": "최덕문",
         "offsetgroup": "최덕문",
         "orientation": "v",
         "showlegend": true,
         "textposition": "auto",
         "type": "bar",
         "x": [
          "드라마",
          "범죄",
          "사극",
          "액션"
         ],
         "xaxis": "x",
         "y": [
          4,
          3,
          3,
          4
         ],
         "yaxis": "y"
        },
        {
         "alignmentgroup": "True",
         "hovertemplate": "Actor=김명곤<br>Genre=%{x}<br>Count=%{y}<extra></extra>",
         "legendgroup": "김명곤",
         "marker": {
          "color": "#FECB52",
          "pattern": {
           "shape": ""
          }
         },
         "name": "김명곤",
         "offsetgroup": "김명곤",
         "orientation": "v",
         "showlegend": true,
         "textposition": "auto",
         "type": "bar",
         "x": [
          "드라마",
          "사극",
          "액션"
         ],
         "xaxis": "x",
         "y": [
          4,
          3,
          3
         ],
         "yaxis": "y"
        },
        {
         "alignmentgroup": "True",
         "hovertemplate": "Actor=류준열<br>Genre=%{x}<br>Count=%{y}<extra></extra>",
         "legendgroup": "류준열",
         "marker": {
          "color": "#636efa",
          "pattern": {
           "shape": ""
          }
         },
         "name": "류준열",
         "offsetgroup": "류준열",
         "orientation": "v",
         "showlegend": true,
         "textposition": "auto",
         "type": "bar",
         "x": [
          "드라마",
          "범죄",
          "액션"
         ],
         "xaxis": "x",
         "y": [
          4,
          4,
          4
         ],
         "yaxis": "y"
        },
        {
         "alignmentgroup": "True",
         "hovertemplate": "Actor=박혁권<br>Genre=%{x}<br>Count=%{y}<extra></extra>",
         "legendgroup": "박혁권",
         "marker": {
          "color": "#EF553B",
          "pattern": {
           "shape": ""
          }
         },
         "name": "박혁권",
         "offsetgroup": "박혁권",
         "orientation": "v",
         "showlegend": true,
         "textposition": "auto",
         "type": "bar",
         "x": [
          "드라마"
         ],
         "xaxis": "x",
         "y": [
          4
         ],
         "yaxis": "y"
        },
        {
         "alignmentgroup": "True",
         "hovertemplate": "Actor=원빈<br>Genre=%{x}<br>Count=%{y}<extra></extra>",
         "legendgroup": "원빈",
         "marker": {
          "color": "#00cc96",
          "pattern": {
           "shape": ""
          }
         },
         "name": "원빈",
         "offsetgroup": "원빈",
         "orientation": "v",
         "showlegend": true,
         "textposition": "auto",
         "type": "bar",
         "x": [
          "드라마"
         ],
         "xaxis": "x",
         "y": [
          4
         ],
         "yaxis": "y"
        },
        {
         "alignmentgroup": "True",
         "hovertemplate": "Actor=지대한<br>Genre=%{x}<br>Count=%{y}<extra></extra>",
         "legendgroup": "지대한",
         "marker": {
          "color": "#ab63fa",
          "pattern": {
           "shape": ""
          }
         },
         "name": "지대한",
         "offsetgroup": "지대한",
         "orientation": "v",
         "showlegend": true,
         "textposition": "auto",
         "type": "bar",
         "x": [
          "드라마",
          "범죄",
          "액션"
         ],
         "xaxis": "x",
         "y": [
          4,
          3,
          4
         ],
         "yaxis": "y"
        },
        {
         "alignmentgroup": "True",
         "hovertemplate": "Actor=강예원<br>Genre=%{x}<br>Count=%{y}<extra></extra>",
         "legendgroup": "강예원",
         "marker": {
          "color": "#FFA15A",
          "pattern": {
           "shape": ""
          }
         },
         "name": "강예원",
         "offsetgroup": "강예원",
         "orientation": "v",
         "showlegend": true,
         "textposition": "auto",
         "type": "bar",
         "x": [
          "드라마",
          "코미디"
         ],
         "xaxis": "x",
         "y": [
          4,
          3
         ],
         "yaxis": "y"
        },
        {
         "alignmentgroup": "True",
         "hovertemplate": "Actor=김영애<br>Genre=%{x}<br>Count=%{y}<extra></extra>",
         "legendgroup": "김영애",
         "marker": {
          "color": "#19d3f3",
          "pattern": {
           "shape": ""
          }
         },
         "name": "김영애",
         "offsetgroup": "김영애",
         "orientation": "v",
         "showlegend": true,
         "textposition": "auto",
         "type": "bar",
         "x": [
          "드라마"
         ],
         "xaxis": "x",
         "y": [
          4
         ],
         "yaxis": "y"
        },
        {
         "alignmentgroup": "True",
         "hovertemplate": "Actor=조여정<br>Genre=%{x}<br>Count=%{y}<extra></extra>",
         "legendgroup": "조여정",
         "marker": {
          "color": "#FF6692",
          "pattern": {
           "shape": ""
          }
         },
         "name": "조여정",
         "offsetgroup": "조여정",
         "orientation": "v",
         "showlegend": true,
         "textposition": "auto",
         "type": "bar",
         "x": [
          "드라마",
          "멜로/로맨스"
         ],
         "xaxis": "x",
         "y": [
          4,
          3
         ],
         "yaxis": "y"
        },
        {
         "alignmentgroup": "True",
         "hovertemplate": "Actor=조정석<br>Genre=%{x}<br>Count=%{y}<extra></extra>",
         "legendgroup": "조정석",
         "marker": {
          "color": "#B6E880",
          "pattern": {
           "shape": ""
          }
         },
         "name": "조정석",
         "offsetgroup": "조정석",
         "orientation": "v",
         "showlegend": true,
         "textposition": "auto",
         "type": "bar",
         "x": [
          "드라마",
          "코미디"
         ],
         "xaxis": "x",
         "y": [
          4,
          3
         ],
         "yaxis": "y"
        },
        {
         "alignmentgroup": "True",
         "hovertemplate": "Actor=임형국<br>Genre=%{x}<br>Count=%{y}<extra></extra>",
         "legendgroup": "임형국",
         "marker": {
          "color": "#FF97FF",
          "pattern": {
           "shape": ""
          }
         },
         "name": "임형국",
         "offsetgroup": "임형국",
         "orientation": "v",
         "showlegend": true,
         "textposition": "auto",
         "type": "bar",
         "x": [
          "드라마"
         ],
         "xaxis": "x",
         "y": [
          4
         ],
         "yaxis": "y"
        },
        {
         "alignmentgroup": "True",
         "hovertemplate": "Actor=전혜진<br>Genre=%{x}<br>Count=%{y}<extra></extra>",
         "legendgroup": "전혜진",
         "marker": {
          "color": "#FECB52",
          "pattern": {
           "shape": ""
          }
         },
         "name": "전혜진",
         "offsetgroup": "전혜진",
         "orientation": "v",
         "showlegend": true,
         "textposition": "auto",
         "type": "bar",
         "x": [
          "드라마"
         ],
         "xaxis": "x",
         "y": [
          4
         ],
         "yaxis": "y"
        },
        {
         "alignmentgroup": "True",
         "hovertemplate": "Actor=임하룡<br>Genre=%{x}<br>Count=%{y}<extra></extra>",
         "legendgroup": "임하룡",
         "marker": {
          "color": "#636efa",
          "pattern": {
           "shape": ""
          }
         },
         "name": "임하룡",
         "offsetgroup": "임하룡",
         "orientation": "v",
         "showlegend": true,
         "textposition": "auto",
         "type": "bar",
         "x": [
          "드라마",
          "코미디"
         ],
         "xaxis": "x",
         "y": [
          4,
          3
         ],
         "yaxis": "y"
        },
        {
         "alignmentgroup": "True",
         "hovertemplate": "Actor=천우희<br>Genre=%{x}<br>Count=%{y}<extra></extra>",
         "legendgroup": "천우희",
         "marker": {
          "color": "#EF553B",
          "pattern": {
           "shape": ""
          }
         },
         "name": "천우희",
         "offsetgroup": "천우희",
         "orientation": "v",
         "showlegend": true,
         "textposition": "auto",
         "type": "bar",
         "x": [
          "드라마"
         ],
         "xaxis": "x",
         "y": [
          4
         ],
         "yaxis": "y"
        },
        {
         "alignmentgroup": "True",
         "hovertemplate": "Actor=김혜옥<br>Genre=%{x}<br>Count=%{y}<extra></extra>",
         "legendgroup": "김혜옥",
         "marker": {
          "color": "#00cc96",
          "pattern": {
           "shape": ""
          }
         },
         "name": "김혜옥",
         "offsetgroup": "김혜옥",
         "orientation": "v",
         "showlegend": true,
         "textposition": "auto",
         "type": "bar",
         "x": [
          "드라마",
          "코미디"
         ],
         "xaxis": "x",
         "y": [
          4,
          5
         ],
         "yaxis": "y"
        },
        {
         "alignmentgroup": "True",
         "hovertemplate": "Actor=박진주<br>Genre=%{x}<br>Count=%{y}<extra></extra>",
         "legendgroup": "박진주",
         "marker": {
          "color": "#ab63fa",
          "pattern": {
           "shape": ""
          }
         },
         "name": "박진주",
         "offsetgroup": "박진주",
         "orientation": "v",
         "showlegend": true,
         "textposition": "auto",
         "type": "bar",
         "x": [
          "드라마"
         ],
         "xaxis": "x",
         "y": [
          4
         ],
         "yaxis": "y"
        },
        {
         "alignmentgroup": "True",
         "hovertemplate": "Actor=김상경<br>Genre=%{x}<br>Count=%{y}<extra></extra>",
         "legendgroup": "김상경",
         "marker": {
          "color": "#FFA15A",
          "pattern": {
           "shape": ""
          }
         },
         "name": "김상경",
         "offsetgroup": "김상경",
         "orientation": "v",
         "showlegend": true,
         "textposition": "auto",
         "type": "bar",
         "x": [
          "드라마",
          "스릴러"
         ],
         "xaxis": "x",
         "y": [
          4,
          3
         ],
         "yaxis": "y"
        },
        {
         "alignmentgroup": "True",
         "hovertemplate": "Actor=엄효섭<br>Genre=%{x}<br>Count=%{y}<extra></extra>",
         "legendgroup": "엄효섭",
         "marker": {
          "color": "#19d3f3",
          "pattern": {
           "shape": ""
          }
         },
         "name": "엄효섭",
         "offsetgroup": "엄효섭",
         "orientation": "v",
         "showlegend": true,
         "textposition": "auto",
         "type": "bar",
         "x": [
          "드라마"
         ],
         "xaxis": "x",
         "y": [
          4
         ],
         "yaxis": "y"
        },
        {
         "alignmentgroup": "True",
         "hovertemplate": "Actor=김수진<br>Genre=%{x}<br>Count=%{y}<extra></extra>",
         "legendgroup": "김수진",
         "marker": {
          "color": "#FF6692",
          "pattern": {
           "shape": ""
          }
         },
         "name": "김수진",
         "offsetgroup": "김수진",
         "orientation": "v",
         "showlegend": true,
         "textposition": "auto",
         "type": "bar",
         "x": [
          "드라마"
         ],
         "xaxis": "x",
         "y": [
          4
         ],
         "yaxis": "y"
        },
        {
         "alignmentgroup": "True",
         "hovertemplate": "Actor=남일우<br>Genre=%{x}<br>Count=%{y}<extra></extra>",
         "legendgroup": "남일우",
         "marker": {
          "color": "#B6E880",
          "pattern": {
           "shape": ""
          }
         },
         "name": "남일우",
         "offsetgroup": "남일우",
         "orientation": "v",
         "showlegend": true,
         "textposition": "auto",
         "type": "bar",
         "x": [
          "드라마"
         ],
         "xaxis": "x",
         "y": [
          4
         ],
         "yaxis": "y"
        },
        {
         "alignmentgroup": "True",
         "hovertemplate": "Actor=이현우<br>Genre=%{x}<br>Count=%{y}<extra></extra>",
         "legendgroup": "이현우",
         "marker": {
          "color": "#FF97FF",
          "pattern": {
           "shape": ""
          }
         },
         "name": "이현우",
         "offsetgroup": "이현우",
         "orientation": "v",
         "showlegend": true,
         "textposition": "auto",
         "type": "bar",
         "x": [
          "드라마",
          "코미디"
         ],
         "xaxis": "x",
         "y": [
          4,
          3
         ],
         "yaxis": "y"
        },
        {
         "alignmentgroup": "True",
         "hovertemplate": "Actor=이수경<br>Genre=%{x}<br>Count=%{y}<extra></extra>",
         "legendgroup": "이수경",
         "marker": {
          "color": "#FECB52",
          "pattern": {
           "shape": ""
          }
         },
         "name": "이수경",
         "offsetgroup": "이수경",
         "orientation": "v",
         "showlegend": true,
         "textposition": "auto",
         "type": "bar",
         "x": [
          "드라마"
         ],
         "xaxis": "x",
         "y": [
          4
         ],
         "yaxis": "y"
        },
        {
         "alignmentgroup": "True",
         "hovertemplate": "Actor=최민식<br>Genre=%{x}<br>Count=%{y}<extra></extra>",
         "legendgroup": "최민식",
         "marker": {
          "color": "#636efa",
          "pattern": {
           "shape": ""
          }
         },
         "name": "최민식",
         "offsetgroup": "최민식",
         "orientation": "v",
         "showlegend": true,
         "textposition": "auto",
         "type": "bar",
         "x": [
          "드라마",
          "사극",
          "스릴러",
          "액션"
         ],
         "xaxis": "x",
         "y": [
          4,
          3,
          3,
          3
         ],
         "yaxis": "y"
        },
        {
         "alignmentgroup": "True",
         "hovertemplate": "Actor=윤주상<br>Genre=%{x}<br>Count=%{y}<extra></extra>",
         "legendgroup": "윤주상",
         "marker": {
          "color": "#EF553B",
          "pattern": {
           "shape": ""
          }
         },
         "name": "윤주상",
         "offsetgroup": "윤주상",
         "orientation": "v",
         "showlegend": true,
         "textposition": "auto",
         "type": "bar",
         "x": [
          "드라마",
          "액션"
         ],
         "xaxis": "x",
         "y": [
          4,
          3
         ],
         "yaxis": "y"
        },
        {
         "alignmentgroup": "True",
         "hovertemplate": "Actor=조덕현<br>Genre=%{x}<br>Count=%{y}<extra></extra>",
         "legendgroup": "조덕현",
         "marker": {
          "color": "#00cc96",
          "pattern": {
           "shape": ""
          }
         },
         "name": "조덕현",
         "offsetgroup": "조덕현",
         "orientation": "v",
         "showlegend": true,
         "textposition": "auto",
         "type": "bar",
         "x": [
          "드라마"
         ],
         "xaxis": "x",
         "y": [
          4
         ],
         "yaxis": "y"
        },
        {
         "alignmentgroup": "True",
         "hovertemplate": "Actor=박효주<br>Genre=%{x}<br>Count=%{y}<extra></extra>",
         "legendgroup": "박효주",
         "marker": {
          "color": "#ab63fa",
          "pattern": {
           "shape": ""
          }
         },
         "name": "박효주",
         "offsetgroup": "박효주",
         "orientation": "v",
         "showlegend": true,
         "textposition": "auto",
         "type": "bar",
         "x": [
          "드라마"
         ],
         "xaxis": "x",
         "y": [
          4
         ],
         "yaxis": "y"
        },
        {
         "alignmentgroup": "True",
         "hovertemplate": "Actor=차인표<br>Genre=%{x}<br>Count=%{y}<extra></extra>",
         "legendgroup": "차인표",
         "marker": {
          "color": "#FFA15A",
          "pattern": {
           "shape": ""
          }
         },
         "name": "차인표",
         "offsetgroup": "차인표",
         "orientation": "v",
         "showlegend": true,
         "textposition": "auto",
         "type": "bar",
         "x": [
          "드라마"
         ],
         "xaxis": "x",
         "y": [
          4
         ],
         "yaxis": "y"
        },
        {
         "alignmentgroup": "True",
         "hovertemplate": "Actor=성유빈<br>Genre=%{x}<br>Count=%{y}<extra></extra>",
         "legendgroup": "성유빈",
         "marker": {
          "color": "#19d3f3",
          "pattern": {
           "shape": ""
          }
         },
         "name": "성유빈",
         "offsetgroup": "성유빈",
         "orientation": "v",
         "showlegend": true,
         "textposition": "auto",
         "type": "bar",
         "x": [
          "드라마",
          "사극"
         ],
         "xaxis": "x",
         "y": [
          4,
          3
         ],
         "yaxis": "y"
        },
        {
         "alignmentgroup": "True",
         "hovertemplate": "Actor=정유미<br>Genre=%{x}<br>Count=%{y}<extra></extra>",
         "legendgroup": "정유미",
         "marker": {
          "color": "#FF6692",
          "pattern": {
           "shape": ""
          }
         },
         "name": "정유미",
         "offsetgroup": "정유미",
         "orientation": "v",
         "showlegend": true,
         "textposition": "auto",
         "type": "bar",
         "x": [
          "드라마",
          "액션"
         ],
         "xaxis": "x",
         "y": [
          4,
          4
         ],
         "yaxis": "y"
        },
        {
         "alignmentgroup": "True",
         "hovertemplate": "Actor=김남길<br>Genre=%{x}<br>Count=%{y}<extra></extra>",
         "legendgroup": "김남길",
         "marker": {
          "color": "#B6E880",
          "pattern": {
           "shape": ""
          }
         },
         "name": "김남길",
         "offsetgroup": "김남길",
         "orientation": "v",
         "showlegend": true,
         "textposition": "auto",
         "type": "bar",
         "x": [
          "드라마"
         ],
         "xaxis": "x",
         "y": [
          4
         ],
         "yaxis": "y"
        },
        {
         "alignmentgroup": "True",
         "hovertemplate": "Actor=허성태<br>Genre=%{x}<br>Count=%{y}<extra></extra>",
         "legendgroup": "허성태",
         "marker": {
          "color": "#FF97FF",
          "pattern": {
           "shape": ""
          }
         },
         "name": "허성태",
         "offsetgroup": "허성태",
         "orientation": "v",
         "showlegend": true,
         "textposition": "auto",
         "type": "bar",
         "x": [
          "드라마",
          "범죄",
          "액션"
         ],
         "xaxis": "x",
         "y": [
          4,
          4,
          6
         ],
         "yaxis": "y"
        },
        {
         "alignmentgroup": "True",
         "hovertemplate": "Actor=고수<br>Genre=%{x}<br>Count=%{y}<extra></extra>",
         "legendgroup": "고수",
         "marker": {
          "color": "#FECB52",
          "pattern": {
           "shape": ""
          }
         },
         "name": "고수",
         "offsetgroup": "고수",
         "orientation": "v",
         "showlegend": true,
         "textposition": "auto",
         "type": "bar",
         "x": [
          "드라마"
         ],
         "xaxis": "x",
         "y": [
          4
         ],
         "yaxis": "y"
        },
        {
         "alignmentgroup": "True",
         "hovertemplate": "Actor=이레<br>Genre=%{x}<br>Count=%{y}<extra></extra>",
         "legendgroup": "이레",
         "marker": {
          "color": "#636efa",
          "pattern": {
           "shape": ""
          }
         },
         "name": "이레",
         "offsetgroup": "이레",
         "orientation": "v",
         "showlegend": true,
         "textposition": "auto",
         "type": "bar",
         "x": [
          "드라마"
         ],
         "xaxis": "x",
         "y": [
          4
         ],
         "yaxis": "y"
        },
        {
         "alignmentgroup": "True",
         "hovertemplate": "Actor=염혜란<br>Genre=%{x}<br>Count=%{y}<extra></extra>",
         "legendgroup": "염혜란",
         "marker": {
          "color": "#EF553B",
          "pattern": {
           "shape": ""
          }
         },
         "name": "염혜란",
         "offsetgroup": "염혜란",
         "orientation": "v",
         "showlegend": true,
         "textposition": "auto",
         "type": "bar",
         "x": [
          "드라마"
         ],
         "xaxis": "x",
         "y": [
          4
         ],
         "yaxis": "y"
        },
        {
         "alignmentgroup": "True",
         "hovertemplate": "Actor=김재화<br>Genre=%{x}<br>Count=%{y}<extra></extra>",
         "legendgroup": "김재화",
         "marker": {
          "color": "#00cc96",
          "pattern": {
           "shape": ""
          }
         },
         "name": "김재화",
         "offsetgroup": "김재화",
         "orientation": "v",
         "showlegend": true,
         "textposition": "auto",
         "type": "bar",
         "x": [
          "드라마",
          "액션",
          "코미디"
         ],
         "xaxis": "x",
         "y": [
          4,
          3,
          3
         ],
         "yaxis": "y"
        },
        {
         "alignmentgroup": "True",
         "hovertemplate": "Actor=유준상<br>Genre=%{x}<br>Count=%{y}<extra></extra>",
         "legendgroup": "유준상",
         "marker": {
          "color": "#ab63fa",
          "pattern": {
           "shape": ""
          }
         },
         "name": "유준상",
         "offsetgroup": "유준상",
         "orientation": "v",
         "showlegend": true,
         "textposition": "auto",
         "type": "bar",
         "x": [
          "드라마",
          "액션"
         ],
         "xaxis": "x",
         "y": [
          4,
          3
         ],
         "yaxis": "y"
        },
        {
         "alignmentgroup": "True",
         "hovertemplate": "Actor=김강우<br>Genre=%{x}<br>Count=%{y}<extra></extra>",
         "legendgroup": "김강우",
         "marker": {
          "color": "#FFA15A",
          "pattern": {
           "shape": ""
          }
         },
         "name": "김강우",
         "offsetgroup": "김강우",
         "orientation": "v",
         "showlegend": true,
         "textposition": "auto",
         "type": "bar",
         "x": [
          "드라마"
         ],
         "xaxis": "x",
         "y": [
          4
         ],
         "yaxis": "y"
        },
        {
         "alignmentgroup": "True",
         "hovertemplate": "Actor=안길강<br>Genre=%{x}<br>Count=%{y}<extra></extra>",
         "legendgroup": "안길강",
         "marker": {
          "color": "#19d3f3",
          "pattern": {
           "shape": ""
          }
         },
         "name": "안길강",
         "offsetgroup": "안길강",
         "orientation": "v",
         "showlegend": true,
         "textposition": "auto",
         "type": "bar",
         "x": [
          "드라마",
          "액션",
          "코미디"
         ],
         "xaxis": "x",
         "y": [
          4,
          3,
          4
         ],
         "yaxis": "y"
        },
        {
         "alignmentgroup": "True",
         "hovertemplate": "Actor=류승수<br>Genre=%{x}<br>Count=%{y}<extra></extra>",
         "legendgroup": "류승수",
         "marker": {
          "color": "#FF6692",
          "pattern": {
           "shape": ""
          }
         },
         "name": "류승수",
         "offsetgroup": "류승수",
         "orientation": "v",
         "showlegend": true,
         "textposition": "auto",
         "type": "bar",
         "x": [
          "드라마",
          "코미디"
         ],
         "xaxis": "x",
         "y": [
          4,
          5
         ],
         "yaxis": "y"
        },
        {
         "alignmentgroup": "True",
         "hovertemplate": "Actor=기주봉<br>Genre=%{x}<br>Count=%{y}<extra></extra>",
         "legendgroup": "기주봉",
         "marker": {
          "color": "#B6E880",
          "pattern": {
           "shape": ""
          }
         },
         "name": "기주봉",
         "offsetgroup": "기주봉",
         "orientation": "v",
         "showlegend": true,
         "textposition": "auto",
         "type": "bar",
         "x": [
          "드라마"
         ],
         "xaxis": "x",
         "y": [
          4
         ],
         "yaxis": "y"
        },
        {
         "alignmentgroup": "True",
         "hovertemplate": "Actor=정민성<br>Genre=%{x}<br>Count=%{y}<extra></extra>",
         "legendgroup": "정민성",
         "marker": {
          "color": "#FF97FF",
          "pattern": {
           "shape": ""
          }
         },
         "name": "정민성",
         "offsetgroup": "정민성",
         "orientation": "v",
         "showlegend": true,
         "textposition": "auto",
         "type": "bar",
         "x": [
          "드라마",
          "범죄"
         ],
         "xaxis": "x",
         "y": [
          4,
          3
         ],
         "yaxis": "y"
        },
        {
         "alignmentgroup": "True",
         "hovertemplate": "Actor=김래원<br>Genre=%{x}<br>Count=%{y}<extra></extra>",
         "legendgroup": "김래원",
         "marker": {
          "color": "#FECB52",
          "pattern": {
           "shape": ""
          }
         },
         "name": "김래원",
         "offsetgroup": "김래원",
         "orientation": "v",
         "showlegend": true,
         "textposition": "auto",
         "type": "bar",
         "x": [
          "드라마",
          "범죄",
          "액션"
         ],
         "xaxis": "x",
         "y": [
          4,
          3,
          6
         ],
         "yaxis": "y"
        },
        {
         "alignmentgroup": "True",
         "hovertemplate": "Actor=이재용<br>Genre=%{x}<br>Count=%{y}<extra></extra>",
         "legendgroup": "이재용",
         "marker": {
          "color": "#636efa",
          "pattern": {
           "shape": ""
          }
         },
         "name": "이재용",
         "offsetgroup": "이재용",
         "orientation": "v",
         "showlegend": true,
         "textposition": "auto",
         "type": "bar",
         "x": [
          "드라마"
         ],
         "xaxis": "x",
         "y": [
          4
         ],
         "yaxis": "y"
        },
        {
         "alignmentgroup": "True",
         "hovertemplate": "Actor=임형준<br>Genre=%{x}<br>Count=%{y}<extra></extra>",
         "legendgroup": "임형준",
         "marker": {
          "color": "#EF553B",
          "pattern": {
           "shape": ""
          }
         },
         "name": "임형준",
         "offsetgroup": "임형준",
         "orientation": "v",
         "showlegend": true,
         "textposition": "auto",
         "type": "bar",
         "x": [
          "드라마",
          "코미디"
         ],
         "xaxis": "x",
         "y": [
          4,
          3
         ],
         "yaxis": "y"
        },
        {
         "alignmentgroup": "True",
         "hovertemplate": "Actor=오태경<br>Genre=%{x}<br>Count=%{y}<extra></extra>",
         "legendgroup": "오태경",
         "marker": {
          "color": "#00cc96",
          "pattern": {
           "shape": ""
          }
         },
         "name": "오태경",
         "offsetgroup": "오태경",
         "orientation": "v",
         "showlegend": true,
         "textposition": "auto",
         "type": "bar",
         "x": [
          "드라마"
         ],
         "xaxis": "x",
         "y": [
          4
         ],
         "yaxis": "y"
        },
        {
         "alignmentgroup": "True",
         "hovertemplate": "Actor=전도연<br>Genre=%{x}<br>Count=%{y}<extra></extra>",
         "legendgroup": "전도연",
         "marker": {
          "color": "#ab63fa",
          "pattern": {
           "shape": ""
          }
         },
         "name": "전도연",
         "offsetgroup": "전도연",
         "orientation": "v",
         "showlegend": true,
         "textposition": "auto",
         "type": "bar",
         "x": [
          "드라마"
         ],
         "xaxis": "x",
         "y": [
          4
         ],
         "yaxis": "y"
        },
        {
         "alignmentgroup": "True",
         "hovertemplate": "Actor=한예리<br>Genre=%{x}<br>Count=%{y}<extra></extra>",
         "legendgroup": "한예리",
         "marker": {
          "color": "#FFA15A",
          "pattern": {
           "shape": ""
          }
         },
         "name": "한예리",
         "offsetgroup": "한예리",
         "orientation": "v",
         "showlegend": true,
         "textposition": "auto",
         "type": "bar",
         "x": [
          "드라마"
         ],
         "xaxis": "x",
         "y": [
          4
         ],
         "yaxis": "y"
        },
        {
         "alignmentgroup": "True",
         "hovertemplate": "Actor=김유정<br>Genre=%{x}<br>Count=%{y}<extra></extra>",
         "legendgroup": "김유정",
         "marker": {
          "color": "#19d3f3",
          "pattern": {
           "shape": ""
          }
         },
         "name": "김유정",
         "offsetgroup": "김유정",
         "orientation": "v",
         "showlegend": true,
         "textposition": "auto",
         "type": "bar",
         "x": [
          "드라마"
         ],
         "xaxis": "x",
         "y": [
          4
         ],
         "yaxis": "y"
        },
        {
         "alignmentgroup": "True",
         "hovertemplate": "Actor=임수정<br>Genre=%{x}<br>Count=%{y}<extra></extra>",
         "legendgroup": "임수정",
         "marker": {
          "color": "#FF6692",
          "pattern": {
           "shape": ""
          }
         },
         "name": "임수정",
         "offsetgroup": "임수정",
         "orientation": "v",
         "showlegend": true,
         "textposition": "auto",
         "type": "bar",
         "x": [
          "드라마",
          "멜로/로맨스"
         ],
         "xaxis": "x",
         "y": [
          4,
          3
         ],
         "yaxis": "y"
        },
        {
         "alignmentgroup": "True",
         "hovertemplate": "Actor=차태현<br>Genre=%{x}<br>Count=%{y}<extra></extra>",
         "legendgroup": "차태현",
         "marker": {
          "color": "#B6E880",
          "pattern": {
           "shape": ""
          }
         },
         "name": "차태현",
         "offsetgroup": "차태현",
         "orientation": "v",
         "showlegend": true,
         "textposition": "auto",
         "type": "bar",
         "x": [
          "드라마",
          "코미디"
         ],
         "xaxis": "x",
         "y": [
          5,
          7
         ],
         "yaxis": "y"
        },
        {
         "alignmentgroup": "True",
         "hovertemplate": "Actor=예수정<br>Genre=%{x}<br>Count=%{y}<extra></extra>",
         "legendgroup": "예수정",
         "marker": {
          "color": "#FF97FF",
          "pattern": {
           "shape": ""
          }
         },
         "name": "예수정",
         "offsetgroup": "예수정",
         "orientation": "v",
         "showlegend": true,
         "textposition": "auto",
         "type": "bar",
         "x": [
          "드라마",
          "스릴러",
          "액션"
         ],
         "xaxis": "x",
         "y": [
          5,
          3,
          3
         ],
         "yaxis": "y"
        },
        {
         "alignmentgroup": "True",
         "hovertemplate": "Actor=이동휘<br>Genre=%{x}<br>Count=%{y}<extra></extra>",
         "legendgroup": "이동휘",
         "marker": {
          "color": "#FECB52",
          "pattern": {
           "shape": ""
          }
         },
         "name": "이동휘",
         "offsetgroup": "이동휘",
         "orientation": "v",
         "showlegend": true,
         "textposition": "auto",
         "type": "bar",
         "x": [
          "드라마",
          "액션",
          "코미디"
         ],
         "xaxis": "x",
         "y": [
          5,
          4,
          3
         ],
         "yaxis": "y"
        },
        {
         "alignmentgroup": "True",
         "hovertemplate": "Actor=박정학<br>Genre=%{x}<br>Count=%{y}<extra></extra>",
         "legendgroup": "박정학",
         "marker": {
          "color": "#636efa",
          "pattern": {
           "shape": ""
          }
         },
         "name": "박정학",
         "offsetgroup": "박정학",
         "orientation": "v",
         "showlegend": true,
         "textposition": "auto",
         "type": "bar",
         "x": [
          "드라마",
          "액션"
         ],
         "xaxis": "x",
         "y": [
          5,
          3
         ],
         "yaxis": "y"
        },
        {
         "alignmentgroup": "True",
         "hovertemplate": "Actor=곽자형<br>Genre=%{x}<br>Count=%{y}<extra></extra>",
         "legendgroup": "곽자형",
         "marker": {
          "color": "#EF553B",
          "pattern": {
           "shape": ""
          }
         },
         "name": "곽자형",
         "offsetgroup": "곽자형",
         "orientation": "v",
         "showlegend": true,
         "textposition": "auto",
         "type": "bar",
         "x": [
          "드라마"
         ],
         "xaxis": "x",
         "y": [
          5
         ],
         "yaxis": "y"
        },
        {
         "alignmentgroup": "True",
         "hovertemplate": "Actor=김성오<br>Genre=%{x}<br>Count=%{y}<extra></extra>",
         "legendgroup": "김성오",
         "marker": {
          "color": "#00cc96",
          "pattern": {
           "shape": ""
          }
         },
         "name": "김성오",
         "offsetgroup": "김성오",
         "orientation": "v",
         "showlegend": true,
         "textposition": "auto",
         "type": "bar",
         "x": [
          "드라마",
          "액션",
          "코미디"
         ],
         "xaxis": "x",
         "y": [
          5,
          4,
          3
         ],
         "yaxis": "y"
        },
        {
         "alignmentgroup": "True",
         "hovertemplate": "Actor=최병모<br>Genre=%{x}<br>Count=%{y}<extra></extra>",
         "legendgroup": "최병모",
         "marker": {
          "color": "#ab63fa",
          "pattern": {
           "shape": ""
          }
         },
         "name": "최병모",
         "offsetgroup": "최병모",
         "orientation": "v",
         "showlegend": true,
         "textposition": "auto",
         "type": "bar",
         "x": [
          "드라마",
          "범죄",
          "액션"
         ],
         "xaxis": "x",
         "y": [
          5,
          3,
          3
         ],
         "yaxis": "y"
        },
        {
         "alignmentgroup": "True",
         "hovertemplate": "Actor=이성민<br>Genre=%{x}<br>Count=%{y}<extra></extra>",
         "legendgroup": "이성민",
         "marker": {
          "color": "#FFA15A",
          "pattern": {
           "shape": ""
          }
         },
         "name": "이성민",
         "offsetgroup": "이성민",
         "orientation": "v",
         "showlegend": true,
         "textposition": "auto",
         "type": "bar",
         "x": [
          "드라마",
          "범죄",
          "액션",
          "코미디"
         ],
         "xaxis": "x",
         "y": [
          5,
          3,
          3,
          3
         ],
         "yaxis": "y"
        },
        {
         "alignmentgroup": "True",
         "hovertemplate": "Actor=박원상<br>Genre=%{x}<br>Count=%{y}<extra></extra>",
         "legendgroup": "박원상",
         "marker": {
          "color": "#19d3f3",
          "pattern": {
           "shape": ""
          }
         },
         "name": "박원상",
         "offsetgroup": "박원상",
         "orientation": "v",
         "showlegend": true,
         "textposition": "auto",
         "type": "bar",
         "x": [
          "드라마"
         ],
         "xaxis": "x",
         "y": [
          5
         ],
         "yaxis": "y"
        },
        {
         "alignmentgroup": "True",
         "hovertemplate": "Actor=변희봉<br>Genre=%{x}<br>Count=%{y}<extra></extra>",
         "legendgroup": "변희봉",
         "marker": {
          "color": "#FF6692",
          "pattern": {
           "shape": ""
          }
         },
         "name": "변희봉",
         "offsetgroup": "변희봉",
         "orientation": "v",
         "showlegend": true,
         "textposition": "auto",
         "type": "bar",
         "x": [
          "드라마",
          "코미디"
         ],
         "xaxis": "x",
         "y": [
          5,
          6
         ],
         "yaxis": "y"
        },
        {
         "alignmentgroup": "True",
         "hovertemplate": "Actor=배두나<br>Genre=%{x}<br>Count=%{y}<extra></extra>",
         "legendgroup": "배두나",
         "marker": {
          "color": "#B6E880",
          "pattern": {
           "shape": ""
          }
         },
         "name": "배두나",
         "offsetgroup": "배두나",
         "orientation": "v",
         "showlegend": true,
         "textposition": "auto",
         "type": "bar",
         "x": [
          "드라마"
         ],
         "xaxis": "x",
         "y": [
          5
         ],
         "yaxis": "y"
        },
        {
         "alignmentgroup": "True",
         "hovertemplate": "Actor=고아성<br>Genre=%{x}<br>Count=%{y}<extra></extra>",
         "legendgroup": "고아성",
         "marker": {
          "color": "#FF97FF",
          "pattern": {
           "shape": ""
          }
         },
         "name": "고아성",
         "offsetgroup": "고아성",
         "orientation": "v",
         "showlegend": true,
         "textposition": "auto",
         "type": "bar",
         "x": [
          "드라마"
         ],
         "xaxis": "x",
         "y": [
          5
         ],
         "yaxis": "y"
        },
        {
         "alignmentgroup": "True",
         "hovertemplate": "Actor=김홍파<br>Genre=%{x}<br>Count=%{y}<extra></extra>",
         "legendgroup": "김홍파",
         "marker": {
          "color": "#FECB52",
          "pattern": {
           "shape": ""
          }
         },
         "name": "김홍파",
         "offsetgroup": "김홍파",
         "orientation": "v",
         "showlegend": true,
         "textposition": "auto",
         "type": "bar",
         "x": [
          "드라마",
          "범죄"
         ],
         "xaxis": "x",
         "y": [
          5,
          6
         ],
         "yaxis": "y"
        },
        {
         "alignmentgroup": "True",
         "hovertemplate": "Actor=이정재<br>Genre=%{x}<br>Count=%{y}<extra></extra>",
         "legendgroup": "이정재",
         "marker": {
          "color": "#636efa",
          "pattern": {
           "shape": ""
          }
         },
         "name": "이정재",
         "offsetgroup": "이정재",
         "orientation": "v",
         "showlegend": true,
         "textposition": "auto",
         "type": "bar",
         "x": [
          "드라마",
          "범죄",
          "액션"
         ],
         "xaxis": "x",
         "y": [
          5,
          3,
          7
         ],
         "yaxis": "y"
        },
        {
         "alignmentgroup": "True",
         "hovertemplate": "Actor=심은경<br>Genre=%{x}<br>Count=%{y}<extra></extra>",
         "legendgroup": "심은경",
         "marker": {
          "color": "#EF553B",
          "pattern": {
           "shape": ""
          }
         },
         "name": "심은경",
         "offsetgroup": "심은경",
         "orientation": "v",
         "showlegend": true,
         "textposition": "auto",
         "type": "bar",
         "x": [
          "드라마"
         ],
         "xaxis": "x",
         "y": [
          5
         ],
         "yaxis": "y"
        },
        {
         "alignmentgroup": "True",
         "hovertemplate": "Actor=정석용<br>Genre=%{x}<br>Count=%{y}<extra></extra>",
         "legendgroup": "정석용",
         "marker": {
          "color": "#00cc96",
          "pattern": {
           "shape": ""
          }
         },
         "name": "정석용",
         "offsetgroup": "정석용",
         "orientation": "v",
         "showlegend": true,
         "textposition": "auto",
         "type": "bar",
         "x": [
          "드라마",
          "코미디"
         ],
         "xaxis": "x",
         "y": [
          5,
          3
         ],
         "yaxis": "y"
        },
        {
         "alignmentgroup": "True",
         "hovertemplate": "Actor=조한철<br>Genre=%{x}<br>Count=%{y}<extra></extra>",
         "legendgroup": "조한철",
         "marker": {
          "color": "#ab63fa",
          "pattern": {
           "shape": ""
          }
         },
         "name": "조한철",
         "offsetgroup": "조한철",
         "orientation": "v",
         "showlegend": true,
         "textposition": "auto",
         "type": "bar",
         "x": [
          "드라마"
         ],
         "xaxis": "x",
         "y": [
          5
         ],
         "yaxis": "y"
        },
        {
         "alignmentgroup": "True",
         "hovertemplate": "Actor=이봉련<br>Genre=%{x}<br>Count=%{y}<extra></extra>",
         "legendgroup": "이봉련",
         "marker": {
          "color": "#FFA15A",
          "pattern": {
           "shape": ""
          }
         },
         "name": "이봉련",
         "offsetgroup": "이봉련",
         "orientation": "v",
         "showlegend": true,
         "textposition": "auto",
         "type": "bar",
         "x": [
          "드라마"
         ],
         "xaxis": "x",
         "y": [
          5
         ],
         "yaxis": "y"
        },
        {
         "alignmentgroup": "True",
         "hovertemplate": "Actor=엄정화<br>Genre=%{x}<br>Count=%{y}<extra></extra>",
         "legendgroup": "엄정화",
         "marker": {
          "color": "#19d3f3",
          "pattern": {
           "shape": ""
          }
         },
         "name": "엄정화",
         "offsetgroup": "엄정화",
         "orientation": "v",
         "showlegend": true,
         "textposition": "auto",
         "type": "bar",
         "x": [
          "드라마",
          "액션",
          "코미디"
         ],
         "xaxis": "x",
         "y": [
          5,
          3,
          3
         ],
         "yaxis": "y"
        },
        {
         "alignmentgroup": "True",
         "hovertemplate": "Actor=백윤식<br>Genre=%{x}<br>Count=%{y}<extra></extra>",
         "legendgroup": "백윤식",
         "marker": {
          "color": "#FF6692",
          "pattern": {
           "shape": ""
          }
         },
         "name": "백윤식",
         "offsetgroup": "백윤식",
         "orientation": "v",
         "showlegend": true,
         "textposition": "auto",
         "type": "bar",
         "x": [
          "드라마",
          "사극",
          "코미디"
         ],
         "xaxis": "x",
         "y": [
          5,
          3,
          3
         ],
         "yaxis": "y"
        },
        {
         "alignmentgroup": "True",
         "hovertemplate": "Actor=이종석<br>Genre=%{x}<br>Count=%{y}<extra></extra>",
         "legendgroup": "이종석",
         "marker": {
          "color": "#B6E880",
          "pattern": {
           "shape": ""
          }
         },
         "name": "이종석",
         "offsetgroup": "이종석",
         "orientation": "v",
         "showlegend": true,
         "textposition": "auto",
         "type": "bar",
         "x": [
          "드라마"
         ],
         "xaxis": "x",
         "y": [
          5
         ],
         "yaxis": "y"
        },
        {
         "alignmentgroup": "True",
         "hovertemplate": "Actor=나문희<br>Genre=%{x}<br>Count=%{y}<extra></extra>",
         "legendgroup": "나문희",
         "marker": {
          "color": "#FF97FF",
          "pattern": {
           "shape": ""
          }
         },
         "name": "나문희",
         "offsetgroup": "나문희",
         "orientation": "v",
         "showlegend": true,
         "textposition": "auto",
         "type": "bar",
         "x": [
          "드라마",
          "코미디"
         ],
         "xaxis": "x",
         "y": [
          5,
          4
         ],
         "yaxis": "y"
        },
        {
         "alignmentgroup": "True",
         "hovertemplate": "Actor=김지영<br>Genre=%{x}<br>Count=%{y}<extra></extra>",
         "legendgroup": "김지영",
         "marker": {
          "color": "#FECB52",
          "pattern": {
           "shape": ""
          }
         },
         "name": "김지영",
         "offsetgroup": "김지영",
         "orientation": "v",
         "showlegend": true,
         "textposition": "auto",
         "type": "bar",
         "x": [
          "드라마",
          "액션",
          "코미디"
         ],
         "xaxis": "x",
         "y": [
          5,
          3,
          6
         ],
         "yaxis": "y"
        },
        {
         "alignmentgroup": "True",
         "hovertemplate": "Actor=남문철<br>Genre=%{x}<br>Count=%{y}<extra></extra>",
         "legendgroup": "남문철",
         "marker": {
          "color": "#636efa",
          "pattern": {
           "shape": ""
          }
         },
         "name": "남문철",
         "offsetgroup": "남문철",
         "orientation": "v",
         "showlegend": true,
         "textposition": "auto",
         "type": "bar",
         "x": [
          "드라마",
          "범죄"
         ],
         "xaxis": "x",
         "y": [
          5,
          3
         ],
         "yaxis": "y"
        },
        {
         "alignmentgroup": "True",
         "hovertemplate": "Actor=김원해<br>Genre=%{x}<br>Count=%{y}<extra></extra>",
         "legendgroup": "김원해",
         "marker": {
          "color": "#EF553B",
          "pattern": {
           "shape": ""
          }
         },
         "name": "김원해",
         "offsetgroup": "김원해",
         "orientation": "v",
         "showlegend": true,
         "textposition": "auto",
         "type": "bar",
         "x": [
          "드라마",
          "액션"
         ],
         "xaxis": "x",
         "y": [
          5,
          4
         ],
         "yaxis": "y"
        },
        {
         "alignmentgroup": "True",
         "hovertemplate": "Actor=이해영<br>Genre=%{x}<br>Count=%{y}<extra></extra>",
         "legendgroup": "이해영",
         "marker": {
          "color": "#00cc96",
          "pattern": {
           "shape": ""
          }
         },
         "name": "이해영",
         "offsetgroup": "이해영",
         "orientation": "v",
         "showlegend": true,
         "textposition": "auto",
         "type": "bar",
         "x": [
          "드라마",
          "액션",
          "코미디"
         ],
         "xaxis": "x",
         "y": [
          5,
          5,
          5
         ],
         "yaxis": "y"
        },
        {
         "alignmentgroup": "True",
         "hovertemplate": "Actor=박영서<br>Genre=%{x}<br>Count=%{y}<extra></extra>",
         "legendgroup": "박영서",
         "marker": {
          "color": "#ab63fa",
          "pattern": {
           "shape": ""
          }
         },
         "name": "박영서",
         "offsetgroup": "박영서",
         "orientation": "v",
         "showlegend": true,
         "textposition": "auto",
         "type": "bar",
         "x": [
          "드라마",
          "코미디"
         ],
         "xaxis": "x",
         "y": [
          5,
          3
         ],
         "yaxis": "y"
        },
        {
         "alignmentgroup": "True",
         "hovertemplate": "Actor=박지환<br>Genre=%{x}<br>Count=%{y}<extra></extra>",
         "legendgroup": "박지환",
         "marker": {
          "color": "#FFA15A",
          "pattern": {
           "shape": ""
          }
         },
         "name": "박지환",
         "offsetgroup": "박지환",
         "orientation": "v",
         "showlegend": true,
         "textposition": "auto",
         "type": "bar",
         "x": [
          "드라마",
          "범죄",
          "액션"
         ],
         "xaxis": "x",
         "y": [
          5,
          5,
          7
         ],
         "yaxis": "y"
        },
        {
         "alignmentgroup": "True",
         "hovertemplate": "Actor=박희순<br>Genre=%{x}<br>Count=%{y}<extra></extra>",
         "legendgroup": "박희순",
         "marker": {
          "color": "#19d3f3",
          "pattern": {
           "shape": ""
          }
         },
         "name": "박희순",
         "offsetgroup": "박희순",
         "orientation": "v",
         "showlegend": true,
         "textposition": "auto",
         "type": "bar",
         "x": [
          "드라마",
          "범죄",
          "스릴러"
         ],
         "xaxis": "x",
         "y": [
          5,
          3,
          6
         ],
         "yaxis": "y"
        },
        {
         "alignmentgroup": "True",
         "hovertemplate": "Actor=조현철<br>Genre=%{x}<br>Count=%{y}<extra></extra>",
         "legendgroup": "조현철",
         "marker": {
          "color": "#FF6692",
          "pattern": {
           "shape": ""
          }
         },
         "name": "조현철",
         "offsetgroup": "조현철",
         "orientation": "v",
         "showlegend": true,
         "textposition": "auto",
         "type": "bar",
         "x": [
          "드라마"
         ],
         "xaxis": "x",
         "y": [
          5
         ],
         "yaxis": "y"
        },
        {
         "alignmentgroup": "True",
         "hovertemplate": "Actor=박진우<br>Genre=%{x}<br>Count=%{y}<extra></extra>",
         "legendgroup": "박진우",
         "marker": {
          "color": "#B6E880",
          "pattern": {
           "shape": ""
          }
         },
         "name": "박진우",
         "offsetgroup": "박진우",
         "orientation": "v",
         "showlegend": true,
         "textposition": "auto",
         "type": "bar",
         "x": [
          "드라마",
          "범죄",
          "액션"
         ],
         "xaxis": "x",
         "y": [
          5,
          3,
          4
         ],
         "yaxis": "y"
        },
        {
         "alignmentgroup": "True",
         "hovertemplate": "Actor=유연석<br>Genre=%{x}<br>Count=%{y}<extra></extra>",
         "legendgroup": "유연석",
         "marker": {
          "color": "#FF97FF",
          "pattern": {
           "shape": ""
          }
         },
         "name": "유연석",
         "offsetgroup": "유연석",
         "orientation": "v",
         "showlegend": true,
         "textposition": "auto",
         "type": "bar",
         "x": [
          "드라마",
          "멜로/로맨스",
          "액션"
         ],
         "xaxis": "x",
         "y": [
          5,
          3,
          3
         ],
         "yaxis": "y"
        },
        {
         "alignmentgroup": "True",
         "hovertemplate": "Actor=김호연<br>Genre=%{x}<br>Count=%{y}<extra></extra>",
         "legendgroup": "김호연",
         "marker": {
          "color": "#FECB52",
          "pattern": {
           "shape": ""
          }
         },
         "name": "김호연",
         "offsetgroup": "김호연",
         "orientation": "v",
         "showlegend": true,
         "textposition": "auto",
         "type": "bar",
         "x": [
          "드라마"
         ],
         "xaxis": "x",
         "y": [
          5
         ],
         "yaxis": "y"
        },
        {
         "alignmentgroup": "True",
         "hovertemplate": "Actor=진구<br>Genre=%{x}<br>Count=%{y}<extra></extra>",
         "legendgroup": "진구",
         "marker": {
          "color": "#636efa",
          "pattern": {
           "shape": ""
          }
         },
         "name": "진구",
         "offsetgroup": "진구",
         "orientation": "v",
         "showlegend": true,
         "textposition": "auto",
         "type": "bar",
         "x": [
          "드라마",
          "액션"
         ],
         "xaxis": "x",
         "y": [
          5,
          4
         ],
         "yaxis": "y"
        },
        {
         "alignmentgroup": "True",
         "hovertemplate": "Actor=손예진<br>Genre=%{x}<br>Count=%{y}<extra></extra>",
         "legendgroup": "손예진",
         "marker": {
          "color": "#EF553B",
          "pattern": {
           "shape": ""
          }
         },
         "name": "손예진",
         "offsetgroup": "손예진",
         "orientation": "v",
         "showlegend": true,
         "textposition": "auto",
         "type": "bar",
         "x": [
          "드라마",
          "멜로/로맨스",
          "코미디"
         ],
         "xaxis": "x",
         "y": [
          5,
          4,
          3
         ],
         "yaxis": "y"
        },
        {
         "alignmentgroup": "True",
         "hovertemplate": "Actor=전국환<br>Genre=%{x}<br>Count=%{y}<extra></extra>",
         "legendgroup": "전국환",
         "marker": {
          "color": "#00cc96",
          "pattern": {
           "shape": ""
          }
         },
         "name": "전국환",
         "offsetgroup": "전국환",
         "orientation": "v",
         "showlegend": true,
         "textposition": "auto",
         "type": "bar",
         "x": [
          "드라마",
          "액션"
         ],
         "xaxis": "x",
         "y": [
          5,
          3
         ],
         "yaxis": "y"
        },
        {
         "alignmentgroup": "True",
         "hovertemplate": "Actor=조인성<br>Genre=%{x}<br>Count=%{y}<extra></extra>",
         "legendgroup": "조인성",
         "marker": {
          "color": "#ab63fa",
          "pattern": {
           "shape": ""
          }
         },
         "name": "조인성",
         "offsetgroup": "조인성",
         "orientation": "v",
         "showlegend": true,
         "textposition": "auto",
         "type": "bar",
         "x": [
          "드라마",
          "액션"
         ],
         "xaxis": "x",
         "y": [
          5,
          4
         ],
         "yaxis": "y"
        },
        {
         "alignmentgroup": "True",
         "hovertemplate": "Actor=김영재<br>Genre=%{x}<br>Count=%{y}<extra></extra>",
         "legendgroup": "김영재",
         "marker": {
          "color": "#FFA15A",
          "pattern": {
           "shape": ""
          }
         },
         "name": "김영재",
         "offsetgroup": "김영재",
         "orientation": "v",
         "showlegend": true,
         "textposition": "auto",
         "type": "bar",
         "x": [
          "드라마"
         ],
         "xaxis": "x",
         "y": [
          5
         ],
         "yaxis": "y"
        },
        {
         "alignmentgroup": "True",
         "hovertemplate": "Actor=염정아<br>Genre=%{x}<br>Count=%{y}<extra></extra>",
         "legendgroup": "염정아",
         "marker": {
          "color": "#19d3f3",
          "pattern": {
           "shape": ""
          }
         },
         "name": "염정아",
         "offsetgroup": "염정아",
         "orientation": "v",
         "showlegend": true,
         "textposition": "auto",
         "type": "bar",
         "x": [
          "드라마",
          "스릴러",
          "액션",
          "코미디"
         ],
         "xaxis": "x",
         "y": [
          5,
          3,
          5,
          3
         ],
         "yaxis": "y"
        },
        {
         "alignmentgroup": "True",
         "hovertemplate": "Actor=김민상<br>Genre=%{x}<br>Count=%{y}<extra></extra>",
         "legendgroup": "김민상",
         "marker": {
          "color": "#FF6692",
          "pattern": {
           "shape": ""
          }
         },
         "name": "김민상",
         "offsetgroup": "김민상",
         "orientation": "v",
         "showlegend": true,
         "textposition": "auto",
         "type": "bar",
         "x": [
          "드라마"
         ],
         "xaxis": "x",
         "y": [
          5
         ],
         "yaxis": "y"
        },
        {
         "alignmentgroup": "True",
         "hovertemplate": "Actor=박지일<br>Genre=%{x}<br>Count=%{y}<extra></extra>",
         "legendgroup": "박지일",
         "marker": {
          "color": "#B6E880",
          "pattern": {
           "shape": ""
          }
         },
         "name": "박지일",
         "offsetgroup": "박지일",
         "orientation": "v",
         "showlegend": true,
         "textposition": "auto",
         "type": "bar",
         "x": [
          "드라마",
          "액션"
         ],
         "xaxis": "x",
         "y": [
          5,
          3
         ],
         "yaxis": "y"
        },
        {
         "alignmentgroup": "True",
         "hovertemplate": "Actor=이제훈<br>Genre=%{x}<br>Count=%{y}<extra></extra>",
         "legendgroup": "이제훈",
         "marker": {
          "color": "#FF97FF",
          "pattern": {
           "shape": ""
          }
         },
         "name": "이제훈",
         "offsetgroup": "이제훈",
         "orientation": "v",
         "showlegend": true,
         "textposition": "auto",
         "type": "bar",
         "x": [
          "드라마"
         ],
         "xaxis": "x",
         "y": [
          5
         ],
         "yaxis": "y"
        },
        {
         "alignmentgroup": "True",
         "hovertemplate": "Actor=이대연<br>Genre=%{x}<br>Count=%{y}<extra></extra>",
         "legendgroup": "이대연",
         "marker": {
          "color": "#FECB52",
          "pattern": {
           "shape": ""
          }
         },
         "name": "이대연",
         "offsetgroup": "이대연",
         "orientation": "v",
         "showlegend": true,
         "textposition": "auto",
         "type": "bar",
         "x": [
          "드라마",
          "코미디"
         ],
         "xaxis": "x",
         "y": [
          5,
          3
         ],
         "yaxis": "y"
        },
        {
         "alignmentgroup": "True",
         "hovertemplate": "Actor=권해효<br>Genre=%{x}<br>Count=%{y}<extra></extra>",
         "legendgroup": "권해효",
         "marker": {
          "color": "#636efa",
          "pattern": {
           "shape": ""
          }
         },
         "name": "권해효",
         "offsetgroup": "권해효",
         "orientation": "v",
         "showlegend": true,
         "textposition": "auto",
         "type": "bar",
         "x": [
          "드라마",
          "코미디"
         ],
         "xaxis": "x",
         "y": [
          5,
          3
         ],
         "yaxis": "y"
        },
        {
         "alignmentgroup": "True",
         "hovertemplate": "Actor=진선규<br>Genre=%{x}<br>Count=%{y}<extra></extra>",
         "legendgroup": "진선규",
         "marker": {
          "color": "#EF553B",
          "pattern": {
           "shape": ""
          }
         },
         "name": "진선규",
         "offsetgroup": "진선규",
         "orientation": "v",
         "showlegend": true,
         "textposition": "auto",
         "type": "bar",
         "x": [
          "드라마",
          "범죄",
          "액션",
          "코미디"
         ],
         "xaxis": "x",
         "y": [
          5,
          4,
          3,
          4
         ],
         "yaxis": "y"
        },
        {
         "alignmentgroup": "True",
         "hovertemplate": "Actor=허준호<br>Genre=%{x}<br>Count=%{y}<extra></extra>",
         "legendgroup": "허준호",
         "marker": {
          "color": "#00cc96",
          "pattern": {
           "shape": ""
          }
         },
         "name": "허준호",
         "offsetgroup": "허준호",
         "orientation": "v",
         "showlegend": true,
         "textposition": "auto",
         "type": "bar",
         "x": [
          "드라마",
          "사극",
          "액션"
         ],
         "xaxis": "x",
         "y": [
          5,
          3,
          4
         ],
         "yaxis": "y"
        },
        {
         "alignmentgroup": "True",
         "hovertemplate": "Actor=차승원<br>Genre=%{x}<br>Count=%{y}<extra></extra>",
         "legendgroup": "차승원",
         "marker": {
          "color": "#ab63fa",
          "pattern": {
           "shape": ""
          }
         },
         "name": "차승원",
         "offsetgroup": "차승원",
         "orientation": "v",
         "showlegend": true,
         "textposition": "auto",
         "type": "bar",
         "x": [
          "드라마",
          "스릴러",
          "액션",
          "코미디"
         ],
         "xaxis": "x",
         "y": [
          5,
          3,
          3,
          8
         ],
         "yaxis": "y"
        },
        {
         "alignmentgroup": "True",
         "hovertemplate": "Actor=김고은<br>Genre=%{x}<br>Count=%{y}<extra></extra>",
         "legendgroup": "김고은",
         "marker": {
          "color": "#FFA15A",
          "pattern": {
           "shape": ""
          }
         },
         "name": "김고은",
         "offsetgroup": "김고은",
         "orientation": "v",
         "showlegend": true,
         "textposition": "auto",
         "type": "bar",
         "x": [
          "드라마"
         ],
         "xaxis": "x",
         "y": [
          5
         ],
         "yaxis": "y"
        },
        {
         "alignmentgroup": "True",
         "hovertemplate": "Actor=강하늘<br>Genre=%{x}<br>Count=%{y}<extra></extra>",
         "legendgroup": "강하늘",
         "marker": {
          "color": "#19d3f3",
          "pattern": {
           "shape": ""
          }
         },
         "name": "강하늘",
         "offsetgroup": "강하늘",
         "orientation": "v",
         "showlegend": true,
         "textposition": "auto",
         "type": "bar",
         "x": [
          "드라마",
          "코미디"
         ],
         "xaxis": "x",
         "y": [
          5,
          5
         ],
         "yaxis": "y"
        },
        {
         "alignmentgroup": "True",
         "hovertemplate": "Actor=류승범<br>Genre=%{x}<br>Count=%{y}<extra></extra>",
         "legendgroup": "류승범",
         "marker": {
          "color": "#FF6692",
          "pattern": {
           "shape": ""
          }
         },
         "name": "류승범",
         "offsetgroup": "류승범",
         "orientation": "v",
         "showlegend": true,
         "textposition": "auto",
         "type": "bar",
         "x": [
          "드라마",
          "범죄",
          "액션",
          "코미디"
         ],
         "xaxis": "x",
         "y": [
          5,
          3,
          3,
          5
         ],
         "yaxis": "y"
        },
        {
         "alignmentgroup": "True",
         "hovertemplate": "Actor=주지훈<br>Genre=%{x}<br>Count=%{y}<extra></extra>",
         "legendgroup": "주지훈",
         "marker": {
          "color": "#B6E880",
          "pattern": {
           "shape": ""
          }
         },
         "name": "주지훈",
         "offsetgroup": "주지훈",
         "orientation": "v",
         "showlegend": true,
         "textposition": "auto",
         "type": "bar",
         "x": [
          "드라마"
         ],
         "xaxis": "x",
         "y": [
          6
         ],
         "yaxis": "y"
        },
        {
         "alignmentgroup": "True",
         "hovertemplate": "Actor=김성균<br>Genre=%{x}<br>Count=%{y}<extra></extra>",
         "legendgroup": "김성균",
         "marker": {
          "color": "#FF97FF",
          "pattern": {
           "shape": ""
          }
         },
         "name": "김성균",
         "offsetgroup": "김성균",
         "orientation": "v",
         "showlegend": true,
         "textposition": "auto",
         "type": "bar",
         "x": [
          "드라마",
          "범죄",
          "스릴러",
          "액션",
          "코미디"
         ],
         "xaxis": "x",
         "y": [
          6,
          4,
          3,
          7,
          4
         ],
         "yaxis": "y"
        },
        {
         "alignmentgroup": "True",
         "hovertemplate": "Actor=김인권<br>Genre=%{x}<br>Count=%{y}<extra></extra>",
         "legendgroup": "김인권",
         "marker": {
          "color": "#FECB52",
          "pattern": {
           "shape": ""
          }
         },
         "name": "김인권",
         "offsetgroup": "김인권",
         "orientation": "v",
         "showlegend": true,
         "textposition": "auto",
         "type": "bar",
         "x": [
          "드라마",
          "멜로/로맨스",
          "액션"
         ],
         "xaxis": "x",
         "y": [
          6,
          3,
          3
         ],
         "yaxis": "y"
        },
        {
         "alignmentgroup": "True",
         "hovertemplate": "Actor=장동건<br>Genre=%{x}<br>Count=%{y}<extra></extra>",
         "legendgroup": "장동건",
         "marker": {
          "color": "#636efa",
          "pattern": {
           "shape": ""
          }
         },
         "name": "장동건",
         "offsetgroup": "장동건",
         "orientation": "v",
         "showlegend": true,
         "textposition": "auto",
         "type": "bar",
         "x": [
          "드라마",
          "액션"
         ],
         "xaxis": "x",
         "y": [
          6,
          3
         ],
         "yaxis": "y"
        },
        {
         "alignmentgroup": "True",
         "hovertemplate": "Actor=하지원<br>Genre=%{x}<br>Count=%{y}<extra></extra>",
         "legendgroup": "하지원",
         "marker": {
          "color": "#EF553B",
          "pattern": {
           "shape": ""
          }
         },
         "name": "하지원",
         "offsetgroup": "하지원",
         "orientation": "v",
         "showlegend": true,
         "textposition": "auto",
         "type": "bar",
         "x": [
          "드라마",
          "멜로/로맨스",
          "액션",
          "코미디"
         ],
         "xaxis": "x",
         "y": [
          6,
          3,
          3,
          3
         ],
         "yaxis": "y"
        },
        {
         "alignmentgroup": "True",
         "hovertemplate": "Actor=김혜수<br>Genre=%{x}<br>Count=%{y}<extra></extra>",
         "legendgroup": "김혜수",
         "marker": {
          "color": "#00cc96",
          "pattern": {
           "shape": ""
          }
         },
         "name": "김혜수",
         "offsetgroup": "김혜수",
         "orientation": "v",
         "showlegend": true,
         "textposition": "auto",
         "type": "bar",
         "x": [
          "드라마",
          "코미디"
         ],
         "xaxis": "x",
         "y": [
          6,
          3
         ],
         "yaxis": "y"
        },
        {
         "alignmentgroup": "True",
         "hovertemplate": "Actor=성동일<br>Genre=%{x}<br>Count=%{y}<extra></extra>",
         "legendgroup": "성동일",
         "marker": {
          "color": "#ab63fa",
          "pattern": {
           "shape": ""
          }
         },
         "name": "성동일",
         "offsetgroup": "성동일",
         "orientation": "v",
         "showlegend": true,
         "textposition": "auto",
         "type": "bar",
         "x": [
          "드라마",
          "범죄",
          "액션",
          "코미디"
         ],
         "xaxis": "x",
         "y": [
          6,
          5,
          5,
          8
         ],
         "yaxis": "y"
        },
        {
         "alignmentgroup": "True",
         "hovertemplate": "Actor=전배수<br>Genre=%{x}<br>Count=%{y}<extra></extra>",
         "legendgroup": "전배수",
         "marker": {
          "color": "#FFA15A",
          "pattern": {
           "shape": ""
          }
         },
         "name": "전배수",
         "offsetgroup": "전배수",
         "orientation": "v",
         "showlegend": true,
         "textposition": "auto",
         "type": "bar",
         "x": [
          "드라마",
          "액션"
         ],
         "xaxis": "x",
         "y": [
          6,
          3
         ],
         "yaxis": "y"
        },
        {
         "alignmentgroup": "True",
         "hovertemplate": "Actor=손병호<br>Genre=%{x}<br>Count=%{y}<extra></extra>",
         "legendgroup": "손병호",
         "marker": {
          "color": "#19d3f3",
          "pattern": {
           "shape": ""
          }
         },
         "name": "손병호",
         "offsetgroup": "손병호",
         "orientation": "v",
         "showlegend": true,
         "textposition": "auto",
         "type": "bar",
         "x": [
          "드라마",
          "코미디"
         ],
         "xaxis": "x",
         "y": [
          6,
          3
         ],
         "yaxis": "y"
        },
        {
         "alignmentgroup": "True",
         "hovertemplate": "Actor=김승훈<br>Genre=%{x}<br>Count=%{y}<extra></extra>",
         "legendgroup": "김승훈",
         "marker": {
          "color": "#FF6692",
          "pattern": {
           "shape": ""
          }
         },
         "name": "김승훈",
         "offsetgroup": "김승훈",
         "orientation": "v",
         "showlegend": true,
         "textposition": "auto",
         "type": "bar",
         "x": [
          "드라마",
          "범죄",
          "사극"
         ],
         "xaxis": "x",
         "y": [
          6,
          3,
          3
         ],
         "yaxis": "y"
        },
        {
         "alignmentgroup": "True",
         "hovertemplate": "Actor=조승우<br>Genre=%{x}<br>Count=%{y}<extra></extra>",
         "legendgroup": "조승우",
         "marker": {
          "color": "#B6E880",
          "pattern": {
           "shape": ""
          }
         },
         "name": "조승우",
         "offsetgroup": "조승우",
         "orientation": "v",
         "showlegend": true,
         "textposition": "auto",
         "type": "bar",
         "x": [
          "드라마"
         ],
         "xaxis": "x",
         "y": [
          6
         ],
         "yaxis": "y"
        },
        {
         "alignmentgroup": "True",
         "hovertemplate": "Actor=이철민<br>Genre=%{x}<br>Count=%{y}<extra></extra>",
         "legendgroup": "이철민",
         "marker": {
          "color": "#FF97FF",
          "pattern": {
           "shape": ""
          }
         },
         "name": "이철민",
         "offsetgroup": "이철민",
         "orientation": "v",
         "showlegend": true,
         "textposition": "auto",
         "type": "bar",
         "x": [
          "드라마",
          "스릴러",
          "액션",
          "코미디"
         ],
         "xaxis": "x",
         "y": [
          6,
          4,
          4,
          3
         ],
         "yaxis": "y"
        },
        {
         "alignmentgroup": "True",
         "hovertemplate": "Actor=민진웅<br>Genre=%{x}<br>Count=%{y}<extra></extra>",
         "legendgroup": "민진웅",
         "marker": {
          "color": "#FECB52",
          "pattern": {
           "shape": ""
          }
         },
         "name": "민진웅",
         "offsetgroup": "민진웅",
         "orientation": "v",
         "showlegend": true,
         "textposition": "auto",
         "type": "bar",
         "x": [
          "드라마"
         ],
         "xaxis": "x",
         "y": [
          6
         ],
         "yaxis": "y"
        },
        {
         "alignmentgroup": "True",
         "hovertemplate": "Actor=김명민<br>Genre=%{x}<br>Count=%{y}<extra></extra>",
         "legendgroup": "김명민",
         "marker": {
          "color": "#636efa",
          "pattern": {
           "shape": ""
          }
         },
         "name": "김명민",
         "offsetgroup": "김명민",
         "orientation": "v",
         "showlegend": true,
         "textposition": "auto",
         "type": "bar",
         "x": [
          "드라마",
          "범죄",
          "스릴러",
          "액션",
          "코미디"
         ],
         "xaxis": "x",
         "y": [
          6,
          3,
          3,
          3,
          4
         ],
         "yaxis": "y"
        },
        {
         "alignmentgroup": "True",
         "hovertemplate": "Actor=문소리<br>Genre=%{x}<br>Count=%{y}<extra></extra>",
         "legendgroup": "문소리",
         "marker": {
          "color": "#EF553B",
          "pattern": {
           "shape": ""
          }
         },
         "name": "문소리",
         "offsetgroup": "문소리",
         "orientation": "v",
         "showlegend": true,
         "textposition": "auto",
         "type": "bar",
         "x": [
          "드라마"
         ],
         "xaxis": "x",
         "y": [
          6
         ],
         "yaxis": "y"
        },
        {
         "alignmentgroup": "True",
         "hovertemplate": "Actor=권병길<br>Genre=%{x}<br>Count=%{y}<extra></extra>",
         "legendgroup": "권병길",
         "marker": {
          "color": "#00cc96",
          "pattern": {
           "shape": ""
          }
         },
         "name": "권병길",
         "offsetgroup": "권병길",
         "orientation": "v",
         "showlegend": true,
         "textposition": "auto",
         "type": "bar",
         "x": [
          "드라마",
          "코미디"
         ],
         "xaxis": "x",
         "y": [
          6,
          3
         ],
         "yaxis": "y"
        },
        {
         "alignmentgroup": "True",
         "hovertemplate": "Actor=김광규<br>Genre=%{x}<br>Count=%{y}<extra></extra>",
         "legendgroup": "김광규",
         "marker": {
          "color": "#ab63fa",
          "pattern": {
           "shape": ""
          }
         },
         "name": "김광규",
         "offsetgroup": "김광규",
         "orientation": "v",
         "showlegend": true,
         "textposition": "auto",
         "type": "bar",
         "x": [
          "드라마",
          "멜로/로맨스",
          "코미디"
         ],
         "xaxis": "x",
         "y": [
          6,
          4,
          3
         ],
         "yaxis": "y"
        },
        {
         "alignmentgroup": "True",
         "hovertemplate": "Actor=정경호<br>Genre=%{x}<br>Count=%{y}<extra></extra>",
         "legendgroup": "정경호",
         "marker": {
          "color": "#FFA15A",
          "pattern": {
           "shape": ""
          }
         },
         "name": "정경호",
         "offsetgroup": "정경호",
         "orientation": "v",
         "showlegend": true,
         "textposition": "auto",
         "type": "bar",
         "x": [
          "드라마"
         ],
         "xaxis": "x",
         "y": [
          6
         ],
         "yaxis": "y"
        },
        {
         "alignmentgroup": "True",
         "hovertemplate": "Actor=정호빈<br>Genre=%{x}<br>Count=%{y}<extra></extra>",
         "legendgroup": "정호빈",
         "marker": {
          "color": "#19d3f3",
          "pattern": {
           "shape": ""
          }
         },
         "name": "정호빈",
         "offsetgroup": "정호빈",
         "orientation": "v",
         "showlegend": true,
         "textposition": "auto",
         "type": "bar",
         "x": [
          "드라마",
          "액션"
         ],
         "xaxis": "x",
         "y": [
          6,
          4
         ],
         "yaxis": "y"
        },
        {
         "alignmentgroup": "True",
         "hovertemplate": "Actor=장광<br>Genre=%{x}<br>Count=%{y}<extra></extra>",
         "legendgroup": "장광",
         "marker": {
          "color": "#FF6692",
          "pattern": {
           "shape": ""
          }
         },
         "name": "장광",
         "offsetgroup": "장광",
         "orientation": "v",
         "showlegend": true,
         "textposition": "auto",
         "type": "bar",
         "x": [
          "드라마",
          "사극",
          "액션"
         ],
         "xaxis": "x",
         "y": [
          7,
          3,
          6
         ],
         "yaxis": "y"
        },
        {
         "alignmentgroup": "True",
         "hovertemplate": "Actor=배성우<br>Genre=%{x}<br>Count=%{y}<extra></extra>",
         "legendgroup": "배성우",
         "marker": {
          "color": "#B6E880",
          "pattern": {
           "shape": ""
          }
         },
         "name": "배성우",
         "offsetgroup": "배성우",
         "orientation": "v",
         "showlegend": true,
         "textposition": "auto",
         "type": "bar",
         "x": [
          "드라마",
          "멜로/로맨스",
          "범죄",
          "스릴러",
          "액션"
         ],
         "xaxis": "x",
         "y": [
          7,
          3,
          4,
          3,
          5
         ],
         "yaxis": "y"
        },
        {
         "alignmentgroup": "True",
         "hovertemplate": "Actor=유아인<br>Genre=%{x}<br>Count=%{y}<extra></extra>",
         "legendgroup": "유아인",
         "marker": {
          "color": "#FF97FF",
          "pattern": {
           "shape": ""
          }
         },
         "name": "유아인",
         "offsetgroup": "유아인",
         "orientation": "v",
         "showlegend": true,
         "textposition": "auto",
         "type": "bar",
         "x": [
          "드라마"
         ],
         "xaxis": "x",
         "y": [
          7
         ],
         "yaxis": "y"
        },
        {
         "alignmentgroup": "True",
         "hovertemplate": "Actor=조재윤<br>Genre=%{x}<br>Count=%{y}<extra></extra>",
         "legendgroup": "조재윤",
         "marker": {
          "color": "#FECB52",
          "pattern": {
           "shape": ""
          }
         },
         "name": "조재윤",
         "offsetgroup": "조재윤",
         "orientation": "v",
         "showlegend": true,
         "textposition": "auto",
         "type": "bar",
         "x": [
          "드라마",
          "범죄",
          "액션"
         ],
         "xaxis": "x",
         "y": [
          7,
          7,
          6
         ],
         "yaxis": "y"
        },
        {
         "alignmentgroup": "True",
         "hovertemplate": "Actor=김정태<br>Genre=%{x}<br>Count=%{y}<extra></extra>",
         "legendgroup": "김정태",
         "marker": {
          "color": "#636efa",
          "pattern": {
           "shape": ""
          }
         },
         "name": "김정태",
         "offsetgroup": "김정태",
         "orientation": "v",
         "showlegend": true,
         "textposition": "auto",
         "type": "bar",
         "x": [
          "드라마",
          "범죄",
          "액션",
          "코미디"
         ],
         "xaxis": "x",
         "y": [
          7,
          3,
          4,
          3
         ],
         "yaxis": "y"
        },
        {
         "alignmentgroup": "True",
         "hovertemplate": "Actor=정원중<br>Genre=%{x}<br>Count=%{y}<extra></extra>",
         "legendgroup": "정원중",
         "marker": {
          "color": "#EF553B",
          "pattern": {
           "shape": ""
          }
         },
         "name": "정원중",
         "offsetgroup": "정원중",
         "orientation": "v",
         "showlegend": true,
         "textposition": "auto",
         "type": "bar",
         "x": [
          "드라마",
          "액션",
          "코미디"
         ],
         "xaxis": "x",
         "y": [
          7,
          3,
          5
         ],
         "yaxis": "y"
        },
        {
         "alignmentgroup": "True",
         "hovertemplate": "Actor=신하균<br>Genre=%{x}<br>Count=%{y}<extra></extra>",
         "legendgroup": "신하균",
         "marker": {
          "color": "#00cc96",
          "pattern": {
           "shape": ""
          }
         },
         "name": "신하균",
         "offsetgroup": "신하균",
         "orientation": "v",
         "showlegend": true,
         "textposition": "auto",
         "type": "bar",
         "x": [
          "드라마",
          "액션",
          "코미디"
         ],
         "xaxis": "x",
         "y": [
          7,
          3,
          5
         ],
         "yaxis": "y"
        },
        {
         "alignmentgroup": "True",
         "hovertemplate": "Actor=정재영<br>Genre=%{x}<br>Count=%{y}<extra></extra>",
         "legendgroup": "정재영",
         "marker": {
          "color": "#ab63fa",
          "pattern": {
           "shape": ""
          }
         },
         "name": "정재영",
         "offsetgroup": "정재영",
         "orientation": "v",
         "showlegend": true,
         "textposition": "auto",
         "type": "bar",
         "x": [
          "드라마",
          "사극",
          "액션",
          "전쟁"
         ],
         "xaxis": "x",
         "y": [
          7,
          3,
          5,
          3
         ],
         "yaxis": "y"
        },
        {
         "alignmentgroup": "True",
         "hovertemplate": "Actor=박철민<br>Genre=%{x}<br>Count=%{y}<extra></extra>",
         "legendgroup": "박철민",
         "marker": {
          "color": "#FFA15A",
          "pattern": {
           "shape": ""
          }
         },
         "name": "박철민",
         "offsetgroup": "박철민",
         "orientation": "v",
         "showlegend": true,
         "textposition": "auto",
         "type": "bar",
         "x": [
          "드라마",
          "멜로/로맨스",
          "코미디"
         ],
         "xaxis": "x",
         "y": [
          7,
          3,
          5
         ],
         "yaxis": "y"
        },
        {
         "alignmentgroup": "True",
         "hovertemplate": "Actor=김대명<br>Genre=%{x}<br>Count=%{y}<extra></extra>",
         "legendgroup": "김대명",
         "marker": {
          "color": "#19d3f3",
          "pattern": {
           "shape": ""
          }
         },
         "name": "김대명",
         "offsetgroup": "김대명",
         "orientation": "v",
         "showlegend": true,
         "textposition": "auto",
         "type": "bar",
         "x": [
          "드라마",
          "범죄",
          "액션"
         ],
         "xaxis": "x",
         "y": [
          7,
          5,
          3
         ],
         "yaxis": "y"
        },
        {
         "alignmentgroup": "True",
         "hovertemplate": "Actor=이희준<br>Genre=%{x}<br>Count=%{y}<extra></extra>",
         "legendgroup": "이희준",
         "marker": {
          "color": "#FF6692",
          "pattern": {
           "shape": ""
          }
         },
         "name": "이희준",
         "offsetgroup": "이희준",
         "orientation": "v",
         "showlegend": true,
         "textposition": "auto",
         "type": "bar",
         "x": [
          "드라마",
          "범죄",
          "액션"
         ],
         "xaxis": "x",
         "y": [
          7,
          3,
          3
         ],
         "yaxis": "y"
        },
        {
         "alignmentgroup": "True",
         "hovertemplate": "Actor=조우진<br>Genre=%{x}<br>Count=%{y}<extra></extra>",
         "legendgroup": "조우진",
         "marker": {
          "color": "#B6E880",
          "pattern": {
           "shape": ""
          }
         },
         "name": "조우진",
         "offsetgroup": "조우진",
         "orientation": "v",
         "showlegend": true,
         "textposition": "auto",
         "type": "bar",
         "x": [
          "드라마",
          "범죄",
          "사극",
          "액션"
         ],
         "xaxis": "x",
         "y": [
          7,
          6,
          3,
          4
         ],
         "yaxis": "y"
        },
        {
         "alignmentgroup": "True",
         "hovertemplate": "Actor=김병옥<br>Genre=%{x}<br>Count=%{y}<extra></extra>",
         "legendgroup": "김병옥",
         "marker": {
          "color": "#FF97FF",
          "pattern": {
           "shape": ""
          }
         },
         "name": "김병옥",
         "offsetgroup": "김병옥",
         "orientation": "v",
         "showlegend": true,
         "textposition": "auto",
         "type": "bar",
         "x": [
          "드라마",
          "범죄",
          "액션",
          "코미디"
         ],
         "xaxis": "x",
         "y": [
          7,
          7,
          8,
          3
         ],
         "yaxis": "y"
        },
        {
         "alignmentgroup": "True",
         "hovertemplate": "Actor=고창석<br>Genre=%{x}<br>Count=%{y}<extra></extra>",
         "legendgroup": "고창석",
         "marker": {
          "color": "#FECB52",
          "pattern": {
           "shape": ""
          }
         },
         "name": "고창석",
         "offsetgroup": "고창석",
         "orientation": "v",
         "showlegend": true,
         "textposition": "auto",
         "type": "bar",
         "x": [
          "드라마",
          "범죄",
          "액션",
          "코미디"
         ],
         "xaxis": "x",
         "y": [
          7,
          3,
          5,
          6
         ],
         "yaxis": "y"
        },
        {
         "alignmentgroup": "True",
         "hovertemplate": "Actor=조영진<br>Genre=%{x}<br>Count=%{y}<extra></extra>",
         "legendgroup": "조영진",
         "marker": {
          "color": "#636efa",
          "pattern": {
           "shape": ""
          }
         },
         "name": "조영진",
         "offsetgroup": "조영진",
         "orientation": "v",
         "showlegend": true,
         "textposition": "auto",
         "type": "bar",
         "x": [
          "드라마",
          "범죄",
          "액션"
         ],
         "xaxis": "x",
         "y": [
          7,
          5,
          3
         ],
         "yaxis": "y"
        },
        {
         "alignmentgroup": "True",
         "hovertemplate": "Actor=김희원<br>Genre=%{x}<br>Count=%{y}<extra></extra>",
         "legendgroup": "김희원",
         "marker": {
          "color": "#EF553B",
          "pattern": {
           "shape": ""
          }
         },
         "name": "김희원",
         "offsetgroup": "김희원",
         "orientation": "v",
         "showlegend": true,
         "textposition": "auto",
         "type": "bar",
         "x": [
          "드라마",
          "멜로/로맨스",
          "범죄",
          "액션",
          "코미디"
         ],
         "xaxis": "x",
         "y": [
          7,
          3,
          3,
          7,
          5
         ],
         "yaxis": "y"
        },
        {
         "alignmentgroup": "True",
         "hovertemplate": "Actor=남명렬<br>Genre=%{x}<br>Count=%{y}<extra></extra>",
         "legendgroup": "남명렬",
         "marker": {
          "color": "#00cc96",
          "pattern": {
           "shape": ""
          }
         },
         "name": "남명렬",
         "offsetgroup": "남명렬",
         "orientation": "v",
         "showlegend": true,
         "textposition": "auto",
         "type": "bar",
         "x": [
          "드라마",
          "멜로/로맨스",
          "범죄"
         ],
         "xaxis": "x",
         "y": [
          7,
          3,
          3
         ],
         "yaxis": "y"
        },
        {
         "alignmentgroup": "True",
         "hovertemplate": "Actor=박수영<br>Genre=%{x}<br>Count=%{y}<extra></extra>",
         "legendgroup": "박수영",
         "marker": {
          "color": "#ab63fa",
          "pattern": {
           "shape": ""
          }
         },
         "name": "박수영",
         "offsetgroup": "박수영",
         "orientation": "v",
         "showlegend": true,
         "textposition": "auto",
         "type": "bar",
         "x": [
          "드라마"
         ],
         "xaxis": "x",
         "y": [
          7
         ],
         "yaxis": "y"
        },
        {
         "alignmentgroup": "True",
         "hovertemplate": "Actor=이주실<br>Genre=%{x}<br>Count=%{y}<extra></extra>",
         "legendgroup": "이주실",
         "marker": {
          "color": "#FFA15A",
          "pattern": {
           "shape": ""
          }
         },
         "name": "이주실",
         "offsetgroup": "이주실",
         "orientation": "v",
         "showlegend": true,
         "textposition": "auto",
         "type": "bar",
         "x": [
          "드라마",
          "액션"
         ],
         "xaxis": "x",
         "y": [
          7,
          3
         ],
         "yaxis": "y"
        },
        {
         "alignmentgroup": "True",
         "hovertemplate": "Actor=김해숙<br>Genre=%{x}<br>Count=%{y}<extra></extra>",
         "legendgroup": "김해숙",
         "marker": {
          "color": "#19d3f3",
          "pattern": {
           "shape": ""
          }
         },
         "name": "김해숙",
         "offsetgroup": "김해숙",
         "orientation": "v",
         "showlegend": true,
         "textposition": "auto",
         "type": "bar",
         "x": [
          "드라마",
          "범죄",
          "액션"
         ],
         "xaxis": "x",
         "y": [
          7,
          3,
          4
         ],
         "yaxis": "y"
        },
        {
         "alignmentgroup": "True",
         "hovertemplate": "Actor=윤여정<br>Genre=%{x}<br>Count=%{y}<extra></extra>",
         "legendgroup": "윤여정",
         "marker": {
          "color": "#FF6692",
          "pattern": {
           "shape": ""
          }
         },
         "name": "윤여정",
         "offsetgroup": "윤여정",
         "orientation": "v",
         "showlegend": true,
         "textposition": "auto",
         "type": "bar",
         "x": [
          "드라마",
          "멜로/로맨스"
         ],
         "xaxis": "x",
         "y": [
          7,
          3
         ],
         "yaxis": "y"
        },
        {
         "alignmentgroup": "True",
         "hovertemplate": "Actor=김향기<br>Genre=%{x}<br>Count=%{y}<extra></extra>",
         "legendgroup": "김향기",
         "marker": {
          "color": "#B6E880",
          "pattern": {
           "shape": ""
          }
         },
         "name": "김향기",
         "offsetgroup": "김향기",
         "orientation": "v",
         "showlegend": true,
         "textposition": "auto",
         "type": "bar",
         "x": [
          "드라마",
          "판타지"
         ],
         "xaxis": "x",
         "y": [
          8,
          3
         ],
         "yaxis": "y"
        },
        {
         "alignmentgroup": "True",
         "hovertemplate": "Actor=마동석<br>Genre=%{x}<br>Count=%{y}<extra></extra>",
         "legendgroup": "마동석",
         "marker": {
          "color": "#FF97FF",
          "pattern": {
           "shape": ""
          }
         },
         "name": "마동석",
         "offsetgroup": "마동석",
         "orientation": "v",
         "showlegend": true,
         "textposition": "auto",
         "type": "bar",
         "x": [
          "드라마",
          "범죄",
          "스릴러",
          "액션",
          "코미디"
         ],
         "xaxis": "x",
         "y": [
          8,
          8,
          3,
          8,
          3
         ],
         "yaxis": "y"
        },
        {
         "alignmentgroup": "True",
         "hovertemplate": "Actor=정진영<br>Genre=%{x}<br>Count=%{y}<extra></extra>",
         "legendgroup": "정진영",
         "marker": {
          "color": "#FECB52",
          "pattern": {
           "shape": ""
          }
         },
         "name": "정진영",
         "offsetgroup": "정진영",
         "orientation": "v",
         "showlegend": true,
         "textposition": "auto",
         "type": "bar",
         "x": [
          "드라마",
          "범죄",
          "스릴러",
          "코미디"
         ],
         "xaxis": "x",
         "y": [
          8,
          3,
          3,
          4
         ],
         "yaxis": "y"
        },
        {
         "alignmentgroup": "True",
         "hovertemplate": "Actor=박해일<br>Genre=%{x}<br>Count=%{y}<extra></extra>",
         "legendgroup": "박해일",
         "marker": {
          "color": "#636efa",
          "pattern": {
           "shape": ""
          }
         },
         "name": "박해일",
         "offsetgroup": "박해일",
         "orientation": "v",
         "showlegend": true,
         "textposition": "auto",
         "type": "bar",
         "x": [
          "드라마",
          "멜로/로맨스",
          "사극"
         ],
         "xaxis": "x",
         "y": [
          8,
          3,
          3
         ],
         "yaxis": "y"
        },
        {
         "alignmentgroup": "True",
         "hovertemplate": "Actor=류승룡<br>Genre=%{x}<br>Count=%{y}<extra></extra>",
         "legendgroup": "류승룡",
         "marker": {
          "color": "#EF553B",
          "pattern": {
           "shape": ""
          }
         },
         "name": "류승룡",
         "offsetgroup": "류승룡",
         "orientation": "v",
         "showlegend": true,
         "textposition": "auto",
         "type": "bar",
         "x": [
          "드라마",
          "사극",
          "스릴러",
          "액션",
          "코미디"
         ],
         "xaxis": "x",
         "y": [
          8,
          3,
          3,
          3,
          4
         ],
         "yaxis": "y"
        },
        {
         "alignmentgroup": "True",
         "hovertemplate": "Actor=안성기<br>Genre=%{x}<br>Count=%{y}<extra></extra>",
         "legendgroup": "안성기",
         "marker": {
          "color": "#00cc96",
          "pattern": {
           "shape": ""
          }
         },
         "name": "안성기",
         "offsetgroup": "안성기",
         "orientation": "v",
         "showlegend": true,
         "textposition": "auto",
         "type": "bar",
         "x": [
          "드라마",
          "액션"
         ],
         "xaxis": "x",
         "y": [
          8,
          8
         ],
         "yaxis": "y"
        },
        {
         "alignmentgroup": "True",
         "hovertemplate": "Actor=신정근<br>Genre=%{x}<br>Count=%{y}<extra></extra>",
         "legendgroup": "신정근",
         "marker": {
          "color": "#ab63fa",
          "pattern": {
           "shape": ""
          }
         },
         "name": "신정근",
         "offsetgroup": "신정근",
         "orientation": "v",
         "showlegend": true,
         "textposition": "auto",
         "type": "bar",
         "x": [
          "드라마",
          "범죄",
          "사극",
          "액션",
          "코미디"
         ],
         "xaxis": "x",
         "y": [
          8,
          3,
          3,
          9,
          6
         ],
         "yaxis": "y"
        },
        {
         "alignmentgroup": "True",
         "hovertemplate": "Actor=김응수<br>Genre=%{x}<br>Count=%{y}<extra></extra>",
         "legendgroup": "김응수",
         "marker": {
          "color": "#FFA15A",
          "pattern": {
           "shape": ""
          }
         },
         "name": "김응수",
         "offsetgroup": "김응수",
         "orientation": "v",
         "showlegend": true,
         "textposition": "auto",
         "type": "bar",
         "x": [
          "드라마",
          "코미디"
         ],
         "xaxis": "x",
         "y": [
          8,
          9
         ],
         "yaxis": "y"
        },
        {
         "alignmentgroup": "True",
         "hovertemplate": "Actor=김소진<br>Genre=%{x}<br>Count=%{y}<extra></extra>",
         "legendgroup": "김소진",
         "marker": {
          "color": "#19d3f3",
          "pattern": {
           "shape": ""
          }
         },
         "name": "김소진",
         "offsetgroup": "김소진",
         "orientation": "v",
         "showlegend": true,
         "textposition": "auto",
         "type": "bar",
         "x": [
          "드라마",
          "범죄"
         ],
         "xaxis": "x",
         "y": [
          8,
          4
         ],
         "yaxis": "y"
        },
        {
         "alignmentgroup": "True",
         "hovertemplate": "Actor=라미란<br>Genre=%{x}<br>Count=%{y}<extra></extra>",
         "legendgroup": "라미란",
         "marker": {
          "color": "#FF6692",
          "pattern": {
           "shape": ""
          }
         },
         "name": "라미란",
         "offsetgroup": "라미란",
         "orientation": "v",
         "showlegend": true,
         "textposition": "auto",
         "type": "bar",
         "x": [
          "드라마",
          "멜로/로맨스",
          "사극",
          "액션",
          "코미디"
         ],
         "xaxis": "x",
         "y": [
          9,
          3,
          3,
          4,
          9
         ],
         "yaxis": "y"
        },
        {
         "alignmentgroup": "True",
         "hovertemplate": "Actor=송영창<br>Genre=%{x}<br>Count=%{y}<extra></extra>",
         "legendgroup": "송영창",
         "marker": {
          "color": "#B6E880",
          "pattern": {
           "shape": ""
          }
         },
         "name": "송영창",
         "offsetgroup": "송영창",
         "orientation": "v",
         "showlegend": true,
         "textposition": "auto",
         "type": "bar",
         "x": [
          "드라마",
          "범죄",
          "사극",
          "스릴러",
          "액션"
         ],
         "xaxis": "x",
         "y": [
          9,
          4,
          4,
          4,
          10
         ],
         "yaxis": "y"
        },
        {
         "alignmentgroup": "True",
         "hovertemplate": "Actor=정만식<br>Genre=%{x}<br>Count=%{y}<extra></extra>",
         "legendgroup": "정만식",
         "marker": {
          "color": "#FF97FF",
          "pattern": {
           "shape": ""
          }
         },
         "name": "정만식",
         "offsetgroup": "정만식",
         "orientation": "v",
         "showlegend": true,
         "textposition": "auto",
         "type": "bar",
         "x": [
          "드라마",
          "범죄",
          "사극",
          "스릴러",
          "액션",
          "코미디"
         ],
         "xaxis": "x",
         "y": [
          9,
          9,
          3,
          4,
          10,
          3
         ],
         "yaxis": "y"
        },
        {
         "alignmentgroup": "True",
         "hovertemplate": "Actor=정우성<br>Genre=%{x}<br>Count=%{y}<extra></extra>",
         "legendgroup": "정우성",
         "marker": {
          "color": "#FECB52",
          "pattern": {
           "shape": ""
          }
         },
         "name": "정우성",
         "offsetgroup": "정우성",
         "orientation": "v",
         "showlegend": true,
         "textposition": "auto",
         "type": "bar",
         "x": [
          "드라마",
          "범죄",
          "액션"
         ],
         "xaxis": "x",
         "y": [
          9,
          4,
          8
         ],
         "yaxis": "y"
        },
        {
         "alignmentgroup": "True",
         "hovertemplate": "Actor=김인우<br>Genre=%{x}<br>Count=%{y}<extra></extra>",
         "legendgroup": "김인우",
         "marker": {
          "color": "#636efa",
          "pattern": {
           "shape": ""
          }
         },
         "name": "김인우",
         "offsetgroup": "김인우",
         "orientation": "v",
         "showlegend": true,
         "textposition": "auto",
         "type": "bar",
         "x": [
          "드라마",
          "액션"
         ],
         "xaxis": "x",
         "y": [
          9,
          5
         ],
         "yaxis": "y"
        },
        {
         "alignmentgroup": "True",
         "hovertemplate": "Actor=오정세<br>Genre=%{x}<br>Count=%{y}<extra></extra>",
         "legendgroup": "오정세",
         "marker": {
          "color": "#EF553B",
          "pattern": {
           "shape": ""
          }
         },
         "name": "오정세",
         "offsetgroup": "오정세",
         "orientation": "v",
         "showlegend": true,
         "textposition": "auto",
         "type": "bar",
         "x": [
          "드라마",
          "멜로/로맨스",
          "미스터리",
          "범죄",
          "스릴러",
          "액션",
          "코미디"
         ],
         "xaxis": "x",
         "y": [
          9,
          3,
          3,
          3,
          3,
          4,
          5
         ],
         "yaxis": "y"
        },
        {
         "alignmentgroup": "True",
         "hovertemplate": "Actor=주진모<br>Genre=%{x}<br>Count=%{y}<extra></extra>",
         "legendgroup": "주진모",
         "marker": {
          "color": "#00cc96",
          "pattern": {
           "shape": ""
          }
         },
         "name": "주진모",
         "offsetgroup": "주진모",
         "orientation": "v",
         "showlegend": true,
         "textposition": "auto",
         "type": "bar",
         "x": [
          "드라마",
          "스릴러",
          "액션",
          "코미디"
         ],
         "xaxis": "x",
         "y": [
          9,
          3,
          9,
          6
         ],
         "yaxis": "y"
        },
        {
         "alignmentgroup": "True",
         "hovertemplate": "Actor=박정민<br>Genre=%{x}<br>Count=%{y}<extra></extra>",
         "legendgroup": "박정민",
         "marker": {
          "color": "#ab63fa",
          "pattern": {
           "shape": ""
          }
         },
         "name": "박정민",
         "offsetgroup": "박정민",
         "orientation": "v",
         "showlegend": true,
         "textposition": "auto",
         "type": "bar",
         "x": [
          "드라마",
          "범죄",
          "액션",
          "코미디"
         ],
         "xaxis": "x",
         "y": [
          9,
          3,
          4,
          3
         ],
         "yaxis": "y"
        },
        {
         "alignmentgroup": "True",
         "hovertemplate": "Actor=이준혁<br>Genre=%{x}<br>Count=%{y}<extra></extra>",
         "legendgroup": "이준혁",
         "marker": {
          "color": "#FFA15A",
          "pattern": {
           "shape": ""
          }
         },
         "name": "이준혁",
         "offsetgroup": "이준혁",
         "orientation": "v",
         "showlegend": true,
         "textposition": "auto",
         "type": "bar",
         "x": [
          "드라마",
          "멜로/로맨스",
          "범죄",
          "스릴러",
          "액션",
          "코미디",
          "판타지"
         ],
         "xaxis": "x",
         "y": [
          10,
          3,
          3,
          4,
          5,
          6,
          3
         ],
         "yaxis": "y"
        },
        {
         "alignmentgroup": "True",
         "hovertemplate": "Actor=윤제문<br>Genre=%{x}<br>Count=%{y}<extra></extra>",
         "legendgroup": "윤제문",
         "marker": {
          "color": "#19d3f3",
          "pattern": {
           "shape": ""
          }
         },
         "name": "윤제문",
         "offsetgroup": "윤제문",
         "orientation": "v",
         "showlegend": true,
         "textposition": "auto",
         "type": "bar",
         "x": [
          "드라마",
          "범죄",
          "사극",
          "액션",
          "코미디"
         ],
         "xaxis": "x",
         "y": [
          10,
          4,
          3,
          8,
          4
         ],
         "yaxis": "y"
        },
        {
         "alignmentgroup": "True",
         "hovertemplate": "Actor=이병헌<br>Genre=%{x}<br>Count=%{y}<extra></extra>",
         "legendgroup": "이병헌",
         "marker": {
          "color": "#FF6692",
          "pattern": {
           "shape": ""
          }
         },
         "name": "이병헌",
         "offsetgroup": "이병헌",
         "orientation": "v",
         "showlegend": true,
         "textposition": "auto",
         "type": "bar",
         "x": [
          "드라마",
          "범죄",
          "액션"
         ],
         "xaxis": "x",
         "y": [
          10,
          3,
          3
         ],
         "yaxis": "y"
        },
        {
         "alignmentgroup": "True",
         "hovertemplate": "Actor=설경구<br>Genre=%{x}<br>Count=%{y}<extra></extra>",
         "legendgroup": "설경구",
         "marker": {
          "color": "#B6E880",
          "pattern": {
           "shape": ""
          }
         },
         "name": "설경구",
         "offsetgroup": "설경구",
         "orientation": "v",
         "showlegend": true,
         "textposition": "auto",
         "type": "bar",
         "x": [
          "드라마",
          "범죄",
          "스릴러",
          "액션"
         ],
         "xaxis": "x",
         "y": [
          10,
          4,
          4,
          6
         ],
         "yaxis": "y"
        },
        {
         "alignmentgroup": "True",
         "hovertemplate": "Actor=곽도원<br>Genre=%{x}<br>Count=%{y}<extra></extra>",
         "legendgroup": "곽도원",
         "marker": {
          "color": "#FF97FF",
          "pattern": {
           "shape": ""
          }
         },
         "name": "곽도원",
         "offsetgroup": "곽도원",
         "orientation": "v",
         "showlegend": true,
         "textposition": "auto",
         "type": "bar",
         "x": [
          "드라마",
          "액션"
         ],
         "xaxis": "x",
         "y": [
          10,
          5
         ],
         "yaxis": "y"
        },
        {
         "alignmentgroup": "True",
         "hovertemplate": "Actor=정인기<br>Genre=%{x}<br>Count=%{y}<extra></extra>",
         "legendgroup": "정인기",
         "marker": {
          "color": "#FECB52",
          "pattern": {
           "shape": ""
          }
         },
         "name": "정인기",
         "offsetgroup": "정인기",
         "orientation": "v",
         "showlegend": true,
         "textposition": "auto",
         "type": "bar",
         "x": [
          "드라마",
          "범죄",
          "스릴러",
          "액션",
          "코미디"
         ],
         "xaxis": "x",
         "y": [
          10,
          3,
          4,
          5,
          3
         ],
         "yaxis": "y"
        },
        {
         "alignmentgroup": "True",
         "hovertemplate": "Actor=이한위<br>Genre=%{x}<br>Count=%{y}<extra></extra>",
         "legendgroup": "이한위",
         "marker": {
          "color": "#636efa",
          "pattern": {
           "shape": ""
          }
         },
         "name": "이한위",
         "offsetgroup": "이한위",
         "orientation": "v",
         "showlegend": true,
         "textposition": "auto",
         "type": "bar",
         "x": [
          "드라마",
          "액션",
          "코미디"
         ],
         "xaxis": "x",
         "y": [
          10,
          5,
          8
         ],
         "yaxis": "y"
        },
        {
         "alignmentgroup": "True",
         "hovertemplate": "Actor=권태원<br>Genre=%{x}<br>Count=%{y}<extra></extra>",
         "legendgroup": "권태원",
         "marker": {
          "color": "#EF553B",
          "pattern": {
           "shape": ""
          }
         },
         "name": "권태원",
         "offsetgroup": "권태원",
         "orientation": "v",
         "showlegend": true,
         "textposition": "auto",
         "type": "bar",
         "x": [
          "드라마",
          "범죄",
          "액션"
         ],
         "xaxis": "x",
         "y": [
          10,
          5,
          3
         ],
         "yaxis": "y"
        },
        {
         "alignmentgroup": "True",
         "hovertemplate": "Actor=강동원<br>Genre=%{x}<br>Count=%{y}<extra></extra>",
         "legendgroup": "강동원",
         "marker": {
          "color": "#00cc96",
          "pattern": {
           "shape": ""
          }
         },
         "name": "강동원",
         "offsetgroup": "강동원",
         "orientation": "v",
         "showlegend": true,
         "textposition": "auto",
         "type": "bar",
         "x": [
          "드라마",
          "범죄",
          "액션",
          "코미디"
         ],
         "xaxis": "x",
         "y": [
          10,
          3,
          7,
          3
         ],
         "yaxis": "y"
        },
        {
         "alignmentgroup": "True",
         "hovertemplate": "Actor=장영남<br>Genre=%{x}<br>Count=%{y}<extra></extra>",
         "legendgroup": "장영남",
         "marker": {
          "color": "#ab63fa",
          "pattern": {
           "shape": ""
          }
         },
         "name": "장영남",
         "offsetgroup": "장영남",
         "orientation": "v",
         "showlegend": true,
         "textposition": "auto",
         "type": "bar",
         "x": [
          "드라마",
          "범죄",
          "액션",
          "코미디"
         ],
         "xaxis": "x",
         "y": [
          11,
          3,
          6,
          8
         ],
         "yaxis": "y"
        },
        {
         "alignmentgroup": "True",
         "hovertemplate": "Actor=유승목<br>Genre=%{x}<br>Count=%{y}<extra></extra>",
         "legendgroup": "유승목",
         "marker": {
          "color": "#FFA15A",
          "pattern": {
           "shape": ""
          }
         },
         "name": "유승목",
         "offsetgroup": "유승목",
         "orientation": "v",
         "showlegend": true,
         "textposition": "auto",
         "type": "bar",
         "x": [
          "드라마",
          "멜로/로맨스",
          "범죄",
          "스릴러",
          "액션",
          "코미디"
         ],
         "xaxis": "x",
         "y": [
          11,
          3,
          4,
          4,
          6,
          3
         ],
         "yaxis": "y"
        },
        {
         "alignmentgroup": "True",
         "hovertemplate": "Actor=김종수<br>Genre=%{x}<br>Count=%{y}<extra></extra>",
         "legendgroup": "김종수",
         "marker": {
          "color": "#19d3f3",
          "pattern": {
           "shape": ""
          }
         },
         "name": "김종수",
         "offsetgroup": "김종수",
         "orientation": "v",
         "showlegend": true,
         "textposition": "auto",
         "type": "bar",
         "x": [
          "드라마",
          "범죄",
          "액션",
          "코미디"
         ],
         "xaxis": "x",
         "y": [
          11,
          6,
          5,
          4
         ],
         "yaxis": "y"
        },
        {
         "alignmentgroup": "True",
         "hovertemplate": "Actor=김상호<br>Genre=%{x}<br>Count=%{y}<extra></extra>",
         "legendgroup": "김상호",
         "marker": {
          "color": "#FF6692",
          "pattern": {
           "shape": ""
          }
         },
         "name": "김상호",
         "offsetgroup": "김상호",
         "orientation": "v",
         "showlegend": true,
         "textposition": "auto",
         "type": "bar",
         "x": [
          "드라마",
          "범죄",
          "스릴러",
          "액션",
          "코미디",
          "판타지"
         ],
         "xaxis": "x",
         "y": [
          11,
          3,
          3,
          4,
          4,
          3
         ],
         "yaxis": "y"
        },
        {
         "alignmentgroup": "True",
         "hovertemplate": "Actor=강신일<br>Genre=%{x}<br>Count=%{y}<extra></extra>",
         "legendgroup": "강신일",
         "marker": {
          "color": "#B6E880",
          "pattern": {
           "shape": ""
          }
         },
         "name": "강신일",
         "offsetgroup": "강신일",
         "orientation": "v",
         "showlegend": true,
         "textposition": "auto",
         "type": "bar",
         "x": [
          "드라마",
          "범죄",
          "스릴러",
          "액션"
         ],
         "xaxis": "x",
         "y": [
          11,
          3,
          3,
          6
         ],
         "yaxis": "y"
        },
        {
         "alignmentgroup": "True",
         "hovertemplate": "Actor=하정우<br>Genre=%{x}<br>Count=%{y}<extra></extra>",
         "legendgroup": "하정우",
         "marker": {
          "color": "#FF97FF",
          "pattern": {
           "shape": ""
          }
         },
         "name": "하정우",
         "offsetgroup": "하정우",
         "orientation": "v",
         "showlegend": true,
         "textposition": "auto",
         "type": "bar",
         "x": [
          "드라마",
          "범죄",
          "스릴러",
          "액션",
          "코미디"
         ],
         "xaxis": "x",
         "y": [
          12,
          4,
          4,
          8,
          3
         ],
         "yaxis": "y"
        },
        {
         "alignmentgroup": "True",
         "hovertemplate": "Actor=김의성<br>Genre=%{x}<br>Count=%{y}<extra></extra>",
         "legendgroup": "김의성",
         "marker": {
          "color": "#FECB52",
          "pattern": {
           "shape": ""
          }
         },
         "name": "김의성",
         "offsetgroup": "김의성",
         "orientation": "v",
         "showlegend": true,
         "textposition": "auto",
         "type": "bar",
         "x": [
          "드라마",
          "범죄",
          "액션"
         ],
         "xaxis": "x",
         "y": [
          12,
          5,
          9
         ],
         "yaxis": "y"
        },
        {
         "alignmentgroup": "True",
         "hovertemplate": "Actor=이경영<br>Genre=%{x}<br>Count=%{y}<extra></extra>",
         "legendgroup": "이경영",
         "marker": {
          "color": "#636efa",
          "pattern": {
           "shape": ""
          }
         },
         "name": "이경영",
         "offsetgroup": "이경영",
         "orientation": "v",
         "showlegend": true,
         "textposition": "auto",
         "type": "bar",
         "x": [
          "드라마",
          "범죄",
          "사극",
          "액션"
         ],
         "xaxis": "x",
         "y": [
          13,
          4,
          3,
          8
         ],
         "yaxis": "y"
        },
        {
         "alignmentgroup": "True",
         "hovertemplate": "Actor=조진웅<br>Genre=%{x}<br>Count=%{y}<extra></extra>",
         "legendgroup": "조진웅",
         "marker": {
          "color": "#EF553B",
          "pattern": {
           "shape": ""
          }
         },
         "name": "조진웅",
         "offsetgroup": "조진웅",
         "orientation": "v",
         "showlegend": true,
         "textposition": "auto",
         "type": "bar",
         "x": [
          "드라마",
          "범죄",
          "스릴러",
          "액션",
          "코미디"
         ],
         "xaxis": "x",
         "y": [
          13,
          5,
          5,
          6,
          3
         ],
         "yaxis": "y"
        },
        {
         "alignmentgroup": "True",
         "hovertemplate": "Actor=김윤석<br>Genre=%{x}<br>Count=%{y}<extra></extra>",
         "legendgroup": "김윤석",
         "marker": {
          "color": "#00cc96",
          "pattern": {
           "shape": ""
          }
         },
         "name": "김윤석",
         "offsetgroup": "김윤석",
         "orientation": "v",
         "showlegend": true,
         "textposition": "auto",
         "type": "bar",
         "x": [
          "드라마",
          "범죄",
          "스릴러",
          "액션",
          "코미디"
         ],
         "xaxis": "x",
         "y": [
          14,
          6,
          4,
          8,
          3
         ],
         "yaxis": "y"
        },
        {
         "alignmentgroup": "True",
         "hovertemplate": "Actor=오달수<br>Genre=%{x}<br>Count=%{y}<extra></extra>",
         "legendgroup": "오달수",
         "marker": {
          "color": "#ab63fa",
          "pattern": {
           "shape": ""
          }
         },
         "name": "오달수",
         "offsetgroup": "오달수",
         "orientation": "v",
         "showlegend": true,
         "textposition": "auto",
         "type": "bar",
         "x": [
          "드라마",
          "범죄",
          "사극",
          "스릴러",
          "액션",
          "어드벤처",
          "코미디"
         ],
         "xaxis": "x",
         "y": [
          15,
          5,
          5,
          6,
          8,
          4,
          8
         ],
         "yaxis": "y"
        },
        {
         "alignmentgroup": "True",
         "hovertemplate": "Actor=송강호<br>Genre=%{x}<br>Count=%{y}<extra></extra>",
         "legendgroup": "송강호",
         "marker": {
          "color": "#FFA15A",
          "pattern": {
           "shape": ""
          }
         },
         "name": "송강호",
         "offsetgroup": "송강호",
         "orientation": "v",
         "showlegend": true,
         "textposition": "auto",
         "type": "bar",
         "x": [
          "드라마",
          "액션"
         ],
         "xaxis": "x",
         "y": [
          15,
          5
         ],
         "yaxis": "y"
        },
        {
         "alignmentgroup": "True",
         "hovertemplate": "Actor=유해진<br>Genre=%{x}<br>Count=%{y}<extra></extra>",
         "legendgroup": "유해진",
         "marker": {
          "color": "#19d3f3",
          "pattern": {
           "shape": ""
          }
         },
         "name": "유해진",
         "offsetgroup": "유해진",
         "orientation": "v",
         "showlegend": true,
         "textposition": "auto",
         "type": "bar",
         "x": [
          "드라마",
          "범죄",
          "스릴러",
          "액션",
          "코미디"
         ],
         "xaxis": "x",
         "y": [
          18,
          3,
          4,
          9,
          12
         ],
         "yaxis": "y"
        },
        {
         "alignmentgroup": "True",
         "hovertemplate": "Actor=황정민<br>Genre=%{x}<br>Count=%{y}<extra></extra>",
         "legendgroup": "황정민",
         "marker": {
          "color": "#FF6692",
          "pattern": {
           "shape": ""
          }
         },
         "name": "황정민",
         "offsetgroup": "황정민",
         "orientation": "v",
         "showlegend": true,
         "textposition": "auto",
         "type": "bar",
         "x": [
          "드라마",
          "멜로/로맨스",
          "미스터리",
          "범죄",
          "사극",
          "스릴러",
          "액션",
          "코미디"
         ],
         "xaxis": "x",
         "y": [
          19,
          8,
          6,
          6,
          3,
          6,
          11,
          6
         ],
         "yaxis": "y"
        },
        {
         "alignmentgroup": "True",
         "hovertemplate": "Actor=박용우<br>Genre=%{x}<br>Count=%{y}<extra></extra>",
         "legendgroup": "박용우",
         "marker": {
          "color": "#B6E880",
          "pattern": {
           "shape": ""
          }
         },
         "name": "박용우",
         "offsetgroup": "박용우",
         "orientation": "v",
         "showlegend": true,
         "textposition": "auto",
         "type": "bar",
         "x": [
          "멜로/로맨스",
          "스릴러"
         ],
         "xaxis": "x",
         "y": [
          3,
          3
         ],
         "yaxis": "y"
        },
        {
         "alignmentgroup": "True",
         "hovertemplate": "Actor=권상우<br>Genre=%{x}<br>Count=%{y}<extra></extra>",
         "legendgroup": "권상우",
         "marker": {
          "color": "#FF97FF",
          "pattern": {
           "shape": ""
          }
         },
         "name": "권상우",
         "offsetgroup": "권상우",
         "orientation": "v",
         "showlegend": true,
         "textposition": "auto",
         "type": "bar",
         "x": [
          "멜로/로맨스",
          "범죄",
          "액션",
          "코미디"
         ],
         "xaxis": "x",
         "y": [
          3,
          3,
          4,
          6
         ],
         "yaxis": "y"
        },
        {
         "alignmentgroup": "True",
         "hovertemplate": "Actor=김부선<br>Genre=%{x}<br>Count=%{y}<extra></extra>",
         "legendgroup": "김부선",
         "marker": {
          "color": "#FECB52",
          "pattern": {
           "shape": ""
          }
         },
         "name": "김부선",
         "offsetgroup": "김부선",
         "orientation": "v",
         "showlegend": true,
         "textposition": "auto",
         "type": "bar",
         "x": [
          "멜로/로맨스"
         ],
         "xaxis": "x",
         "y": [
          3
         ],
         "yaxis": "y"
        },
        {
         "alignmentgroup": "True",
         "hovertemplate": "Actor=김주혁<br>Genre=%{x}<br>Count=%{y}<extra></extra>",
         "legendgroup": "김주혁",
         "marker": {
          "color": "#636efa",
          "pattern": {
           "shape": ""
          }
         },
         "name": "김주혁",
         "offsetgroup": "김주혁",
         "orientation": "v",
         "showlegend": true,
         "textposition": "auto",
         "type": "bar",
         "x": [
          "멜로/로맨스",
          "코미디"
         ],
         "xaxis": "x",
         "y": [
          3,
          3
         ],
         "yaxis": "y"
        },
        {
         "alignmentgroup": "True",
         "hovertemplate": "Actor=송새벽<br>Genre=%{x}<br>Count=%{y}<extra></extra>",
         "legendgroup": "송새벽",
         "marker": {
          "color": "#EF553B",
          "pattern": {
           "shape": ""
          }
         },
         "name": "송새벽",
         "offsetgroup": "송새벽",
         "orientation": "v",
         "showlegend": true,
         "textposition": "auto",
         "type": "bar",
         "x": [
          "멜로/로맨스",
          "코미디"
         ],
         "xaxis": "x",
         "y": [
          3,
          3
         ],
         "yaxis": "y"
        },
        {
         "alignmentgroup": "True",
         "hovertemplate": "Actor=류현경<br>Genre=%{x}<br>Count=%{y}<extra></extra>",
         "legendgroup": "류현경",
         "marker": {
          "color": "#00cc96",
          "pattern": {
           "shape": ""
          }
         },
         "name": "류현경",
         "offsetgroup": "류현경",
         "orientation": "v",
         "showlegend": true,
         "textposition": "auto",
         "type": "bar",
         "x": [
          "멜로/로맨스",
          "코미디"
         ],
         "xaxis": "x",
         "y": [
          3,
          3
         ],
         "yaxis": "y"
        },
        {
         "alignmentgroup": "True",
         "hovertemplate": "Actor=이민기<br>Genre=%{x}<br>Count=%{y}<extra></extra>",
         "legendgroup": "이민기",
         "marker": {
          "color": "#ab63fa",
          "pattern": {
           "shape": ""
          }
         },
         "name": "이민기",
         "offsetgroup": "이민기",
         "orientation": "v",
         "showlegend": true,
         "textposition": "auto",
         "type": "bar",
         "x": [
          "멜로/로맨스",
          "코미디"
         ],
         "xaxis": "x",
         "y": [
          3,
          4
         ],
         "yaxis": "y"
        },
        {
         "alignmentgroup": "True",
         "hovertemplate": "Actor=조은지<br>Genre=%{x}<br>Count=%{y}<extra></extra>",
         "legendgroup": "조은지",
         "marker": {
          "color": "#FFA15A",
          "pattern": {
           "shape": ""
          }
         },
         "name": "조은지",
         "offsetgroup": "조은지",
         "orientation": "v",
         "showlegend": true,
         "textposition": "auto",
         "type": "bar",
         "x": [
          "멜로/로맨스",
          "액션",
          "코미디"
         ],
         "xaxis": "x",
         "y": [
          3,
          4,
          3
         ],
         "yaxis": "y"
        },
        {
         "alignmentgroup": "True",
         "hovertemplate": "Actor=최강희<br>Genre=%{x}<br>Count=%{y}<extra></extra>",
         "legendgroup": "최강희",
         "marker": {
          "color": "#19d3f3",
          "pattern": {
           "shape": ""
          }
         },
         "name": "최강희",
         "offsetgroup": "최강희",
         "orientation": "v",
         "showlegend": true,
         "textposition": "auto",
         "type": "bar",
         "x": [
          "멜로/로맨스"
         ],
         "xaxis": "x",
         "y": [
          3
         ],
         "yaxis": "y"
        },
        {
         "alignmentgroup": "True",
         "hovertemplate": "Actor=한석규<br>Genre=%{x}<br>Count=%{y}<extra></extra>",
         "legendgroup": "한석규",
         "marker": {
          "color": "#FF6692",
          "pattern": {
           "shape": ""
          }
         },
         "name": "한석규",
         "offsetgroup": "한석규",
         "orientation": "v",
         "showlegend": true,
         "textposition": "auto",
         "type": "bar",
         "x": [
          "미스터리",
          "스릴러",
          "액션"
         ],
         "xaxis": "x",
         "y": [
          3,
          3,
          4
         ],
         "yaxis": "y"
        },
        {
         "alignmentgroup": "True",
         "hovertemplate": "Actor=허동원<br>Genre=%{x}<br>Count=%{y}<extra></extra>",
         "legendgroup": "허동원",
         "marker": {
          "color": "#B6E880",
          "pattern": {
           "shape": ""
          }
         },
         "name": "허동원",
         "offsetgroup": "허동원",
         "orientation": "v",
         "showlegend": true,
         "textposition": "auto",
         "type": "bar",
         "x": [
          "범죄",
          "액션"
         ],
         "xaxis": "x",
         "y": [
          3,
          4
         ],
         "yaxis": "y"
        },
        {
         "alignmentgroup": "True",
         "hovertemplate": "Actor=김성규<br>Genre=%{x}<br>Count=%{y}<extra></extra>",
         "legendgroup": "김성규",
         "marker": {
          "color": "#FF97FF",
          "pattern": {
           "shape": ""
          }
         },
         "name": "김성규",
         "offsetgroup": "김성규",
         "orientation": "v",
         "showlegend": true,
         "textposition": "auto",
         "type": "bar",
         "x": [
          "범죄",
          "액션"
         ],
         "xaxis": "x",
         "y": [
          3,
          4
         ],
         "yaxis": "y"
        },
        {
         "alignmentgroup": "True",
         "hovertemplate": "Actor=서영희<br>Genre=%{x}<br>Count=%{y}<extra></extra>",
         "legendgroup": "서영희",
         "marker": {
          "color": "#FECB52",
          "pattern": {
           "shape": ""
          }
         },
         "name": "서영희",
         "offsetgroup": "서영희",
         "orientation": "v",
         "showlegend": true,
         "textposition": "auto",
         "type": "bar",
         "x": [
          "범죄",
          "코미디"
         ],
         "xaxis": "x",
         "y": [
          3,
          4
         ],
         "yaxis": "y"
        },
        {
         "alignmentgroup": "True",
         "hovertemplate": "Actor=이주영<br>Genre=%{x}<br>Count=%{y}<extra></extra>",
         "legendgroup": "이주영",
         "marker": {
          "color": "#636efa",
          "pattern": {
           "shape": ""
          }
         },
         "name": "이주영",
         "offsetgroup": "이주영",
         "orientation": "v",
         "showlegend": true,
         "textposition": "auto",
         "type": "bar",
         "x": [
          "범죄"
         ],
         "xaxis": "x",
         "y": [
          3
         ],
         "yaxis": "y"
        },
        {
         "alignmentgroup": "True",
         "hovertemplate": "Actor=유지태<br>Genre=%{x}<br>Count=%{y}<extra></extra>",
         "legendgroup": "유지태",
         "marker": {
          "color": "#EF553B",
          "pattern": {
           "shape": ""
          }
         },
         "name": "유지태",
         "offsetgroup": "유지태",
         "orientation": "v",
         "showlegend": true,
         "textposition": "auto",
         "type": "bar",
         "x": [
          "범죄",
          "스릴러"
         ],
         "xaxis": "x",
         "y": [
          3,
          4
         ],
         "yaxis": "y"
        },
        {
         "alignmentgroup": "True",
         "hovertemplate": "Actor=김재영<br>Genre=%{x}<br>Count=%{y}<extra></extra>",
         "legendgroup": "김재영",
         "marker": {
          "color": "#00cc96",
          "pattern": {
           "shape": ""
          }
         },
         "name": "김재영",
         "offsetgroup": "김재영",
         "orientation": "v",
         "showlegend": true,
         "textposition": "auto",
         "type": "bar",
         "x": [
          "범죄"
         ],
         "xaxis": "x",
         "y": [
          3
         ],
         "yaxis": "y"
        },
        {
         "alignmentgroup": "True",
         "hovertemplate": "Actor=김무열<br>Genre=%{x}<br>Count=%{y}<extra></extra>",
         "legendgroup": "김무열",
         "marker": {
          "color": "#ab63fa",
          "pattern": {
           "shape": ""
          }
         },
         "name": "김무열",
         "offsetgroup": "김무열",
         "orientation": "v",
         "showlegend": true,
         "textposition": "auto",
         "type": "bar",
         "x": [
          "범죄",
          "액션"
         ],
         "xaxis": "x",
         "y": [
          3,
          3
         ],
         "yaxis": "y"
        },
        {
         "alignmentgroup": "True",
         "hovertemplate": "Actor=정인겸<br>Genre=%{x}<br>Count=%{y}<extra></extra>",
         "legendgroup": "정인겸",
         "marker": {
          "color": "#FFA15A",
          "pattern": {
           "shape": ""
          }
         },
         "name": "정인겸",
         "offsetgroup": "정인겸",
         "orientation": "v",
         "showlegend": true,
         "textposition": "auto",
         "type": "bar",
         "x": [
          "범죄"
         ],
         "xaxis": "x",
         "y": [
          3
         ],
         "yaxis": "y"
        },
        {
         "alignmentgroup": "True",
         "hovertemplate": "Actor=박성웅<br>Genre=%{x}<br>Count=%{y}<extra></extra>",
         "legendgroup": "박성웅",
         "marker": {
          "color": "#19d3f3",
          "pattern": {
           "shape": ""
          }
         },
         "name": "박성웅",
         "offsetgroup": "박성웅",
         "orientation": "v",
         "showlegend": true,
         "textposition": "auto",
         "type": "bar",
         "x": [
          "범죄",
          "액션",
          "코미디"
         ],
         "xaxis": "x",
         "y": [
          5,
          5,
          3
         ],
         "yaxis": "y"
        },
        {
         "alignmentgroup": "True",
         "hovertemplate": "Actor=문정희<br>Genre=%{x}<br>Count=%{y}<extra></extra>",
         "legendgroup": "문정희",
         "marker": {
          "color": "#FF6692",
          "pattern": {
           "shape": ""
          }
         },
         "name": "문정희",
         "offsetgroup": "문정희",
         "orientation": "v",
         "showlegend": true,
         "textposition": "auto",
         "type": "bar",
         "x": [
          "스릴러"
         ],
         "xaxis": "x",
         "y": [
          3
         ],
         "yaxis": "y"
        },
        {
         "alignmentgroup": "True",
         "hovertemplate": "Actor=조성하<br>Genre=%{x}<br>Count=%{y}<extra></extra>",
         "legendgroup": "조성하",
         "marker": {
          "color": "#B6E880",
          "pattern": {
           "shape": ""
          }
         },
         "name": "조성하",
         "offsetgroup": "조성하",
         "orientation": "v",
         "showlegend": true,
         "textposition": "auto",
         "type": "bar",
         "x": [
          "스릴러",
          "액션"
         ],
         "xaxis": "x",
         "y": [
          3,
          3
         ],
         "yaxis": "y"
        },
        {
         "alignmentgroup": "True",
         "hovertemplate": "Actor=최무성<br>Genre=%{x}<br>Count=%{y}<extra></extra>",
         "legendgroup": "최무성",
         "marker": {
          "color": "#FF97FF",
          "pattern": {
           "shape": ""
          }
         },
         "name": "최무성",
         "offsetgroup": "최무성",
         "orientation": "v",
         "showlegend": true,
         "textposition": "auto",
         "type": "bar",
         "x": [
          "스릴러",
          "액션",
          "코미디"
         ],
         "xaxis": "x",
         "y": [
          3,
          3,
          4
         ],
         "yaxis": "y"
        },
        {
         "alignmentgroup": "True",
         "hovertemplate": "Actor=이상희<br>Genre=%{x}<br>Count=%{y}<extra></extra>",
         "legendgroup": "이상희",
         "marker": {
          "color": "#FECB52",
          "pattern": {
           "shape": ""
          }
         },
         "name": "이상희",
         "offsetgroup": "이상희",
         "orientation": "v",
         "showlegend": true,
         "textposition": "auto",
         "type": "bar",
         "x": [
          "스릴러"
         ],
         "xaxis": "x",
         "y": [
          3
         ],
         "yaxis": "y"
        },
        {
         "alignmentgroup": "True",
         "hovertemplate": "Actor=윤세아<br>Genre=%{x}<br>Count=%{y}<extra></extra>",
         "legendgroup": "윤세아",
         "marker": {
          "color": "#636efa",
          "pattern": {
           "shape": ""
          }
         },
         "name": "윤세아",
         "offsetgroup": "윤세아",
         "orientation": "v",
         "showlegend": true,
         "textposition": "auto",
         "type": "bar",
         "x": [
          "스릴러"
         ],
         "xaxis": "x",
         "y": [
          3
         ],
         "yaxis": "y"
        },
        {
         "alignmentgroup": "True",
         "hovertemplate": "Actor=엄지원<br>Genre=%{x}<br>Count=%{y}<extra></extra>",
         "legendgroup": "엄지원",
         "marker": {
          "color": "#EF553B",
          "pattern": {
           "shape": ""
          }
         },
         "name": "엄지원",
         "offsetgroup": "엄지원",
         "orientation": "v",
         "showlegend": true,
         "textposition": "auto",
         "type": "bar",
         "x": [
          "스릴러",
          "액션"
         ],
         "xaxis": "x",
         "y": [
          3,
          3
         ],
         "yaxis": "y"
        },
        {
         "alignmentgroup": "True",
         "hovertemplate": "Actor=손현주<br>Genre=%{x}<br>Count=%{y}<extra></extra>",
         "legendgroup": "손현주",
         "marker": {
          "color": "#00cc96",
          "pattern": {
           "shape": ""
          }
         },
         "name": "손현주",
         "offsetgroup": "손현주",
         "orientation": "v",
         "showlegend": true,
         "textposition": "auto",
         "type": "bar",
         "x": [
          "스릴러",
          "액션"
         ],
         "xaxis": "x",
         "y": [
          4,
          3
         ],
         "yaxis": "y"
        },
        {
         "alignmentgroup": "True",
         "hovertemplate": "Actor=조희봉<br>Genre=%{x}<br>Count=%{y}<extra></extra>",
         "legendgroup": "조희봉",
         "marker": {
          "color": "#ab63fa",
          "pattern": {
           "shape": ""
          }
         },
         "name": "조희봉",
         "offsetgroup": "조희봉",
         "orientation": "v",
         "showlegend": true,
         "textposition": "auto",
         "type": "bar",
         "x": [
          "스릴러",
          "코미디"
         ],
         "xaxis": "x",
         "y": [
          4,
          4
         ],
         "yaxis": "y"
        },
        {
         "alignmentgroup": "True",
         "hovertemplate": "Actor=신현종<br>Genre=%{x}<br>Count=%{y}<extra></extra>",
         "legendgroup": "신현종",
         "marker": {
          "color": "#FFA15A",
          "pattern": {
           "shape": ""
          }
         },
         "name": "신현종",
         "offsetgroup": "신현종",
         "orientation": "v",
         "showlegend": true,
         "textposition": "auto",
         "type": "bar",
         "x": [
          "스릴러"
         ],
         "xaxis": "x",
         "y": [
          4
         ],
         "yaxis": "y"
        },
        {
         "alignmentgroup": "True",
         "hovertemplate": "Actor=박보검<br>Genre=%{x}<br>Count=%{y}<extra></extra>",
         "legendgroup": "박보검",
         "marker": {
          "color": "#19d3f3",
          "pattern": {
           "shape": ""
          }
         },
         "name": "박보검",
         "offsetgroup": "박보검",
         "orientation": "v",
         "showlegend": true,
         "textposition": "auto",
         "type": "bar",
         "x": [
          "액션"
         ],
         "xaxis": "x",
         "y": [
          3
         ],
         "yaxis": "y"
        },
        {
         "alignmentgroup": "True",
         "hovertemplate": "Actor=전지현<br>Genre=%{x}<br>Count=%{y}<extra></extra>",
         "legendgroup": "전지현",
         "marker": {
          "color": "#FF6692",
          "pattern": {
           "shape": ""
          }
         },
         "name": "전지현",
         "offsetgroup": "전지현",
         "orientation": "v",
         "showlegend": true,
         "textposition": "auto",
         "type": "bar",
         "x": [
          "액션"
         ],
         "xaxis": "x",
         "y": [
          3
         ],
         "yaxis": "y"
        },
        {
         "alignmentgroup": "True",
         "hovertemplate": "Actor=최귀화<br>Genre=%{x}<br>Count=%{y}<extra></extra>",
         "legendgroup": "최귀화",
         "marker": {
          "color": "#B6E880",
          "pattern": {
           "shape": ""
          }
         },
         "name": "최귀화",
         "offsetgroup": "최귀화",
         "orientation": "v",
         "showlegend": true,
         "textposition": "auto",
         "type": "bar",
         "x": [
          "액션"
         ],
         "xaxis": "x",
         "y": [
          3
         ],
         "yaxis": "y"
        },
        {
         "alignmentgroup": "True",
         "hovertemplate": "Actor=임윤아<br>Genre=%{x}<br>Count=%{y}<extra></extra>",
         "legendgroup": "임윤아",
         "marker": {
          "color": "#FF97FF",
          "pattern": {
           "shape": ""
          }
         },
         "name": "임윤아",
         "offsetgroup": "임윤아",
         "orientation": "v",
         "showlegend": true,
         "textposition": "auto",
         "type": "bar",
         "x": [
          "액션"
         ],
         "xaxis": "x",
         "y": [
          3
         ],
         "yaxis": "y"
        },
        {
         "alignmentgroup": "True",
         "hovertemplate": "Actor=현빈<br>Genre=%{x}<br>Count=%{y}<extra></extra>",
         "legendgroup": "현빈",
         "marker": {
          "color": "#FECB52",
          "pattern": {
           "shape": ""
          }
         },
         "name": "현빈",
         "offsetgroup": "현빈",
         "orientation": "v",
         "showlegend": true,
         "textposition": "auto",
         "type": "bar",
         "x": [
          "액션"
         ],
         "xaxis": "x",
         "y": [
          3
         ],
         "yaxis": "y"
        },
        {
         "alignmentgroup": "True",
         "hovertemplate": "Actor=변요한<br>Genre=%{x}<br>Count=%{y}<extra></extra>",
         "legendgroup": "변요한",
         "marker": {
          "color": "#636efa",
          "pattern": {
           "shape": ""
          }
         },
         "name": "변요한",
         "offsetgroup": "변요한",
         "orientation": "v",
         "showlegend": true,
         "textposition": "auto",
         "type": "bar",
         "x": [
          "액션"
         ],
         "xaxis": "x",
         "y": [
          3
         ],
         "yaxis": "y"
        },
        {
         "alignmentgroup": "True",
         "hovertemplate": "Actor=박훈<br>Genre=%{x}<br>Count=%{y}<extra></extra>",
         "legendgroup": "박훈",
         "marker": {
          "color": "#EF553B",
          "pattern": {
           "shape": ""
          }
         },
         "name": "박훈",
         "offsetgroup": "박훈",
         "orientation": "v",
         "showlegend": true,
         "textposition": "auto",
         "type": "bar",
         "x": [
          "액션"
         ],
         "xaxis": "x",
         "y": [
          3
         ],
         "yaxis": "y"
        },
        {
         "alignmentgroup": "True",
         "hovertemplate": "Actor=배정남<br>Genre=%{x}<br>Count=%{y}<extra></extra>",
         "legendgroup": "배정남",
         "marker": {
          "color": "#00cc96",
          "pattern": {
           "shape": ""
          }
         },
         "name": "배정남",
         "offsetgroup": "배정남",
         "orientation": "v",
         "showlegend": true,
         "textposition": "auto",
         "type": "bar",
         "x": [
          "액션"
         ],
         "xaxis": "x",
         "y": [
          3
         ],
         "yaxis": "y"
        },
        {
         "alignmentgroup": "True",
         "hovertemplate": "Actor=우도환<br>Genre=%{x}<br>Count=%{y}<extra></extra>",
         "legendgroup": "우도환",
         "marker": {
          "color": "#ab63fa",
          "pattern": {
           "shape": ""
          }
         },
         "name": "우도환",
         "offsetgroup": "우도환",
         "orientation": "v",
         "showlegend": true,
         "textposition": "auto",
         "type": "bar",
         "x": [
          "액션"
         ],
         "xaxis": "x",
         "y": [
          3
         ],
         "yaxis": "y"
        },
        {
         "alignmentgroup": "True",
         "hovertemplate": "Actor=이태형<br>Genre=%{x}<br>Count=%{y}<extra></extra>",
         "legendgroup": "이태형",
         "marker": {
          "color": "#FFA15A",
          "pattern": {
           "shape": ""
          }
         },
         "name": "이태형",
         "offsetgroup": "이태형",
         "orientation": "v",
         "showlegend": true,
         "textposition": "auto",
         "type": "bar",
         "x": [
          "액션"
         ],
         "xaxis": "x",
         "y": [
          3
         ],
         "yaxis": "y"
        },
        {
         "alignmentgroup": "True",
         "hovertemplate": "Actor=차엽<br>Genre=%{x}<br>Count=%{y}<extra></extra>",
         "legendgroup": "차엽",
         "marker": {
          "color": "#19d3f3",
          "pattern": {
           "shape": ""
          }
         },
         "name": "차엽",
         "offsetgroup": "차엽",
         "orientation": "v",
         "showlegend": true,
         "textposition": "auto",
         "type": "bar",
         "x": [
          "액션"
         ],
         "xaxis": "x",
         "y": [
          3
         ],
         "yaxis": "y"
        },
        {
         "alignmentgroup": "True",
         "hovertemplate": "Actor=유오성<br>Genre=%{x}<br>Count=%{y}<extra></extra>",
         "legendgroup": "유오성",
         "marker": {
          "color": "#FF6692",
          "pattern": {
           "shape": ""
          }
         },
         "name": "유오성",
         "offsetgroup": "유오성",
         "orientation": "v",
         "showlegend": true,
         "textposition": "auto",
         "type": "bar",
         "x": [
          "액션"
         ],
         "xaxis": "x",
         "y": [
          3
         ],
         "yaxis": "y"
        },
        {
         "alignmentgroup": "True",
         "hovertemplate": "Actor=박경혜<br>Genre=%{x}<br>Count=%{y}<extra></extra>",
         "legendgroup": "박경혜",
         "marker": {
          "color": "#B6E880",
          "pattern": {
           "shape": ""
          }
         },
         "name": "박경혜",
         "offsetgroup": "박경혜",
         "orientation": "v",
         "showlegend": true,
         "textposition": "auto",
         "type": "bar",
         "x": [
          "액션"
         ],
         "xaxis": "x",
         "y": [
          3
         ],
         "yaxis": "y"
        },
        {
         "alignmentgroup": "True",
         "hovertemplate": "Actor=주보비<br>Genre=%{x}<br>Count=%{y}<extra></extra>",
         "legendgroup": "주보비",
         "marker": {
          "color": "#FF97FF",
          "pattern": {
           "shape": ""
          }
         },
         "name": "주보비",
         "offsetgroup": "주보비",
         "orientation": "v",
         "showlegend": true,
         "textposition": "auto",
         "type": "bar",
         "x": [
          "액션"
         ],
         "xaxis": "x",
         "y": [
          3
         ],
         "yaxis": "y"
        },
        {
         "alignmentgroup": "True",
         "hovertemplate": "Actor=김윤성<br>Genre=%{x}<br>Count=%{y}<extra></extra>",
         "legendgroup": "김윤성",
         "marker": {
          "color": "#FECB52",
          "pattern": {
           "shape": ""
          }
         },
         "name": "김윤성",
         "offsetgroup": "김윤성",
         "orientation": "v",
         "showlegend": true,
         "textposition": "auto",
         "type": "bar",
         "x": [
          "액션"
         ],
         "xaxis": "x",
         "y": [
          3
         ],
         "yaxis": "y"
        },
        {
         "alignmentgroup": "True",
         "hovertemplate": "Actor=박효준<br>Genre=%{x}<br>Count=%{y}<extra></extra>",
         "legendgroup": "박효준",
         "marker": {
          "color": "#636efa",
          "pattern": {
           "shape": ""
          }
         },
         "name": "박효준",
         "offsetgroup": "박효준",
         "orientation": "v",
         "showlegend": true,
         "textposition": "auto",
         "type": "bar",
         "x": [
          "액션"
         ],
         "xaxis": "x",
         "y": [
          3
         ],
         "yaxis": "y"
        },
        {
         "alignmentgroup": "True",
         "hovertemplate": "Actor=지승현<br>Genre=%{x}<br>Count=%{y}<extra></extra>",
         "legendgroup": "지승현",
         "marker": {
          "color": "#EF553B",
          "pattern": {
           "shape": ""
          }
         },
         "name": "지승현",
         "offsetgroup": "지승현",
         "orientation": "v",
         "showlegend": true,
         "textposition": "auto",
         "type": "bar",
         "x": [
          "액션"
         ],
         "xaxis": "x",
         "y": [
          3
         ],
         "yaxis": "y"
        },
        {
         "alignmentgroup": "True",
         "hovertemplate": "Actor=박명훈<br>Genre=%{x}<br>Count=%{y}<extra></extra>",
         "legendgroup": "박명훈",
         "marker": {
          "color": "#00cc96",
          "pattern": {
           "shape": ""
          }
         },
         "name": "박명훈",
         "offsetgroup": "박명훈",
         "orientation": "v",
         "showlegend": true,
         "textposition": "auto",
         "type": "bar",
         "x": [
          "액션"
         ],
         "xaxis": "x",
         "y": [
          3
         ],
         "yaxis": "y"
        },
        {
         "alignmentgroup": "True",
         "hovertemplate": "Actor=강지환<br>Genre=%{x}<br>Count=%{y}<extra></extra>",
         "legendgroup": "강지환",
         "marker": {
          "color": "#ab63fa",
          "pattern": {
           "shape": ""
          }
         },
         "name": "강지환",
         "offsetgroup": "강지환",
         "orientation": "v",
         "showlegend": true,
         "textposition": "auto",
         "type": "bar",
         "x": [
          "액션"
         ],
         "xaxis": "x",
         "y": [
          3
         ],
         "yaxis": "y"
        },
        {
         "alignmentgroup": "True",
         "hovertemplate": "Actor=이종혁<br>Genre=%{x}<br>Count=%{y}<extra></extra>",
         "legendgroup": "이종혁",
         "marker": {
          "color": "#FFA15A",
          "pattern": {
           "shape": ""
          }
         },
         "name": "이종혁",
         "offsetgroup": "이종혁",
         "orientation": "v",
         "showlegend": true,
         "textposition": "auto",
         "type": "bar",
         "x": [
          "액션"
         ],
         "xaxis": "x",
         "y": [
          3
         ],
         "yaxis": "y"
        },
        {
         "alignmentgroup": "True",
         "hovertemplate": "Actor=염동헌<br>Genre=%{x}<br>Count=%{y}<extra></extra>",
         "legendgroup": "염동헌",
         "marker": {
          "color": "#19d3f3",
          "pattern": {
           "shape": ""
          }
         },
         "name": "염동헌",
         "offsetgroup": "염동헌",
         "orientation": "v",
         "showlegend": true,
         "textposition": "auto",
         "type": "bar",
         "x": [
          "액션"
         ],
         "xaxis": "x",
         "y": [
          3
         ],
         "yaxis": "y"
        },
        {
         "alignmentgroup": "True",
         "hovertemplate": "Actor=조달환<br>Genre=%{x}<br>Count=%{y}<extra></extra>",
         "legendgroup": "조달환",
         "marker": {
          "color": "#FF6692",
          "pattern": {
           "shape": ""
          }
         },
         "name": "조달환",
         "offsetgroup": "조달환",
         "orientation": "v",
         "showlegend": true,
         "textposition": "auto",
         "type": "bar",
         "x": [
          "액션"
         ],
         "xaxis": "x",
         "y": [
          3
         ],
         "yaxis": "y"
        },
        {
         "alignmentgroup": "True",
         "hovertemplate": "Actor=정두홍<br>Genre=%{x}<br>Count=%{y}<extra></extra>",
         "legendgroup": "정두홍",
         "marker": {
          "color": "#B6E880",
          "pattern": {
           "shape": ""
          }
         },
         "name": "정두홍",
         "offsetgroup": "정두홍",
         "orientation": "v",
         "showlegend": true,
         "textposition": "auto",
         "type": "bar",
         "x": [
          "액션"
         ],
         "xaxis": "x",
         "y": [
          3
         ],
         "yaxis": "y"
        },
        {
         "alignmentgroup": "True",
         "hovertemplate": "Actor=주현<br>Genre=%{x}<br>Count=%{y}<extra></extra>",
         "legendgroup": "주현",
         "marker": {
          "color": "#FF97FF",
          "pattern": {
           "shape": ""
          }
         },
         "name": "주현",
         "offsetgroup": "주현",
         "orientation": "v",
         "showlegend": true,
         "textposition": "auto",
         "type": "bar",
         "x": [
          "액션"
         ],
         "xaxis": "x",
         "y": [
          3
         ],
         "yaxis": "y"
        },
        {
         "alignmentgroup": "True",
         "hovertemplate": "Actor=이정현<br>Genre=%{x}<br>Count=%{y}<extra></extra>",
         "legendgroup": "이정현",
         "marker": {
          "color": "#FECB52",
          "pattern": {
           "shape": ""
          }
         },
         "name": "이정현",
         "offsetgroup": "이정현",
         "orientation": "v",
         "showlegend": true,
         "textposition": "auto",
         "type": "bar",
         "x": [
          "액션"
         ],
         "xaxis": "x",
         "y": [
          4
         ],
         "yaxis": "y"
        },
        {
         "alignmentgroup": "True",
         "hovertemplate": "Actor=정웅인<br>Genre=%{x}<br>Count=%{y}<extra></extra>",
         "legendgroup": "정웅인",
         "marker": {
          "color": "#636efa",
          "pattern": {
           "shape": ""
          }
         },
         "name": "정웅인",
         "offsetgroup": "정웅인",
         "orientation": "v",
         "showlegend": true,
         "textposition": "auto",
         "type": "bar",
         "x": [
          "액션",
          "코미디"
         ],
         "xaxis": "x",
         "y": [
          4,
          6
         ],
         "yaxis": "y"
        },
        {
         "alignmentgroup": "True",
         "hovertemplate": "Actor=김수현<br>Genre=%{x}<br>Count=%{y}<extra></extra>",
         "legendgroup": "김수현",
         "marker": {
          "color": "#EF553B",
          "pattern": {
           "shape": ""
          }
         },
         "name": "김수현",
         "offsetgroup": "김수현",
         "orientation": "v",
         "showlegend": true,
         "textposition": "auto",
         "type": "bar",
         "x": [
          "액션"
         ],
         "xaxis": "x",
         "y": [
          4
         ],
         "yaxis": "y"
        },
        {
         "alignmentgroup": "True",
         "hovertemplate": "Actor=안세호<br>Genre=%{x}<br>Count=%{y}<extra></extra>",
         "legendgroup": "안세호",
         "marker": {
          "color": "#00cc96",
          "pattern": {
           "shape": ""
          }
         },
         "name": "안세호",
         "offsetgroup": "안세호",
         "orientation": "v",
         "showlegend": true,
         "textposition": "auto",
         "type": "bar",
         "x": [
          "액션"
         ],
         "xaxis": "x",
         "y": [
          4
         ],
         "yaxis": "y"
        },
        {
         "alignmentgroup": "True",
         "hovertemplate": "Actor=김우빈<br>Genre=%{x}<br>Count=%{y}<extra></extra>",
         "legendgroup": "김우빈",
         "marker": {
          "color": "#ab63fa",
          "pattern": {
           "shape": ""
          }
         },
         "name": "김우빈",
         "offsetgroup": "김우빈",
         "orientation": "v",
         "showlegend": true,
         "textposition": "auto",
         "type": "bar",
         "x": [
          "액션"
         ],
         "xaxis": "x",
         "y": [
          4
         ],
         "yaxis": "y"
        },
        {
         "alignmentgroup": "True",
         "hovertemplate": "Actor=윤병희<br>Genre=%{x}<br>Count=%{y}<extra></extra>",
         "legendgroup": "윤병희",
         "marker": {
          "color": "#FFA15A",
          "pattern": {
           "shape": ""
          }
         },
         "name": "윤병희",
         "offsetgroup": "윤병희",
         "orientation": "v",
         "showlegend": true,
         "textposition": "auto",
         "type": "bar",
         "x": [
          "액션",
          "코미디"
         ],
         "xaxis": "x",
         "y": [
          4,
          3
         ],
         "yaxis": "y"
        },
        {
         "alignmentgroup": "True",
         "hovertemplate": "Actor=김혜정<br>Genre=%{x}<br>Count=%{y}<extra></extra>",
         "legendgroup": "김혜정",
         "marker": {
          "color": "#19d3f3",
          "pattern": {
           "shape": ""
          }
         },
         "name": "김혜정",
         "offsetgroup": "김혜정",
         "orientation": "v",
         "showlegend": true,
         "textposition": "auto",
         "type": "bar",
         "x": [
          "액션"
         ],
         "xaxis": "x",
         "y": [
          4
         ],
         "yaxis": "y"
        },
        {
         "alignmentgroup": "True",
         "hovertemplate": "Actor=이선균<br>Genre=%{x}<br>Count=%{y}<extra></extra>",
         "legendgroup": "이선균",
         "marker": {
          "color": "#FF6692",
          "pattern": {
           "shape": ""
          }
         },
         "name": "이선균",
         "offsetgroup": "이선균",
         "orientation": "v",
         "showlegend": true,
         "textposition": "auto",
         "type": "bar",
         "x": [
          "액션",
          "코미디"
         ],
         "xaxis": "x",
         "y": [
          4,
          3
         ],
         "yaxis": "y"
        },
        {
         "alignmentgroup": "True",
         "hovertemplate": "Actor=주석태<br>Genre=%{x}<br>Count=%{y}<extra></extra>",
         "legendgroup": "주석태",
         "marker": {
          "color": "#B6E880",
          "pattern": {
           "shape": ""
          }
         },
         "name": "주석태",
         "offsetgroup": "주석태",
         "orientation": "v",
         "showlegend": true,
         "textposition": "auto",
         "type": "bar",
         "x": [
          "액션"
         ],
         "xaxis": "x",
         "y": [
          5
         ],
         "yaxis": "y"
        },
        {
         "alignmentgroup": "True",
         "hovertemplate": "Actor=이범수<br>Genre=%{x}<br>Count=%{y}<extra></extra>",
         "legendgroup": "이범수",
         "marker": {
          "color": "#FF97FF",
          "pattern": {
           "shape": ""
          }
         },
         "name": "이범수",
         "offsetgroup": "이범수",
         "orientation": "v",
         "showlegend": true,
         "textposition": "auto",
         "type": "bar",
         "x": [
          "액션",
          "코미디"
         ],
         "xaxis": "x",
         "y": [
          5,
          5
         ],
         "yaxis": "y"
        },
        {
         "alignmentgroup": "True",
         "hovertemplate": "Actor=조민수<br>Genre=%{x}<br>Count=%{y}<extra></extra>",
         "legendgroup": "조민수",
         "marker": {
          "color": "#FECB52",
          "pattern": {
           "shape": ""
          }
         },
         "name": "조민수",
         "offsetgroup": "조민수",
         "orientation": "v",
         "showlegend": true,
         "textposition": "auto",
         "type": "bar",
         "x": [
          "코미디"
         ],
         "xaxis": "x",
         "y": [
          3
         ],
         "yaxis": "y"
        },
        {
         "alignmentgroup": "True",
         "hovertemplate": "Actor=전혜빈<br>Genre=%{x}<br>Count=%{y}<extra></extra>",
         "legendgroup": "전혜빈",
         "marker": {
          "color": "#636efa",
          "pattern": {
           "shape": ""
          }
         },
         "name": "전혜빈",
         "offsetgroup": "전혜빈",
         "orientation": "v",
         "showlegend": true,
         "textposition": "auto",
         "type": "bar",
         "x": [
          "코미디"
         ],
         "xaxis": "x",
         "y": [
          3
         ],
         "yaxis": "y"
        },
        {
         "alignmentgroup": "True",
         "hovertemplate": "Actor=김아중<br>Genre=%{x}<br>Count=%{y}<extra></extra>",
         "legendgroup": "김아중",
         "marker": {
          "color": "#EF553B",
          "pattern": {
           "shape": ""
          }
         },
         "name": "김아중",
         "offsetgroup": "김아중",
         "orientation": "v",
         "showlegend": true,
         "textposition": "auto",
         "type": "bar",
         "x": [
          "코미디"
         ],
         "xaxis": "x",
         "y": [
          3
         ],
         "yaxis": "y"
        },
        {
         "alignmentgroup": "True",
         "hovertemplate": "Actor=강성필<br>Genre=%{x}<br>Count=%{y}<extra></extra>",
         "legendgroup": "강성필",
         "marker": {
          "color": "#00cc96",
          "pattern": {
           "shape": ""
          }
         },
         "name": "강성필",
         "offsetgroup": "강성필",
         "orientation": "v",
         "showlegend": true,
         "textposition": "auto",
         "type": "bar",
         "x": [
          "코미디"
         ],
         "xaxis": "x",
         "y": [
          3
         ],
         "yaxis": "y"
        },
        {
         "alignmentgroup": "True",
         "hovertemplate": "Actor=정준하<br>Genre=%{x}<br>Count=%{y}<extra></extra>",
         "legendgroup": "정준하",
         "marker": {
          "color": "#ab63fa",
          "pattern": {
           "shape": ""
          }
         },
         "name": "정준하",
         "offsetgroup": "정준하",
         "orientation": "v",
         "showlegend": true,
         "textposition": "auto",
         "type": "bar",
         "x": [
          "코미디"
         ],
         "xaxis": "x",
         "y": [
          3
         ],
         "yaxis": "y"
        },
        {
         "alignmentgroup": "True",
         "hovertemplate": "Actor=공형진<br>Genre=%{x}<br>Count=%{y}<extra></extra>",
         "legendgroup": "공형진",
         "marker": {
          "color": "#FFA15A",
          "pattern": {
           "shape": ""
          }
         },
         "name": "공형진",
         "offsetgroup": "공형진",
         "orientation": "v",
         "showlegend": true,
         "textposition": "auto",
         "type": "bar",
         "x": [
          "코미디"
         ],
         "xaxis": "x",
         "y": [
          3
         ],
         "yaxis": "y"
        },
        {
         "alignmentgroup": "True",
         "hovertemplate": "Actor=최성국<br>Genre=%{x}<br>Count=%{y}<extra></extra>",
         "legendgroup": "최성국",
         "marker": {
          "color": "#19d3f3",
          "pattern": {
           "shape": ""
          }
         },
         "name": "최성국",
         "offsetgroup": "최성국",
         "orientation": "v",
         "showlegend": true,
         "textposition": "auto",
         "type": "bar",
         "x": [
          "코미디"
         ],
         "xaxis": "x",
         "y": [
          3
         ],
         "yaxis": "y"
        },
        {
         "alignmentgroup": "True",
         "hovertemplate": "Actor=오나라<br>Genre=%{x}<br>Count=%{y}<extra></extra>",
         "legendgroup": "오나라",
         "marker": {
          "color": "#FF6692",
          "pattern": {
           "shape": ""
          }
         },
         "name": "오나라",
         "offsetgroup": "오나라",
         "orientation": "v",
         "showlegend": true,
         "textposition": "auto",
         "type": "bar",
         "x": [
          "코미디"
         ],
         "xaxis": "x",
         "y": [
          3
         ],
         "yaxis": "y"
        },
        {
         "alignmentgroup": "True",
         "hovertemplate": "Actor=김도연<br>Genre=%{x}<br>Count=%{y}<extra></extra>",
         "legendgroup": "김도연",
         "marker": {
          "color": "#B6E880",
          "pattern": {
           "shape": ""
          }
         },
         "name": "김도연",
         "offsetgroup": "김도연",
         "orientation": "v",
         "showlegend": true,
         "textposition": "auto",
         "type": "bar",
         "x": [
          "코미디"
         ],
         "xaxis": "x",
         "y": [
          3
         ],
         "yaxis": "y"
        },
        {
         "alignmentgroup": "True",
         "hovertemplate": "Actor=김용건<br>Genre=%{x}<br>Count=%{y}<extra></extra>",
         "legendgroup": "김용건",
         "marker": {
          "color": "#FF97FF",
          "pattern": {
           "shape": ""
          }
         },
         "name": "김용건",
         "offsetgroup": "김용건",
         "orientation": "v",
         "showlegend": true,
         "textposition": "auto",
         "type": "bar",
         "x": [
          "코미디"
         ],
         "xaxis": "x",
         "y": [
          3
         ],
         "yaxis": "y"
        },
        {
         "alignmentgroup": "True",
         "hovertemplate": "Actor=최성원<br>Genre=%{x}<br>Count=%{y}<extra></extra>",
         "legendgroup": "최성원",
         "marker": {
          "color": "#FECB52",
          "pattern": {
           "shape": ""
          }
         },
         "name": "최성원",
         "offsetgroup": "최성원",
         "orientation": "v",
         "showlegend": true,
         "textposition": "auto",
         "type": "bar",
         "x": [
          "코미디"
         ],
         "xaxis": "x",
         "y": [
          3
         ],
         "yaxis": "y"
        },
        {
         "alignmentgroup": "True",
         "hovertemplate": "Actor=김인문<br>Genre=%{x}<br>Count=%{y}<extra></extra>",
         "legendgroup": "김인문",
         "marker": {
          "color": "#636efa",
          "pattern": {
           "shape": ""
          }
         },
         "name": "김인문",
         "offsetgroup": "김인문",
         "orientation": "v",
         "showlegend": true,
         "textposition": "auto",
         "type": "bar",
         "x": [
          "코미디"
         ],
         "xaxis": "x",
         "y": [
          3
         ],
         "yaxis": "y"
        },
        {
         "alignmentgroup": "True",
         "hovertemplate": "Actor=길해연<br>Genre=%{x}<br>Count=%{y}<extra></extra>",
         "legendgroup": "길해연",
         "marker": {
          "color": "#EF553B",
          "pattern": {
           "shape": ""
          }
         },
         "name": "길해연",
         "offsetgroup": "길해연",
         "orientation": "v",
         "showlegend": true,
         "textposition": "auto",
         "type": "bar",
         "x": [
          "코미디"
         ],
         "xaxis": "x",
         "y": [
          3
         ],
         "yaxis": "y"
        },
        {
         "alignmentgroup": "True",
         "hovertemplate": "Actor=장항선<br>Genre=%{x}<br>Count=%{y}<extra></extra>",
         "legendgroup": "장항선",
         "marker": {
          "color": "#00cc96",
          "pattern": {
           "shape": ""
          }
         },
         "name": "장항선",
         "offsetgroup": "장항선",
         "orientation": "v",
         "showlegend": true,
         "textposition": "auto",
         "type": "bar",
         "x": [
          "코미디"
         ],
         "xaxis": "x",
         "y": [
          3
         ],
         "yaxis": "y"
        },
        {
         "alignmentgroup": "True",
         "hovertemplate": "Actor=박준규<br>Genre=%{x}<br>Count=%{y}<extra></extra>",
         "legendgroup": "박준규",
         "marker": {
          "color": "#ab63fa",
          "pattern": {
           "shape": ""
          }
         },
         "name": "박준규",
         "offsetgroup": "박준규",
         "orientation": "v",
         "showlegend": true,
         "textposition": "auto",
         "type": "bar",
         "x": [
          "코미디"
         ],
         "xaxis": "x",
         "y": [
          3
         ],
         "yaxis": "y"
        },
        {
         "alignmentgroup": "True",
         "hovertemplate": "Actor=최무인<br>Genre=%{x}<br>Count=%{y}<extra></extra>",
         "legendgroup": "최무인",
         "marker": {
          "color": "#FFA15A",
          "pattern": {
           "shape": ""
          }
         },
         "name": "최무인",
         "offsetgroup": "최무인",
         "orientation": "v",
         "showlegend": true,
         "textposition": "auto",
         "type": "bar",
         "x": [
          "코미디"
         ],
         "xaxis": "x",
         "y": [
          3
         ],
         "yaxis": "y"
        },
        {
         "alignmentgroup": "True",
         "hovertemplate": "Actor=이상윤<br>Genre=%{x}<br>Count=%{y}<extra></extra>",
         "legendgroup": "이상윤",
         "marker": {
          "color": "#19d3f3",
          "pattern": {
           "shape": ""
          }
         },
         "name": "이상윤",
         "offsetgroup": "이상윤",
         "orientation": "v",
         "showlegend": true,
         "textposition": "auto",
         "type": "bar",
         "x": [
          "코미디"
         ],
         "xaxis": "x",
         "y": [
          3
         ],
         "yaxis": "y"
        },
        {
         "alignmentgroup": "True",
         "hovertemplate": "Actor=박상면<br>Genre=%{x}<br>Count=%{y}<extra></extra>",
         "legendgroup": "박상면",
         "marker": {
          "color": "#FF6692",
          "pattern": {
           "shape": ""
          }
         },
         "name": "박상면",
         "offsetgroup": "박상면",
         "orientation": "v",
         "showlegend": true,
         "textposition": "auto",
         "type": "bar",
         "x": [
          "코미디"
         ],
         "xaxis": "x",
         "y": [
          3
         ],
         "yaxis": "y"
        },
        {
         "alignmentgroup": "True",
         "hovertemplate": "Actor=박상욱<br>Genre=%{x}<br>Count=%{y}<extra></extra>",
         "legendgroup": "박상욱",
         "marker": {
          "color": "#B6E880",
          "pattern": {
           "shape": ""
          }
         },
         "name": "박상욱",
         "offsetgroup": "박상욱",
         "orientation": "v",
         "showlegend": true,
         "textposition": "auto",
         "type": "bar",
         "x": [
          "코미디"
         ],
         "xaxis": "x",
         "y": [
          3
         ],
         "yaxis": "y"
        },
        {
         "alignmentgroup": "True",
         "hovertemplate": "Actor=박성일<br>Genre=%{x}<br>Count=%{y}<extra></extra>",
         "legendgroup": "박성일",
         "marker": {
          "color": "#FF97FF",
          "pattern": {
           "shape": ""
          }
         },
         "name": "박성일",
         "offsetgroup": "박성일",
         "orientation": "v",
         "showlegend": true,
         "textposition": "auto",
         "type": "bar",
         "x": [
          "코미디"
         ],
         "xaxis": "x",
         "y": [
          4
         ],
         "yaxis": "y"
        },
        {
         "alignmentgroup": "True",
         "hovertemplate": "Actor=탁재훈<br>Genre=%{x}<br>Count=%{y}<extra></extra>",
         "legendgroup": "탁재훈",
         "marker": {
          "color": "#FECB52",
          "pattern": {
           "shape": ""
          }
         },
         "name": "탁재훈",
         "offsetgroup": "탁재훈",
         "orientation": "v",
         "showlegend": true,
         "textposition": "auto",
         "type": "bar",
         "x": [
          "코미디"
         ],
         "xaxis": "x",
         "y": [
          4
         ],
         "yaxis": "y"
        },
        {
         "alignmentgroup": "True",
         "hovertemplate": "Actor=김하늘<br>Genre=%{x}<br>Count=%{y}<extra></extra>",
         "legendgroup": "김하늘",
         "marker": {
          "color": "#636efa",
          "pattern": {
           "shape": ""
          }
         },
         "name": "김하늘",
         "offsetgroup": "김하늘",
         "orientation": "v",
         "showlegend": true,
         "textposition": "auto",
         "type": "bar",
         "x": [
          "코미디"
         ],
         "xaxis": "x",
         "y": [
          4
         ],
         "yaxis": "y"
        },
        {
         "alignmentgroup": "True",
         "hovertemplate": "Actor=이지훈<br>Genre=%{x}<br>Count=%{y}<extra></extra>",
         "legendgroup": "이지훈",
         "marker": {
          "color": "#EF553B",
          "pattern": {
           "shape": ""
          }
         },
         "name": "이지훈",
         "offsetgroup": "이지훈",
         "orientation": "v",
         "showlegend": true,
         "textposition": "auto",
         "type": "bar",
         "x": [
          "코미디"
         ],
         "xaxis": "x",
         "y": [
          4
         ],
         "yaxis": "y"
        },
        {
         "alignmentgroup": "True",
         "hovertemplate": "Actor=이원종<br>Genre=%{x}<br>Count=%{y}<extra></extra>",
         "legendgroup": "이원종",
         "marker": {
          "color": "#00cc96",
          "pattern": {
           "shape": ""
          }
         },
         "name": "이원종",
         "offsetgroup": "이원종",
         "orientation": "v",
         "showlegend": true,
         "textposition": "auto",
         "type": "bar",
         "x": [
          "코미디"
         ],
         "xaxis": "x",
         "y": [
          4
         ],
         "yaxis": "y"
        },
        {
         "alignmentgroup": "True",
         "hovertemplate": "Actor=강성진<br>Genre=%{x}<br>Count=%{y}<extra></extra>",
         "legendgroup": "강성진",
         "marker": {
          "color": "#ab63fa",
          "pattern": {
           "shape": ""
          }
         },
         "name": "강성진",
         "offsetgroup": "강성진",
         "orientation": "v",
         "showlegend": true,
         "textposition": "auto",
         "type": "bar",
         "x": [
          "코미디"
         ],
         "xaxis": "x",
         "y": [
          4
         ],
         "yaxis": "y"
        },
        {
         "alignmentgroup": "True",
         "hovertemplate": "Actor=김선아<br>Genre=%{x}<br>Count=%{y}<extra></extra>",
         "legendgroup": "김선아",
         "marker": {
          "color": "#FFA15A",
          "pattern": {
           "shape": ""
          }
         },
         "name": "김선아",
         "offsetgroup": "김선아",
         "orientation": "v",
         "showlegend": true,
         "textposition": "auto",
         "type": "bar",
         "x": [
          "코미디"
         ],
         "xaxis": "x",
         "y": [
          4
         ],
         "yaxis": "y"
        },
        {
         "alignmentgroup": "True",
         "hovertemplate": "Actor=손병욱<br>Genre=%{x}<br>Count=%{y}<extra></extra>",
         "legendgroup": "손병욱",
         "marker": {
          "color": "#19d3f3",
          "pattern": {
           "shape": ""
          }
         },
         "name": "손병욱",
         "offsetgroup": "손병욱",
         "orientation": "v",
         "showlegend": true,
         "textposition": "auto",
         "type": "bar",
         "x": [
          "코미디"
         ],
         "xaxis": "x",
         "y": [
          4
         ],
         "yaxis": "y"
        },
        {
         "alignmentgroup": "True",
         "hovertemplate": "Actor=안재홍<br>Genre=%{x}<br>Count=%{y}<extra></extra>",
         "legendgroup": "안재홍",
         "marker": {
          "color": "#FF6692",
          "pattern": {
           "shape": ""
          }
         },
         "name": "안재홍",
         "offsetgroup": "안재홍",
         "orientation": "v",
         "showlegend": true,
         "textposition": "auto",
         "type": "bar",
         "x": [
          "코미디"
         ],
         "xaxis": "x",
         "y": [
          4
         ],
         "yaxis": "y"
        },
        {
         "alignmentgroup": "True",
         "hovertemplate": "Actor=김서현<br>Genre=%{x}<br>Count=%{y}<extra></extra>",
         "legendgroup": "김서현",
         "marker": {
          "color": "#B6E880",
          "pattern": {
           "shape": ""
          }
         },
         "name": "김서현",
         "offsetgroup": "김서현",
         "orientation": "v",
         "showlegend": true,
         "textposition": "auto",
         "type": "bar",
         "x": [
          "코미디"
         ],
         "xaxis": "x",
         "y": [
          5
         ],
         "yaxis": "y"
        },
        {
         "alignmentgroup": "True",
         "hovertemplate": "Actor=신현준<br>Genre=%{x}<br>Count=%{y}<extra></extra>",
         "legendgroup": "신현준",
         "marker": {
          "color": "#FF97FF",
          "pattern": {
           "shape": ""
          }
         },
         "name": "신현준",
         "offsetgroup": "신현준",
         "orientation": "v",
         "showlegend": true,
         "textposition": "auto",
         "type": "bar",
         "x": [
          "코미디"
         ],
         "xaxis": "x",
         "y": [
          5
         ],
         "yaxis": "y"
        },
        {
         "alignmentgroup": "True",
         "hovertemplate": "Actor=이문식<br>Genre=%{x}<br>Count=%{y}<extra></extra>",
         "legendgroup": "이문식",
         "marker": {
          "color": "#FECB52",
          "pattern": {
           "shape": ""
          }
         },
         "name": "이문식",
         "offsetgroup": "이문식",
         "orientation": "v",
         "showlegend": true,
         "textposition": "auto",
         "type": "bar",
         "x": [
          "코미디"
         ],
         "xaxis": "x",
         "y": [
          5
         ],
         "yaxis": "y"
        },
        {
         "alignmentgroup": "True",
         "hovertemplate": "Actor=김수로<br>Genre=%{x}<br>Count=%{y}<extra></extra>",
         "legendgroup": "김수로",
         "marker": {
          "color": "#636efa",
          "pattern": {
           "shape": ""
          }
         },
         "name": "김수로",
         "offsetgroup": "김수로",
         "orientation": "v",
         "showlegend": true,
         "textposition": "auto",
         "type": "bar",
         "x": [
          "코미디"
         ],
         "xaxis": "x",
         "y": [
          5
         ],
         "yaxis": "y"
        },
        {
         "alignmentgroup": "True",
         "hovertemplate": "Actor=신이<br>Genre=%{x}<br>Count=%{y}<extra></extra>",
         "legendgroup": "신이",
         "marker": {
          "color": "#EF553B",
          "pattern": {
           "shape": ""
          }
         },
         "name": "신이",
         "offsetgroup": "신이",
         "orientation": "v",
         "showlegend": true,
         "textposition": "auto",
         "type": "bar",
         "x": [
          "코미디"
         ],
         "xaxis": "x",
         "y": [
          6
         ],
         "yaxis": "y"
        },
        {
         "alignmentgroup": "True",
         "hovertemplate": "Actor=임창정<br>Genre=%{x}<br>Count=%{y}<extra></extra>",
         "legendgroup": "임창정",
         "marker": {
          "color": "#00cc96",
          "pattern": {
           "shape": ""
          }
         },
         "name": "임창정",
         "offsetgroup": "임창정",
         "orientation": "v",
         "showlegend": true,
         "textposition": "auto",
         "type": "bar",
         "x": [
          "코미디"
         ],
         "xaxis": "x",
         "y": [
          9
         ],
         "yaxis": "y"
        }
       ],
       "layout": {
        "barmode": "relative",
        "legend": {
         "title": {
          "text": "Actor"
         },
         "tracegroupgap": 0
        },
        "template": {
         "data": {
          "bar": [
           {
            "error_x": {
             "color": "#2a3f5f"
            },
            "error_y": {
             "color": "#2a3f5f"
            },
            "marker": {
             "line": {
              "color": "#E5ECF6",
              "width": 0.5
             },
             "pattern": {
              "fillmode": "overlay",
              "size": 10,
              "solidity": 0.2
             }
            },
            "type": "bar"
           }
          ],
          "barpolar": [
           {
            "marker": {
             "line": {
              "color": "#E5ECF6",
              "width": 0.5
             },
             "pattern": {
              "fillmode": "overlay",
              "size": 10,
              "solidity": 0.2
             }
            },
            "type": "barpolar"
           }
          ],
          "carpet": [
           {
            "aaxis": {
             "endlinecolor": "#2a3f5f",
             "gridcolor": "white",
             "linecolor": "white",
             "minorgridcolor": "white",
             "startlinecolor": "#2a3f5f"
            },
            "baxis": {
             "endlinecolor": "#2a3f5f",
             "gridcolor": "white",
             "linecolor": "white",
             "minorgridcolor": "white",
             "startlinecolor": "#2a3f5f"
            },
            "type": "carpet"
           }
          ],
          "choropleth": [
           {
            "colorbar": {
             "outlinewidth": 0,
             "ticks": ""
            },
            "type": "choropleth"
           }
          ],
          "contour": [
           {
            "colorbar": {
             "outlinewidth": 0,
             "ticks": ""
            },
            "colorscale": [
             [
              0,
              "#0d0887"
             ],
             [
              0.1111111111111111,
              "#46039f"
             ],
             [
              0.2222222222222222,
              "#7201a8"
             ],
             [
              0.3333333333333333,
              "#9c179e"
             ],
             [
              0.4444444444444444,
              "#bd3786"
             ],
             [
              0.5555555555555556,
              "#d8576b"
             ],
             [
              0.6666666666666666,
              "#ed7953"
             ],
             [
              0.7777777777777778,
              "#fb9f3a"
             ],
             [
              0.8888888888888888,
              "#fdca26"
             ],
             [
              1,
              "#f0f921"
             ]
            ],
            "type": "contour"
           }
          ],
          "contourcarpet": [
           {
            "colorbar": {
             "outlinewidth": 0,
             "ticks": ""
            },
            "type": "contourcarpet"
           }
          ],
          "heatmap": [
           {
            "colorbar": {
             "outlinewidth": 0,
             "ticks": ""
            },
            "colorscale": [
             [
              0,
              "#0d0887"
             ],
             [
              0.1111111111111111,
              "#46039f"
             ],
             [
              0.2222222222222222,
              "#7201a8"
             ],
             [
              0.3333333333333333,
              "#9c179e"
             ],
             [
              0.4444444444444444,
              "#bd3786"
             ],
             [
              0.5555555555555556,
              "#d8576b"
             ],
             [
              0.6666666666666666,
              "#ed7953"
             ],
             [
              0.7777777777777778,
              "#fb9f3a"
             ],
             [
              0.8888888888888888,
              "#fdca26"
             ],
             [
              1,
              "#f0f921"
             ]
            ],
            "type": "heatmap"
           }
          ],
          "heatmapgl": [
           {
            "colorbar": {
             "outlinewidth": 0,
             "ticks": ""
            },
            "colorscale": [
             [
              0,
              "#0d0887"
             ],
             [
              0.1111111111111111,
              "#46039f"
             ],
             [
              0.2222222222222222,
              "#7201a8"
             ],
             [
              0.3333333333333333,
              "#9c179e"
             ],
             [
              0.4444444444444444,
              "#bd3786"
             ],
             [
              0.5555555555555556,
              "#d8576b"
             ],
             [
              0.6666666666666666,
              "#ed7953"
             ],
             [
              0.7777777777777778,
              "#fb9f3a"
             ],
             [
              0.8888888888888888,
              "#fdca26"
             ],
             [
              1,
              "#f0f921"
             ]
            ],
            "type": "heatmapgl"
           }
          ],
          "histogram": [
           {
            "marker": {
             "pattern": {
              "fillmode": "overlay",
              "size": 10,
              "solidity": 0.2
             }
            },
            "type": "histogram"
           }
          ],
          "histogram2d": [
           {
            "colorbar": {
             "outlinewidth": 0,
             "ticks": ""
            },
            "colorscale": [
             [
              0,
              "#0d0887"
             ],
             [
              0.1111111111111111,
              "#46039f"
             ],
             [
              0.2222222222222222,
              "#7201a8"
             ],
             [
              0.3333333333333333,
              "#9c179e"
             ],
             [
              0.4444444444444444,
              "#bd3786"
             ],
             [
              0.5555555555555556,
              "#d8576b"
             ],
             [
              0.6666666666666666,
              "#ed7953"
             ],
             [
              0.7777777777777778,
              "#fb9f3a"
             ],
             [
              0.8888888888888888,
              "#fdca26"
             ],
             [
              1,
              "#f0f921"
             ]
            ],
            "type": "histogram2d"
           }
          ],
          "histogram2dcontour": [
           {
            "colorbar": {
             "outlinewidth": 0,
             "ticks": ""
            },
            "colorscale": [
             [
              0,
              "#0d0887"
             ],
             [
              0.1111111111111111,
              "#46039f"
             ],
             [
              0.2222222222222222,
              "#7201a8"
             ],
             [
              0.3333333333333333,
              "#9c179e"
             ],
             [
              0.4444444444444444,
              "#bd3786"
             ],
             [
              0.5555555555555556,
              "#d8576b"
             ],
             [
              0.6666666666666666,
              "#ed7953"
             ],
             [
              0.7777777777777778,
              "#fb9f3a"
             ],
             [
              0.8888888888888888,
              "#fdca26"
             ],
             [
              1,
              "#f0f921"
             ]
            ],
            "type": "histogram2dcontour"
           }
          ],
          "mesh3d": [
           {
            "colorbar": {
             "outlinewidth": 0,
             "ticks": ""
            },
            "type": "mesh3d"
           }
          ],
          "parcoords": [
           {
            "line": {
             "colorbar": {
              "outlinewidth": 0,
              "ticks": ""
             }
            },
            "type": "parcoords"
           }
          ],
          "pie": [
           {
            "automargin": true,
            "type": "pie"
           }
          ],
          "scatter": [
           {
            "fillpattern": {
             "fillmode": "overlay",
             "size": 10,
             "solidity": 0.2
            },
            "type": "scatter"
           }
          ],
          "scatter3d": [
           {
            "line": {
             "colorbar": {
              "outlinewidth": 0,
              "ticks": ""
             }
            },
            "marker": {
             "colorbar": {
              "outlinewidth": 0,
              "ticks": ""
             }
            },
            "type": "scatter3d"
           }
          ],
          "scattercarpet": [
           {
            "marker": {
             "colorbar": {
              "outlinewidth": 0,
              "ticks": ""
             }
            },
            "type": "scattercarpet"
           }
          ],
          "scattergeo": [
           {
            "marker": {
             "colorbar": {
              "outlinewidth": 0,
              "ticks": ""
             }
            },
            "type": "scattergeo"
           }
          ],
          "scattergl": [
           {
            "marker": {
             "colorbar": {
              "outlinewidth": 0,
              "ticks": ""
             }
            },
            "type": "scattergl"
           }
          ],
          "scattermapbox": [
           {
            "marker": {
             "colorbar": {
              "outlinewidth": 0,
              "ticks": ""
             }
            },
            "type": "scattermapbox"
           }
          ],
          "scatterpolar": [
           {
            "marker": {
             "colorbar": {
              "outlinewidth": 0,
              "ticks": ""
             }
            },
            "type": "scatterpolar"
           }
          ],
          "scatterpolargl": [
           {
            "marker": {
             "colorbar": {
              "outlinewidth": 0,
              "ticks": ""
             }
            },
            "type": "scatterpolargl"
           }
          ],
          "scatterternary": [
           {
            "marker": {
             "colorbar": {
              "outlinewidth": 0,
              "ticks": ""
             }
            },
            "type": "scatterternary"
           }
          ],
          "surface": [
           {
            "colorbar": {
             "outlinewidth": 0,
             "ticks": ""
            },
            "colorscale": [
             [
              0,
              "#0d0887"
             ],
             [
              0.1111111111111111,
              "#46039f"
             ],
             [
              0.2222222222222222,
              "#7201a8"
             ],
             [
              0.3333333333333333,
              "#9c179e"
             ],
             [
              0.4444444444444444,
              "#bd3786"
             ],
             [
              0.5555555555555556,
              "#d8576b"
             ],
             [
              0.6666666666666666,
              "#ed7953"
             ],
             [
              0.7777777777777778,
              "#fb9f3a"
             ],
             [
              0.8888888888888888,
              "#fdca26"
             ],
             [
              1,
              "#f0f921"
             ]
            ],
            "type": "surface"
           }
          ],
          "table": [
           {
            "cells": {
             "fill": {
              "color": "#EBF0F8"
             },
             "line": {
              "color": "white"
             }
            },
            "header": {
             "fill": {
              "color": "#C8D4E3"
             },
             "line": {
              "color": "white"
             }
            },
            "type": "table"
           }
          ]
         },
         "layout": {
          "annotationdefaults": {
           "arrowcolor": "#2a3f5f",
           "arrowhead": 0,
           "arrowwidth": 1
          },
          "autotypenumbers": "strict",
          "coloraxis": {
           "colorbar": {
            "outlinewidth": 0,
            "ticks": ""
           }
          },
          "colorscale": {
           "diverging": [
            [
             0,
             "#8e0152"
            ],
            [
             0.1,
             "#c51b7d"
            ],
            [
             0.2,
             "#de77ae"
            ],
            [
             0.3,
             "#f1b6da"
            ],
            [
             0.4,
             "#fde0ef"
            ],
            [
             0.5,
             "#f7f7f7"
            ],
            [
             0.6,
             "#e6f5d0"
            ],
            [
             0.7,
             "#b8e186"
            ],
            [
             0.8,
             "#7fbc41"
            ],
            [
             0.9,
             "#4d9221"
            ],
            [
             1,
             "#276419"
            ]
           ],
           "sequential": [
            [
             0,
             "#0d0887"
            ],
            [
             0.1111111111111111,
             "#46039f"
            ],
            [
             0.2222222222222222,
             "#7201a8"
            ],
            [
             0.3333333333333333,
             "#9c179e"
            ],
            [
             0.4444444444444444,
             "#bd3786"
            ],
            [
             0.5555555555555556,
             "#d8576b"
            ],
            [
             0.6666666666666666,
             "#ed7953"
            ],
            [
             0.7777777777777778,
             "#fb9f3a"
            ],
            [
             0.8888888888888888,
             "#fdca26"
            ],
            [
             1,
             "#f0f921"
            ]
           ],
           "sequentialminus": [
            [
             0,
             "#0d0887"
            ],
            [
             0.1111111111111111,
             "#46039f"
            ],
            [
             0.2222222222222222,
             "#7201a8"
            ],
            [
             0.3333333333333333,
             "#9c179e"
            ],
            [
             0.4444444444444444,
             "#bd3786"
            ],
            [
             0.5555555555555556,
             "#d8576b"
            ],
            [
             0.6666666666666666,
             "#ed7953"
            ],
            [
             0.7777777777777778,
             "#fb9f3a"
            ],
            [
             0.8888888888888888,
             "#fdca26"
            ],
            [
             1,
             "#f0f921"
            ]
           ]
          },
          "colorway": [
           "#636efa",
           "#EF553B",
           "#00cc96",
           "#ab63fa",
           "#FFA15A",
           "#19d3f3",
           "#FF6692",
           "#B6E880",
           "#FF97FF",
           "#FECB52"
          ],
          "font": {
           "color": "#2a3f5f"
          },
          "geo": {
           "bgcolor": "white",
           "lakecolor": "white",
           "landcolor": "#E5ECF6",
           "showlakes": true,
           "showland": true,
           "subunitcolor": "white"
          },
          "hoverlabel": {
           "align": "left"
          },
          "hovermode": "closest",
          "mapbox": {
           "style": "light"
          },
          "paper_bgcolor": "white",
          "plot_bgcolor": "#E5ECF6",
          "polar": {
           "angularaxis": {
            "gridcolor": "white",
            "linecolor": "white",
            "ticks": ""
           },
           "bgcolor": "#E5ECF6",
           "radialaxis": {
            "gridcolor": "white",
            "linecolor": "white",
            "ticks": ""
           }
          },
          "scene": {
           "xaxis": {
            "backgroundcolor": "#E5ECF6",
            "gridcolor": "white",
            "gridwidth": 2,
            "linecolor": "white",
            "showbackground": true,
            "ticks": "",
            "zerolinecolor": "white"
           },
           "yaxis": {
            "backgroundcolor": "#E5ECF6",
            "gridcolor": "white",
            "gridwidth": 2,
            "linecolor": "white",
            "showbackground": true,
            "ticks": "",
            "zerolinecolor": "white"
           },
           "zaxis": {
            "backgroundcolor": "#E5ECF6",
            "gridcolor": "white",
            "gridwidth": 2,
            "linecolor": "white",
            "showbackground": true,
            "ticks": "",
            "zerolinecolor": "white"
           }
          },
          "shapedefaults": {
           "line": {
            "color": "#2a3f5f"
           }
          },
          "ternary": {
           "aaxis": {
            "gridcolor": "white",
            "linecolor": "white",
            "ticks": ""
           },
           "baxis": {
            "gridcolor": "white",
            "linecolor": "white",
            "ticks": ""
           },
           "bgcolor": "#E5ECF6",
           "caxis": {
            "gridcolor": "white",
            "linecolor": "white",
            "ticks": ""
           }
          },
          "title": {
           "x": 0.05
          },
          "xaxis": {
           "automargin": true,
           "gridcolor": "white",
           "linecolor": "white",
           "ticks": "",
           "title": {
            "standoff": 15
           },
           "zerolinecolor": "white",
           "zerolinewidth": 2
          },
          "yaxis": {
           "automargin": true,
           "gridcolor": "white",
           "linecolor": "white",
           "ticks": "",
           "title": {
            "standoff": 15
           },
           "zerolinecolor": "white",
           "zerolinewidth": 2
          }
         }
        },
        "title": {
         "text": "장르별 배우 출연 횟수 (3회 이상 출연한 배우)"
        },
        "xaxis": {
         "anchor": "y",
         "categoryarray": [
          "판타지",
          "코미디",
          "전쟁",
          "어드벤처",
          "액션",
          "스릴러",
          "사극",
          "범죄",
          "미스터리",
          "멜로/로맨스",
          "드라마"
         ],
         "categoryorder": "total descending",
         "domain": [
          0,
          1
         ],
         "title": {
          "text": "Genre"
         }
        },
        "yaxis": {
         "anchor": "x",
         "domain": [
          0,
          1
         ],
         "title": {
          "text": "Count"
         }
        }
       }
      }
     },
     "metadata": {},
     "output_type": "display_data"
    }
   ],
   "source": [
    "import pandas as pd\n",
    "import matplotlib.pyplot as plt\n",
    "import numpy as np\n",
    "import ast\n",
    "import itertools\n",
    "import networkx as nx\n",
    "import matplotlib.font_manager as fm\n",
    "import plotly.express as px\n",
    "\n",
    "data = pd.read_csv('../5.4_edit_maker.csv')\n",
    "\n",
    "\n",
    "# 데이터 형태 확인 및 처리\n",
    "def safe_eval(x):\n",
    "    if isinstance(x, str):\n",
    "        try:\n",
    "            return eval(x)\n",
    "        except:\n",
    "            return []  # 오류 발생시 빈 리스트 반환\n",
    "    return x if isinstance(x, list) else []\n",
    "\n",
    "data['actor_main_name'] = data['actor_main_name'].apply(safe_eval)\n",
    "data['actor_sub_name'] = data['actor_sub_name'].apply(safe_eval)\n",
    "\n",
    "# 장르명 정규화 함수\n",
    "def normalize_genre(genre):\n",
    "    genre = genre.strip()  # 공백 제거\n",
    "    genre = genre.replace(' ', '')  # 중간 공백 제거\n",
    "    genre = genre.lower()  # 소문자로 통일\n",
    "    return genre\n",
    "\n",
    "# 장르별로 배우 출연 횟수 집계\n",
    "genre_actor_counts = {}\n",
    "\n",
    "for index, row in data.iterrows():\n",
    "    genres = [normalize_genre(gen) for gen in row['gener'].split(',')]\n",
    "    actors = set(row['actor_main_name'] + row['actor_sub_name'])  # 주연과 조연 합치기\n",
    "    \n",
    "    for genre in genres:\n",
    "        if genre not in genre_actor_counts:\n",
    "            genre_actor_counts[genre] = {}\n",
    "        \n",
    "        for actor in actors:\n",
    "            if actor not in genre_actor_counts[genre]:\n",
    "                genre_actor_counts[genre][actor] = 0\n",
    "            genre_actor_counts[genre][actor] += 1\n",
    "\n",
    "# 데이터 프레임으로 변환\n",
    "rows = []\n",
    "for genre, actor_counts in genre_actor_counts.items():\n",
    "    for actor, count in actor_counts.items():\n",
    "        if count >= 3:  # 3회 이상 출연한 배우만 포함\n",
    "            rows.append({'Genre': genre, 'Actor': actor, 'Count': count})\n",
    "\n",
    "df_actor_counts = pd.DataFrame(rows)\n",
    "\n",
    "# 데이터를 출연 횟수에 따라 내림차순 정렬\n",
    "df_actor_counts.sort_values(by=['Genre', 'Count'], ascending=[True, True], inplace=True)\n",
    "\n",
    "# 시각화\n",
    "fig = px.bar(df_actor_counts, x='Genre', y='Count', color='Actor', title='장르별 배우 출연 횟수 (3회 이상 출연한 배우)',\n",
    "             category_orders={\"Genre\": sorted(df_actor_counts['Genre'].unique(), reverse=True)})\n",
    "fig.update_layout(xaxis={'categoryorder':'total descending'})\n",
    "fig.show()"
   ]
  },
  {
   "cell_type": "code",
   "execution_count": 18,
   "metadata": {},
   "outputs": [
    {
     "data": {
      "application/vnd.plotly.v1+json": {
       "config": {
        "plotlyServerURL": "https://plot.ly"
       },
       "data": [
        {
         "alignmentgroup": "True",
         "customdata": [
          [
           null,
           102227411
          ],
          [
           48457296581,
           20916854
          ],
          [
           88676837132,
           20897379
          ],
          [
           205512050314,
           26022696
          ],
          [
           53671253246,
           7194475
          ],
          [
           121572751978,
           16545014
          ],
          [
           288509663607,
           45588896
          ],
          [
           154541988497,
           24101040
          ]
         ],
         "hovertemplate": "Actor=황정민<br>Genre=%{x}<br>Count=%{y}<br>Total Revenue=%{customdata[0]}<br>Total Audience=%{customdata[1]}<extra></extra>",
         "legendgroup": "황정민",
         "marker": {
          "color": "#636efa",
          "pattern": {
           "shape": ""
          }
         },
         "name": "황정민",
         "offsetgroup": "황정민",
         "orientation": "v",
         "showlegend": true,
         "textposition": "auto",
         "type": "bar",
         "x": [
          "드라마",
          "멜로/로맨스",
          "미스터리",
          "범죄",
          "사극",
          "스릴러",
          "액션",
          "코미디"
         ],
         "xaxis": "x",
         "y": [
          19,
          8,
          6,
          6,
          3,
          6,
          11,
          6
         ],
         "yaxis": "y"
        },
        {
         "alignmentgroup": "True",
         "customdata": [
          [
           540919256630,
           95167151
          ],
          [
           null,
           6788722
          ],
          [
           66815537402,
           10058999
          ],
          [
           null,
           49030849
          ],
          [
           239085071734,
           40049291
          ]
         ],
         "hovertemplate": "Actor=유해진<br>Genre=%{x}<br>Count=%{y}<br>Total Revenue=%{customdata[0]}<br>Total Audience=%{customdata[1]}<extra></extra>",
         "legendgroup": "유해진",
         "marker": {
          "color": "#EF553B",
          "pattern": {
           "shape": ""
          }
         },
         "name": "유해진",
         "offsetgroup": "유해진",
         "orientation": "v",
         "showlegend": true,
         "textposition": "auto",
         "type": "bar",
         "x": [
          "드라마",
          "범죄",
          "스릴러",
          "액션",
          "코미디"
         ],
         "xaxis": "x",
         "y": [
          18,
          3,
          4,
          9,
          12
         ],
         "yaxis": "y"
        },
        {
         "alignmentgroup": "True",
         "customdata": [
          [
           718510341602,
           110784828
          ],
          [
           198155556913,
           26353381
          ],
          [
           85939042542,
           13842055
          ],
          [
           60485973985,
           15011837
          ],
          [
           457642017643,
           60802022
          ],
          [
           160418915837,
           21669096
          ],
          [
           209320010375,
           33784770
          ]
         ],
         "hovertemplate": "Actor=오달수<br>Genre=%{x}<br>Count=%{y}<br>Total Revenue=%{customdata[0]}<br>Total Audience=%{customdata[1]}<extra></extra>",
         "legendgroup": "오달수",
         "marker": {
          "color": "#00cc96",
          "pattern": {
           "shape": ""
          }
         },
         "name": "오달수",
         "offsetgroup": "오달수",
         "orientation": "v",
         "showlegend": true,
         "textposition": "auto",
         "type": "bar",
         "x": [
          "드라마",
          "범죄",
          "사극",
          "스릴러",
          "액션",
          "어드벤처",
          "코미디"
         ],
         "xaxis": "x",
         "y": [
          15,
          5,
          5,
          6,
          8,
          4,
          8
         ],
         "yaxis": "y"
        },
        {
         "alignmentgroup": "True",
         "customdata": [
          [
           449546321273,
           82585887
          ],
          [
           212849357872,
           34864429
          ]
         ],
         "hovertemplate": "Actor=송강호<br>Genre=%{x}<br>Count=%{y}<br>Total Revenue=%{customdata[0]}<br>Total Audience=%{customdata[1]}<extra></extra>",
         "legendgroup": "송강호",
         "marker": {
          "color": "#ab63fa",
          "pattern": {
           "shape": ""
          }
         },
         "name": "송강호",
         "offsetgroup": "송강호",
         "orientation": "v",
         "showlegend": true,
         "textposition": "auto",
         "type": "bar",
         "x": [
          "드라마",
          "액션"
         ],
         "xaxis": "x",
         "y": [
          15,
          5
         ],
         "yaxis": "y"
        },
        {
         "alignmentgroup": "True",
         "customdata": [
          [
           348140459001,
           51643564
          ],
          [
           220616839099,
           29932294
          ],
          [
           68404765657,
           11762869
          ],
          [
           307092851223,
           39999951
          ],
          [
           58175818928,
           9839111
          ]
         ],
         "hovertemplate": "Actor=김윤석<br>Genre=%{x}<br>Count=%{y}<br>Total Revenue=%{customdata[0]}<br>Total Audience=%{customdata[1]}<extra></extra>",
         "legendgroup": "김윤석",
         "marker": {
          "color": "#FFA15A",
          "pattern": {
           "shape": ""
          }
         },
         "name": "김윤석",
         "offsetgroup": "김윤석",
         "orientation": "v",
         "showlegend": true,
         "textposition": "auto",
         "type": "bar",
         "x": [
          "드라마",
          "범죄",
          "스릴러",
          "액션",
          "코미디"
         ],
         "xaxis": "x",
         "y": [
          14,
          6,
          4,
          8,
          3
         ],
         "yaxis": "y"
        },
        {
         "alignmentgroup": "True",
         "customdata": [
          [
           479507929632,
           60488114
          ],
          [
           134305362223,
           17219280
          ],
          [
           112145919999,
           14881848
          ],
          [
           359196325696,
           47236290
          ]
         ],
         "hovertemplate": "Actor=이경영<br>Genre=%{x}<br>Count=%{y}<br>Total Revenue=%{customdata[0]}<br>Total Audience=%{customdata[1]}<extra></extra>",
         "legendgroup": "이경영",
         "marker": {
          "color": "#19d3f3",
          "pattern": {
           "shape": ""
          }
         },
         "name": "이경영",
         "offsetgroup": "이경영",
         "orientation": "v",
         "showlegend": true,
         "textposition": "auto",
         "type": "bar",
         "x": [
          "드라마",
          "범죄",
          "사극",
          "액션"
         ],
         "xaxis": "x",
         "y": [
          13,
          4,
          3,
          8
         ],
         "yaxis": "y"
        },
        {
         "alignmentgroup": "True",
         "customdata": [
          [
           364149328626,
           46021718
          ],
          [
           148742059732,
           18302078
          ],
          [
           97930282189,
           12436875
          ],
          [
           359387001298,
           46002668
          ],
          [
           75512510653,
           9122758
          ]
         ],
         "hovertemplate": "Actor=조진웅<br>Genre=%{x}<br>Count=%{y}<br>Total Revenue=%{customdata[0]}<br>Total Audience=%{customdata[1]}<extra></extra>",
         "legendgroup": "조진웅",
         "marker": {
          "color": "#FF6692",
          "pattern": {
           "shape": ""
          }
         },
         "name": "조진웅",
         "offsetgroup": "조진웅",
         "orientation": "v",
         "showlegend": true,
         "textposition": "auto",
         "type": "bar",
         "x": [
          "드라마",
          "범죄",
          "스릴러",
          "액션",
          "코미디"
         ],
         "xaxis": "x",
         "y": [
          13,
          5,
          5,
          6,
          3
         ],
         "yaxis": "y"
        },
        {
         "alignmentgroup": "True",
         "customdata": [
          [
           682310936409,
           85865932
          ],
          [
           127114785243,
           17542513
          ],
          [
           103717521353,
           13919970
          ],
          [
           313436541011,
           43960222
          ],
          [
           74097045808,
           12129037
          ]
         ],
         "hovertemplate": "Actor=하정우<br>Genre=%{x}<br>Count=%{y}<br>Total Revenue=%{customdata[0]}<br>Total Audience=%{customdata[1]}<extra></extra>",
         "legendgroup": "하정우",
         "marker": {
          "color": "#B6E880",
          "pattern": {
           "shape": ""
          }
         },
         "name": "하정우",
         "offsetgroup": "하정우",
         "orientation": "v",
         "showlegend": true,
         "textposition": "auto",
         "type": "bar",
         "x": [
          "드라마",
          "범죄",
          "스릴러",
          "액션",
          "코미디"
         ],
         "xaxis": "x",
         "y": [
          12,
          4,
          4,
          8,
          3
         ],
         "yaxis": "y"
        },
        {
         "alignmentgroup": "True",
         "customdata": [
          [
           559334103789,
           69018583
          ],
          [
           137582510752,
           17081273
          ],
          [
           326685415556,
           41556692
          ]
         ],
         "hovertemplate": "Actor=김의성<br>Genre=%{x}<br>Count=%{y}<br>Total Revenue=%{customdata[0]}<br>Total Audience=%{customdata[1]}<extra></extra>",
         "legendgroup": "김의성",
         "marker": {
          "color": "#FF97FF",
          "pattern": {
           "shape": ""
          }
         },
         "name": "김의성",
         "offsetgroup": "김의성",
         "orientation": "v",
         "showlegend": true,
         "textposition": "auto",
         "type": "bar",
         "x": [
          "드라마",
          "범죄",
          "액션"
         ],
         "xaxis": "x",
         "y": [
          12,
          5,
          9
         ],
         "yaxis": "y"
        },
        {
         "alignmentgroup": "True",
         "customdata": [
          [
           302778373950,
           45087529
          ],
          [
           66122980919,
           8917306
          ],
          [
           195852877004,
           25239640
          ],
          [
           173762264078,
           23778967
          ]
         ],
         "hovertemplate": "Actor=장영남<br>Genre=%{x}<br>Count=%{y}<br>Total Revenue=%{customdata[0]}<br>Total Audience=%{customdata[1]}<extra></extra>",
         "legendgroup": "장영남",
         "marker": {
          "color": "#FECB52",
          "pattern": {
           "shape": ""
          }
         },
         "name": "장영남",
         "offsetgroup": "장영남",
         "orientation": "v",
         "showlegend": true,
         "textposition": "auto",
         "type": "bar",
         "x": [
          "드라마",
          "범죄",
          "액션",
          "코미디"
         ],
         "xaxis": "x",
         "y": [
          11,
          3,
          6,
          8
         ],
         "yaxis": "y"
        },
        {
         "alignmentgroup": "True",
         "customdata": [
          [
           178857682447,
           33408276
          ],
          [
           66271851978,
           9792410
          ],
          [
           74126209301,
           10105824
          ],
          [
           61265224359,
           9622526
          ],
          [
           116121155850,
           15319324
          ],
          [
           57831694009,
           8355090
          ]
         ],
         "hovertemplate": "Actor=유승목<br>Genre=%{x}<br>Count=%{y}<br>Total Revenue=%{customdata[0]}<br>Total Audience=%{customdata[1]}<extra></extra>",
         "legendgroup": "유승목",
         "marker": {
          "color": "#636efa",
          "pattern": {
           "shape": ""
          }
         },
         "name": "유승목",
         "offsetgroup": "유승목",
         "orientation": "v",
         "showlegend": true,
         "textposition": "auto",
         "type": "bar",
         "x": [
          "드라마",
          "멜로/로맨스",
          "범죄",
          "스릴러",
          "액션",
          "코미디"
         ],
         "xaxis": "x",
         "y": [
          11,
          3,
          4,
          4,
          6,
          3
         ],
         "yaxis": "y"
        },
        {
         "alignmentgroup": "True",
         "customdata": [
          [
           268014822492,
           33046652
          ],
          [
           217143653445,
           26788031
          ],
          [
           146274900873,
           15750651
          ],
          [
           248630809786,
           29688799
          ]
         ],
         "hovertemplate": "Actor=김종수<br>Genre=%{x}<br>Count=%{y}<br>Total Revenue=%{customdata[0]}<br>Total Audience=%{customdata[1]}<extra></extra>",
         "legendgroup": "김종수",
         "marker": {
          "color": "#EF553B",
          "pattern": {
           "shape": ""
          }
         },
         "name": "김종수",
         "offsetgroup": "김종수",
         "orientation": "v",
         "showlegend": true,
         "textposition": "auto",
         "type": "bar",
         "x": [
          "드라마",
          "범죄",
          "액션",
          "코미디"
         ],
         "xaxis": "x",
         "y": [
          11,
          6,
          5,
          4
         ],
         "yaxis": "y"
        },
        {
         "alignmentgroup": "True",
         "customdata": [
          [
           113914184958,
           29307021
          ],
          [
           47100375818,
           5724563
          ],
          [
           47590077723,
           8061835
          ],
          [
           74803972104,
           11989656
          ],
          [
           54665676517,
           10558675
          ],
          [
           70122365796,
           9359850
          ]
         ],
         "hovertemplate": "Actor=김상호<br>Genre=%{x}<br>Count=%{y}<br>Total Revenue=%{customdata[0]}<br>Total Audience=%{customdata[1]}<extra></extra>",
         "legendgroup": "김상호",
         "marker": {
          "color": "#00cc96",
          "pattern": {
           "shape": ""
          }
         },
         "name": "김상호",
         "offsetgroup": "김상호",
         "orientation": "v",
         "showlegend": true,
         "textposition": "auto",
         "type": "bar",
         "x": [
          "드라마",
          "범죄",
          "스릴러",
          "액션",
          "코미디",
          "판타지"
         ],
         "xaxis": "x",
         "y": [
          11,
          3,
          3,
          4,
          4,
          3
         ],
         "yaxis": "y"
        },
        {
         "alignmentgroup": "True",
         "customdata": [
          [
           164489359823,
           36519491
          ],
          [
           null,
           7729963
          ],
          [
           61920767190,
           9400671
          ],
          [
           null,
           16437827
          ]
         ],
         "hovertemplate": "Actor=강신일<br>Genre=%{x}<br>Count=%{y}<br>Total Revenue=%{customdata[0]}<br>Total Audience=%{customdata[1]}<extra></extra>",
         "legendgroup": "강신일",
         "marker": {
          "color": "#ab63fa",
          "pattern": {
           "shape": ""
          }
         },
         "name": "강신일",
         "offsetgroup": "강신일",
         "orientation": "v",
         "showlegend": true,
         "textposition": "auto",
         "type": "bar",
         "x": [
          "드라마",
          "범죄",
          "스릴러",
          "액션"
         ],
         "xaxis": "x",
         "y": [
          11,
          3,
          3,
          6
         ],
         "yaxis": "y"
        },
        {
         "alignmentgroup": "True",
         "customdata": [
          [
           402118358814,
           47984899
          ],
          [
           39218016210,
           5086853
          ],
          [
           136188921755,
           14765019
          ],
          [
           51138569530,
           6842809
          ],
          [
           238502848456,
           25719920
          ],
          [
           88863861006,
           10182732
          ],
          [
           234776917613,
           28602605
          ]
         ],
         "hovertemplate": "Actor=이준혁<br>Genre=%{x}<br>Count=%{y}<br>Total Revenue=%{customdata[0]}<br>Total Audience=%{customdata[1]}<extra></extra>",
         "legendgroup": "이준혁",
         "marker": {
          "color": "#FFA15A",
          "pattern": {
           "shape": ""
          }
         },
         "name": "이준혁",
         "offsetgroup": "이준혁",
         "orientation": "v",
         "showlegend": true,
         "textposition": "auto",
         "type": "bar",
         "x": [
          "드라마",
          "멜로/로맨스",
          "범죄",
          "스릴러",
          "액션",
          "코미디",
          "판타지"
         ],
         "xaxis": "x",
         "y": [
          10,
          3,
          3,
          4,
          5,
          6,
          3
         ],
         "yaxis": "y"
        },
        {
         "alignmentgroup": "True",
         "customdata": [
          [
           198618393817,
           38826126
          ],
          [
           53069064432,
           8785854
          ],
          [
           73702179685,
           9514498
          ],
          [
           193470836748,
           26310972
          ],
          [
           56491863797,
           7783213
          ]
         ],
         "hovertemplate": "Actor=윤제문<br>Genre=%{x}<br>Count=%{y}<br>Total Revenue=%{customdata[0]}<br>Total Audience=%{customdata[1]}<extra></extra>",
         "legendgroup": "윤제문",
         "marker": {
          "color": "#19d3f3",
          "pattern": {
           "shape": ""
          }
         },
         "name": "윤제문",
         "offsetgroup": "윤제문",
         "orientation": "v",
         "showlegend": true,
         "textposition": "auto",
         "type": "bar",
         "x": [
          "드라마",
          "범죄",
          "사극",
          "액션",
          "코미디"
         ],
         "xaxis": "x",
         "y": [
          10,
          4,
          3,
          8,
          4
         ],
         "yaxis": "y"
        },
        {
         "alignmentgroup": "True",
         "customdata": [
          [
           390529959785,
           50167009
          ],
          [
           131639943197,
           16306561
          ],
          [
           101836556804,
           15109048
          ]
         ],
         "hovertemplate": "Actor=이병헌<br>Genre=%{x}<br>Count=%{y}<br>Total Revenue=%{customdata[0]}<br>Total Audience=%{customdata[1]}<extra></extra>",
         "legendgroup": "이병헌",
         "marker": {
          "color": "#FF6692",
          "pattern": {
           "shape": ""
          }
         },
         "name": "이병헌",
         "offsetgroup": "이병헌",
         "orientation": "v",
         "showlegend": true,
         "textposition": "auto",
         "type": "bar",
         "x": [
          "드라마",
          "범죄",
          "액션"
         ],
         "xaxis": "x",
         "y": [
          10,
          3,
          3
         ],
         "yaxis": "y"
        },
        {
         "alignmentgroup": "True",
         "customdata": [
          [
           186776161678,
           37625491
          ],
          [
           null,
           10472344
          ],
          [
           44176828290,
           8819401
          ],
          [
           null,
           27732653
          ]
         ],
         "hovertemplate": "Actor=설경구<br>Genre=%{x}<br>Count=%{y}<br>Total Revenue=%{customdata[0]}<br>Total Audience=%{customdata[1]}<extra></extra>",
         "legendgroup": "설경구",
         "marker": {
          "color": "#B6E880",
          "pattern": {
           "shape": ""
          }
         },
         "name": "설경구",
         "offsetgroup": "설경구",
         "orientation": "v",
         "showlegend": true,
         "textposition": "auto",
         "type": "bar",
         "x": [
          "드라마",
          "범죄",
          "스릴러",
          "액션"
         ],
         "xaxis": "x",
         "y": [
          10,
          4,
          4,
          6
         ],
         "yaxis": "y"
        },
        {
         "alignmentgroup": "True",
         "customdata": [
          [
           332341929580,
           42435860
          ],
          [
           131397275875,
           17114287
          ]
         ],
         "hovertemplate": "Actor=곽도원<br>Genre=%{x}<br>Count=%{y}<br>Total Revenue=%{customdata[0]}<br>Total Audience=%{customdata[1]}<extra></extra>",
         "legendgroup": "곽도원",
         "marker": {
          "color": "#FF97FF",
          "pattern": {
           "shape": ""
          }
         },
         "name": "곽도원",
         "offsetgroup": "곽도원",
         "orientation": "v",
         "showlegend": true,
         "textposition": "auto",
         "type": "bar",
         "x": [
          "드라마",
          "액션"
         ],
         "xaxis": "x",
         "y": [
          10,
          5
         ],
         "yaxis": "y"
        },
        {
         "alignmentgroup": "True",
         "customdata": [
          [
           268291277652,
           37230459
          ],
          [
           90665847772,
           11981330
          ],
          [
           41922870107,
           8964837
          ],
          [
           148331675644,
           20394171
          ],
          [
           35841769500,
           7655189
          ]
         ],
         "hovertemplate": "Actor=정인기<br>Genre=%{x}<br>Count=%{y}<br>Total Revenue=%{customdata[0]}<br>Total Audience=%{customdata[1]}<extra></extra>",
         "legendgroup": "정인기",
         "marker": {
          "color": "#FECB52",
          "pattern": {
           "shape": ""
          }
         },
         "name": "정인기",
         "offsetgroup": "정인기",
         "orientation": "v",
         "showlegend": true,
         "textposition": "auto",
         "type": "bar",
         "x": [
          "드라마",
          "범죄",
          "스릴러",
          "액션",
          "코미디"
         ],
         "xaxis": "x",
         "y": [
          10,
          3,
          4,
          5,
          3
         ],
         "yaxis": "y"
        },
        {
         "alignmentgroup": "True",
         "customdata": [
          [
           163284251087,
           35300678
          ],
          [
           136116148308,
           23826022
          ],
          [
           121536949087,
           29280575
          ]
         ],
         "hovertemplate": "Actor=이한위<br>Genre=%{x}<br>Count=%{y}<br>Total Revenue=%{customdata[0]}<br>Total Audience=%{customdata[1]}<extra></extra>",
         "legendgroup": "이한위",
         "marker": {
          "color": "#636efa",
          "pattern": {
           "shape": ""
          }
         },
         "name": "이한위",
         "offsetgroup": "이한위",
         "orientation": "v",
         "showlegend": true,
         "textposition": "auto",
         "type": "bar",
         "x": [
          "드라마",
          "액션",
          "코미디"
         ],
         "xaxis": "x",
         "y": [
          10,
          5,
          8
         ],
         "yaxis": "y"
        },
        {
         "alignmentgroup": "True",
         "customdata": [
          [
           150921986382,
           37001525
          ],
          [
           116129552048,
           15444640
          ],
          [
           99625063509,
           13334363
          ]
         ],
         "hovertemplate": "Actor=권태원<br>Genre=%{x}<br>Count=%{y}<br>Total Revenue=%{customdata[0]}<br>Total Audience=%{customdata[1]}<extra></extra>",
         "legendgroup": "권태원",
         "marker": {
          "color": "#EF553B",
          "pattern": {
           "shape": ""
          }
         },
         "name": "권태원",
         "offsetgroup": "권태원",
         "orientation": "v",
         "showlegend": true,
         "textposition": "auto",
         "type": "bar",
         "x": [
          "드라마",
          "범죄",
          "액션"
         ],
         "xaxis": "x",
         "y": [
          10,
          5,
          3
         ],
         "yaxis": "y"
        },
        {
         "alignmentgroup": "True",
         "customdata": [
          [
           168190308394,
           29664974
          ],
          [
           146800141927,
           18245207
          ],
          [
           232170012318,
           30501295
          ],
          [
           121924882281,
           17048086
          ]
         ],
         "hovertemplate": "Actor=강동원<br>Genre=%{x}<br>Count=%{y}<br>Total Revenue=%{customdata[0]}<br>Total Audience=%{customdata[1]}<extra></extra>",
         "legendgroup": "강동원",
         "marker": {
          "color": "#00cc96",
          "pattern": {
           "shape": ""
          }
         },
         "name": "강동원",
         "offsetgroup": "강동원",
         "orientation": "v",
         "showlegend": true,
         "textposition": "auto",
         "type": "bar",
         "x": [
          "드라마",
          "범죄",
          "액션",
          "코미디"
         ],
         "xaxis": "x",
         "y": [
          10,
          3,
          7,
          3
         ],
         "yaxis": "y"
        },
        {
         "alignmentgroup": "True",
         "customdata": [
          [
           311213325955,
           40361913
          ],
          [
           42123651639,
           5682390
          ],
          [
           74110785383,
           9413248
          ],
          [
           56854228406,
           7645100
          ],
          [
           133844845337,
           17401720
          ]
         ],
         "hovertemplate": "Actor=라미란<br>Genre=%{x}<br>Count=%{y}<br>Total Revenue=%{customdata[0]}<br>Total Audience=%{customdata[1]}<extra></extra>",
         "legendgroup": "라미란",
         "marker": {
          "color": "#ab63fa",
          "pattern": {
           "shape": ""
          }
         },
         "name": "라미란",
         "offsetgroup": "라미란",
         "orientation": "v",
         "showlegend": true,
         "textposition": "auto",
         "type": "bar",
         "x": [
          "드라마",
          "멜로/로맨스",
          "사극",
          "액션",
          "코미디"
         ],
         "xaxis": "x",
         "y": [
          9,
          3,
          3,
          4,
          9
         ],
         "yaxis": "y"
        },
        {
         "alignmentgroup": "True",
         "customdata": [
          [
           378478858806,
           51250979
          ],
          [
           110944643887,
           13997225
          ],
          [
           86236462061,
           11142255
          ],
          [
           38321888822,
           8502203
          ],
          [
           385426477469,
           50675302
          ]
         ],
         "hovertemplate": "Actor=송영창<br>Genre=%{x}<br>Count=%{y}<br>Total Revenue=%{customdata[0]}<br>Total Audience=%{customdata[1]}<extra></extra>",
         "legendgroup": "송영창",
         "marker": {
          "color": "#FFA15A",
          "pattern": {
           "shape": ""
          }
         },
         "name": "송영창",
         "offsetgroup": "송영창",
         "orientation": "v",
         "showlegend": true,
         "textposition": "auto",
         "type": "bar",
         "x": [
          "드라마",
          "범죄",
          "사극",
          "스릴러",
          "액션"
         ],
         "xaxis": "x",
         "y": [
          9,
          4,
          4,
          4,
          10
         ],
         "yaxis": "y"
        },
        {
         "alignmentgroup": "True",
         "customdata": [
          [
           394484989872,
           49404251
          ],
          [
           205542723323,
           25870181
          ],
          [
           63753433121,
           8136927
          ],
          [
           53101836830,
           9105915
          ],
          [
           316352941546,
           38395480
          ],
          [
           118540682670,
           16490368
          ]
         ],
         "hovertemplate": "Actor=정만식<br>Genre=%{x}<br>Count=%{y}<br>Total Revenue=%{customdata[0]}<br>Total Audience=%{customdata[1]}<extra></extra>",
         "legendgroup": "정만식",
         "marker": {
          "color": "#19d3f3",
          "pattern": {
           "shape": ""
          }
         },
         "name": "정만식",
         "offsetgroup": "정만식",
         "orientation": "v",
         "showlegend": true,
         "textposition": "auto",
         "type": "bar",
         "x": [
          "드라마",
          "범죄",
          "사극",
          "스릴러",
          "액션",
          "코미디"
         ],
         "xaxis": "x",
         "y": [
          9,
          9,
          3,
          4,
          10,
          3
         ],
         "yaxis": "y"
        },
        {
         "alignmentgroup": "True",
         "customdata": [
          [
           286633614148,
           35565949
          ],
          [
           132253388832,
           16984706
          ],
          [
           227281739965,
           30482440
          ]
         ],
         "hovertemplate": "Actor=정우성<br>Genre=%{x}<br>Count=%{y}<br>Total Revenue=%{customdata[0]}<br>Total Audience=%{customdata[1]}<extra></extra>",
         "legendgroup": "정우성",
         "marker": {
          "color": "#FF6692",
          "pattern": {
           "shape": ""
          }
         },
         "name": "정우성",
         "offsetgroup": "정우성",
         "orientation": "v",
         "showlegend": true,
         "textposition": "auto",
         "type": "bar",
         "x": [
          "드라마",
          "범죄",
          "액션"
         ],
         "xaxis": "x",
         "y": [
          9,
          4,
          8
         ],
         "yaxis": "y"
        },
        {
         "alignmentgroup": "True",
         "customdata": [
          [
           287842443962,
           36769586
          ],
          [
           213101040535,
           27223738
          ]
         ],
         "hovertemplate": "Actor=김인우<br>Genre=%{x}<br>Count=%{y}<br>Total Revenue=%{customdata[0]}<br>Total Audience=%{customdata[1]}<extra></extra>",
         "legendgroup": "김인우",
         "marker": {
          "color": "#B6E880",
          "pattern": {
           "shape": ""
          }
         },
         "name": "김인우",
         "offsetgroup": "김인우",
         "orientation": "v",
         "showlegend": true,
         "textposition": "auto",
         "type": "bar",
         "x": [
          "드라마",
          "액션"
         ],
         "xaxis": "x",
         "y": [
          9,
          5
         ],
         "yaxis": "y"
        },
        {
         "alignmentgroup": "True",
         "customdata": [
          [
           103220713386,
           22525414
          ],
          [
           38755250455,
           7315049
          ],
          [
           16090416288,
           4405963
          ],
          [
           49365358366,
           6487480
          ],
          [
           16090416288,
           4405963
          ],
          [
           61059509929,
           8268957
          ],
          [
           211424359471,
           25928547
          ]
         ],
         "hovertemplate": "Actor=오정세<br>Genre=%{x}<br>Count=%{y}<br>Total Revenue=%{customdata[0]}<br>Total Audience=%{customdata[1]}<extra></extra>",
         "legendgroup": "오정세",
         "marker": {
          "color": "#FF97FF",
          "pattern": {
           "shape": ""
          }
         },
         "name": "오정세",
         "offsetgroup": "오정세",
         "orientation": "v",
         "showlegend": true,
         "textposition": "auto",
         "type": "bar",
         "x": [
          "드라마",
          "멜로/로맨스",
          "미스터리",
          "범죄",
          "스릴러",
          "액션",
          "코미디"
         ],
         "xaxis": "x",
         "y": [
          9,
          3,
          3,
          3,
          3,
          4,
          5
         ],
         "yaxis": "y"
        },
        {
         "alignmentgroup": "True",
         "customdata": [
          [
           57873012536,
           22170881
          ],
          [
           27643625937,
           5870534
          ],
          [
           151155875276,
           23925356
          ],
          [
           134573676004,
           28275617
          ]
         ],
         "hovertemplate": "Actor=주진모<br>Genre=%{x}<br>Count=%{y}<br>Total Revenue=%{customdata[0]}<br>Total Audience=%{customdata[1]}<extra></extra>",
         "legendgroup": "주진모",
         "marker": {
          "color": "#FECB52",
          "pattern": {
           "shape": ""
          }
         },
         "name": "주진모",
         "offsetgroup": "주진모",
         "orientation": "v",
         "showlegend": true,
         "textposition": "auto",
         "type": "bar",
         "x": [
          "드라마",
          "스릴러",
          "액션",
          "코미디"
         ],
         "xaxis": "x",
         "y": [
          9,
          3,
          9,
          6
         ],
         "yaxis": "y"
        },
        {
         "alignmentgroup": "True",
         "customdata": [
          [
           203965869968,
           26047174
          ],
          [
           101775368739,
           11903367
          ],
          [
           122848786493,
           14364630
          ],
          [
           69262167770,
           9151629
          ]
         ],
         "hovertemplate": "Actor=박정민<br>Genre=%{x}<br>Count=%{y}<br>Total Revenue=%{customdata[0]}<br>Total Audience=%{customdata[1]}<extra></extra>",
         "legendgroup": "박정민",
         "marker": {
          "color": "#636efa",
          "pattern": {
           "shape": ""
          }
         },
         "name": "박정민",
         "offsetgroup": "박정민",
         "orientation": "v",
         "showlegend": true,
         "textposition": "auto",
         "type": "bar",
         "x": [
          "드라마",
          "범죄",
          "액션",
          "코미디"
         ],
         "xaxis": "x",
         "y": [
          9,
          3,
          4,
          3
         ],
         "yaxis": "y"
        },
        {
         "alignmentgroup": "True",
         "customdata": [
          [
           380793106619,
           47042649
          ],
          [
           264957908546,
           33340587
          ]
         ],
         "hovertemplate": "Actor=김향기<br>Genre=%{x}<br>Count=%{y}<br>Total Revenue=%{customdata[0]}<br>Total Audience=%{customdata[1]}<extra></extra>",
         "legendgroup": "김향기",
         "marker": {
          "color": "#EF553B",
          "pattern": {
           "shape": ""
          }
         },
         "name": "김향기",
         "offsetgroup": "김향기",
         "orientation": "v",
         "showlegend": true,
         "textposition": "auto",
         "type": "bar",
         "x": [
          "드라마",
          "판타지"
         ],
         "xaxis": "x",
         "y": [
          8,
          3
         ],
         "yaxis": "y"
        },
        {
         "alignmentgroup": "True",
         "customdata": [
          [
           400538747568,
           48978812
          ],
          [
           432094458846,
           47273785
          ],
          [
           128627540749,
           16192103
          ],
          [
           504394696456,
           56127851
          ],
          [
           37140153912,
           4816012
          ]
         ],
         "hovertemplate": "Actor=마동석<br>Genre=%{x}<br>Count=%{y}<br>Total Revenue=%{customdata[0]}<br>Total Audience=%{customdata[1]}<extra></extra>",
         "legendgroup": "마동석",
         "marker": {
          "color": "#00cc96",
          "pattern": {
           "shape": ""
          }
         },
         "name": "마동석",
         "offsetgroup": "마동석",
         "orientation": "v",
         "showlegend": true,
         "textposition": "auto",
         "type": "bar",
         "x": [
          "드라마",
          "범죄",
          "스릴러",
          "액션",
          "코미디"
         ],
         "xaxis": "x",
         "y": [
          8,
          8,
          3,
          8,
          3
         ],
         "yaxis": "y"
        },
        {
         "alignmentgroup": "True",
         "customdata": [
          [
           197703315780,
           39245160
          ],
          [
           17207700587,
           3911609
          ],
          [
           65803807453,
           8184548
          ],
          [
           null,
           7013877
          ]
         ],
         "hovertemplate": "Actor=정진영<br>Genre=%{x}<br>Count=%{y}<br>Total Revenue=%{customdata[0]}<br>Total Audience=%{customdata[1]}<extra></extra>",
         "legendgroup": "정진영",
         "marker": {
          "color": "#ab63fa",
          "pattern": {
           "shape": ""
          }
         },
         "name": "정진영",
         "offsetgroup": "정진영",
         "orientation": "v",
         "showlegend": true,
         "textposition": "auto",
         "type": "bar",
         "x": [
          "드라마",
          "범죄",
          "스릴러",
          "코미디"
         ],
         "xaxis": "x",
         "y": [
          8,
          3,
          3,
          4
         ],
         "yaxis": "y"
        },
        {
         "alignmentgroup": "True",
         "customdata": [
          [
           196861101359,
           37773514
          ],
          [
           29596472478,
           4980035
          ],
          [
           131446773401,
           16918949
          ]
         ],
         "hovertemplate": "Actor=박해일<br>Genre=%{x}<br>Count=%{y}<br>Total Revenue=%{customdata[0]}<br>Total Audience=%{customdata[1]}<extra></extra>",
         "legendgroup": "박해일",
         "marker": {
          "color": "#FFA15A",
          "pattern": {
           "shape": ""
          }
         },
         "name": "박해일",
         "offsetgroup": "박해일",
         "orientation": "v",
         "showlegend": true,
         "textposition": "auto",
         "type": "bar",
         "x": [
          "드라마",
          "멜로/로맨스",
          "사극"
         ],
         "xaxis": "x",
         "y": [
          8,
          3,
          3
         ],
         "yaxis": "y"
        },
        {
         "alignmentgroup": "True",
         "customdata": [
          [
           253331987127,
           36052335
          ],
          [
           280476469179,
           37403857
          ],
          [
           29670128788,
           4014301
          ],
          [
           213832619710,
           27926103
          ],
          [
           277986585186,
           35392299
          ]
         ],
         "hovertemplate": "Actor=류승룡<br>Genre=%{x}<br>Count=%{y}<br>Total Revenue=%{customdata[0]}<br>Total Audience=%{customdata[1]}<extra></extra>",
         "legendgroup": "류승룡",
         "marker": {
          "color": "#19d3f3",
          "pattern": {
           "shape": ""
          }
         },
         "name": "류승룡",
         "offsetgroup": "류승룡",
         "orientation": "v",
         "showlegend": true,
         "textposition": "auto",
         "type": "bar",
         "x": [
          "드라마",
          "사극",
          "스릴러",
          "액션",
          "코미디"
         ],
         "xaxis": "x",
         "y": [
          8,
          3,
          3,
          3,
          4
         ],
         "yaxis": "y"
        },
        {
         "alignmentgroup": "True",
         "customdata": [
          [
           161606811044,
           34749664
          ],
          [
           159135080145,
           25543105
          ]
         ],
         "hovertemplate": "Actor=안성기<br>Genre=%{x}<br>Count=%{y}<br>Total Revenue=%{customdata[0]}<br>Total Audience=%{customdata[1]}<extra></extra>",
         "legendgroup": "안성기",
         "marker": {
          "color": "#FF6692",
          "pattern": {
           "shape": ""
          }
         },
         "name": "안성기",
         "offsetgroup": "안성기",
         "orientation": "v",
         "showlegend": true,
         "textposition": "auto",
         "type": "bar",
         "x": [
          "드라마",
          "액션"
         ],
         "xaxis": "x",
         "y": [
          8,
          8
         ],
         "yaxis": "y"
        },
        {
         "alignmentgroup": "True",
         "customdata": [
          [
           141550339944,
           21954810
          ],
          [
           59629944692,
           8122671
          ],
          [
           69337797090,
           10043752
          ],
          [
           180256766950,
           24488433
          ],
          [
           null,
           18976576
          ]
         ],
         "hovertemplate": "Actor=신정근<br>Genre=%{x}<br>Count=%{y}<br>Total Revenue=%{customdata[0]}<br>Total Audience=%{customdata[1]}<extra></extra>",
         "legendgroup": "신정근",
         "marker": {
          "color": "#B6E880",
          "pattern": {
           "shape": ""
          }
         },
         "name": "신정근",
         "offsetgroup": "신정근",
         "orientation": "v",
         "showlegend": true,
         "textposition": "auto",
         "type": "bar",
         "x": [
          "드라마",
          "범죄",
          "사극",
          "액션",
          "코미디"
         ],
         "xaxis": "x",
         "y": [
          8,
          3,
          3,
          9,
          6
         ],
         "yaxis": "y"
        },
        {
         "alignmentgroup": "True",
         "customdata": [
          [
           101704424892,
           23002382
          ],
          [
           128661292598,
           23385393
          ]
         ],
         "hovertemplate": "Actor=김응수<br>Genre=%{x}<br>Count=%{y}<br>Total Revenue=%{customdata[0]}<br>Total Audience=%{customdata[1]}<extra></extra>",
         "legendgroup": "김응수",
         "marker": {
          "color": "#FF97FF",
          "pattern": {
           "shape": ""
          }
         },
         "name": "김응수",
         "offsetgroup": "김응수",
         "orientation": "v",
         "showlegend": true,
         "textposition": "auto",
         "type": "bar",
         "x": [
          "드라마",
          "코미디"
         ],
         "xaxis": "x",
         "y": [
          8,
          9
         ],
         "yaxis": "y"
        },
        {
         "alignmentgroup": "True",
         "customdata": [
          [
           230761346632,
           26623375
          ],
          [
           128386159814,
           16330333
          ]
         ],
         "hovertemplate": "Actor=김소진<br>Genre=%{x}<br>Count=%{y}<br>Total Revenue=%{customdata[0]}<br>Total Audience=%{customdata[1]}<extra></extra>",
         "legendgroup": "김소진",
         "marker": {
          "color": "#FECB52",
          "pattern": {
           "shape": ""
          }
         },
         "name": "김소진",
         "offsetgroup": "김소진",
         "orientation": "v",
         "showlegend": true,
         "textposition": "auto",
         "type": "bar",
         "x": [
          "드라마",
          "범죄"
         ],
         "xaxis": "x",
         "y": [
          8,
          4
         ],
         "yaxis": "y"
        },
        {
         "alignmentgroup": "True",
         "customdata": [
          [
           427429445283,
           55381443
          ],
          [
           144182385705,
           18869974
          ],
          [
           186206591599,
           24565815
          ]
         ],
         "hovertemplate": "Actor=장광<br>Genre=%{x}<br>Count=%{y}<br>Total Revenue=%{customdata[0]}<br>Total Audience=%{customdata[1]}<extra></extra>",
         "legendgroup": "장광",
         "marker": {
          "color": "#636efa",
          "pattern": {
           "shape": ""
          }
         },
         "name": "장광",
         "offsetgroup": "장광",
         "orientation": "v",
         "showlegend": true,
         "textposition": "auto",
         "type": "bar",
         "x": [
          "드라마",
          "사극",
          "액션"
         ],
         "xaxis": "x",
         "y": [
          7,
          3,
          6
         ],
         "yaxis": "y"
        },
        {
         "alignmentgroup": "True",
         "customdata": [
          [
           258385490262,
           32899372
          ],
          [
           44076986836,
           5637416
          ],
          [
           148371662662,
           18490686
          ],
          [
           50498553068,
           6716588
          ],
          [
           193157096422,
           24355135
          ]
         ],
         "hovertemplate": "Actor=배성우<br>Genre=%{x}<br>Count=%{y}<br>Total Revenue=%{customdata[0]}<br>Total Audience=%{customdata[1]}<extra></extra>",
         "legendgroup": "배성우",
         "marker": {
          "color": "#EF553B",
          "pattern": {
           "shape": ""
          }
         },
         "name": "배성우",
         "offsetgroup": "배성우",
         "orientation": "v",
         "showlegend": true,
         "textposition": "auto",
         "type": "bar",
         "x": [
          "드라마",
          "멜로/로맨스",
          "범죄",
          "스릴러",
          "액션"
         ],
         "xaxis": "x",
         "y": [
          7,
          3,
          4,
          3,
          5
         ],
         "yaxis": "y"
        },
        {
         "alignmentgroup": "True",
         "customdata": [
          [
           218223340082,
           28384866
          ]
         ],
         "hovertemplate": "Actor=유아인<br>Genre=%{x}<br>Count=%{y}<br>Total Revenue=%{customdata[0]}<br>Total Audience=%{customdata[1]}<extra></extra>",
         "legendgroup": "유아인",
         "marker": {
          "color": "#00cc96",
          "pattern": {
           "shape": ""
          }
         },
         "name": "유아인",
         "offsetgroup": "유아인",
         "orientation": "v",
         "showlegend": true,
         "textposition": "auto",
         "type": "bar",
         "x": [
          "드라마"
         ],
         "xaxis": "x",
         "y": [
          7
         ],
         "yaxis": "y"
        },
        {
         "alignmentgroup": "True",
         "customdata": [
          [
           290534268924,
           35369228
          ],
          [
           186000210483,
           23046780
          ],
          [
           205967679733,
           23752535
          ]
         ],
         "hovertemplate": "Actor=조재윤<br>Genre=%{x}<br>Count=%{y}<br>Total Revenue=%{customdata[0]}<br>Total Audience=%{customdata[1]}<extra></extra>",
         "legendgroup": "조재윤",
         "marker": {
          "color": "#ab63fa",
          "pattern": {
           "shape": ""
          }
         },
         "name": "조재윤",
         "offsetgroup": "조재윤",
         "orientation": "v",
         "showlegend": true,
         "textposition": "auto",
         "type": "bar",
         "x": [
          "드라마",
          "범죄",
          "액션"
         ],
         "xaxis": "x",
         "y": [
          7,
          7,
          6
         ],
         "yaxis": "y"
        },
        {
         "alignmentgroup": "True",
         "customdata": [
          [
           100004259132,
           24315788
          ],
          [
           18687402444,
           4275415
          ],
          [
           27259746906,
           5484778
          ],
          [
           129167867739,
           17955360
          ]
         ],
         "hovertemplate": "Actor=김정태<br>Genre=%{x}<br>Count=%{y}<br>Total Revenue=%{customdata[0]}<br>Total Audience=%{customdata[1]}<extra></extra>",
         "legendgroup": "김정태",
         "marker": {
          "color": "#FFA15A",
          "pattern": {
           "shape": ""
          }
         },
         "name": "김정태",
         "offsetgroup": "김정태",
         "orientation": "v",
         "showlegend": true,
         "textposition": "auto",
         "type": "bar",
         "x": [
          "드라마",
          "범죄",
          "액션",
          "코미디"
         ],
         "xaxis": "x",
         "y": [
          7,
          3,
          4,
          3
         ],
         "yaxis": "y"
        },
        {
         "alignmentgroup": "True",
         "customdata": [
          [
           274755188405,
           36522847
          ],
          [
           122023262098,
           15903951
          ],
          [
           148361734968,
           21745927
          ]
         ],
         "hovertemplate": "Actor=정원중<br>Genre=%{x}<br>Count=%{y}<br>Total Revenue=%{customdata[0]}<br>Total Audience=%{customdata[1]}<extra></extra>",
         "legendgroup": "정원중",
         "marker": {
          "color": "#19d3f3",
          "pattern": {
           "shape": ""
          }
         },
         "name": "정원중",
         "offsetgroup": "정원중",
         "orientation": "v",
         "showlegend": true,
         "textposition": "auto",
         "type": "bar",
         "x": [
          "드라마",
          "액션",
          "코미디"
         ],
         "xaxis": "x",
         "y": [
          7,
          3,
          5
         ],
         "yaxis": "y"
        },
        {
         "alignmentgroup": "True",
         "customdata": [
          [
           49101964501,
           22137602
          ],
          [
           28751998222,
           3808363
          ],
          [
           171574222465,
           22835464
          ]
         ],
         "hovertemplate": "Actor=신하균<br>Genre=%{x}<br>Count=%{y}<br>Total Revenue=%{customdata[0]}<br>Total Audience=%{customdata[1]}<extra></extra>",
         "legendgroup": "신하균",
         "marker": {
          "color": "#FF6692",
          "pattern": {
           "shape": ""
          }
         },
         "name": "신하균",
         "offsetgroup": "신하균",
         "orientation": "v",
         "showlegend": true,
         "textposition": "auto",
         "type": "bar",
         "x": [
          "드라마",
          "액션",
          "코미디"
         ],
         "xaxis": "x",
         "y": [
          7,
          3,
          5
         ],
         "yaxis": "y"
        },
        {
         "alignmentgroup": "True",
         "customdata": [
          [
           92394209060,
           25266597
          ],
          [
           99209303584,
           12147953
          ],
          [
           118174109461,
           17073675
          ],
          [
           24314570667,
           22815756
          ]
         ],
         "hovertemplate": "Actor=정재영<br>Genre=%{x}<br>Count=%{y}<br>Total Revenue=%{customdata[0]}<br>Total Audience=%{customdata[1]}<extra></extra>",
         "legendgroup": "정재영",
         "marker": {
          "color": "#B6E880",
          "pattern": {
           "shape": ""
          }
         },
         "name": "정재영",
         "offsetgroup": "정재영",
         "orientation": "v",
         "showlegend": true,
         "textposition": "auto",
         "type": "bar",
         "x": [
          "드라마",
          "사극",
          "액션",
          "전쟁"
         ],
         "xaxis": "x",
         "y": [
          7,
          3,
          5,
          3
         ],
         "yaxis": "y"
        },
        {
         "alignmentgroup": "True",
         "customdata": [
          [
           142205492777,
           25852540
          ],
          [
           58676374599,
           7963773
          ],
          [
           84913333159,
           11145202
          ]
         ],
         "hovertemplate": "Actor=박철민<br>Genre=%{x}<br>Count=%{y}<br>Total Revenue=%{customdata[0]}<br>Total Audience=%{customdata[1]}<extra></extra>",
         "legendgroup": "박철민",
         "marker": {
          "color": "#FF97FF",
          "pattern": {
           "shape": ""
          }
         },
         "name": "박철민",
         "offsetgroup": "박철민",
         "orientation": "v",
         "showlegend": true,
         "textposition": "auto",
         "type": "bar",
         "x": [
          "드라마",
          "멜로/로맨스",
          "코미디"
         ],
         "xaxis": "x",
         "y": [
          7,
          3,
          5
         ],
         "yaxis": "y"
        },
        {
         "alignmentgroup": "True",
         "customdata": [
          [
           233228679813,
           27097971
          ],
          [
           141073943953,
           17991200
          ],
          [
           111944814225,
           11645226
          ]
         ],
         "hovertemplate": "Actor=김대명<br>Genre=%{x}<br>Count=%{y}<br>Total Revenue=%{customdata[0]}<br>Total Audience=%{customdata[1]}<extra></extra>",
         "legendgroup": "김대명",
         "marker": {
          "color": "#FECB52",
          "pattern": {
           "shape": ""
          }
         },
         "name": "김대명",
         "offsetgroup": "김대명",
         "orientation": "v",
         "showlegend": true,
         "textposition": "auto",
         "type": "bar",
         "x": [
          "드라마",
          "범죄",
          "액션"
         ],
         "xaxis": "x",
         "y": [
          7,
          5,
          3
         ],
         "yaxis": "y"
        },
        {
         "alignmentgroup": "True",
         "customdata": [
          [
           178488164480,
           22276185
          ],
          [
           45645477379,
           5748770
          ],
          [
           39632809796,
           5584035
          ]
         ],
         "hovertemplate": "Actor=이희준<br>Genre=%{x}<br>Count=%{y}<br>Total Revenue=%{customdata[0]}<br>Total Audience=%{customdata[1]}<extra></extra>",
         "legendgroup": "이희준",
         "marker": {
          "color": "#636efa",
          "pattern": {
           "shape": ""
          }
         },
         "name": "이희준",
         "offsetgroup": "이희준",
         "orientation": "v",
         "showlegend": true,
         "textposition": "auto",
         "type": "bar",
         "x": [
          "드라마",
          "범죄",
          "액션"
         ],
         "xaxis": "x",
         "y": [
          7,
          3,
          3
         ],
         "yaxis": "y"
        },
        {
         "alignmentgroup": "True",
         "customdata": [
          [
           227989536907,
           27864444
          ],
          [
           153469471415,
           18543029
          ],
          [
           85089504820,
           10235915
          ],
          [
           105341824042,
           12378072
          ]
         ],
         "hovertemplate": "Actor=조우진<br>Genre=%{x}<br>Count=%{y}<br>Total Revenue=%{customdata[0]}<br>Total Audience=%{customdata[1]}<extra></extra>",
         "legendgroup": "조우진",
         "marker": {
          "color": "#EF553B",
          "pattern": {
           "shape": ""
          }
         },
         "name": "조우진",
         "offsetgroup": "조우진",
         "orientation": "v",
         "showlegend": true,
         "textposition": "auto",
         "type": "bar",
         "x": [
          "드라마",
          "범죄",
          "사극",
          "액션"
         ],
         "xaxis": "x",
         "y": [
          7,
          6,
          3,
          4
         ],
         "yaxis": "y"
        },
        {
         "alignmentgroup": "True",
         "customdata": [
          [
           193491564869,
           26377057
          ],
          [
           208763057561,
           28734453
          ],
          [
           133081270337,
           20260466
          ],
          [
           88299333174,
           13511865
          ]
         ],
         "hovertemplate": "Actor=김병옥<br>Genre=%{x}<br>Count=%{y}<br>Total Revenue=%{customdata[0]}<br>Total Audience=%{customdata[1]}<extra></extra>",
         "legendgroup": "김병옥",
         "marker": {
          "color": "#00cc96",
          "pattern": {
           "shape": ""
          }
         },
         "name": "김병옥",
         "offsetgroup": "김병옥",
         "orientation": "v",
         "showlegend": true,
         "textposition": "auto",
         "type": "bar",
         "x": [
          "드라마",
          "범죄",
          "액션",
          "코미디"
         ],
         "xaxis": "x",
         "y": [
          7,
          7,
          8,
          3
         ],
         "yaxis": "y"
        },
        {
         "alignmentgroup": "True",
         "customdata": [
          [
           129611665695,
           17628447
          ],
          [
           37949794870,
           5093448
          ],
          [
           125009193501,
           17391981
          ],
          [
           147163162169,
           20189208
          ]
         ],
         "hovertemplate": "Actor=고창석<br>Genre=%{x}<br>Count=%{y}<br>Total Revenue=%{customdata[0]}<br>Total Audience=%{customdata[1]}<extra></extra>",
         "legendgroup": "고창석",
         "marker": {
          "color": "#ab63fa",
          "pattern": {
           "shape": ""
          }
         },
         "name": "고창석",
         "offsetgroup": "고창석",
         "orientation": "v",
         "showlegend": true,
         "textposition": "auto",
         "type": "bar",
         "x": [
          "드라마",
          "범죄",
          "액션",
          "코미디"
         ],
         "xaxis": "x",
         "y": [
          7,
          3,
          5,
          6
         ],
         "yaxis": "y"
        },
        {
         "alignmentgroup": "True",
         "customdata": [
          [
           119357708073,
           20452904
          ],
          [
           101097368525,
           12308121
          ],
          [
           100909876260,
           13167388
          ]
         ],
         "hovertemplate": "Actor=조영진<br>Genre=%{x}<br>Count=%{y}<br>Total Revenue=%{customdata[0]}<br>Total Audience=%{customdata[1]}<extra></extra>",
         "legendgroup": "조영진",
         "marker": {
          "color": "#FFA15A",
          "pattern": {
           "shape": ""
          }
         },
         "name": "조영진",
         "offsetgroup": "조영진",
         "orientation": "v",
         "showlegend": true,
         "textposition": "auto",
         "type": "bar",
         "x": [
          "드라마",
          "범죄",
          "액션"
         ],
         "xaxis": "x",
         "y": [
          7,
          5,
          3
         ],
         "yaxis": "y"
        },
        {
         "alignmentgroup": "True",
         "customdata": [
          [
           129283719760,
           17443312
          ],
          [
           37531865458,
           5051342
          ],
          [
           53346670062,
           6643606
          ],
          [
           138645986815,
           17936987
          ],
          [
           52147781721,
           7193920
          ]
         ],
         "hovertemplate": "Actor=김희원<br>Genre=%{x}<br>Count=%{y}<br>Total Revenue=%{customdata[0]}<br>Total Audience=%{customdata[1]}<extra></extra>",
         "legendgroup": "김희원",
         "marker": {
          "color": "#19d3f3",
          "pattern": {
           "shape": ""
          }
         },
         "name": "김희원",
         "offsetgroup": "김희원",
         "orientation": "v",
         "showlegend": true,
         "textposition": "auto",
         "type": "bar",
         "x": [
          "드라마",
          "멜로/로맨스",
          "범죄",
          "액션",
          "코미디"
         ],
         "xaxis": "x",
         "y": [
          7,
          3,
          3,
          7,
          5
         ],
         "yaxis": "y"
        },
        {
         "alignmentgroup": "True",
         "customdata": [
          [
           129532623623,
           22370877
          ],
          [
           42951573143,
           11582158
          ],
          [
           91262172223,
           10948861
          ]
         ],
         "hovertemplate": "Actor=남명렬<br>Genre=%{x}<br>Count=%{y}<br>Total Revenue=%{customdata[0]}<br>Total Audience=%{customdata[1]}<extra></extra>",
         "legendgroup": "남명렬",
         "marker": {
          "color": "#FF6692",
          "pattern": {
           "shape": ""
          }
         },
         "name": "남명렬",
         "offsetgroup": "남명렬",
         "orientation": "v",
         "showlegend": true,
         "textposition": "auto",
         "type": "bar",
         "x": [
          "드라마",
          "멜로/로맨스",
          "범죄"
         ],
         "xaxis": "x",
         "y": [
          7,
          3,
          3
         ],
         "yaxis": "y"
        },
        {
         "alignmentgroup": "True",
         "customdata": [
          [
           175233417688,
           22966068
          ]
         ],
         "hovertemplate": "Actor=박수영<br>Genre=%{x}<br>Count=%{y}<br>Total Revenue=%{customdata[0]}<br>Total Audience=%{customdata[1]}<extra></extra>",
         "legendgroup": "박수영",
         "marker": {
          "color": "#B6E880",
          "pattern": {
           "shape": ""
          }
         },
         "name": "박수영",
         "offsetgroup": "박수영",
         "orientation": "v",
         "showlegend": true,
         "textposition": "auto",
         "type": "bar",
         "x": [
          "드라마"
         ],
         "xaxis": "x",
         "y": [
          7
         ],
         "yaxis": "y"
        },
        {
         "alignmentgroup": "True",
         "customdata": [
          [
           88688874459,
           15809477
          ],
          [
           142758596036,
           19858482
          ]
         ],
         "hovertemplate": "Actor=이주실<br>Genre=%{x}<br>Count=%{y}<br>Total Revenue=%{customdata[0]}<br>Total Audience=%{customdata[1]}<extra></extra>",
         "legendgroup": "이주실",
         "marker": {
          "color": "#FF97FF",
          "pattern": {
           "shape": ""
          }
         },
         "name": "이주실",
         "offsetgroup": "이주실",
         "orientation": "v",
         "showlegend": true,
         "textposition": "auto",
         "type": "bar",
         "x": [
          "드라마",
          "액션"
         ],
         "xaxis": "x",
         "y": [
          7,
          3
         ],
         "yaxis": "y"
        },
        {
         "alignmentgroup": "True",
         "customdata": [
          [
           96629948017,
           16889569
          ],
          [
           104256918444,
           16140487
          ],
          [
           112829262906,
           17349850
          ]
         ],
         "hovertemplate": "Actor=김해숙<br>Genre=%{x}<br>Count=%{y}<br>Total Revenue=%{customdata[0]}<br>Total Audience=%{customdata[1]}<extra></extra>",
         "legendgroup": "김해숙",
         "marker": {
          "color": "#FECB52",
          "pattern": {
           "shape": ""
          }
         },
         "name": "김해숙",
         "offsetgroup": "김해숙",
         "orientation": "v",
         "showlegend": true,
         "textposition": "auto",
         "type": "bar",
         "x": [
          "드라마",
          "범죄",
          "액션"
         ],
         "xaxis": "x",
         "y": [
          7,
          3,
          4
         ],
         "yaxis": "y"
        },
        {
         "alignmentgroup": "True",
         "customdata": [
          [
           null,
           13040080
          ],
          [
           26040082619,
           4738706
          ]
         ],
         "hovertemplate": "Actor=윤여정<br>Genre=%{x}<br>Count=%{y}<br>Total Revenue=%{customdata[0]}<br>Total Audience=%{customdata[1]}<extra></extra>",
         "legendgroup": "윤여정",
         "marker": {
          "color": "#636efa",
          "pattern": {
           "shape": ""
          }
         },
         "name": "윤여정",
         "offsetgroup": "윤여정",
         "orientation": "v",
         "showlegend": true,
         "textposition": "auto",
         "type": "bar",
         "x": [
          "드라마",
          "멜로/로맨스"
         ],
         "xaxis": "x",
         "y": [
          7,
          3
         ],
         "yaxis": "y"
        },
        {
         "alignmentgroup": "True",
         "customdata": [
          [
           311708652819,
           37681538
          ]
         ],
         "hovertemplate": "Actor=주지훈<br>Genre=%{x}<br>Count=%{y}<br>Total Revenue=%{customdata[0]}<br>Total Audience=%{customdata[1]}<extra></extra>",
         "legendgroup": "주지훈",
         "marker": {
          "color": "#EF553B",
          "pattern": {
           "shape": ""
          }
         },
         "name": "주지훈",
         "offsetgroup": "주지훈",
         "orientation": "v",
         "showlegend": true,
         "textposition": "auto",
         "type": "bar",
         "x": [
          "드라마"
         ],
         "xaxis": "x",
         "y": [
          6
         ],
         "yaxis": "y"
        },
        {
         "alignmentgroup": "True",
         "customdata": [
          [
           309791970486,
           34889700
          ],
          [
           87259773757,
           10853434
          ],
          [
           65820120164,
           8959813
          ],
          [
           237100115479,
           29112729
          ],
          [
           119320494081,
           15641352
          ]
         ],
         "hovertemplate": "Actor=김성균<br>Genre=%{x}<br>Count=%{y}<br>Total Revenue=%{customdata[0]}<br>Total Audience=%{customdata[1]}<extra></extra>",
         "legendgroup": "김성균",
         "marker": {
          "color": "#00cc96",
          "pattern": {
           "shape": ""
          }
         },
         "name": "김성균",
         "offsetgroup": "김성균",
         "orientation": "v",
         "showlegend": true,
         "textposition": "auto",
         "type": "bar",
         "x": [
          "드라마",
          "범죄",
          "스릴러",
          "액션",
          "코미디"
         ],
         "xaxis": "x",
         "y": [
          6,
          4,
          3,
          7,
          4
         ],
         "yaxis": "y"
        },
        {
         "alignmentgroup": "True",
         "customdata": [
          [
           232672152622,
           32232669
          ],
          [
           13570381911,
           6073046
          ],
          [
           51771811456,
           9807172
          ]
         ],
         "hovertemplate": "Actor=김인권<br>Genre=%{x}<br>Count=%{y}<br>Total Revenue=%{customdata[0]}<br>Total Audience=%{customdata[1]}<extra></extra>",
         "legendgroup": "김인권",
         "marker": {
          "color": "#ab63fa",
          "pattern": {
           "shape": ""
          }
         },
         "name": "김인권",
         "offsetgroup": "김인권",
         "orientation": "v",
         "showlegend": true,
         "textposition": "auto",
         "type": "bar",
         "x": [
          "드라마",
          "멜로/로맨스",
          "액션"
         ],
         "xaxis": "x",
         "y": [
          6,
          3,
          3
         ],
         "yaxis": "y"
        },
        {
         "alignmentgroup": "True",
         "customdata": [
          [
           45722314155,
           24618608
          ],
          [
           29270575490,
           7836307
          ]
         ],
         "hovertemplate": "Actor=장동건<br>Genre=%{x}<br>Count=%{y}<br>Total Revenue=%{customdata[0]}<br>Total Audience=%{customdata[1]}<extra></extra>",
         "legendgroup": "장동건",
         "marker": {
          "color": "#FFA15A",
          "pattern": {
           "shape": ""
          }
         },
         "name": "장동건",
         "offsetgroup": "장동건",
         "orientation": "v",
         "showlegend": true,
         "textposition": "auto",
         "type": "bar",
         "x": [
          "드라마",
          "액션"
         ],
         "xaxis": "x",
         "y": [
          6,
          3
         ],
         "yaxis": "y"
        },
        {
         "alignmentgroup": "True",
         "customdata": [
          [
           125897275660,
           21198809
          ],
          [
           15764312409,
           4605887
          ],
          [
           101326291701,
           14898994
          ],
          [
           0,
           8346254
          ]
         ],
         "hovertemplate": "Actor=하지원<br>Genre=%{x}<br>Count=%{y}<br>Total Revenue=%{customdata[0]}<br>Total Audience=%{customdata[1]}<extra></extra>",
         "legendgroup": "하지원",
         "marker": {
          "color": "#19d3f3",
          "pattern": {
           "shape": ""
          }
         },
         "name": "하지원",
         "offsetgroup": "하지원",
         "orientation": "v",
         "showlegend": true,
         "textposition": "auto",
         "type": "bar",
         "x": [
          "드라마",
          "멜로/로맨스",
          "액션",
          "코미디"
         ],
         "xaxis": "x",
         "y": [
          6,
          3,
          3,
          3
         ],
         "yaxis": "y"
        },
        {
         "alignmentgroup": "True",
         "customdata": [
          [
           125799324210,
           25165500
          ],
          [
           16912706195,
           5564359
          ]
         ],
         "hovertemplate": "Actor=김혜수<br>Genre=%{x}<br>Count=%{y}<br>Total Revenue=%{customdata[0]}<br>Total Audience=%{customdata[1]}<extra></extra>",
         "legendgroup": "김혜수",
         "marker": {
          "color": "#FF6692",
          "pattern": {
           "shape": ""
          }
         },
         "name": "김혜수",
         "offsetgroup": "김혜수",
         "orientation": "v",
         "showlegend": true,
         "textposition": "auto",
         "type": "bar",
         "x": [
          "드라마",
          "코미디"
         ],
         "xaxis": "x",
         "y": [
          6,
          3
         ],
         "yaxis": "y"
        },
        {
         "alignmentgroup": "True",
         "customdata": [
          [
           165564114172,
           22494022
          ],
          [
           78979128716,
           10006564
          ],
          [
           169889313461,
           22262094
          ],
          [
           178686614731,
           24287136
          ]
         ],
         "hovertemplate": "Actor=성동일<br>Genre=%{x}<br>Count=%{y}<br>Total Revenue=%{customdata[0]}<br>Total Audience=%{customdata[1]}<extra></extra>",
         "legendgroup": "성동일",
         "marker": {
          "color": "#B6E880",
          "pattern": {
           "shape": ""
          }
         },
         "name": "성동일",
         "offsetgroup": "성동일",
         "orientation": "v",
         "showlegend": true,
         "textposition": "auto",
         "type": "bar",
         "x": [
          "드라마",
          "범죄",
          "액션",
          "코미디"
         ],
         "xaxis": "x",
         "y": [
          6,
          5,
          5,
          8
         ],
         "yaxis": "y"
        },
        {
         "alignmentgroup": "True",
         "customdata": [
          [
           218267028633,
           27671253
          ],
          [
           112424601072,
           12106909
          ]
         ],
         "hovertemplate": "Actor=전배수<br>Genre=%{x}<br>Count=%{y}<br>Total Revenue=%{customdata[0]}<br>Total Audience=%{customdata[1]}<extra></extra>",
         "legendgroup": "전배수",
         "marker": {
          "color": "#FF97FF",
          "pattern": {
           "shape": ""
          }
         },
         "name": "전배수",
         "offsetgroup": "전배수",
         "orientation": "v",
         "showlegend": true,
         "textposition": "auto",
         "type": "bar",
         "x": [
          "드라마",
          "액션"
         ],
         "xaxis": "x",
         "y": [
          6,
          3
         ],
         "yaxis": "y"
        },
        {
         "alignmentgroup": "True",
         "customdata": [
          [
           11220408500,
           16598226
          ],
          [
           0,
           5810772
          ]
         ],
         "hovertemplate": "Actor=손병호<br>Genre=%{x}<br>Count=%{y}<br>Total Revenue=%{customdata[0]}<br>Total Audience=%{customdata[1]}<extra></extra>",
         "legendgroup": "손병호",
         "marker": {
          "color": "#FECB52",
          "pattern": {
           "shape": ""
          }
         },
         "name": "손병호",
         "offsetgroup": "손병호",
         "orientation": "v",
         "showlegend": true,
         "textposition": "auto",
         "type": "bar",
         "x": [
          "드라마",
          "코미디"
         ],
         "xaxis": "x",
         "y": [
          6,
          3
         ],
         "yaxis": "y"
        },
        {
         "alignmentgroup": "True",
         "customdata": [
          [
           190839910007,
           24207529
          ],
          [
           55315559719,
           7232740
          ],
          [
           76427992500,
           9925434
          ]
         ],
         "hovertemplate": "Actor=김승훈<br>Genre=%{x}<br>Count=%{y}<br>Total Revenue=%{customdata[0]}<br>Total Audience=%{customdata[1]}<extra></extra>",
         "legendgroup": "김승훈",
         "marker": {
          "color": "#636efa",
          "pattern": {
           "shape": ""
          }
         },
         "name": "김승훈",
         "offsetgroup": "김승훈",
         "orientation": "v",
         "showlegend": true,
         "textposition": "auto",
         "type": "bar",
         "x": [
          "드라마",
          "범죄",
          "사극"
         ],
         "xaxis": "x",
         "y": [
          6,
          3,
          3
         ],
         "yaxis": "y"
        },
        {
         "alignmentgroup": "True",
         "customdata": [
          [
           null,
           24204010
          ]
         ],
         "hovertemplate": "Actor=조승우<br>Genre=%{x}<br>Count=%{y}<br>Total Revenue=%{customdata[0]}<br>Total Audience=%{customdata[1]}<extra></extra>",
         "legendgroup": "조승우",
         "marker": {
          "color": "#EF553B",
          "pattern": {
           "shape": ""
          }
         },
         "name": "조승우",
         "offsetgroup": "조승우",
         "orientation": "v",
         "showlegend": true,
         "textposition": "auto",
         "type": "bar",
         "x": [
          "드라마"
         ],
         "xaxis": "x",
         "y": [
          6
         ],
         "yaxis": "y"
        },
        {
         "alignmentgroup": "True",
         "customdata": [
          [
           98170015383,
           17016936
          ],
          [
           62911032663,
           8216051
          ],
          [
           50879822443,
           8477272
          ],
          [
           18770889320,
           6333841
          ]
         ],
         "hovertemplate": "Actor=이철민<br>Genre=%{x}<br>Count=%{y}<br>Total Revenue=%{customdata[0]}<br>Total Audience=%{customdata[1]}<extra></extra>",
         "legendgroup": "이철민",
         "marker": {
          "color": "#00cc96",
          "pattern": {
           "shape": ""
          }
         },
         "name": "이철민",
         "offsetgroup": "이철민",
         "orientation": "v",
         "showlegend": true,
         "textposition": "auto",
         "type": "bar",
         "x": [
          "드라마",
          "스릴러",
          "액션",
          "코미디"
         ],
         "xaxis": "x",
         "y": [
          6,
          4,
          4,
          3
         ],
         "yaxis": "y"
        },
        {
         "alignmentgroup": "True",
         "customdata": [
          [
           122553404698,
           15499992
          ]
         ],
         "hovertemplate": "Actor=민진웅<br>Genre=%{x}<br>Count=%{y}<br>Total Revenue=%{customdata[0]}<br>Total Audience=%{customdata[1]}<extra></extra>",
         "legendgroup": "민진웅",
         "marker": {
          "color": "#ab63fa",
          "pattern": {
           "shape": ""
          }
         },
         "name": "민진웅",
         "offsetgroup": "민진웅",
         "orientation": "v",
         "showlegend": true,
         "textposition": "auto",
         "type": "bar",
         "x": [
          "드라마"
         ],
         "xaxis": "x",
         "y": [
          6
         ],
         "yaxis": "y"
        },
        {
         "alignmentgroup": "True",
         "customdata": [
          [
           89852429487,
           11700305
          ],
          [
           31477918844,
           4228943
          ],
          [
           52957737520,
           6743539
          ],
          [
           55749667944,
           7710882
          ],
          [
           95437922192,
           12413292
          ]
         ],
         "hovertemplate": "Actor=김명민<br>Genre=%{x}<br>Count=%{y}<br>Total Revenue=%{customdata[0]}<br>Total Audience=%{customdata[1]}<extra></extra>",
         "legendgroup": "김명민",
         "marker": {
          "color": "#FFA15A",
          "pattern": {
           "shape": ""
          }
         },
         "name": "김명민",
         "offsetgroup": "김명민",
         "orientation": "v",
         "showlegend": true,
         "textposition": "auto",
         "type": "bar",
         "x": [
          "드라마",
          "범죄",
          "스릴러",
          "액션",
          "코미디"
         ],
         "xaxis": "x",
         "y": [
          6,
          3,
          3,
          3,
          4
         ],
         "yaxis": "y"
        },
        {
         "alignmentgroup": "True",
         "customdata": [
          [
           null,
           14921250
          ]
         ],
         "hovertemplate": "Actor=문소리<br>Genre=%{x}<br>Count=%{y}<br>Total Revenue=%{customdata[0]}<br>Total Audience=%{customdata[1]}<extra></extra>",
         "legendgroup": "문소리",
         "marker": {
          "color": "#19d3f3",
          "pattern": {
           "shape": ""
          }
         },
         "name": "문소리",
         "offsetgroup": "문소리",
         "orientation": "v",
         "showlegend": true,
         "textposition": "auto",
         "type": "bar",
         "x": [
          "드라마"
         ],
         "xaxis": "x",
         "y": [
          6
         ],
         "yaxis": "y"
        },
        {
         "alignmentgroup": "True",
         "customdata": [
          [
           66147562001,
           13510439
          ],
          [
           30129259500,
           6455235
          ]
         ],
         "hovertemplate": "Actor=권병길<br>Genre=%{x}<br>Count=%{y}<br>Total Revenue=%{customdata[0]}<br>Total Audience=%{customdata[1]}<extra></extra>",
         "legendgroup": "권병길",
         "marker": {
          "color": "#FF6692",
          "pattern": {
           "shape": ""
          }
         },
         "name": "권병길",
         "offsetgroup": "권병길",
         "orientation": "v",
         "showlegend": true,
         "textposition": "auto",
         "type": "bar",
         "x": [
          "드라마",
          "코미디"
         ],
         "xaxis": "x",
         "y": [
          6,
          3
         ],
         "yaxis": "y"
        },
        {
         "alignmentgroup": "True",
         "customdata": [
          [
           36882350962,
           11949558
          ],
          [
           15764312409,
           9269426
          ],
          [
           25197044238,
           5009105
          ]
         ],
         "hovertemplate": "Actor=김광규<br>Genre=%{x}<br>Count=%{y}<br>Total Revenue=%{customdata[0]}<br>Total Audience=%{customdata[1]}<extra></extra>",
         "legendgroup": "김광규",
         "marker": {
          "color": "#B6E880",
          "pattern": {
           "shape": ""
          }
         },
         "name": "김광규",
         "offsetgroup": "김광규",
         "orientation": "v",
         "showlegend": true,
         "textposition": "auto",
         "type": "bar",
         "x": [
          "드라마",
          "멜로/로맨스",
          "코미디"
         ],
         "xaxis": "x",
         "y": [
          6,
          4,
          3
         ],
         "yaxis": "y"
        },
        {
         "alignmentgroup": "True",
         "customdata": [
          [
           40671503663,
           10617051
          ]
         ],
         "hovertemplate": "Actor=정경호<br>Genre=%{x}<br>Count=%{y}<br>Total Revenue=%{customdata[0]}<br>Total Audience=%{customdata[1]}<extra></extra>",
         "legendgroup": "정경호",
         "marker": {
          "color": "#FF97FF",
          "pattern": {
           "shape": ""
          }
         },
         "name": "정경호",
         "offsetgroup": "정경호",
         "orientation": "v",
         "showlegend": true,
         "textposition": "auto",
         "type": "bar",
         "x": [
          "드라마"
         ],
         "xaxis": "x",
         "y": [
          6
         ],
         "yaxis": "y"
        },
        {
         "alignmentgroup": "True",
         "customdata": [
          [
           55720625893,
           11982126
          ],
          [
           55135777509,
           7413871
          ]
         ],
         "hovertemplate": "Actor=정호빈<br>Genre=%{x}<br>Count=%{y}<br>Total Revenue=%{customdata[0]}<br>Total Audience=%{customdata[1]}<extra></extra>",
         "legendgroup": "정호빈",
         "marker": {
          "color": "#FECB52",
          "pattern": {
           "shape": ""
          }
         },
         "name": "정호빈",
         "offsetgroup": "정호빈",
         "orientation": "v",
         "showlegend": true,
         "textposition": "auto",
         "type": "bar",
         "x": [
          "드라마",
          "액션"
         ],
         "xaxis": "x",
         "y": [
          6,
          4
         ],
         "yaxis": "y"
        },
        {
         "alignmentgroup": "True",
         "customdata": [
          [
           145766398135,
           21155750
          ],
          [
           118622506693,
           22908793
          ]
         ],
         "hovertemplate": "Actor=차태현<br>Genre=%{x}<br>Count=%{y}<br>Total Revenue=%{customdata[0]}<br>Total Audience=%{customdata[1]}<extra></extra>",
         "legendgroup": "차태현",
         "marker": {
          "color": "#636efa",
          "pattern": {
           "shape": ""
          }
         },
         "name": "차태현",
         "offsetgroup": "차태현",
         "orientation": "v",
         "showlegend": true,
         "textposition": "auto",
         "type": "bar",
         "x": [
          "드라마",
          "코미디"
         ],
         "xaxis": "x",
         "y": [
          5,
          7
         ],
         "yaxis": "y"
        },
        {
         "alignmentgroup": "True",
         "customdata": [
          [
           146669535663,
           19645621
          ],
          [
           118954917155,
           15005352
          ],
          [
           222685621048,
           29335068
          ]
         ],
         "hovertemplate": "Actor=예수정<br>Genre=%{x}<br>Count=%{y}<br>Total Revenue=%{customdata[0]}<br>Total Audience=%{customdata[1]}<extra></extra>",
         "legendgroup": "예수정",
         "marker": {
          "color": "#EF553B",
          "pattern": {
           "shape": ""
          }
         },
         "name": "예수정",
         "offsetgroup": "예수정",
         "orientation": "v",
         "showlegend": true,
         "textposition": "auto",
         "type": "bar",
         "x": [
          "드라마",
          "스릴러",
          "액션"
         ],
         "xaxis": "x",
         "y": [
          5,
          3,
          3
         ],
         "yaxis": "y"
        },
        {
         "alignmentgroup": "True",
         "customdata": [
          [
           182441374589,
           22966137
          ],
          [
           226965541310,
           28655901
          ],
          [
           207875550770,
           24733137
          ]
         ],
         "hovertemplate": "Actor=이동휘<br>Genre=%{x}<br>Count=%{y}<br>Total Revenue=%{customdata[0]}<br>Total Audience=%{customdata[1]}<extra></extra>",
         "legendgroup": "이동휘",
         "marker": {
          "color": "#00cc96",
          "pattern": {
           "shape": ""
          }
         },
         "name": "이동휘",
         "offsetgroup": "이동휘",
         "orientation": "v",
         "showlegend": true,
         "textposition": "auto",
         "type": "bar",
         "x": [
          "드라마",
          "액션",
          "코미디"
         ],
         "xaxis": "x",
         "y": [
          5,
          4,
          3
         ],
         "yaxis": "y"
        },
        {
         "alignmentgroup": "True",
         "customdata": [
          [
           186936549383,
           25677222
          ],
          [
           29144208796,
           5120484
          ]
         ],
         "hovertemplate": "Actor=박정학<br>Genre=%{x}<br>Count=%{y}<br>Total Revenue=%{customdata[0]}<br>Total Audience=%{customdata[1]}<extra></extra>",
         "legendgroup": "박정학",
         "marker": {
          "color": "#ab63fa",
          "pattern": {
           "shape": ""
          }
         },
         "name": "박정학",
         "offsetgroup": "박정학",
         "orientation": "v",
         "showlegend": true,
         "textposition": "auto",
         "type": "bar",
         "x": [
          "드라마",
          "액션"
         ],
         "xaxis": "x",
         "y": [
          5,
          3
         ],
         "yaxis": "y"
        },
        {
         "alignmentgroup": "True",
         "customdata": [
          [
           233195172523,
           25959571
          ]
         ],
         "hovertemplate": "Actor=곽자형<br>Genre=%{x}<br>Count=%{y}<br>Total Revenue=%{customdata[0]}<br>Total Audience=%{customdata[1]}<extra></extra>",
         "legendgroup": "곽자형",
         "marker": {
          "color": "#FFA15A",
          "pattern": {
           "shape": ""
          }
         },
         "name": "곽자형",
         "offsetgroup": "곽자형",
         "orientation": "v",
         "showlegend": true,
         "textposition": "auto",
         "type": "bar",
         "x": [
          "드라마"
         ],
         "xaxis": "x",
         "y": [
          5
         ],
         "yaxis": "y"
        },
        {
         "alignmentgroup": "True",
         "customdata": [
          [
           234825624860,
           27362046
          ],
          [
           82203591548,
           10424765
          ],
          [
           36703168696,
           4395693
          ]
         ],
         "hovertemplate": "Actor=김성오<br>Genre=%{x}<br>Count=%{y}<br>Total Revenue=%{customdata[0]}<br>Total Audience=%{customdata[1]}<extra></extra>",
         "legendgroup": "김성오",
         "marker": {
          "color": "#19d3f3",
          "pattern": {
           "shape": ""
          }
         },
         "name": "김성오",
         "offsetgroup": "김성오",
         "orientation": "v",
         "showlegend": true,
         "textposition": "auto",
         "type": "bar",
         "x": [
          "드라마",
          "액션",
          "코미디"
         ],
         "xaxis": "x",
         "y": [
          5,
          4,
          3
         ],
         "yaxis": "y"
        },
        {
         "alignmentgroup": "True",
         "customdata": [
          [
           220145284293,
           24655243
          ],
          [
           47538306893,
           5803648
          ],
          [
           60078400161,
           7905223
          ]
         ],
         "hovertemplate": "Actor=최병모<br>Genre=%{x}<br>Count=%{y}<br>Total Revenue=%{customdata[0]}<br>Total Audience=%{customdata[1]}<extra></extra>",
         "legendgroup": "최병모",
         "marker": {
          "color": "#FF6692",
          "pattern": {
           "shape": ""
          }
         },
         "name": "최병모",
         "offsetgroup": "최병모",
         "orientation": "v",
         "showlegend": true,
         "textposition": "auto",
         "type": "bar",
         "x": [
          "드라마",
          "범죄",
          "액션"
         ],
         "xaxis": "x",
         "y": [
          5,
          3,
          3
         ],
         "yaxis": "y"
        },
        {
         "alignmentgroup": "True",
         "customdata": [
          [
           302919344360,
           35326528
          ],
          [
           113386662521,
           14122489
          ],
          [
           61162664425,
           7779047
          ],
          [
           107948236048,
           13490004
          ]
         ],
         "hovertemplate": "Actor=이성민<br>Genre=%{x}<br>Count=%{y}<br>Total Revenue=%{customdata[0]}<br>Total Audience=%{customdata[1]}<extra></extra>",
         "legendgroup": "이성민",
         "marker": {
          "color": "#B6E880",
          "pattern": {
           "shape": ""
          }
         },
         "name": "이성민",
         "offsetgroup": "이성민",
         "orientation": "v",
         "showlegend": true,
         "textposition": "auto",
         "type": "bar",
         "x": [
          "드라마",
          "범죄",
          "액션",
          "코미디"
         ],
         "xaxis": "x",
         "y": [
          5,
          3,
          3,
          3
         ],
         "yaxis": "y"
        },
        {
         "alignmentgroup": "True",
         "customdata": [
          [
           258808904025,
           32296940
          ]
         ],
         "hovertemplate": "Actor=박원상<br>Genre=%{x}<br>Count=%{y}<br>Total Revenue=%{customdata[0]}<br>Total Audience=%{customdata[1]}<extra></extra>",
         "legendgroup": "박원상",
         "marker": {
          "color": "#FF97FF",
          "pattern": {
           "shape": ""
          }
         },
         "name": "박원상",
         "offsetgroup": "박원상",
         "orientation": "v",
         "showlegend": true,
         "textposition": "auto",
         "type": "bar",
         "x": [
          "드라마"
         ],
         "xaxis": "x",
         "y": [
          5
         ],
         "yaxis": "y"
        },
        {
         "alignmentgroup": "True",
         "customdata": [
          [
           18654538500,
           21299358
          ],
          [
           18654538500,
           9544022
          ]
         ],
         "hovertemplate": "Actor=변희봉<br>Genre=%{x}<br>Count=%{y}<br>Total Revenue=%{customdata[0]}<br>Total Audience=%{customdata[1]}<extra></extra>",
         "legendgroup": "변희봉",
         "marker": {
          "color": "#FECB52",
          "pattern": {
           "shape": ""
          }
         },
         "name": "변희봉",
         "offsetgroup": "변희봉",
         "orientation": "v",
         "showlegend": true,
         "textposition": "auto",
         "type": "bar",
         "x": [
          "드라마",
          "코미디"
         ],
         "xaxis": "x",
         "y": [
          5,
          6
         ],
         "yaxis": "y"
        },
        {
         "alignmentgroup": "True",
         "customdata": [
          [
           99787565889,
           25138136
          ]
         ],
         "hovertemplate": "Actor=배두나<br>Genre=%{x}<br>Count=%{y}<br>Total Revenue=%{customdata[0]}<br>Total Audience=%{customdata[1]}<extra></extra>",
         "legendgroup": "배두나",
         "marker": {
          "color": "#636efa",
          "pattern": {
           "shape": ""
          }
         },
         "name": "배두나",
         "offsetgroup": "배두나",
         "orientation": "v",
         "showlegend": true,
         "textposition": "auto",
         "type": "bar",
         "x": [
          "드라마"
         ],
         "xaxis": "x",
         "y": [
          5
         ],
         "yaxis": "y"
        },
        {
         "alignmentgroup": "True",
         "customdata": [
          [
           43062168558,
           18437645
          ]
         ],
         "hovertemplate": "Actor=고아성<br>Genre=%{x}<br>Count=%{y}<br>Total Revenue=%{customdata[0]}<br>Total Audience=%{customdata[1]}<extra></extra>",
         "legendgroup": "고아성",
         "marker": {
          "color": "#EF553B",
          "pattern": {
           "shape": ""
          }
         },
         "name": "고아성",
         "offsetgroup": "고아성",
         "orientation": "v",
         "showlegend": true,
         "textposition": "auto",
         "type": "bar",
         "x": [
          "드라마"
         ],
         "xaxis": "x",
         "y": [
          5
         ],
         "yaxis": "y"
        },
        {
         "alignmentgroup": "True",
         "customdata": [
          [
           210532515933,
           26707051
          ],
          [
           234377131743,
           30273504
          ]
         ],
         "hovertemplate": "Actor=김홍파<br>Genre=%{x}<br>Count=%{y}<br>Total Revenue=%{customdata[0]}<br>Total Audience=%{customdata[1]}<extra></extra>",
         "legendgroup": "김홍파",
         "marker": {
          "color": "#00cc96",
          "pattern": {
           "shape": ""
          }
         },
         "name": "김홍파",
         "offsetgroup": "김홍파",
         "orientation": "v",
         "showlegend": true,
         "textposition": "auto",
         "type": "bar",
         "x": [
          "드라마",
          "범죄"
         ],
         "xaxis": "x",
         "y": [
          5,
          6
         ],
         "yaxis": "y"
        },
        {
         "alignmentgroup": "True",
         "customdata": [
          [
           264170852737,
           37336714
          ],
          [
           167149160395,
           22023625
          ],
          [
           319165247907,
           44353548
          ]
         ],
         "hovertemplate": "Actor=이정재<br>Genre=%{x}<br>Count=%{y}<br>Total Revenue=%{customdata[0]}<br>Total Audience=%{customdata[1]}<extra></extra>",
         "legendgroup": "이정재",
         "marker": {
          "color": "#ab63fa",
          "pattern": {
           "shape": ""
          }
         },
         "name": "이정재",
         "offsetgroup": "이정재",
         "orientation": "v",
         "showlegend": true,
         "textposition": "auto",
         "type": "bar",
         "x": [
          "드라마",
          "범죄",
          "액션"
         ],
         "xaxis": "x",
         "y": [
          5,
          3,
          7
         ],
         "yaxis": "y"
        },
        {
         "alignmentgroup": "True",
         "customdata": [
          [
           226604727501,
           31041157
          ]
         ],
         "hovertemplate": "Actor=심은경<br>Genre=%{x}<br>Count=%{y}<br>Total Revenue=%{customdata[0]}<br>Total Audience=%{customdata[1]}<extra></extra>",
         "legendgroup": "심은경",
         "marker": {
          "color": "#FFA15A",
          "pattern": {
           "shape": ""
          }
         },
         "name": "심은경",
         "offsetgroup": "심은경",
         "orientation": "v",
         "showlegend": true,
         "textposition": "auto",
         "type": "bar",
         "x": [
          "드라마"
         ],
         "xaxis": "x",
         "y": [
          5
         ],
         "yaxis": "y"
        },
        {
         "alignmentgroup": "True",
         "customdata": [
          [
           38836310925,
           21555672
          ],
          [
           22744770000,
           4751602
          ]
         ],
         "hovertemplate": "Actor=정석용<br>Genre=%{x}<br>Count=%{y}<br>Total Revenue=%{customdata[0]}<br>Total Audience=%{customdata[1]}<extra></extra>",
         "legendgroup": "정석용",
         "marker": {
          "color": "#19d3f3",
          "pattern": {
           "shape": ""
          }
         },
         "name": "정석용",
         "offsetgroup": "정석용",
         "orientation": "v",
         "showlegend": true,
         "textposition": "auto",
         "type": "bar",
         "x": [
          "드라마",
          "코미디"
         ],
         "xaxis": "x",
         "y": [
          5,
          3
         ],
         "yaxis": "y"
        },
        {
         "alignmentgroup": "True",
         "customdata": [
          [
           234180431962,
           27944272
          ]
         ],
         "hovertemplate": "Actor=조한철<br>Genre=%{x}<br>Count=%{y}<br>Total Revenue=%{customdata[0]}<br>Total Audience=%{customdata[1]}<extra></extra>",
         "legendgroup": "조한철",
         "marker": {
          "color": "#FF6692",
          "pattern": {
           "shape": ""
          }
         },
         "name": "조한철",
         "offsetgroup": "조한철",
         "orientation": "v",
         "showlegend": true,
         "textposition": "auto",
         "type": "bar",
         "x": [
          "드라마"
         ],
         "xaxis": "x",
         "y": [
          5
         ],
         "yaxis": "y"
        },
        {
         "alignmentgroup": "True",
         "customdata": [
          [
           185258829789,
           22715794
          ]
         ],
         "hovertemplate": "Actor=이봉련<br>Genre=%{x}<br>Count=%{y}<br>Total Revenue=%{customdata[0]}<br>Total Audience=%{customdata[1]}<extra></extra>",
         "legendgroup": "이봉련",
         "marker": {
          "color": "#B6E880",
          "pattern": {
           "shape": ""
          }
         },
         "name": "이봉련",
         "offsetgroup": "이봉련",
         "orientation": "v",
         "showlegend": true,
         "textposition": "auto",
         "type": "bar",
         "x": [
          "드라마"
         ],
         "xaxis": "x",
         "y": [
          5
         ],
         "yaxis": "y"
        },
        {
         "alignmentgroup": "True",
         "customdata": [
          [
           128074807224,
           18911769
          ],
          [
           100814610953,
           13888124
          ],
          [
           null,
           7489273
          ]
         ],
         "hovertemplate": "Actor=엄정화<br>Genre=%{x}<br>Count=%{y}<br>Total Revenue=%{customdata[0]}<br>Total Audience=%{customdata[1]}<extra></extra>",
         "legendgroup": "엄정화",
         "marker": {
          "color": "#FF97FF",
          "pattern": {
           "shape": ""
          }
         },
         "name": "엄정화",
         "offsetgroup": "엄정화",
         "orientation": "v",
         "showlegend": true,
         "textposition": "auto",
         "type": "bar",
         "x": [
          "드라마",
          "액션",
          "코미디"
         ],
         "xaxis": "x",
         "y": [
          5,
          3,
          3
         ],
         "yaxis": "y"
        },
        {
         "alignmentgroup": "True",
         "customdata": [
          [
           148357645443,
           26304401
          ],
          [
           128907662051,
           15794446
          ],
          [
           19174920500,
           4993314
          ]
         ],
         "hovertemplate": "Actor=백윤식<br>Genre=%{x}<br>Count=%{y}<br>Total Revenue=%{customdata[0]}<br>Total Audience=%{customdata[1]}<extra></extra>",
         "legendgroup": "백윤식",
         "marker": {
          "color": "#FECB52",
          "pattern": {
           "shape": ""
          }
         },
         "name": "백윤식",
         "offsetgroup": "백윤식",
         "orientation": "v",
         "showlegend": true,
         "textposition": "auto",
         "type": "bar",
         "x": [
          "드라마",
          "사극",
          "코미디"
         ],
         "xaxis": "x",
         "y": [
          5,
          3,
          3
         ],
         "yaxis": "y"
        },
        {
         "alignmentgroup": "True",
         "customdata": [
          [
           110702226094,
           15258567
          ]
         ],
         "hovertemplate": "Actor=이종석<br>Genre=%{x}<br>Count=%{y}<br>Total Revenue=%{customdata[0]}<br>Total Audience=%{customdata[1]}<extra></extra>",
         "legendgroup": "이종석",
         "marker": {
          "color": "#636efa",
          "pattern": {
           "shape": ""
          }
         },
         "name": "이종석",
         "offsetgroup": "이종석",
         "orientation": "v",
         "showlegend": true,
         "textposition": "auto",
         "type": "bar",
         "x": [
          "드라마"
         ],
         "xaxis": "x",
         "y": [
          5
         ],
         "yaxis": "y"
        },
        {
         "alignmentgroup": "True",
         "customdata": [
          [
           125767248868,
           17960771
          ],
          [
           47152001187,
           7668645
          ]
         ],
         "hovertemplate": "Actor=나문희<br>Genre=%{x}<br>Count=%{y}<br>Total Revenue=%{customdata[0]}<br>Total Audience=%{customdata[1]}<extra></extra>",
         "legendgroup": "나문희",
         "marker": {
          "color": "#EF553B",
          "pattern": {
           "shape": ""
          }
         },
         "name": "나문희",
         "offsetgroup": "나문희",
         "orientation": "v",
         "showlegend": true,
         "textposition": "auto",
         "type": "bar",
         "x": [
          "드라마",
          "코미디"
         ],
         "xaxis": "x",
         "y": [
          5,
          4
         ],
         "yaxis": "y"
        },
        {
         "alignmentgroup": "True",
         "customdata": [
          [
           87048413733,
           19912351
          ],
          [
           140128845470,
           19963945
          ],
          [
           174351005970,
           26548825
          ]
         ],
         "hovertemplate": "Actor=김지영<br>Genre=%{x}<br>Count=%{y}<br>Total Revenue=%{customdata[0]}<br>Total Audience=%{customdata[1]}<extra></extra>",
         "legendgroup": "김지영",
         "marker": {
          "color": "#00cc96",
          "pattern": {
           "shape": ""
          }
         },
         "name": "김지영",
         "offsetgroup": "김지영",
         "orientation": "v",
         "showlegend": true,
         "textposition": "auto",
         "type": "bar",
         "x": [
          "드라마",
          "액션",
          "코미디"
         ],
         "xaxis": "x",
         "y": [
          5,
          3,
          6
         ],
         "yaxis": "y"
        },
        {
         "alignmentgroup": "True",
         "customdata": [
          [
           149375960507,
           18691453
          ],
          [
           174551849385,
           18033625
          ]
         ],
         "hovertemplate": "Actor=남문철<br>Genre=%{x}<br>Count=%{y}<br>Total Revenue=%{customdata[0]}<br>Total Audience=%{customdata[1]}<extra></extra>",
         "legendgroup": "남문철",
         "marker": {
          "color": "#ab63fa",
          "pattern": {
           "shape": ""
          }
         },
         "name": "남문철",
         "offsetgroup": "남문철",
         "orientation": "v",
         "showlegend": true,
         "textposition": "auto",
         "type": "bar",
         "x": [
          "드라마",
          "범죄"
         ],
         "xaxis": "x",
         "y": [
          5,
          3
         ],
         "yaxis": "y"
        },
        {
         "alignmentgroup": "True",
         "customdata": [
          [
           138752327632,
           17802583
          ],
          [
           224645127130,
           27267358
          ]
         ],
         "hovertemplate": "Actor=김원해<br>Genre=%{x}<br>Count=%{y}<br>Total Revenue=%{customdata[0]}<br>Total Audience=%{customdata[1]}<extra></extra>",
         "legendgroup": "김원해",
         "marker": {
          "color": "#FFA15A",
          "pattern": {
           "shape": ""
          }
         },
         "name": "김원해",
         "offsetgroup": "김원해",
         "orientation": "v",
         "showlegend": true,
         "textposition": "auto",
         "type": "bar",
         "x": [
          "드라마",
          "액션"
         ],
         "xaxis": "x",
         "y": [
          5,
          4
         ],
         "yaxis": "y"
        },
        {
         "alignmentgroup": "True",
         "customdata": [
          [
           78944472335,
           16752985
          ],
          [
           280855048084,
           35566326
          ],
          [
           110151198879,
           16857361
          ]
         ],
         "hovertemplate": "Actor=이해영<br>Genre=%{x}<br>Count=%{y}<br>Total Revenue=%{customdata[0]}<br>Total Audience=%{customdata[1]}<extra></extra>",
         "legendgroup": "이해영",
         "marker": {
          "color": "#19d3f3",
          "pattern": {
           "shape": ""
          }
         },
         "name": "이해영",
         "offsetgroup": "이해영",
         "orientation": "v",
         "showlegend": true,
         "textposition": "auto",
         "type": "bar",
         "x": [
          "드라마",
          "액션",
          "코미디"
         ],
         "xaxis": "x",
         "y": [
          5,
          5,
          5
         ],
         "yaxis": "y"
        },
        {
         "alignmentgroup": "True",
         "customdata": [
          [
           97621133353,
           14932699
          ],
          [
           62203727253,
           10114881
          ]
         ],
         "hovertemplate": "Actor=박영서<br>Genre=%{x}<br>Count=%{y}<br>Total Revenue=%{customdata[0]}<br>Total Audience=%{customdata[1]}<extra></extra>",
         "legendgroup": "박영서",
         "marker": {
          "color": "#FF6692",
          "pattern": {
           "shape": ""
          }
         },
         "name": "박영서",
         "offsetgroup": "박영서",
         "orientation": "v",
         "showlegend": true,
         "textposition": "auto",
         "type": "bar",
         "x": [
          "드라마",
          "코미디"
         ],
         "xaxis": "x",
         "y": [
          5,
          3
         ],
         "yaxis": "y"
        },
        {
         "alignmentgroup": "True",
         "customdata": [
          [
           196895027425,
           22505320
          ],
          [
           288099576693,
           32115459
          ],
          [
           327663425269,
           35754636
          ]
         ],
         "hovertemplate": "Actor=박지환<br>Genre=%{x}<br>Count=%{y}<br>Total Revenue=%{customdata[0]}<br>Total Audience=%{customdata[1]}<extra></extra>",
         "legendgroup": "박지환",
         "marker": {
          "color": "#B6E880",
          "pattern": {
           "shape": ""
          }
         },
         "name": "박지환",
         "offsetgroup": "박지환",
         "orientation": "v",
         "showlegend": true,
         "textposition": "auto",
         "type": "bar",
         "x": [
          "드라마",
          "범죄",
          "액션"
         ],
         "xaxis": "x",
         "y": [
          5,
          5,
          7
         ],
         "yaxis": "y"
        },
        {
         "alignmentgroup": "True",
         "customdata": [
          [
           110545591567,
           15920752
          ],
          [
           21193072630,
           5028464
          ],
          [
           67427058795,
           12482978
          ]
         ],
         "hovertemplate": "Actor=박희순<br>Genre=%{x}<br>Count=%{y}<br>Total Revenue=%{customdata[0]}<br>Total Audience=%{customdata[1]}<extra></extra>",
         "legendgroup": "박희순",
         "marker": {
          "color": "#FF97FF",
          "pattern": {
           "shape": ""
          }
         },
         "name": "박희순",
         "offsetgroup": "박희순",
         "orientation": "v",
         "showlegend": true,
         "textposition": "auto",
         "type": "bar",
         "x": [
          "드라마",
          "범죄",
          "스릴러"
         ],
         "xaxis": "x",
         "y": [
          5,
          3,
          6
         ],
         "yaxis": "y"
        },
        {
         "alignmentgroup": "True",
         "customdata": [
          [
           137711716985,
           17140953
          ]
         ],
         "hovertemplate": "Actor=조현철<br>Genre=%{x}<br>Count=%{y}<br>Total Revenue=%{customdata[0]}<br>Total Audience=%{customdata[1]}<extra></extra>",
         "legendgroup": "조현철",
         "marker": {
          "color": "#FECB52",
          "pattern": {
           "shape": ""
          }
         },
         "name": "조현철",
         "offsetgroup": "조현철",
         "orientation": "v",
         "showlegend": true,
         "textposition": "auto",
         "type": "bar",
         "x": [
          "드라마"
         ],
         "xaxis": "x",
         "y": [
          5
         ],
         "yaxis": "y"
        },
        {
         "alignmentgroup": "True",
         "customdata": [
          [
           103987053332,
           13322023
          ],
          [
           86377823888,
           11070799
          ],
          [
           43690810490,
           5765293
          ]
         ],
         "hovertemplate": "Actor=박진우<br>Genre=%{x}<br>Count=%{y}<br>Total Revenue=%{customdata[0]}<br>Total Audience=%{customdata[1]}<extra></extra>",
         "legendgroup": "박진우",
         "marker": {
          "color": "#636efa",
          "pattern": {
           "shape": ""
          }
         },
         "name": "박진우",
         "offsetgroup": "박진우",
         "orientation": "v",
         "showlegend": true,
         "textposition": "auto",
         "type": "bar",
         "x": [
          "드라마",
          "범죄",
          "액션"
         ],
         "xaxis": "x",
         "y": [
          5,
          3,
          4
         ],
         "yaxis": "y"
        },
        {
         "alignmentgroup": "True",
         "customdata": [
          [
           139542334642,
           17925444
          ],
          [
           92968703131,
           12819779
          ],
          [
           66909180635,
           7799247
          ]
         ],
         "hovertemplate": "Actor=유연석<br>Genre=%{x}<br>Count=%{y}<br>Total Revenue=%{customdata[0]}<br>Total Audience=%{customdata[1]}<extra></extra>",
         "legendgroup": "유연석",
         "marker": {
          "color": "#EF553B",
          "pattern": {
           "shape": ""
          }
         },
         "name": "유연석",
         "offsetgroup": "유연석",
         "orientation": "v",
         "showlegend": true,
         "textposition": "auto",
         "type": "bar",
         "x": [
          "드라마",
          "멜로/로맨스",
          "액션"
         ],
         "xaxis": "x",
         "y": [
          5,
          3,
          3
         ],
         "yaxis": "y"
        },
        {
         "alignmentgroup": "True",
         "customdata": [
          [
           90729692567,
           16244873
          ]
         ],
         "hovertemplate": "Actor=김호연<br>Genre=%{x}<br>Count=%{y}<br>Total Revenue=%{customdata[0]}<br>Total Audience=%{customdata[1]}<extra></extra>",
         "legendgroup": "김호연",
         "marker": {
          "color": "#00cc96",
          "pattern": {
           "shape": ""
          }
         },
         "name": "김호연",
         "offsetgroup": "김호연",
         "orientation": "v",
         "showlegend": true,
         "textposition": "auto",
         "type": "bar",
         "x": [
          "드라마"
         ],
         "xaxis": "x",
         "y": [
          5
         ],
         "yaxis": "y"
        },
        {
         "alignmentgroup": "True",
         "customdata": [
          [
           100570311224,
           15783367
          ],
          [
           185912214725,
           25431440
          ]
         ],
         "hovertemplate": "Actor=진구<br>Genre=%{x}<br>Count=%{y}<br>Total Revenue=%{customdata[0]}<br>Total Audience=%{customdata[1]}<extra></extra>",
         "legendgroup": "진구",
         "marker": {
          "color": "#ab63fa",
          "pattern": {
           "shape": ""
          }
         },
         "name": "진구",
         "offsetgroup": "진구",
         "orientation": "v",
         "showlegend": true,
         "textposition": "auto",
         "type": "bar",
         "x": [
          "드라마",
          "액션"
         ],
         "xaxis": "x",
         "y": [
          5,
          4
         ],
         "yaxis": "y"
        },
        {
         "alignmentgroup": "True",
         "customdata": [
          [
           null,
           15880383
          ],
          [
           54807748128,
           9965455
          ],
          [
           22010977000,
           7690998
          ]
         ],
         "hovertemplate": "Actor=손예진<br>Genre=%{x}<br>Count=%{y}<br>Total Revenue=%{customdata[0]}<br>Total Audience=%{customdata[1]}<extra></extra>",
         "legendgroup": "손예진",
         "marker": {
          "color": "#FFA15A",
          "pattern": {
           "shape": ""
          }
         },
         "name": "손예진",
         "offsetgroup": "손예진",
         "orientation": "v",
         "showlegend": true,
         "textposition": "auto",
         "type": "bar",
         "x": [
          "드라마",
          "멜로/로맨스",
          "코미디"
         ],
         "xaxis": "x",
         "y": [
          5,
          4,
          3
         ],
         "yaxis": "y"
        },
        {
         "alignmentgroup": "True",
         "customdata": [
          [
           108534584797,
           16581776
          ],
          [
           134678110188,
           15615015
          ]
         ],
         "hovertemplate": "Actor=전국환<br>Genre=%{x}<br>Count=%{y}<br>Total Revenue=%{customdata[0]}<br>Total Audience=%{customdata[1]}<extra></extra>",
         "legendgroup": "전국환",
         "marker": {
          "color": "#19d3f3",
          "pattern": {
           "shape": ""
          }
         },
         "name": "전국환",
         "offsetgroup": "전국환",
         "orientation": "v",
         "showlegend": true,
         "textposition": "auto",
         "type": "bar",
         "x": [
          "드라마",
          "액션"
         ],
         "xaxis": "x",
         "y": [
          5,
          3
         ],
         "yaxis": "y"
        },
        {
         "alignmentgroup": "True",
         "customdata": [
          [
           null,
           16302777
          ],
          [
           130578640759,
           16245197
          ]
         ],
         "hovertemplate": "Actor=조인성<br>Genre=%{x}<br>Count=%{y}<br>Total Revenue=%{customdata[0]}<br>Total Audience=%{customdata[1]}<extra></extra>",
         "legendgroup": "조인성",
         "marker": {
          "color": "#FF6692",
          "pattern": {
           "shape": ""
          }
         },
         "name": "조인성",
         "offsetgroup": "조인성",
         "orientation": "v",
         "showlegend": true,
         "textposition": "auto",
         "type": "bar",
         "x": [
          "드라마",
          "액션"
         ],
         "xaxis": "x",
         "y": [
          5,
          4
         ],
         "yaxis": "y"
        },
        {
         "alignmentgroup": "True",
         "customdata": [
          [
           74023645577,
           11652543
          ]
         ],
         "hovertemplate": "Actor=김영재<br>Genre=%{x}<br>Count=%{y}<br>Total Revenue=%{customdata[0]}<br>Total Audience=%{customdata[1]}<extra></extra>",
         "legendgroup": "김영재",
         "marker": {
          "color": "#B6E880",
          "pattern": {
           "shape": ""
          }
         },
         "name": "김영재",
         "offsetgroup": "김영재",
         "orientation": "v",
         "showlegend": true,
         "textposition": "auto",
         "type": "bar",
         "x": [
          "드라마"
         ],
         "xaxis": "x",
         "y": [
          5
         ],
         "yaxis": "y"
        },
        {
         "alignmentgroup": "True",
         "customdata": [
          [
           96427601444,
           12779614
          ],
          [
           10341783083,
           4665796
          ],
          [
           104867562009,
           11610129
          ],
          [
           53673300974,
           7780594
          ]
         ],
         "hovertemplate": "Actor=염정아<br>Genre=%{x}<br>Count=%{y}<br>Total Revenue=%{customdata[0]}<br>Total Audience=%{customdata[1]}<extra></extra>",
         "legendgroup": "염정아",
         "marker": {
          "color": "#FF97FF",
          "pattern": {
           "shape": ""
          }
         },
         "name": "염정아",
         "offsetgroup": "염정아",
         "orientation": "v",
         "showlegend": true,
         "textposition": "auto",
         "type": "bar",
         "x": [
          "드라마",
          "스릴러",
          "액션",
          "코미디"
         ],
         "xaxis": "x",
         "y": [
          5,
          3,
          5,
          3
         ],
         "yaxis": "y"
        },
        {
         "alignmentgroup": "True",
         "customdata": [
          [
           152739868714,
           18900836
          ]
         ],
         "hovertemplate": "Actor=김민상<br>Genre=%{x}<br>Count=%{y}<br>Total Revenue=%{customdata[0]}<br>Total Audience=%{customdata[1]}<extra></extra>",
         "legendgroup": "김민상",
         "marker": {
          "color": "#FECB52",
          "pattern": {
           "shape": ""
          }
         },
         "name": "김민상",
         "offsetgroup": "김민상",
         "orientation": "v",
         "showlegend": true,
         "textposition": "auto",
         "type": "bar",
         "x": [
          "드라마"
         ],
         "xaxis": "x",
         "y": [
          5
         ],
         "yaxis": "y"
        },
        {
         "alignmentgroup": "True",
         "customdata": [
          [
           108039018684,
           13827811
          ],
          [
           48027246036,
           6408213
          ]
         ],
         "hovertemplate": "Actor=박지일<br>Genre=%{x}<br>Count=%{y}<br>Total Revenue=%{customdata[0]}<br>Total Audience=%{customdata[1]}<extra></extra>",
         "legendgroup": "박지일",
         "marker": {
          "color": "#636efa",
          "pattern": {
           "shape": ""
          }
         },
         "name": "박지일",
         "offsetgroup": "박지일",
         "orientation": "v",
         "showlegend": true,
         "textposition": "auto",
         "type": "bar",
         "x": [
          "드라마",
          "액션"
         ],
         "xaxis": "x",
         "y": [
          5,
          3
         ],
         "yaxis": "y"
        },
        {
         "alignmentgroup": "True",
         "customdata": [
          [
           93622225740,
           12562051
          ]
         ],
         "hovertemplate": "Actor=이제훈<br>Genre=%{x}<br>Count=%{y}<br>Total Revenue=%{customdata[0]}<br>Total Audience=%{customdata[1]}<extra></extra>",
         "legendgroup": "이제훈",
         "marker": {
          "color": "#EF553B",
          "pattern": {
           "shape": ""
          }
         },
         "name": "이제훈",
         "offsetgroup": "이제훈",
         "orientation": "v",
         "showlegend": true,
         "textposition": "auto",
         "type": "bar",
         "x": [
          "드라마"
         ],
         "xaxis": "x",
         "y": [
          5
         ],
         "yaxis": "y"
        },
        {
         "alignmentgroup": "True",
         "customdata": [
          [
           43699641411,
           12219421
          ],
          [
           43699641411,
           7508326
          ]
         ],
         "hovertemplate": "Actor=이대연<br>Genre=%{x}<br>Count=%{y}<br>Total Revenue=%{customdata[0]}<br>Total Audience=%{customdata[1]}<extra></extra>",
         "legendgroup": "이대연",
         "marker": {
          "color": "#00cc96",
          "pattern": {
           "shape": ""
          }
         },
         "name": "이대연",
         "offsetgroup": "이대연",
         "orientation": "v",
         "showlegend": true,
         "textposition": "auto",
         "type": "bar",
         "x": [
          "드라마",
          "코미디"
         ],
         "xaxis": "x",
         "y": [
          5,
          3
         ],
         "yaxis": "y"
        },
        {
         "alignmentgroup": "True",
         "customdata": [
          [
           90099943367,
           10910488
          ],
          [
           37340382873,
           4868999
          ]
         ],
         "hovertemplate": "Actor=권해효<br>Genre=%{x}<br>Count=%{y}<br>Total Revenue=%{customdata[0]}<br>Total Audience=%{customdata[1]}<extra></extra>",
         "legendgroup": "권해효",
         "marker": {
          "color": "#ab63fa",
          "pattern": {
           "shape": ""
          }
         },
         "name": "권해효",
         "offsetgroup": "권해효",
         "orientation": "v",
         "showlegend": true,
         "textposition": "auto",
         "type": "bar",
         "x": [
          "드라마",
          "코미디"
         ],
         "xaxis": "x",
         "y": [
          5,
          3
         ],
         "yaxis": "y"
        },
        {
         "alignmentgroup": "True",
         "customdata": [
          [
           72141707260,
           8707801
          ],
          [
           127294414846,
           15279617
          ],
          [
           136463165645,
           14957085
          ],
          [
           234321204773,
           25876115
          ]
         ],
         "hovertemplate": "Actor=진선규<br>Genre=%{x}<br>Count=%{y}<br>Total Revenue=%{customdata[0]}<br>Total Audience=%{customdata[1]}<extra></extra>",
         "legendgroup": "진선규",
         "marker": {
          "color": "#FFA15A",
          "pattern": {
           "shape": ""
          }
         },
         "name": "진선규",
         "offsetgroup": "진선규",
         "orientation": "v",
         "showlegend": true,
         "textposition": "auto",
         "type": "bar",
         "x": [
          "드라마",
          "범죄",
          "액션",
          "코미디"
         ],
         "xaxis": "x",
         "y": [
          5,
          4,
          3,
          4
         ],
         "yaxis": "y"
        },
        {
         "alignmentgroup": "True",
         "customdata": [
          [
           125932293130,
           15743267
          ],
          [
           85818548714,
           10299010
          ],
          [
           122509795979,
           13828933
          ]
         ],
         "hovertemplate": "Actor=허준호<br>Genre=%{x}<br>Count=%{y}<br>Total Revenue=%{customdata[0]}<br>Total Audience=%{customdata[1]}<extra></extra>",
         "legendgroup": "허준호",
         "marker": {
          "color": "#19d3f3",
          "pattern": {
           "shape": ""
          }
         },
         "name": "허준호",
         "offsetgroup": "허준호",
         "orientation": "v",
         "showlegend": true,
         "textposition": "auto",
         "type": "bar",
         "x": [
          "드라마",
          "사극",
          "액션"
         ],
         "xaxis": "x",
         "y": [
          5,
          3,
          4
         ],
         "yaxis": "y"
        },
        {
         "alignmentgroup": "True",
         "customdata": [
          [
           42127711410,
           11191644
          ],
          [
           21393615107,
           5380546
          ],
          [
           67307481675,
           8530065
          ],
          [
           31326171596,
           17194322
          ]
         ],
         "hovertemplate": "Actor=차승원<br>Genre=%{x}<br>Count=%{y}<br>Total Revenue=%{customdata[0]}<br>Total Audience=%{customdata[1]}<extra></extra>",
         "legendgroup": "차승원",
         "marker": {
          "color": "#FF6692",
          "pattern": {
           "shape": ""
          }
         },
         "name": "차승원",
         "offsetgroup": "차승원",
         "orientation": "v",
         "showlegend": true,
         "textposition": "auto",
         "type": "bar",
         "x": [
          "드라마",
          "스릴러",
          "액션",
          "코미디"
         ],
         "xaxis": "x",
         "y": [
          5,
          3,
          3,
          8
         ],
         "yaxis": "y"
        },
        {
         "alignmentgroup": "True",
         "customdata": [
          [
           80766967663,
           9428472
          ]
         ],
         "hovertemplate": "Actor=김고은<br>Genre=%{x}<br>Count=%{y}<br>Total Revenue=%{customdata[0]}<br>Total Audience=%{customdata[1]}<extra></extra>",
         "legendgroup": "김고은",
         "marker": {
          "color": "#B6E880",
          "pattern": {
           "shape": ""
          }
         },
         "name": "김고은",
         "offsetgroup": "김고은",
         "orientation": "v",
         "showlegend": true,
         "textposition": "auto",
         "type": "bar",
         "x": [
          "드라마"
         ],
         "xaxis": "x",
         "y": [
          5
         ],
         "yaxis": "y"
        },
        {
         "alignmentgroup": "True",
         "customdata": [
          [
           77948837323,
           10066849
          ],
          [
           83594746601,
           9981103
          ]
         ],
         "hovertemplate": "Actor=강하늘<br>Genre=%{x}<br>Count=%{y}<br>Total Revenue=%{customdata[0]}<br>Total Audience=%{customdata[1]}<extra></extra>",
         "legendgroup": "강하늘",
         "marker": {
          "color": "#FF97FF",
          "pattern": {
           "shape": ""
          }
         },
         "name": "강하늘",
         "offsetgroup": "강하늘",
         "orientation": "v",
         "showlegend": true,
         "textposition": "auto",
         "type": "bar",
         "x": [
          "드라마",
          "코미디"
         ],
         "xaxis": "x",
         "y": [
          5,
          5
         ],
         "yaxis": "y"
        },
        {
         "alignmentgroup": "True",
         "customdata": [
          [
           48967435151,
           9833502
          ],
          [
           49751634512,
           6139913
          ],
          [
           52354931637,
           11320915
          ],
          [
           30807057794,
           8656819
          ]
         ],
         "hovertemplate": "Actor=류승범<br>Genre=%{x}<br>Count=%{y}<br>Total Revenue=%{customdata[0]}<br>Total Audience=%{customdata[1]}<extra></extra>",
         "legendgroup": "류승범",
         "marker": {
          "color": "#FECB52",
          "pattern": {
           "shape": ""
          }
         },
         "name": "류승범",
         "offsetgroup": "류승범",
         "orientation": "v",
         "showlegend": true,
         "textposition": "auto",
         "type": "bar",
         "x": [
          "드라마",
          "범죄",
          "액션",
          "코미디"
         ],
         "xaxis": "x",
         "y": [
          5,
          3,
          3,
          5
         ],
         "yaxis": "y"
        },
        {
         "alignmentgroup": "True",
         "customdata": [
          [
           253575177831,
           31139019
          ]
         ],
         "hovertemplate": "Actor=도경수<br>Genre=%{x}<br>Count=%{y}<br>Total Revenue=%{customdata[0]}<br>Total Audience=%{customdata[1]}<extra></extra>",
         "legendgroup": "도경수",
         "marker": {
          "color": "#636efa",
          "pattern": {
           "shape": ""
          }
         },
         "name": "도경수",
         "offsetgroup": "도경수",
         "orientation": "v",
         "showlegend": true,
         "textposition": "auto",
         "type": "bar",
         "x": [
          "드라마"
         ],
         "xaxis": "x",
         "y": [
          4
         ],
         "yaxis": "y"
        },
        {
         "alignmentgroup": "True",
         "customdata": [
          [
           134766794170,
           19358891
          ],
          [
           32236379394,
           6411875
          ]
         ],
         "hovertemplate": "Actor=천호진<br>Genre=%{x}<br>Count=%{y}<br>Total Revenue=%{customdata[0]}<br>Total Audience=%{customdata[1]}<extra></extra>",
         "legendgroup": "천호진",
         "marker": {
          "color": "#EF553B",
          "pattern": {
           "shape": ""
          }
         },
         "name": "천호진",
         "offsetgroup": "천호진",
         "orientation": "v",
         "showlegend": true,
         "textposition": "auto",
         "type": "bar",
         "x": [
          "드라마",
          "스릴러"
         ],
         "xaxis": "x",
         "y": [
          4,
          3
         ],
         "yaxis": "y"
        },
        {
         "alignmentgroup": "True",
         "customdata": [
          [
           169014807827,
           17613891
          ]
         ],
         "hovertemplate": "Actor=박해준<br>Genre=%{x}<br>Count=%{y}<br>Total Revenue=%{customdata[0]}<br>Total Audience=%{customdata[1]}<extra></extra>",
         "legendgroup": "박해준",
         "marker": {
          "color": "#00cc96",
          "pattern": {
           "shape": ""
          }
         },
         "name": "박해준",
         "offsetgroup": "박해준",
         "orientation": "v",
         "showlegend": true,
         "textposition": "auto",
         "type": "bar",
         "x": [
          "드라마"
         ],
         "xaxis": "x",
         "y": [
          4
         ],
         "yaxis": "y"
        },
        {
         "alignmentgroup": "True",
         "customdata": [
          [
           186973666772,
           25665685
          ]
         ],
         "hovertemplate": "Actor=안내상<br>Genre=%{x}<br>Count=%{y}<br>Total Revenue=%{customdata[0]}<br>Total Audience=%{customdata[1]}<extra></extra>",
         "legendgroup": "안내상",
         "marker": {
          "color": "#ab63fa",
          "pattern": {
           "shape": ""
          }
         },
         "name": "안내상",
         "offsetgroup": "안내상",
         "orientation": "v",
         "showlegend": true,
         "textposition": "auto",
         "type": "bar",
         "x": [
          "드라마"
         ],
         "xaxis": "x",
         "y": [
          4
         ],
         "yaxis": "y"
        },
        {
         "alignmentgroup": "True",
         "customdata": [
          [
           86407356027,
           27540815
          ]
         ],
         "hovertemplate": "Actor=고수희<br>Genre=%{x}<br>Count=%{y}<br>Total Revenue=%{customdata[0]}<br>Total Audience=%{customdata[1]}<extra></extra>",
         "legendgroup": "고수희",
         "marker": {
          "color": "#FFA15A",
          "pattern": {
           "shape": ""
          }
         },
         "name": "고수희",
         "offsetgroup": "고수희",
         "orientation": "v",
         "showlegend": true,
         "textposition": "auto",
         "type": "bar",
         "x": [
          "드라마"
         ],
         "xaxis": "x",
         "y": [
          4
         ],
         "yaxis": "y"
        },
        {
         "alignmentgroup": "True",
         "customdata": [
          [
           100769904670,
           16826705
          ],
          [
           153684869243,
           19943198
          ],
          [
           171497812732,
           23464689
          ]
         ],
         "hovertemplate": "Actor=김기천<br>Genre=%{x}<br>Count=%{y}<br>Total Revenue=%{customdata[0]}<br>Total Audience=%{customdata[1]}<extra></extra>",
         "legendgroup": "김기천",
         "marker": {
          "color": "#19d3f3",
          "pattern": {
           "shape": ""
          }
         },
         "name": "김기천",
         "offsetgroup": "김기천",
         "orientation": "v",
         "showlegend": true,
         "textposition": "auto",
         "type": "bar",
         "x": [
          "드라마",
          "액션",
          "코미디"
         ],
         "xaxis": "x",
         "y": [
          4,
          7,
          5
         ],
         "yaxis": "y"
        },
        {
         "alignmentgroup": "True",
         "customdata": [
          [
           134948207749,
           19145869
          ],
          [
           145845771305,
           19481335
          ],
          [
           229592736438,
           28432917
          ],
          [
           372878535218,
           47875098
          ]
         ],
         "hovertemplate": "Actor=최덕문<br>Genre=%{x}<br>Count=%{y}<br>Total Revenue=%{customdata[0]}<br>Total Audience=%{customdata[1]}<extra></extra>",
         "legendgroup": "최덕문",
         "marker": {
          "color": "#FF6692",
          "pattern": {
           "shape": ""
          }
         },
         "name": "최덕문",
         "offsetgroup": "최덕문",
         "orientation": "v",
         "showlegend": true,
         "textposition": "auto",
         "type": "bar",
         "x": [
          "드라마",
          "범죄",
          "사극",
          "액션"
         ],
         "xaxis": "x",
         "y": [
          4,
          3,
          3,
          4
         ],
         "yaxis": "y"
        },
        {
         "alignmentgroup": "True",
         "customdata": [
          [
           139045151345,
           19598820
          ],
          [
           224648607679,
           30968965
          ],
          [
           185893341486,
           23857219
          ]
         ],
         "hovertemplate": "Actor=김명곤<br>Genre=%{x}<br>Count=%{y}<br>Total Revenue=%{customdata[0]}<br>Total Audience=%{customdata[1]}<extra></extra>",
         "legendgroup": "김명곤",
         "marker": {
          "color": "#B6E880",
          "pattern": {
           "shape": ""
          }
         },
         "name": "김명곤",
         "offsetgroup": "김명곤",
         "orientation": "v",
         "showlegend": true,
         "textposition": "auto",
         "type": "bar",
         "x": [
          "드라마",
          "사극",
          "액션"
         ],
         "xaxis": "x",
         "y": [
          4,
          3,
          3
         ],
         "yaxis": "y"
        },
        {
         "alignmentgroup": "True",
         "customdata": [
          [
           191855282407,
           23796107
          ],
          [
           131063397358,
           15595694
          ],
          [
           115284179847,
           13216376
          ]
         ],
         "hovertemplate": "Actor=류준열<br>Genre=%{x}<br>Count=%{y}<br>Total Revenue=%{customdata[0]}<br>Total Audience=%{customdata[1]}<extra></extra>",
         "legendgroup": "류준열",
         "marker": {
          "color": "#FF97FF",
          "pattern": {
           "shape": ""
          }
         },
         "name": "류준열",
         "offsetgroup": "류준열",
         "orientation": "v",
         "showlegend": true,
         "textposition": "auto",
         "type": "bar",
         "x": [
          "드라마",
          "범죄",
          "액션"
         ],
         "xaxis": "x",
         "y": [
          4,
          4,
          4
         ],
         "yaxis": "y"
        },
        {
         "alignmentgroup": "True",
         "customdata": [
          [
           156778693032,
           19994334
          ]
         ],
         "hovertemplate": "Actor=박혁권<br>Genre=%{x}<br>Count=%{y}<br>Total Revenue=%{customdata[0]}<br>Total Audience=%{customdata[1]}<extra></extra>",
         "legendgroup": "박혁권",
         "marker": {
          "color": "#FECB52",
          "pattern": {
           "shape": ""
          }
         },
         "name": "박혁권",
         "offsetgroup": "박혁권",
         "orientation": "v",
         "showlegend": true,
         "textposition": "auto",
         "type": "bar",
         "x": [
          "드라마"
         ],
         "xaxis": "x",
         "y": [
          4
         ],
         "yaxis": "y"
        },
        {
         "alignmentgroup": "True",
         "customdata": [
          [
           68066166197,
           23522017
          ]
         ],
         "hovertemplate": "Actor=원빈<br>Genre=%{x}<br>Count=%{y}<br>Total Revenue=%{customdata[0]}<br>Total Audience=%{customdata[1]}<extra></extra>",
         "legendgroup": "원빈",
         "marker": {
          "color": "#636efa",
          "pattern": {
           "shape": ""
          }
         },
         "name": "원빈",
         "offsetgroup": "원빈",
         "orientation": "v",
         "showlegend": true,
         "textposition": "auto",
         "type": "bar",
         "x": [
          "드라마"
         ],
         "xaxis": "x",
         "y": [
          4
         ],
         "yaxis": "y"
        },
        {
         "alignmentgroup": "True",
         "customdata": [
          [
           99652609700,
           17536250
          ],
          [
           31055306917,
           5782843
          ],
          [
           110243959644,
           16802667
          ]
         ],
         "hovertemplate": "Actor=지대한<br>Genre=%{x}<br>Count=%{y}<br>Total Revenue=%{customdata[0]}<br>Total Audience=%{customdata[1]}<extra></extra>",
         "legendgroup": "지대한",
         "marker": {
          "color": "#EF553B",
          "pattern": {
           "shape": ""
          }
         },
         "name": "지대한",
         "offsetgroup": "지대한",
         "orientation": "v",
         "showlegend": true,
         "textposition": "auto",
         "type": "bar",
         "x": [
          "드라마",
          "범죄",
          "액션"
         ],
         "xaxis": "x",
         "y": [
          4,
          3,
          4
         ],
         "yaxis": "y"
        },
        {
         "alignmentgroup": "True",
         "customdata": [
          [
           125081556178,
           20169816
          ],
          [
           44115541779,
           8773003
          ]
         ],
         "hovertemplate": "Actor=강예원<br>Genre=%{x}<br>Count=%{y}<br>Total Revenue=%{customdata[0]}<br>Total Audience=%{customdata[1]}<extra></extra>",
         "legendgroup": "강예원",
         "marker": {
          "color": "#00cc96",
          "pattern": {
           "shape": ""
          }
         },
         "name": "강예원",
         "offsetgroup": "강예원",
         "orientation": "v",
         "showlegend": true,
         "textposition": "auto",
         "type": "bar",
         "x": [
          "드라마",
          "코미디"
         ],
         "xaxis": "x",
         "y": [
          4,
          3
         ],
         "yaxis": "y"
        },
        {
         "alignmentgroup": "True",
         "customdata": [
          [
           142652046868,
           19122788
          ]
         ],
         "hovertemplate": "Actor=김영애<br>Genre=%{x}<br>Count=%{y}<br>Total Revenue=%{customdata[0]}<br>Total Audience=%{customdata[1]}<extra></extra>",
         "legendgroup": "김영애",
         "marker": {
          "color": "#ab63fa",
          "pattern": {
           "shape": ""
          }
         },
         "name": "김영애",
         "offsetgroup": "김영애",
         "orientation": "v",
         "showlegend": true,
         "textposition": "auto",
         "type": "bar",
         "x": [
          "드라마"
         ],
         "xaxis": "x",
         "y": [
          4
         ],
         "yaxis": "y"
        },
        {
         "alignmentgroup": "True",
         "customdata": [
          [
           121000975795,
           16421660
          ],
          [
           53468719694,
           7113400
          ]
         ],
         "hovertemplate": "Actor=조여정<br>Genre=%{x}<br>Count=%{y}<br>Total Revenue=%{customdata[0]}<br>Total Audience=%{customdata[1]}<extra></extra>",
         "legendgroup": "조여정",
         "marker": {
          "color": "#FFA15A",
          "pattern": {
           "shape": ""
          }
         },
         "name": "조여정",
         "offsetgroup": "조여정",
         "orientation": "v",
         "showlegend": true,
         "textposition": "auto",
         "type": "bar",
         "x": [
          "드라마",
          "멜로/로맨스"
         ],
         "xaxis": "x",
         "y": [
          4,
          3
         ],
         "yaxis": "y"
        },
        {
         "alignmentgroup": "True",
         "customdata": [
          [
           135576810835,
           18091329
          ],
          [
           118997728360,
           14549228
          ]
         ],
         "hovertemplate": "Actor=조정석<br>Genre=%{x}<br>Count=%{y}<br>Total Revenue=%{customdata[0]}<br>Total Audience=%{customdata[1]}<extra></extra>",
         "legendgroup": "조정석",
         "marker": {
          "color": "#19d3f3",
          "pattern": {
           "shape": ""
          }
         },
         "name": "조정석",
         "offsetgroup": "조정석",
         "orientation": "v",
         "showlegend": true,
         "textposition": "auto",
         "type": "bar",
         "x": [
          "드라마",
          "코미디"
         ],
         "xaxis": "x",
         "y": [
          4,
          3
         ],
         "yaxis": "y"
        },
        {
         "alignmentgroup": "True",
         "customdata": [
          [
           145544726997,
           15722466
          ]
         ],
         "hovertemplate": "Actor=임형국<br>Genre=%{x}<br>Count=%{y}<br>Total Revenue=%{customdata[0]}<br>Total Audience=%{customdata[1]}<extra></extra>",
         "legendgroup": "임형국",
         "marker": {
          "color": "#FF6692",
          "pattern": {
           "shape": ""
          }
         },
         "name": "임형국",
         "offsetgroup": "임형국",
         "orientation": "v",
         "showlegend": true,
         "textposition": "auto",
         "type": "bar",
         "x": [
          "드라마"
         ],
         "xaxis": "x",
         "y": [
          4
         ],
         "yaxis": "y"
        },
        {
         "alignmentgroup": "True",
         "customdata": [
          [
           125711011853,
           17190270
          ]
         ],
         "hovertemplate": "Actor=전혜진<br>Genre=%{x}<br>Count=%{y}<br>Total Revenue=%{customdata[0]}<br>Total Audience=%{customdata[1]}<extra></extra>",
         "legendgroup": "전혜진",
         "marker": {
          "color": "#B6E880",
          "pattern": {
           "shape": ""
          }
         },
         "name": "전혜진",
         "offsetgroup": "전혜진",
         "orientation": "v",
         "showlegend": true,
         "textposition": "auto",
         "type": "bar",
         "x": [
          "드라마"
         ],
         "xaxis": "x",
         "y": [
          4
         ],
         "yaxis": "y"
        },
        {
         "alignmentgroup": "True",
         "customdata": [
          [
           26670974162,
           14145328
          ],
          [
           18770889320,
           6134605
          ]
         ],
         "hovertemplate": "Actor=임하룡<br>Genre=%{x}<br>Count=%{y}<br>Total Revenue=%{customdata[0]}<br>Total Audience=%{customdata[1]}<extra></extra>",
         "legendgroup": "임하룡",
         "marker": {
          "color": "#FF97FF",
          "pattern": {
           "shape": ""
          }
         },
         "name": "임하룡",
         "offsetgroup": "임하룡",
         "orientation": "v",
         "showlegend": true,
         "textposition": "auto",
         "type": "bar",
         "x": [
          "드라마",
          "코미디"
         ],
         "xaxis": "x",
         "y": [
          4,
          3
         ],
         "yaxis": "y"
        },
        {
         "alignmentgroup": "True",
         "customdata": [
          [
           141820489620,
           18874886
          ]
         ],
         "hovertemplate": "Actor=천우희<br>Genre=%{x}<br>Count=%{y}<br>Total Revenue=%{customdata[0]}<br>Total Audience=%{customdata[1]}<extra></extra>",
         "legendgroup": "천우희",
         "marker": {
          "color": "#FECB52",
          "pattern": {
           "shape": ""
          }
         },
         "name": "천우희",
         "offsetgroup": "천우희",
         "orientation": "v",
         "showlegend": true,
         "textposition": "auto",
         "type": "bar",
         "x": [
          "드라마"
         ],
         "xaxis": "x",
         "y": [
          4
         ],
         "yaxis": "y"
        },
        {
         "alignmentgroup": "True",
         "customdata": [
          [
           80210119677,
           10901303
          ],
          [
           null,
           17865082
          ]
         ],
         "hovertemplate": "Actor=김혜옥<br>Genre=%{x}<br>Count=%{y}<br>Total Revenue=%{customdata[0]}<br>Total Audience=%{customdata[1]}<extra></extra>",
         "legendgroup": "김혜옥",
         "marker": {
          "color": "#636efa",
          "pattern": {
           "shape": ""
          }
         },
         "name": "김혜옥",
         "offsetgroup": "김혜옥",
         "orientation": "v",
         "showlegend": true,
         "textposition": "auto",
         "type": "bar",
         "x": [
          "드라마",
          "코미디"
         ],
         "xaxis": "x",
         "y": [
          4,
          5
         ],
         "yaxis": "y"
        },
        {
         "alignmentgroup": "True",
         "customdata": [
          [
           129300681579,
           15862468
          ]
         ],
         "hovertemplate": "Actor=박진주<br>Genre=%{x}<br>Count=%{y}<br>Total Revenue=%{customdata[0]}<br>Total Audience=%{customdata[1]}<extra></extra>",
         "legendgroup": "박진주",
         "marker": {
          "color": "#EF553B",
          "pattern": {
           "shape": ""
          }
         },
         "name": "박진주",
         "offsetgroup": "박진주",
         "orientation": "v",
         "showlegend": true,
         "textposition": "auto",
         "type": "bar",
         "x": [
          "드라마"
         ],
         "xaxis": "x",
         "y": [
          4
         ],
         "yaxis": "y"
        },
        {
         "alignmentgroup": "True",
         "customdata": [
          [
           48133733438,
           14912680
          ],
          [
           null,
           8666694
          ]
         ],
         "hovertemplate": "Actor=김상경<br>Genre=%{x}<br>Count=%{y}<br>Total Revenue=%{customdata[0]}<br>Total Audience=%{customdata[1]}<extra></extra>",
         "legendgroup": "김상경",
         "marker": {
          "color": "#00cc96",
          "pattern": {
           "shape": ""
          }
         },
         "name": "김상경",
         "offsetgroup": "김상경",
         "orientation": "v",
         "showlegend": true,
         "textposition": "auto",
         "type": "bar",
         "x": [
          "드라마",
          "스릴러"
         ],
         "xaxis": "x",
         "y": [
          4,
          3
         ],
         "yaxis": "y"
        },
        {
         "alignmentgroup": "True",
         "customdata": [
          [
           84176592136,
           17917970
          ]
         ],
         "hovertemplate": "Actor=엄효섭<br>Genre=%{x}<br>Count=%{y}<br>Total Revenue=%{customdata[0]}<br>Total Audience=%{customdata[1]}<extra></extra>",
         "legendgroup": "엄효섭",
         "marker": {
          "color": "#ab63fa",
          "pattern": {
           "shape": ""
          }
         },
         "name": "엄효섭",
         "offsetgroup": "엄효섭",
         "orientation": "v",
         "showlegend": true,
         "textposition": "auto",
         "type": "bar",
         "x": [
          "드라마"
         ],
         "xaxis": "x",
         "y": [
          4
         ],
         "yaxis": "y"
        },
        {
         "alignmentgroup": "True",
         "customdata": [
          [
           116672164265,
           14880181
          ]
         ],
         "hovertemplate": "Actor=김수진<br>Genre=%{x}<br>Count=%{y}<br>Total Revenue=%{customdata[0]}<br>Total Audience=%{customdata[1]}<extra></extra>",
         "legendgroup": "김수진",
         "marker": {
          "color": "#FFA15A",
          "pattern": {
           "shape": ""
          }
         },
         "name": "김수진",
         "offsetgroup": "김수진",
         "orientation": "v",
         "showlegend": true,
         "textposition": "auto",
         "type": "bar",
         "x": [
          "드라마"
         ],
         "xaxis": "x",
         "y": [
          4
         ],
         "yaxis": "y"
        },
        {
         "alignmentgroup": "True",
         "customdata": [
          [
           130490069724,
           16577884
          ]
         ],
         "hovertemplate": "Actor=남일우<br>Genre=%{x}<br>Count=%{y}<br>Total Revenue=%{customdata[0]}<br>Total Audience=%{customdata[1]}<extra></extra>",
         "legendgroup": "남일우",
         "marker": {
          "color": "#19d3f3",
          "pattern": {
           "shape": ""
          }
         },
         "name": "남일우",
         "offsetgroup": "남일우",
         "orientation": "v",
         "showlegend": true,
         "textposition": "auto",
         "type": "bar",
         "x": [
          "드라마"
         ],
         "xaxis": "x",
         "y": [
          4
         ],
         "yaxis": "y"
        },
        {
         "alignmentgroup": "True",
         "customdata": [
          [
           137376511090,
           17404718
          ],
          [
           59519867010,
           9619003
          ]
         ],
         "hovertemplate": "Actor=이현우<br>Genre=%{x}<br>Count=%{y}<br>Total Revenue=%{customdata[0]}<br>Total Audience=%{customdata[1]}<extra></extra>",
         "legendgroup": "이현우",
         "marker": {
          "color": "#FF6692",
          "pattern": {
           "shape": ""
          }
         },
         "name": "이현우",
         "offsetgroup": "이현우",
         "orientation": "v",
         "showlegend": true,
         "textposition": "auto",
         "type": "bar",
         "x": [
          "드라마",
          "코미디"
         ],
         "xaxis": "x",
         "y": [
          4,
          3
         ],
         "yaxis": "y"
        },
        {
         "alignmentgroup": "True",
         "customdata": [
          [
           39396875818,
           11790690
          ]
         ],
         "hovertemplate": "Actor=이수경<br>Genre=%{x}<br>Count=%{y}<br>Total Revenue=%{customdata[0]}<br>Total Audience=%{customdata[1]}<extra></extra>",
         "legendgroup": "이수경",
         "marker": {
          "color": "#B6E880",
          "pattern": {
           "shape": ""
          }
         },
         "name": "이수경",
         "offsetgroup": "이수경",
         "orientation": "v",
         "showlegend": true,
         "textposition": "auto",
         "type": "bar",
         "x": [
          "드라마"
         ],
         "xaxis": "x",
         "y": [
          4
         ],
         "yaxis": "y"
        },
        {
         "alignmentgroup": "True",
         "customdata": [
          [
           47033592445,
           13630983
          ],
          [
           165740846562,
           21376914
          ],
          [
           14148937025,
           8767418
          ],
          [
           170629729815,
           28116174
          ]
         ],
         "hovertemplate": "Actor=최민식<br>Genre=%{x}<br>Count=%{y}<br>Total Revenue=%{customdata[0]}<br>Total Audience=%{customdata[1]}<extra></extra>",
         "legendgroup": "최민식",
         "marker": {
          "color": "#FF97FF",
          "pattern": {
           "shape": ""
          }
         },
         "name": "최민식",
         "offsetgroup": "최민식",
         "orientation": "v",
         "showlegend": true,
         "textposition": "auto",
         "type": "bar",
         "x": [
          "드라마",
          "사극",
          "스릴러",
          "액션"
         ],
         "xaxis": "x",
         "y": [
          4,
          3,
          3,
          3
         ],
         "yaxis": "y"
        },
        {
         "alignmentgroup": "True",
         "customdata": [
          [
           0,
           11721878
          ],
          [
           0,
           9073146
          ]
         ],
         "hovertemplate": "Actor=윤주상<br>Genre=%{x}<br>Count=%{y}<br>Total Revenue=%{customdata[0]}<br>Total Audience=%{customdata[1]}<extra></extra>",
         "legendgroup": "윤주상",
         "marker": {
          "color": "#FECB52",
          "pattern": {
           "shape": ""
          }
         },
         "name": "윤주상",
         "offsetgroup": "윤주상",
         "orientation": "v",
         "showlegend": true,
         "textposition": "auto",
         "type": "bar",
         "x": [
          "드라마",
          "액션"
         ],
         "xaxis": "x",
         "y": [
          4,
          3
         ],
         "yaxis": "y"
        },
        {
         "alignmentgroup": "True",
         "customdata": [
          [
           10198304795,
           11891968
          ]
         ],
         "hovertemplate": "Actor=조덕현<br>Genre=%{x}<br>Count=%{y}<br>Total Revenue=%{customdata[0]}<br>Total Audience=%{customdata[1]}<extra></extra>",
         "legendgroup": "조덕현",
         "marker": {
          "color": "#636efa",
          "pattern": {
           "shape": ""
          }
         },
         "name": "조덕현",
         "offsetgroup": "조덕현",
         "orientation": "v",
         "showlegend": true,
         "textposition": "auto",
         "type": "bar",
         "x": [
          "드라마"
         ],
         "xaxis": "x",
         "y": [
          4
         ],
         "yaxis": "y"
        },
        {
         "alignmentgroup": "True",
         "customdata": [
          [
           100667418034,
           13491681
          ]
         ],
         "hovertemplate": "Actor=박효주<br>Genre=%{x}<br>Count=%{y}<br>Total Revenue=%{customdata[0]}<br>Total Audience=%{customdata[1]}<extra></extra>",
         "legendgroup": "박효주",
         "marker": {
          "color": "#EF553B",
          "pattern": {
           "shape": ""
          }
         },
         "name": "박효주",
         "offsetgroup": "박효주",
         "orientation": "v",
         "showlegend": true,
         "textposition": "auto",
         "type": "bar",
         "x": [
          "드라마"
         ],
         "xaxis": "x",
         "y": [
          4
         ],
         "yaxis": "y"
        },
        {
         "alignmentgroup": "True",
         "customdata": [
          [
           59439060000,
           13976045
          ]
         ],
         "hovertemplate": "Actor=차인표<br>Genre=%{x}<br>Count=%{y}<br>Total Revenue=%{customdata[0]}<br>Total Audience=%{customdata[1]}<extra></extra>",
         "legendgroup": "차인표",
         "marker": {
          "color": "#00cc96",
          "pattern": {
           "shape": ""
          }
         },
         "name": "차인표",
         "offsetgroup": "차인표",
         "orientation": "v",
         "showlegend": true,
         "textposition": "auto",
         "type": "bar",
         "x": [
          "드라마"
         ],
         "xaxis": "x",
         "y": [
          4
         ],
         "yaxis": "y"
        },
        {
         "alignmentgroup": "True",
         "customdata": [
          [
           74881131408,
           8961792
          ],
          [
           83971851060,
           10399713
          ]
         ],
         "hovertemplate": "Actor=성유빈<br>Genre=%{x}<br>Count=%{y}<br>Total Revenue=%{customdata[0]}<br>Total Audience=%{customdata[1]}<extra></extra>",
         "legendgroup": "성유빈",
         "marker": {
          "color": "#ab63fa",
          "pattern": {
           "shape": ""
          }
         },
         "name": "성유빈",
         "offsetgroup": "성유빈",
         "orientation": "v",
         "showlegend": true,
         "textposition": "auto",
         "type": "bar",
         "x": [
          "드라마",
          "사극"
         ],
         "xaxis": "x",
         "y": [
          4,
          3
         ],
         "yaxis": "y"
        },
        {
         "alignmentgroup": "True",
         "customdata": [
          [
           74444943572,
           10821848
          ],
          [
           114427578654,
           15845793
          ]
         ],
         "hovertemplate": "Actor=정유미<br>Genre=%{x}<br>Count=%{y}<br>Total Revenue=%{customdata[0]}<br>Total Audience=%{customdata[1]}<extra></extra>",
         "legendgroup": "정유미",
         "marker": {
          "color": "#FFA15A",
          "pattern": {
           "shape": ""
          }
         },
         "name": "정유미",
         "offsetgroup": "정유미",
         "orientation": "v",
         "showlegend": true,
         "textposition": "auto",
         "type": "bar",
         "x": [
          "드라마",
          "액션"
         ],
         "xaxis": "x",
         "y": [
          4,
          4
         ],
         "yaxis": "y"
        },
        {
         "alignmentgroup": "True",
         "customdata": [
          [
           83494406043,
           10238957
          ]
         ],
         "hovertemplate": "Actor=김남길<br>Genre=%{x}<br>Count=%{y}<br>Total Revenue=%{customdata[0]}<br>Total Audience=%{customdata[1]}<extra></extra>",
         "legendgroup": "김남길",
         "marker": {
          "color": "#19d3f3",
          "pattern": {
           "shape": ""
          }
         },
         "name": "김남길",
         "offsetgroup": "김남길",
         "orientation": "v",
         "showlegend": true,
         "textposition": "auto",
         "type": "bar",
         "x": [
          "드라마"
         ],
         "xaxis": "x",
         "y": [
          4
         ],
         "yaxis": "y"
        },
        {
         "alignmentgroup": "True",
         "customdata": [
          [
           120679721475,
           13547161
          ],
          [
           126961993004,
           15535283
          ],
          [
           214542482673,
           24895610
          ]
         ],
         "hovertemplate": "Actor=허성태<br>Genre=%{x}<br>Count=%{y}<br>Total Revenue=%{customdata[0]}<br>Total Audience=%{customdata[1]}<extra></extra>",
         "legendgroup": "허성태",
         "marker": {
          "color": "#FF6692",
          "pattern": {
           "shape": ""
          }
         },
         "name": "허성태",
         "offsetgroup": "허성태",
         "orientation": "v",
         "showlegend": true,
         "textposition": "auto",
         "type": "bar",
         "x": [
          "드라마",
          "범죄",
          "액션"
         ],
         "xaxis": "x",
         "y": [
          4,
          4,
          6
         ],
         "yaxis": "y"
        },
        {
         "alignmentgroup": "True",
         "customdata": [
          [
           81860602095,
           10813654
          ]
         ],
         "hovertemplate": "Actor=고수<br>Genre=%{x}<br>Count=%{y}<br>Total Revenue=%{customdata[0]}<br>Total Audience=%{customdata[1]}<extra></extra>",
         "legendgroup": "고수",
         "marker": {
          "color": "#B6E880",
          "pattern": {
           "shape": ""
          }
         },
         "name": "고수",
         "offsetgroup": "고수",
         "orientation": "v",
         "showlegend": true,
         "textposition": "auto",
         "type": "bar",
         "x": [
          "드라마"
         ],
         "xaxis": "x",
         "y": [
          4
         ],
         "yaxis": "y"
        },
        {
         "alignmentgroup": "True",
         "customdata": [
          [
           80138442998,
           10126832
          ]
         ],
         "hovertemplate": "Actor=이레<br>Genre=%{x}<br>Count=%{y}<br>Total Revenue=%{customdata[0]}<br>Total Audience=%{customdata[1]}<extra></extra>",
         "legendgroup": "이레",
         "marker": {
          "color": "#FF97FF",
          "pattern": {
           "shape": ""
          }
         },
         "name": "이레",
         "offsetgroup": "이레",
         "orientation": "v",
         "showlegend": true,
         "textposition": "auto",
         "type": "bar",
         "x": [
          "드라마"
         ],
         "xaxis": "x",
         "y": [
          4
         ],
         "yaxis": "y"
        },
        {
         "alignmentgroup": "True",
         "customdata": [
          [
           79180844784,
           9469753
          ]
         ],
         "hovertemplate": "Actor=염혜란<br>Genre=%{x}<br>Count=%{y}<br>Total Revenue=%{customdata[0]}<br>Total Audience=%{customdata[1]}<extra></extra>",
         "legendgroup": "염혜란",
         "marker": {
          "color": "#FECB52",
          "pattern": {
           "shape": ""
          }
         },
         "name": "염혜란",
         "offsetgroup": "염혜란",
         "orientation": "v",
         "showlegend": true,
         "textposition": "auto",
         "type": "bar",
         "x": [
          "드라마"
         ],
         "xaxis": "x",
         "y": [
          4
         ],
         "yaxis": "y"
        },
        {
         "alignmentgroup": "True",
         "customdata": [
          [
           71486035423,
           8369832
          ],
          [
           107204196733,
           11882272
          ],
          [
           57556955190,
           7046954
          ]
         ],
         "hovertemplate": "Actor=김재화<br>Genre=%{x}<br>Count=%{y}<br>Total Revenue=%{customdata[0]}<br>Total Audience=%{customdata[1]}<extra></extra>",
         "legendgroup": "김재화",
         "marker": {
          "color": "#636efa",
          "pattern": {
           "shape": ""
          }
         },
         "name": "김재화",
         "offsetgroup": "김재화",
         "orientation": "v",
         "showlegend": true,
         "textposition": "auto",
         "type": "bar",
         "x": [
          "드라마",
          "액션",
          "코미디"
         ],
         "xaxis": "x",
         "y": [
          4,
          3,
          3
         ],
         "yaxis": "y"
        },
        {
         "alignmentgroup": "True",
         "customdata": [
          [
           69492901297,
           9196461
          ],
          [
           43636595171,
           5788317
          ]
         ],
         "hovertemplate": "Actor=유준상<br>Genre=%{x}<br>Count=%{y}<br>Total Revenue=%{customdata[0]}<br>Total Audience=%{customdata[1]}<extra></extra>",
         "legendgroup": "유준상",
         "marker": {
          "color": "#EF553B",
          "pattern": {
           "shape": ""
          }
         },
         "name": "유준상",
         "offsetgroup": "유준상",
         "orientation": "v",
         "showlegend": true,
         "textposition": "auto",
         "type": "bar",
         "x": [
          "드라마",
          "액션"
         ],
         "xaxis": "x",
         "y": [
          4,
          3
         ],
         "yaxis": "y"
        },
        {
         "alignmentgroup": "True",
         "customdata": [
          [
           29708315375,
           6997738
          ]
         ],
         "hovertemplate": "Actor=김강우<br>Genre=%{x}<br>Count=%{y}<br>Total Revenue=%{customdata[0]}<br>Total Audience=%{customdata[1]}<extra></extra>",
         "legendgroup": "김강우",
         "marker": {
          "color": "#00cc96",
          "pattern": {
           "shape": ""
          }
         },
         "name": "김강우",
         "offsetgroup": "김강우",
         "orientation": "v",
         "showlegend": true,
         "textposition": "auto",
         "type": "bar",
         "x": [
          "드라마"
         ],
         "xaxis": "x",
         "y": [
          4
         ],
         "yaxis": "y"
        },
        {
         "alignmentgroup": "True",
         "customdata": [
          [
           31085170685,
           8160471
          ],
          [
           38991064567,
           6325342
          ],
          [
           41265313796,
           7203205
          ]
         ],
         "hovertemplate": "Actor=안길강<br>Genre=%{x}<br>Count=%{y}<br>Total Revenue=%{customdata[0]}<br>Total Audience=%{customdata[1]}<extra></extra>",
         "legendgroup": "안길강",
         "marker": {
          "color": "#ab63fa",
          "pattern": {
           "shape": ""
          }
         },
         "name": "안길강",
         "offsetgroup": "안길강",
         "orientation": "v",
         "showlegend": true,
         "textposition": "auto",
         "type": "bar",
         "x": [
          "드라마",
          "액션",
          "코미디"
         ],
         "xaxis": "x",
         "y": [
          4,
          3,
          4
         ],
         "yaxis": "y"
        },
        {
         "alignmentgroup": "True",
         "customdata": [
          [
           42924749083,
           7765718
          ],
          [
           null,
           10871394
          ]
         ],
         "hovertemplate": "Actor=류승수<br>Genre=%{x}<br>Count=%{y}<br>Total Revenue=%{customdata[0]}<br>Total Audience=%{customdata[1]}<extra></extra>",
         "legendgroup": "류승수",
         "marker": {
          "color": "#FFA15A",
          "pattern": {
           "shape": ""
          }
         },
         "name": "류승수",
         "offsetgroup": "류승수",
         "orientation": "v",
         "showlegend": true,
         "textposition": "auto",
         "type": "bar",
         "x": [
          "드라마",
          "코미디"
         ],
         "xaxis": "x",
         "y": [
          4,
          5
         ],
         "yaxis": "y"
        },
        {
         "alignmentgroup": "True",
         "customdata": [
          [
           11706502519,
           8396335
          ]
         ],
         "hovertemplate": "Actor=기주봉<br>Genre=%{x}<br>Count=%{y}<br>Total Revenue=%{customdata[0]}<br>Total Audience=%{customdata[1]}<extra></extra>",
         "legendgroup": "기주봉",
         "marker": {
          "color": "#19d3f3",
          "pattern": {
           "shape": ""
          }
         },
         "name": "기주봉",
         "offsetgroup": "기주봉",
         "orientation": "v",
         "showlegend": true,
         "textposition": "auto",
         "type": "bar",
         "x": [
          "드라마"
         ],
         "xaxis": "x",
         "y": [
          4
         ],
         "yaxis": "y"
        },
        {
         "alignmentgroup": "True",
         "customdata": [
          [
           44457861510,
           7072482
          ],
          [
           49397897872,
           6259644
          ]
         ],
         "hovertemplate": "Actor=정민성<br>Genre=%{x}<br>Count=%{y}<br>Total Revenue=%{customdata[0]}<br>Total Audience=%{customdata[1]}<extra></extra>",
         "legendgroup": "정민성",
         "marker": {
          "color": "#FF6692",
          "pattern": {
           "shape": ""
          }
         },
         "name": "정민성",
         "offsetgroup": "정민성",
         "orientation": "v",
         "showlegend": true,
         "textposition": "auto",
         "type": "bar",
         "x": [
          "드라마",
          "범죄"
         ],
         "xaxis": "x",
         "y": [
          4,
          3
         ],
         "yaxis": "y"
        },
        {
         "alignmentgroup": "True",
         "customdata": [
          [
           34846855251,
           6036106
          ],
          [
           31690361829,
           5681427
          ],
          [
           58637132238,
           10229968
          ]
         ],
         "hovertemplate": "Actor=김래원<br>Genre=%{x}<br>Count=%{y}<br>Total Revenue=%{customdata[0]}<br>Total Audience=%{customdata[1]}<extra></extra>",
         "legendgroup": "김래원",
         "marker": {
          "color": "#B6E880",
          "pattern": {
           "shape": ""
          }
         },
         "name": "김래원",
         "offsetgroup": "김래원",
         "orientation": "v",
         "showlegend": true,
         "textposition": "auto",
         "type": "bar",
         "x": [
          "드라마",
          "범죄",
          "액션"
         ],
         "xaxis": "x",
         "y": [
          4,
          3,
          6
         ],
         "yaxis": "y"
        },
        {
         "alignmentgroup": "True",
         "customdata": [
          [
           41230776660,
           7417068
          ]
         ],
         "hovertemplate": "Actor=이재용<br>Genre=%{x}<br>Count=%{y}<br>Total Revenue=%{customdata[0]}<br>Total Audience=%{customdata[1]}<extra></extra>",
         "legendgroup": "이재용",
         "marker": {
          "color": "#FF97FF",
          "pattern": {
           "shape": ""
          }
         },
         "name": "이재용",
         "offsetgroup": "이재용",
         "orientation": "v",
         "showlegend": true,
         "textposition": "auto",
         "type": "bar",
         "x": [
          "드라마"
         ],
         "xaxis": "x",
         "y": [
          4
         ],
         "yaxis": "y"
        },
        {
         "alignmentgroup": "True",
         "customdata": [
          [
           49142710878,
           6592386
          ],
          [
           17792219500,
           11468049
          ]
         ],
         "hovertemplate": "Actor=임형준<br>Genre=%{x}<br>Count=%{y}<br>Total Revenue=%{customdata[0]}<br>Total Audience=%{customdata[1]}<extra></extra>",
         "legendgroup": "임형준",
         "marker": {
          "color": "#FECB52",
          "pattern": {
           "shape": ""
          }
         },
         "name": "임형준",
         "offsetgroup": "임형준",
         "orientation": "v",
         "showlegend": true,
         "textposition": "auto",
         "type": "bar",
         "x": [
          "드라마",
          "코미디"
         ],
         "xaxis": "x",
         "y": [
          4,
          3
         ],
         "yaxis": "y"
        },
        {
         "alignmentgroup": "True",
         "customdata": [
          [
           25925321906,
           6042046
          ]
         ],
         "hovertemplate": "Actor=오태경<br>Genre=%{x}<br>Count=%{y}<br>Total Revenue=%{customdata[0]}<br>Total Audience=%{customdata[1]}<extra></extra>",
         "legendgroup": "오태경",
         "marker": {
          "color": "#636efa",
          "pattern": {
           "shape": ""
          }
         },
         "name": "오태경",
         "offsetgroup": "오태경",
         "orientation": "v",
         "showlegend": true,
         "textposition": "auto",
         "type": "bar",
         "x": [
          "드라마"
         ],
         "xaxis": "x",
         "y": [
          4
         ],
         "yaxis": "y"
        },
        {
         "alignmentgroup": "True",
         "customdata": [
          [
           43854643913,
           6820445
          ]
         ],
         "hovertemplate": "Actor=전도연<br>Genre=%{x}<br>Count=%{y}<br>Total Revenue=%{customdata[0]}<br>Total Audience=%{customdata[1]}<extra></extra>",
         "legendgroup": "전도연",
         "marker": {
          "color": "#EF553B",
          "pattern": {
           "shape": ""
          }
         },
         "name": "전도연",
         "offsetgroup": "전도연",
         "orientation": "v",
         "showlegend": true,
         "textposition": "auto",
         "type": "bar",
         "x": [
          "드라마"
         ],
         "xaxis": "x",
         "y": [
          4
         ],
         "yaxis": "y"
        },
        {
         "alignmentgroup": "True",
         "customdata": [
          [
           41636686375,
           5525207
          ]
         ],
         "hovertemplate": "Actor=한예리<br>Genre=%{x}<br>Count=%{y}<br>Total Revenue=%{customdata[0]}<br>Total Audience=%{customdata[1]}<extra></extra>",
         "legendgroup": "한예리",
         "marker": {
          "color": "#00cc96",
          "pattern": {
           "shape": ""
          }
         },
         "name": "한예리",
         "offsetgroup": "한예리",
         "orientation": "v",
         "showlegend": true,
         "textposition": "auto",
         "type": "bar",
         "x": [
          "드라마"
         ],
         "xaxis": "x",
         "y": [
          4
         ],
         "yaxis": "y"
        },
        {
         "alignmentgroup": "True",
         "customdata": [
          [
           18737557426,
           5384732
          ]
         ],
         "hovertemplate": "Actor=김유정<br>Genre=%{x}<br>Count=%{y}<br>Total Revenue=%{customdata[0]}<br>Total Audience=%{customdata[1]}<extra></extra>",
         "legendgroup": "김유정",
         "marker": {
          "color": "#ab63fa",
          "pattern": {
           "shape": ""
          }
         },
         "name": "김유정",
         "offsetgroup": "김유정",
         "orientation": "v",
         "showlegend": true,
         "textposition": "auto",
         "type": "bar",
         "x": [
          "드라마"
         ],
         "xaxis": "x",
         "y": [
          4
         ],
         "yaxis": "y"
        },
        {
         "alignmentgroup": "True",
         "customdata": [
          [
           8271660983,
           4884012
          ],
          [
           42493821483,
           6969010
          ]
         ],
         "hovertemplate": "Actor=임수정<br>Genre=%{x}<br>Count=%{y}<br>Total Revenue=%{customdata[0]}<br>Total Audience=%{customdata[1]}<extra></extra>",
         "legendgroup": "임수정",
         "marker": {
          "color": "#FFA15A",
          "pattern": {
           "shape": ""
          }
         },
         "name": "임수정",
         "offsetgroup": "임수정",
         "orientation": "v",
         "showlegend": true,
         "textposition": "auto",
         "type": "bar",
         "x": [
          "드라마",
          "멜로/로맨스"
         ],
         "xaxis": "x",
         "y": [
          4,
          3
         ],
         "yaxis": "y"
        },
        {
         "alignmentgroup": "True",
         "customdata": [
          [
           179724982107,
           22758086
          ]
         ],
         "hovertemplate": "Actor=김수안<br>Genre=%{x}<br>Count=%{y}<br>Total Revenue=%{customdata[0]}<br>Total Audience=%{customdata[1]}<extra></extra>",
         "legendgroup": "김수안",
         "marker": {
          "color": "#19d3f3",
          "pattern": {
           "shape": ""
          }
         },
         "name": "김수안",
         "offsetgroup": "김수안",
         "orientation": "v",
         "showlegend": true,
         "textposition": "auto",
         "type": "bar",
         "x": [
          "드라마"
         ],
         "xaxis": "x",
         "y": [
          3
         ],
         "yaxis": "y"
        },
        {
         "alignmentgroup": "True",
         "customdata": [
          [
           115698654137,
           19178099
          ]
         ],
         "hovertemplate": "Actor=임원희<br>Genre=%{x}<br>Count=%{y}<br>Total Revenue=%{customdata[0]}<br>Total Audience=%{customdata[1]}<extra></extra>",
         "legendgroup": "임원희",
         "marker": {
          "color": "#FF6692",
          "pattern": {
           "shape": ""
          }
         },
         "name": "임원희",
         "offsetgroup": "임원희",
         "orientation": "v",
         "showlegend": true,
         "textposition": "auto",
         "type": "bar",
         "x": [
          "드라마"
         ],
         "xaxis": "x",
         "y": [
          3
         ],
         "yaxis": "y"
        },
        {
         "alignmentgroup": "True",
         "customdata": [
          [
           226967722417,
           27887694
          ],
          [
           67855561542,
           8251867
          ],
          [
           231282107191,
           28295487
          ]
         ],
         "hovertemplate": "Actor=정지훈<br>Genre=%{x}<br>Count=%{y}<br>Total Revenue=%{customdata[0]}<br>Total Audience=%{customdata[1]}<extra></extra>",
         "legendgroup": "정지훈",
         "marker": {
          "color": "#B6E880",
          "pattern": {
           "shape": ""
          }
         },
         "name": "정지훈",
         "offsetgroup": "정지훈",
         "orientation": "v",
         "showlegend": true,
         "textposition": "auto",
         "type": "bar",
         "x": [
          "드라마",
          "액션",
          "판타지"
         ],
         "xaxis": "x",
         "y": [
          3,
          3,
          3
         ],
         "yaxis": "y"
        },
        {
         "alignmentgroup": "True",
         "customdata": [
          [
           279261434354,
           35173644
          ]
         ],
         "hovertemplate": "Actor=김동욱<br>Genre=%{x}<br>Count=%{y}<br>Total Revenue=%{customdata[0]}<br>Total Audience=%{customdata[1]}<extra></extra>",
         "legendgroup": "김동욱",
         "marker": {
          "color": "#FF97FF",
          "pattern": {
           "shape": ""
          }
         },
         "name": "김동욱",
         "offsetgroup": "김동욱",
         "orientation": "v",
         "showlegend": true,
         "textposition": "auto",
         "type": "bar",
         "x": [
          "드라마"
         ],
         "xaxis": "x",
         "y": [
          3
         ],
         "yaxis": "y"
        },
        {
         "alignmentgroup": "True",
         "customdata": [
          [
           132905735828,
           23145659
          ]
         ],
         "hovertemplate": "Actor=김윤진<br>Genre=%{x}<br>Count=%{y}<br>Total Revenue=%{customdata[0]}<br>Total Audience=%{customdata[1]}<extra></extra>",
         "legendgroup": "김윤진",
         "marker": {
          "color": "#FECB52",
          "pattern": {
           "shape": ""
          }
         },
         "name": "김윤진",
         "offsetgroup": "김윤진",
         "orientation": "v",
         "showlegend": true,
         "textposition": "auto",
         "type": "bar",
         "x": [
          "드라마"
         ],
         "xaxis": "x",
         "y": [
          3
         ],
         "yaxis": "y"
        },
        {
         "alignmentgroup": "True",
         "customdata": [
          [
           159610855620,
           20103650
          ],
          [
           93044961360,
           11047444
          ],
          [
           214615019571,
           26647799
          ]
         ],
         "hovertemplate": "Actor=오대환<br>Genre=%{x}<br>Count=%{y}<br>Total Revenue=%{customdata[0]}<br>Total Audience=%{customdata[1]}<extra></extra>",
         "legendgroup": "오대환",
         "marker": {
          "color": "#636efa",
          "pattern": {
           "shape": ""
          }
         },
         "name": "오대환",
         "offsetgroup": "오대환",
         "orientation": "v",
         "showlegend": true,
         "textposition": "auto",
         "type": "bar",
         "x": [
          "드라마",
          "범죄",
          "액션"
         ],
         "xaxis": "x",
         "y": [
          3,
          3,
          4
         ],
         "yaxis": "y"
        },
        {
         "alignmentgroup": "True",
         "customdata": [
          [
           175197193350,
           22919098
          ],
          [
           121162958250,
           16753151
          ]
         ],
         "hovertemplate": "Actor=김시후<br>Genre=%{x}<br>Count=%{y}<br>Total Revenue=%{customdata[0]}<br>Total Audience=%{customdata[1]}<extra></extra>",
         "legendgroup": "김시후",
         "marker": {
          "color": "#EF553B",
          "pattern": {
           "shape": ""
          }
         },
         "name": "김시후",
         "offsetgroup": "김시후",
         "orientation": "v",
         "showlegend": true,
         "textposition": "auto",
         "type": "bar",
         "x": [
          "드라마",
          "액션"
         ],
         "xaxis": "x",
         "y": [
          3,
          3
         ],
         "yaxis": "y"
        },
        {
         "alignmentgroup": "True",
         "customdata": [
          [
           235035816437,
           29169648
          ]
         ],
         "hovertemplate": "Actor=박소담<br>Genre=%{x}<br>Count=%{y}<br>Total Revenue=%{customdata[0]}<br>Total Audience=%{customdata[1]}<extra></extra>",
         "legendgroup": "박소담",
         "marker": {
          "color": "#00cc96",
          "pattern": {
           "shape": ""
          }
         },
         "name": "박소담",
         "offsetgroup": "박소담",
         "orientation": "v",
         "showlegend": true,
         "textposition": "auto",
         "type": "bar",
         "x": [
          "드라마"
         ],
         "xaxis": "x",
         "y": [
          3
         ],
         "yaxis": "y"
        },
        {
         "alignmentgroup": "True",
         "customdata": [
          [
           212544380250,
           27289271
          ],
          [
           301079378075,
           38778267
          ],
          [
           8913092219,
           8099084
          ]
         ],
         "hovertemplate": "Actor=진경<br>Genre=%{x}<br>Count=%{y}<br>Total Revenue=%{customdata[0]}<br>Total Audience=%{customdata[1]}<extra></extra>",
         "legendgroup": "진경",
         "marker": {
          "color": "#ab63fa",
          "pattern": {
           "shape": ""
          }
         },
         "name": "진경",
         "offsetgroup": "진경",
         "orientation": "v",
         "showlegend": true,
         "textposition": "auto",
         "type": "bar",
         "x": [
          "드라마",
          "액션",
          "코미디"
         ],
         "xaxis": "x",
         "y": [
          3,
          4,
          4
         ],
         "yaxis": "y"
        },
        {
         "alignmentgroup": "True",
         "customdata": [
          [
           148401734884,
           16745268
          ]
         ],
         "hovertemplate": "Actor=서광재<br>Genre=%{x}<br>Count=%{y}<br>Total Revenue=%{customdata[0]}<br>Total Audience=%{customdata[1]}<extra></extra>",
         "legendgroup": "서광재",
         "marker": {
          "color": "#FFA15A",
          "pattern": {
           "shape": ""
          }
         },
         "name": "서광재",
         "offsetgroup": "서광재",
         "orientation": "v",
         "showlegend": true,
         "textposition": "auto",
         "type": "bar",
         "x": [
          "드라마"
         ],
         "xaxis": "x",
         "y": [
          3
         ],
         "yaxis": "y"
        },
        {
         "alignmentgroup": "True",
         "customdata": [
          [
           207016415026,
           22418037
          ]
         ],
         "hovertemplate": "Actor=현봉식<br>Genre=%{x}<br>Count=%{y}<br>Total Revenue=%{customdata[0]}<br>Total Audience=%{customdata[1]}<extra></extra>",
         "legendgroup": "현봉식",
         "marker": {
          "color": "#19d3f3",
          "pattern": {
           "shape": ""
          }
         },
         "name": "현봉식",
         "offsetgroup": "현봉식",
         "orientation": "v",
         "showlegend": true,
         "textposition": "auto",
         "type": "bar",
         "x": [
          "드라마"
         ],
         "xaxis": "x",
         "y": [
          3
         ],
         "yaxis": "y"
        },
        {
         "alignmentgroup": "True",
         "customdata": [
          [
           157329315213,
           16638026
          ]
         ],
         "hovertemplate": "Actor=유성주<br>Genre=%{x}<br>Count=%{y}<br>Total Revenue=%{customdata[0]}<br>Total Audience=%{customdata[1]}<extra></extra>",
         "legendgroup": "유성주",
         "marker": {
          "color": "#FF6692",
          "pattern": {
           "shape": ""
          }
         },
         "name": "유성주",
         "offsetgroup": "유성주",
         "orientation": "v",
         "showlegend": true,
         "textposition": "auto",
         "type": "bar",
         "x": [
          "드라마"
         ],
         "xaxis": "x",
         "y": [
          3
         ],
         "yaxis": "y"
        },
        {
         "alignmentgroup": "True",
         "customdata": [
          [
           60896633308,
           23480011
          ]
         ],
         "hovertemplate": "Actor=이재응<br>Genre=%{x}<br>Count=%{y}<br>Total Revenue=%{customdata[0]}<br>Total Audience=%{customdata[1]}<extra></extra>",
         "legendgroup": "이재응",
         "marker": {
          "color": "#B6E880",
          "pattern": {
           "shape": ""
          }
         },
         "name": "이재응",
         "offsetgroup": "이재응",
         "orientation": "v",
         "showlegend": true,
         "textposition": "auto",
         "type": "bar",
         "x": [
          "드라마"
         ],
         "xaxis": "x",
         "y": [
          3
         ],
         "yaxis": "y"
        },
        {
         "alignmentgroup": "True",
         "customdata": [
          [
           130526356463,
           17696931
          ],
          [
           134732178162,
           18525056
          ]
         ],
         "hovertemplate": "Actor=박신혜<br>Genre=%{x}<br>Count=%{y}<br>Total Revenue=%{customdata[0]}<br>Total Audience=%{customdata[1]}<extra></extra>",
         "legendgroup": "박신혜",
         "marker": {
          "color": "#FF97FF",
          "pattern": {
           "shape": ""
          }
         },
         "name": "박신혜",
         "offsetgroup": "박신혜",
         "orientation": "v",
         "showlegend": true,
         "textposition": "auto",
         "type": "bar",
         "x": [
          "드라마",
          "코미디"
         ],
         "xaxis": "x",
         "y": [
          3,
          3
         ],
         "yaxis": "y"
        },
        {
         "alignmentgroup": "True",
         "customdata": [
          [
           91431914670,
           18138334
          ]
         ],
         "hovertemplate": "Actor=박길수<br>Genre=%{x}<br>Count=%{y}<br>Total Revenue=%{customdata[0]}<br>Total Audience=%{customdata[1]}<extra></extra>",
         "legendgroup": "박길수",
         "marker": {
          "color": "#FECB52",
          "pattern": {
           "shape": ""
          }
         },
         "name": "박길수",
         "offsetgroup": "박길수",
         "orientation": "v",
         "showlegend": true,
         "textposition": "auto",
         "type": "bar",
         "x": [
          "드라마"
         ],
         "xaxis": "x",
         "y": [
          3
         ],
         "yaxis": "y"
        },
        {
         "alignmentgroup": "True",
         "customdata": [
          [
           195990258191,
           25871107
          ],
          [
           126035805036,
           16106234
          ]
         ],
         "hovertemplate": "Actor=심희섭<br>Genre=%{x}<br>Count=%{y}<br>Total Revenue=%{customdata[0]}<br>Total Audience=%{customdata[1]}<extra></extra>",
         "legendgroup": "심희섭",
         "marker": {
          "color": "#636efa",
          "pattern": {
           "shape": ""
          }
         },
         "name": "심희섭",
         "offsetgroup": "심희섭",
         "orientation": "v",
         "showlegend": true,
         "textposition": "auto",
         "type": "bar",
         "x": [
          "드라마",
          "액션"
         ],
         "xaxis": "x",
         "y": [
          3,
          3
         ],
         "yaxis": "y"
        },
        {
         "alignmentgroup": "True",
         "customdata": [
          [
           138479884954,
           19006116
          ]
         ],
         "hovertemplate": "Actor=전국향<br>Genre=%{x}<br>Count=%{y}<br>Total Revenue=%{customdata[0]}<br>Total Audience=%{customdata[1]}<extra></extra>",
         "legendgroup": "전국향",
         "marker": {
          "color": "#EF553B",
          "pattern": {
           "shape": ""
          }
         },
         "name": "전국향",
         "offsetgroup": "전국향",
         "orientation": "v",
         "showlegend": true,
         "textposition": "auto",
         "type": "bar",
         "x": [
          "드라마"
         ],
         "xaxis": "x",
         "y": [
          3
         ],
         "yaxis": "y"
        },
        {
         "alignmentgroup": "True",
         "customdata": [
          [
           113883359478,
           15421853
          ],
          [
           55228460329,
           7272519
          ],
          [
           26094345901,
           9159476
          ]
         ],
         "hovertemplate": "Actor=한효주<br>Genre=%{x}<br>Count=%{y}<br>Total Revenue=%{customdata[0]}<br>Total Audience=%{customdata[1]}<extra></extra>",
         "legendgroup": "한효주",
         "marker": {
          "color": "#00cc96",
          "pattern": {
           "shape": ""
          }
         },
         "name": "한효주",
         "offsetgroup": "한효주",
         "orientation": "v",
         "showlegend": true,
         "textposition": "auto",
         "type": "bar",
         "x": [
          "드라마",
          "멜로/로맨스",
          "코미디"
         ],
         "xaxis": "x",
         "y": [
          3,
          4,
          3
         ],
         "yaxis": "y"
        },
        {
         "alignmentgroup": "True",
         "customdata": [
          [
           202580358881,
           24920781
          ]
         ],
         "hovertemplate": "Actor=이정은<br>Genre=%{x}<br>Count=%{y}<br>Total Revenue=%{customdata[0]}<br>Total Audience=%{customdata[1]}<extra></extra>",
         "legendgroup": "이정은",
         "marker": {
          "color": "#ab63fa",
          "pattern": {
           "shape": ""
          }
         },
         "name": "이정은",
         "offsetgroup": "이정은",
         "orientation": "v",
         "showlegend": true,
         "textposition": "auto",
         "type": "bar",
         "x": [
          "드라마"
         ],
         "xaxis": "x",
         "y": [
          3
         ],
         "yaxis": "y"
        },
        {
         "alignmentgroup": "True",
         "customdata": [
          [
           112405838480,
           15661710
          ],
          [
           65085861440,
           9118309
          ]
         ],
         "hovertemplate": "Actor=천보근<br>Genre=%{x}<br>Count=%{y}<br>Total Revenue=%{customdata[0]}<br>Total Audience=%{customdata[1]}<extra></extra>",
         "legendgroup": "천보근",
         "marker": {
          "color": "#FFA15A",
          "pattern": {
           "shape": ""
          }
         },
         "name": "천보근",
         "offsetgroup": "천보근",
         "orientation": "v",
         "showlegend": true,
         "textposition": "auto",
         "type": "bar",
         "x": [
          "드라마",
          "코미디"
         ],
         "xaxis": "x",
         "y": [
          3,
          3
         ],
         "yaxis": "y"
        },
        {
         "alignmentgroup": "True",
         "customdata": [
          [
           111856977915,
           14502808
          ]
         ],
         "hovertemplate": "Actor=임시완<br>Genre=%{x}<br>Count=%{y}<br>Total Revenue=%{customdata[0]}<br>Total Audience=%{customdata[1]}<extra></extra>",
         "legendgroup": "임시완",
         "marker": {
          "color": "#19d3f3",
          "pattern": {
           "shape": ""
          }
         },
         "name": "임시완",
         "offsetgroup": "임시완",
         "orientation": "v",
         "showlegend": true,
         "textposition": "auto",
         "type": "bar",
         "x": [
          "드라마"
         ],
         "xaxis": "x",
         "y": [
          3
         ],
         "yaxis": "y"
        },
        {
         "alignmentgroup": "True",
         "customdata": [
          [
           146639591946,
           18612286
          ],
          [
           178073296502,
           22891091
          ]
         ],
         "hovertemplate": "Actor=최우식<br>Genre=%{x}<br>Count=%{y}<br>Total Revenue=%{customdata[0]}<br>Total Audience=%{customdata[1]}<extra></extra>",
         "legendgroup": "최우식",
         "marker": {
          "color": "#FF6692",
          "pattern": {
           "shape": ""
          }
         },
         "name": "최우식",
         "offsetgroup": "최우식",
         "orientation": "v",
         "showlegend": true,
         "textposition": "auto",
         "type": "bar",
         "x": [
          "드라마",
          "액션"
         ],
         "xaxis": "x",
         "y": [
          3,
          4
         ],
         "yaxis": "y"
        },
        {
         "alignmentgroup": "True",
         "customdata": [
          [
           120255760247,
           16387763
          ]
         ],
         "hovertemplate": "Actor=박혜진<br>Genre=%{x}<br>Count=%{y}<br>Total Revenue=%{customdata[0]}<br>Total Audience=%{customdata[1]}<extra></extra>",
         "legendgroup": "박혜진",
         "marker": {
          "color": "#B6E880",
          "pattern": {
           "shape": ""
          }
         },
         "name": "박혜진",
         "offsetgroup": "박혜진",
         "orientation": "v",
         "showlegend": true,
         "textposition": "auto",
         "type": "bar",
         "x": [
          "드라마"
         ],
         "xaxis": "x",
         "y": [
          3
         ],
         "yaxis": "y"
        },
        {
         "alignmentgroup": "True",
         "customdata": [
          [
           124564725752,
           14757954
          ]
         ],
         "hovertemplate": "Actor=박성근<br>Genre=%{x}<br>Count=%{y}<br>Total Revenue=%{customdata[0]}<br>Total Audience=%{customdata[1]}<extra></extra>",
         "legendgroup": "박성근",
         "marker": {
          "color": "#FF97FF",
          "pattern": {
           "shape": ""
          }
         },
         "name": "박성근",
         "offsetgroup": "박성근",
         "orientation": "v",
         "showlegend": true,
         "textposition": "auto",
         "type": "bar",
         "x": [
          "드라마"
         ],
         "xaxis": "x",
         "y": [
          3
         ],
         "yaxis": "y"
        },
        {
         "alignmentgroup": "True",
         "customdata": [
          [
           169214544095,
           20234411
          ]
         ],
         "hovertemplate": "Actor=서현우<br>Genre=%{x}<br>Count=%{y}<br>Total Revenue=%{customdata[0]}<br>Total Audience=%{customdata[1]}<extra></extra>",
         "legendgroup": "서현우",
         "marker": {
          "color": "#FECB52",
          "pattern": {
           "shape": ""
          }
         },
         "name": "서현우",
         "offsetgroup": "서현우",
         "orientation": "v",
         "showlegend": true,
         "textposition": "auto",
         "type": "bar",
         "x": [
          "드라마"
         ],
         "xaxis": "x",
         "y": [
          3
         ],
         "yaxis": "y"
        },
        {
         "alignmentgroup": "True",
         "customdata": [
          [
           91292097525,
           10886138
          ]
         ],
         "hovertemplate": "Actor=강신철<br>Genre=%{x}<br>Count=%{y}<br>Total Revenue=%{customdata[0]}<br>Total Audience=%{customdata[1]}<extra></extra>",
         "legendgroup": "강신철",
         "marker": {
          "color": "#636efa",
          "pattern": {
           "shape": ""
          }
         },
         "name": "강신철",
         "offsetgroup": "강신철",
         "orientation": "v",
         "showlegend": true,
         "textposition": "auto",
         "type": "bar",
         "x": [
          "드라마"
         ],
         "xaxis": "x",
         "y": [
          3
         ],
         "yaxis": "y"
        },
        {
         "alignmentgroup": "True",
         "customdata": [
          [
           0,
           11150798
          ]
         ],
         "hovertemplate": "Actor=강혜정<br>Genre=%{x}<br>Count=%{y}<br>Total Revenue=%{customdata[0]}<br>Total Audience=%{customdata[1]}<extra></extra>",
         "legendgroup": "강혜정",
         "marker": {
          "color": "#EF553B",
          "pattern": {
           "shape": ""
          }
         },
         "name": "강혜정",
         "offsetgroup": "강혜정",
         "orientation": "v",
         "showlegend": true,
         "textposition": "auto",
         "type": "bar",
         "x": [
          "드라마"
         ],
         "xaxis": "x",
         "y": [
          3
         ],
         "yaxis": "y"
        },
        {
         "alignmentgroup": "True",
         "customdata": [
          [
           99787463641,
           13055717
          ]
         ],
         "hovertemplate": "Actor=유선<br>Genre=%{x}<br>Count=%{y}<br>Total Revenue=%{customdata[0]}<br>Total Audience=%{customdata[1]}<extra></extra>",
         "legendgroup": "유선",
         "marker": {
          "color": "#00cc96",
          "pattern": {
           "shape": ""
          }
         },
         "name": "유선",
         "offsetgroup": "유선",
         "orientation": "v",
         "showlegend": true,
         "textposition": "auto",
         "type": "bar",
         "x": [
          "드라마"
         ],
         "xaxis": "x",
         "y": [
          3
         ],
         "yaxis": "y"
        },
        {
         "alignmentgroup": "True",
         "customdata": [
          [
           93008757563,
           11895287
          ]
         ],
         "hovertemplate": "Actor=정우<br>Genre=%{x}<br>Count=%{y}<br>Total Revenue=%{customdata[0]}<br>Total Audience=%{customdata[1]}<extra></extra>",
         "legendgroup": "정우",
         "marker": {
          "color": "#ab63fa",
          "pattern": {
           "shape": ""
          }
         },
         "name": "정우",
         "offsetgroup": "정우",
         "orientation": "v",
         "showlegend": true,
         "textposition": "auto",
         "type": "bar",
         "x": [
          "드라마"
         ],
         "xaxis": "x",
         "y": [
          3
         ],
         "yaxis": "y"
        },
        {
         "alignmentgroup": "True",
         "customdata": [
          [
           76175382586,
           10252615
          ]
         ],
         "hovertemplate": "Actor=김예원<br>Genre=%{x}<br>Count=%{y}<br>Total Revenue=%{customdata[0]}<br>Total Audience=%{customdata[1]}<extra></extra>",
         "legendgroup": "김예원",
         "marker": {
          "color": "#FFA15A",
          "pattern": {
           "shape": ""
          }
         },
         "name": "김예원",
         "offsetgroup": "김예원",
         "orientation": "v",
         "showlegend": true,
         "textposition": "auto",
         "type": "bar",
         "x": [
          "드라마"
         ],
         "xaxis": "x",
         "y": [
          3
         ],
         "yaxis": "y"
        },
        {
         "alignmentgroup": "True",
         "customdata": [
          [
           30305744310,
           12445908
          ]
         ],
         "hovertemplate": "Actor=이얼<br>Genre=%{x}<br>Count=%{y}<br>Total Revenue=%{customdata[0]}<br>Total Audience=%{customdata[1]}<extra></extra>",
         "legendgroup": "이얼",
         "marker": {
          "color": "#19d3f3",
          "pattern": {
           "shape": ""
          }
         },
         "name": "이얼",
         "offsetgroup": "이얼",
         "orientation": "v",
         "showlegend": true,
         "textposition": "auto",
         "type": "bar",
         "x": [
          "드라마"
         ],
         "xaxis": "x",
         "y": [
          3
         ],
         "yaxis": "y"
        },
        {
         "alignmentgroup": "True",
         "customdata": [
          [
           150259238192,
           16393509
          ],
          [
           190279921105,
           20981559
          ],
          [
           254734549165,
           27484631
          ]
         ],
         "hovertemplate": "Actor=김민재<br>Genre=%{x}<br>Count=%{y}<br>Total Revenue=%{customdata[0]}<br>Total Audience=%{customdata[1]}<extra></extra>",
         "legendgroup": "김민재",
         "marker": {
          "color": "#FF6692",
          "pattern": {
           "shape": ""
          }
         },
         "name": "김민재",
         "offsetgroup": "김민재",
         "orientation": "v",
         "showlegend": true,
         "textposition": "auto",
         "type": "bar",
         "x": [
          "드라마",
          "범죄",
          "액션"
         ],
         "xaxis": "x",
         "y": [
          3,
          4,
          5
         ],
         "yaxis": "y"
        },
        {
         "alignmentgroup": "True",
         "customdata": [
          [
           121471591960,
           13324051
          ]
         ],
         "hovertemplate": "Actor=김영웅<br>Genre=%{x}<br>Count=%{y}<br>Total Revenue=%{customdata[0]}<br>Total Audience=%{customdata[1]}<extra></extra>",
         "legendgroup": "김영웅",
         "marker": {
          "color": "#B6E880",
          "pattern": {
           "shape": ""
          }
         },
         "name": "김영웅",
         "offsetgroup": "김영웅",
         "orientation": "v",
         "showlegend": true,
         "textposition": "auto",
         "type": "bar",
         "x": [
          "드라마"
         ],
         "xaxis": "x",
         "y": [
          3
         ],
         "yaxis": "y"
        },
        {
         "alignmentgroup": "True",
         "customdata": [
          [
           120985497941,
           13355663
          ],
          [
           195363569210,
           22818598
          ]
         ],
         "hovertemplate": "Actor=공정환<br>Genre=%{x}<br>Count=%{y}<br>Total Revenue=%{customdata[0]}<br>Total Audience=%{customdata[1]}<extra></extra>",
         "legendgroup": "공정환",
         "marker": {
          "color": "#FF97FF",
          "pattern": {
           "shape": ""
          }
         },
         "name": "공정환",
         "offsetgroup": "공정환",
         "orientation": "v",
         "showlegend": true,
         "textposition": "auto",
         "type": "bar",
         "x": [
          "드라마",
          "액션"
         ],
         "xaxis": "x",
         "y": [
          3,
          4
         ],
         "yaxis": "y"
        },
        {
         "alignmentgroup": "True",
         "customdata": [
          [
           105301629321,
           13025037
          ]
         ],
         "hovertemplate": "Actor=김태리<br>Genre=%{x}<br>Count=%{y}<br>Total Revenue=%{customdata[0]}<br>Total Audience=%{customdata[1]}<extra></extra>",
         "legendgroup": "김태리",
         "marker": {
          "color": "#FECB52",
          "pattern": {
           "shape": ""
          }
         },
         "name": "김태리",
         "offsetgroup": "김태리",
         "orientation": "v",
         "showlegend": true,
         "textposition": "auto",
         "type": "bar",
         "x": [
          "드라마"
         ],
         "xaxis": "x",
         "y": [
          3
         ],
         "yaxis": "y"
        },
        {
         "alignmentgroup": "True",
         "customdata": [
          [
           81551606939,
           10202807
          ],
          [
           90337985694,
           11323446
          ]
         ],
         "hovertemplate": "Actor=이엘<br>Genre=%{x}<br>Count=%{y}<br>Total Revenue=%{customdata[0]}<br>Total Audience=%{customdata[1]}<extra></extra>",
         "legendgroup": "이엘",
         "marker": {
          "color": "#636efa",
          "pattern": {
           "shape": ""
          }
         },
         "name": "이엘",
         "offsetgroup": "이엘",
         "orientation": "v",
         "showlegend": true,
         "textposition": "auto",
         "type": "bar",
         "x": [
          "드라마",
          "범죄"
         ],
         "xaxis": "x",
         "y": [
          3,
          3
         ],
         "yaxis": "y"
        },
        {
         "alignmentgroup": "True",
         "customdata": [
          [
           55101410303,
           12705676
          ],
          [
           30914465478,
           5685820
          ],
          [
           null,
           14040512
          ]
         ],
         "hovertemplate": "Actor=정준호<br>Genre=%{x}<br>Count=%{y}<br>Total Revenue=%{customdata[0]}<br>Total Audience=%{customdata[1]}<extra></extra>",
         "legendgroup": "정준호",
         "marker": {
          "color": "#EF553B",
          "pattern": {
           "shape": ""
          }
         },
         "name": "정준호",
         "offsetgroup": "정준호",
         "orientation": "v",
         "showlegend": true,
         "textposition": "auto",
         "type": "bar",
         "x": [
          "드라마",
          "액션",
          "코미디"
         ],
         "xaxis": "x",
         "y": [
          3,
          3,
          6
         ],
         "yaxis": "y"
        },
        {
         "alignmentgroup": "True",
         "customdata": [
          [
           126348853894,
           14541400
          ]
         ],
         "hovertemplate": "Actor=김도윤<br>Genre=%{x}<br>Count=%{y}<br>Total Revenue=%{customdata[0]}<br>Total Audience=%{customdata[1]}<extra></extra>",
         "legendgroup": "김도윤",
         "marker": {
          "color": "#00cc96",
          "pattern": {
           "shape": ""
          }
         },
         "name": "김도윤",
         "offsetgroup": "김도윤",
         "orientation": "v",
         "showlegend": true,
         "textposition": "auto",
         "type": "bar",
         "x": [
          "드라마"
         ],
         "xaxis": "x",
         "y": [
          3
         ],
         "yaxis": "y"
        },
        {
         "alignmentgroup": "True",
         "customdata": [
          [
           24549240080,
           10241624
          ]
         ],
         "hovertemplate": "Actor=장원영<br>Genre=%{x}<br>Count=%{y}<br>Total Revenue=%{customdata[0]}<br>Total Audience=%{customdata[1]}<extra></extra>",
         "legendgroup": "장원영",
         "marker": {
          "color": "#ab63fa",
          "pattern": {
           "shape": ""
          }
         },
         "name": "장원영",
         "offsetgroup": "장원영",
         "orientation": "v",
         "showlegend": true,
         "textposition": "auto",
         "type": "bar",
         "x": [
          "드라마"
         ],
         "xaxis": "x",
         "y": [
          3
         ],
         "yaxis": "y"
        },
        {
         "alignmentgroup": "True",
         "customdata": [
          [
           95694292620,
           12180119
          ],
          [
           81957734757,
           11151846
          ]
         ],
         "hovertemplate": "Actor=박보영<br>Genre=%{x}<br>Count=%{y}<br>Total Revenue=%{customdata[0]}<br>Total Audience=%{customdata[1]}<extra></extra>",
         "legendgroup": "박보영",
         "marker": {
          "color": "#FFA15A",
          "pattern": {
           "shape": ""
          }
         },
         "name": "박보영",
         "offsetgroup": "박보영",
         "orientation": "v",
         "showlegend": true,
         "textposition": "auto",
         "type": "bar",
         "x": [
          "드라마",
          "멜로/로맨스"
         ],
         "xaxis": "x",
         "y": [
          3,
          3
         ],
         "yaxis": "y"
        },
        {
         "alignmentgroup": "True",
         "customdata": [
          [
           122720162617,
           17026541
          ]
         ],
         "hovertemplate": "Actor=송중기<br>Genre=%{x}<br>Count=%{y}<br>Total Revenue=%{customdata[0]}<br>Total Audience=%{customdata[1]}<extra></extra>",
         "legendgroup": "송중기",
         "marker": {
          "color": "#19d3f3",
          "pattern": {
           "shape": ""
          }
         },
         "name": "송중기",
         "offsetgroup": "송중기",
         "orientation": "v",
         "showlegend": true,
         "textposition": "auto",
         "type": "bar",
         "x": [
          "드라마"
         ],
         "xaxis": "x",
         "y": [
          3
         ],
         "yaxis": "y"
        },
        {
         "alignmentgroup": "True",
         "customdata": [
          [
           67775589168,
           9010362
          ],
          [
           83763415716,
           10548866
          ]
         ],
         "hovertemplate": "Actor=소지섭<br>Genre=%{x}<br>Count=%{y}<br>Total Revenue=%{customdata[0]}<br>Total Audience=%{customdata[1]}<extra></extra>",
         "legendgroup": "소지섭",
         "marker": {
          "color": "#FF6692",
          "pattern": {
           "shape": ""
          }
         },
         "name": "소지섭",
         "offsetgroup": "소지섭",
         "orientation": "v",
         "showlegend": true,
         "textposition": "auto",
         "type": "bar",
         "x": [
          "드라마",
          "액션"
         ],
         "xaxis": "x",
         "y": [
          3,
          4
         ],
         "yaxis": "y"
        },
        {
         "alignmentgroup": "True",
         "customdata": [
          [
           122966252002,
           15203308
          ],
          [
           115324566058,
           13537648
          ]
         ],
         "hovertemplate": "Actor=윤경호<br>Genre=%{x}<br>Count=%{y}<br>Total Revenue=%{customdata[0]}<br>Total Audience=%{customdata[1]}<extra></extra>",
         "legendgroup": "윤경호",
         "marker": {
          "color": "#B6E880",
          "pattern": {
           "shape": ""
          }
         },
         "name": "윤경호",
         "offsetgroup": "윤경호",
         "orientation": "v",
         "showlegend": true,
         "textposition": "auto",
         "type": "bar",
         "x": [
          "드라마",
          "코미디"
         ],
         "xaxis": "x",
         "y": [
          3,
          5
         ],
         "yaxis": "y"
        },
        {
         "alignmentgroup": "True",
         "customdata": [
          [
           107922398943,
           13732439
          ],
          [
           193679430769,
           25319300
          ]
         ],
         "hovertemplate": "Actor=김태훈<br>Genre=%{x}<br>Count=%{y}<br>Total Revenue=%{customdata[0]}<br>Total Audience=%{customdata[1]}<extra></extra>",
         "legendgroup": "김태훈",
         "marker": {
          "color": "#FF97FF",
          "pattern": {
           "shape": ""
          }
         },
         "name": "김태훈",
         "offsetgroup": "김태훈",
         "orientation": "v",
         "showlegend": true,
         "textposition": "auto",
         "type": "bar",
         "x": [
          "드라마",
          "액션"
         ],
         "xaxis": "x",
         "y": [
          3,
          3
         ],
         "yaxis": "y"
        },
        {
         "alignmentgroup": "True",
         "customdata": [
          [
           95258121330,
           12869924
          ]
         ],
         "hovertemplate": "Actor=송재호<br>Genre=%{x}<br>Count=%{y}<br>Total Revenue=%{customdata[0]}<br>Total Audience=%{customdata[1]}<extra></extra>",
         "legendgroup": "송재호",
         "marker": {
          "color": "#FECB52",
          "pattern": {
           "shape": ""
          }
         },
         "name": "송재호",
         "offsetgroup": "송재호",
         "orientation": "v",
         "showlegend": true,
         "textposition": "auto",
         "type": "bar",
         "x": [
          "드라마"
         ],
         "xaxis": "x",
         "y": [
          3
         ],
         "yaxis": "y"
        },
        {
         "alignmentgroup": "True",
         "customdata": [
          [
           62769425202,
           11584563
          ],
          [
           101986175565,
           13767816
          ]
         ],
         "hovertemplate": "Actor=최정우<br>Genre=%{x}<br>Count=%{y}<br>Total Revenue=%{customdata[0]}<br>Total Audience=%{customdata[1]}<extra></extra>",
         "legendgroup": "최정우",
         "marker": {
          "color": "#636efa",
          "pattern": {
           "shape": ""
          }
         },
         "name": "최정우",
         "offsetgroup": "최정우",
         "orientation": "v",
         "showlegend": true,
         "textposition": "auto",
         "type": "bar",
         "x": [
          "드라마",
          "액션"
         ],
         "xaxis": "x",
         "y": [
          3,
          3
         ],
         "yaxis": "y"
        },
        {
         "alignmentgroup": "True",
         "customdata": [
          [
           52288078000,
           8240776
          ],
          [
           131761980644,
           20326632
          ]
         ],
         "hovertemplate": "Actor=김동영<br>Genre=%{x}<br>Count=%{y}<br>Total Revenue=%{customdata[0]}<br>Total Audience=%{customdata[1]}<extra></extra>",
         "legendgroup": "김동영",
         "marker": {
          "color": "#EF553B",
          "pattern": {
           "shape": ""
          }
         },
         "name": "김동영",
         "offsetgroup": "김동영",
         "orientation": "v",
         "showlegend": true,
         "textposition": "auto",
         "type": "bar",
         "x": [
          "드라마",
          "액션"
         ],
         "xaxis": "x",
         "y": [
          3,
          5
         ],
         "yaxis": "y"
        },
        {
         "alignmentgroup": "True",
         "customdata": [
          [
           63078809003,
           7231366
          ],
          [
           160251344488,
           18587253
          ]
         ],
         "hovertemplate": "Actor=양현민<br>Genre=%{x}<br>Count=%{y}<br>Total Revenue=%{customdata[0]}<br>Total Audience=%{customdata[1]}<extra></extra>",
         "legendgroup": "양현민",
         "marker": {
          "color": "#00cc96",
          "pattern": {
           "shape": ""
          }
         },
         "name": "양현민",
         "offsetgroup": "양현민",
         "orientation": "v",
         "showlegend": true,
         "textposition": "auto",
         "type": "bar",
         "x": [
          "드라마",
          "코미디"
         ],
         "xaxis": "x",
         "y": [
          3,
          3
         ],
         "yaxis": "y"
        },
        {
         "alignmentgroup": "True",
         "customdata": [
          [
           58304110580,
           7546211
          ],
          [
           47967643909,
           8127395
          ]
         ],
         "hovertemplate": "Actor=임현성<br>Genre=%{x}<br>Count=%{y}<br>Total Revenue=%{customdata[0]}<br>Total Audience=%{customdata[1]}<extra></extra>",
         "legendgroup": "임현성",
         "marker": {
          "color": "#ab63fa",
          "pattern": {
           "shape": ""
          }
         },
         "name": "임현성",
         "offsetgroup": "임현성",
         "orientation": "v",
         "showlegend": true,
         "textposition": "auto",
         "type": "bar",
         "x": [
          "드라마",
          "액션"
         ],
         "xaxis": "x",
         "y": [
          3,
          3
         ],
         "yaxis": "y"
        },
        {
         "alignmentgroup": "True",
         "customdata": [
          [
           61887747670,
           8056938
          ],
          [
           130966349280,
           17606131
          ]
         ],
         "hovertemplate": "Actor=최진호<br>Genre=%{x}<br>Count=%{y}<br>Total Revenue=%{customdata[0]}<br>Total Audience=%{customdata[1]}<extra></extra>",
         "legendgroup": "최진호",
         "marker": {
          "color": "#FFA15A",
          "pattern": {
           "shape": ""
          }
         },
         "name": "최진호",
         "offsetgroup": "최진호",
         "orientation": "v",
         "showlegend": true,
         "textposition": "auto",
         "type": "bar",
         "x": [
          "드라마",
          "액션"
         ],
         "xaxis": "x",
         "y": [
          3,
          4
         ],
         "yaxis": "y"
        },
        {
         "alignmentgroup": "True",
         "customdata": [
          [
           74144260093,
           9472479
          ],
          [
           184485227879,
           25112088
          ],
          [
           null,
           8384354
          ]
         ],
         "hovertemplate": "Actor=공유<br>Genre=%{x}<br>Count=%{y}<br>Total Revenue=%{customdata[0]}<br>Total Audience=%{customdata[1]}<extra></extra>",
         "legendgroup": "공유",
         "marker": {
          "color": "#19d3f3",
          "pattern": {
           "shape": ""
          }
         },
         "name": "공유",
         "offsetgroup": "공유",
         "orientation": "v",
         "showlegend": true,
         "textposition": "auto",
         "type": "bar",
         "x": [
          "드라마",
          "액션",
          "코미디"
         ],
         "xaxis": "x",
         "y": [
          3,
          4,
          3
         ],
         "yaxis": "y"
        },
        {
         "alignmentgroup": "True",
         "customdata": [
          [
           68915428820,
           10277883
          ]
         ],
         "hovertemplate": "Actor=박윤희<br>Genre=%{x}<br>Count=%{y}<br>Total Revenue=%{customdata[0]}<br>Total Audience=%{customdata[1]}<extra></extra>",
         "legendgroup": "박윤희",
         "marker": {
          "color": "#FF6692",
          "pattern": {
           "shape": ""
          }
         },
         "name": "박윤희",
         "offsetgroup": "박윤희",
         "orientation": "v",
         "showlegend": true,
         "textposition": "auto",
         "type": "bar",
         "x": [
          "드라마"
         ],
         "xaxis": "x",
         "y": [
          3
         ],
         "yaxis": "y"
        },
        {
         "alignmentgroup": "True",
         "customdata": [
          [
           50573195063,
           6923496
          ]
         ],
         "hovertemplate": "Actor=박사랑<br>Genre=%{x}<br>Count=%{y}<br>Total Revenue=%{customdata[0]}<br>Total Audience=%{customdata[1]}<extra></extra>",
         "legendgroup": "박사랑",
         "marker": {
          "color": "#B6E880",
          "pattern": {
           "shape": ""
          }
         },
         "name": "박사랑",
         "offsetgroup": "박사랑",
         "orientation": "v",
         "showlegend": true,
         "textposition": "auto",
         "type": "bar",
         "x": [
          "드라마"
         ],
         "xaxis": "x",
         "y": [
          3
         ],
         "yaxis": "y"
        },
        {
         "alignmentgroup": "True",
         "customdata": [
          [
           73937065095,
           8761983
          ]
         ],
         "hovertemplate": "Actor=정성화<br>Genre=%{x}<br>Count=%{y}<br>Total Revenue=%{customdata[0]}<br>Total Audience=%{customdata[1]}<extra></extra>",
         "legendgroup": "정성화",
         "marker": {
          "color": "#FF97FF",
          "pattern": {
           "shape": ""
          }
         },
         "name": "정성화",
         "offsetgroup": "정성화",
         "orientation": "v",
         "showlegend": true,
         "textposition": "auto",
         "type": "bar",
         "x": [
          "드라마"
         ],
         "xaxis": "x",
         "y": [
          3
         ],
         "yaxis": "y"
        },
        {
         "alignmentgroup": "True",
         "customdata": [
          [
           67588481408,
           10021554
          ],
          [
           58337923730,
           7795481
          ]
         ],
         "hovertemplate": "Actor=이미도<br>Genre=%{x}<br>Count=%{y}<br>Total Revenue=%{customdata[0]}<br>Total Audience=%{customdata[1]}<extra></extra>",
         "legendgroup": "이미도",
         "marker": {
          "color": "#FECB52",
          "pattern": {
           "shape": ""
          }
         },
         "name": "이미도",
         "offsetgroup": "이미도",
         "orientation": "v",
         "showlegend": true,
         "textposition": "auto",
         "type": "bar",
         "x": [
          "드라마",
          "멜로/로맨스"
         ],
         "xaxis": "x",
         "y": [
          3,
          3
         ],
         "yaxis": "y"
        },
        {
         "alignmentgroup": "True",
         "customdata": [
          [
           39667543227,
           7258659
          ]
         ],
         "hovertemplate": "Actor=이봉규<br>Genre=%{x}<br>Count=%{y}<br>Total Revenue=%{customdata[0]}<br>Total Audience=%{customdata[1]}<extra></extra>",
         "legendgroup": "이봉규",
         "marker": {
          "color": "#636efa",
          "pattern": {
           "shape": ""
          }
         },
         "name": "이봉규",
         "offsetgroup": "이봉규",
         "orientation": "v",
         "showlegend": true,
         "textposition": "auto",
         "type": "bar",
         "x": [
          "드라마"
         ],
         "xaxis": "x",
         "y": [
          3
         ],
         "yaxis": "y"
        },
        {
         "alignmentgroup": "True",
         "customdata": [
          [
           63600918950,
           8449347
          ]
         ],
         "hovertemplate": "Actor=최승현<br>Genre=%{x}<br>Count=%{y}<br>Total Revenue=%{customdata[0]}<br>Total Audience=%{customdata[1]}<extra></extra>",
         "legendgroup": "최승현",
         "marker": {
          "color": "#EF553B",
          "pattern": {
           "shape": ""
          }
         },
         "name": "최승현",
         "offsetgroup": "최승현",
         "orientation": "v",
         "showlegend": true,
         "textposition": "auto",
         "type": "bar",
         "x": [
          "드라마"
         ],
         "xaxis": "x",
         "y": [
          3
         ],
         "yaxis": "y"
        },
        {
         "alignmentgroup": "True",
         "customdata": [
          [
           64058734534,
           7623105
          ],
          [
           162250069111,
           18885927
          ]
         ],
         "hovertemplate": "Actor=이하늬<br>Genre=%{x}<br>Count=%{y}<br>Total Revenue=%{customdata[0]}<br>Total Audience=%{customdata[1]}<extra></extra>",
         "legendgroup": "이하늬",
         "marker": {
          "color": "#00cc96",
          "pattern": {
           "shape": ""
          }
         },
         "name": "이하늬",
         "offsetgroup": "이하늬",
         "orientation": "v",
         "showlegend": true,
         "textposition": "auto",
         "type": "bar",
         "x": [
          "드라마",
          "코미디"
         ],
         "xaxis": "x",
         "y": [
          3,
          3
         ],
         "yaxis": "y"
        },
        {
         "alignmentgroup": "True",
         "customdata": [
          [
           59452190329,
           6484406
          ]
         ],
         "hovertemplate": "Actor=박서준<br>Genre=%{x}<br>Count=%{y}<br>Total Revenue=%{customdata[0]}<br>Total Audience=%{customdata[1]}<extra></extra>",
         "legendgroup": "박서준",
         "marker": {
          "color": "#ab63fa",
          "pattern": {
           "shape": ""
          }
         },
         "name": "박서준",
         "offsetgroup": "박서준",
         "orientation": "v",
         "showlegend": true,
         "textposition": "auto",
         "type": "bar",
         "x": [
          "드라마"
         ],
         "xaxis": "x",
         "y": [
          3
         ],
         "yaxis": "y"
        },
        {
         "alignmentgroup": "True",
         "customdata": [
          [
           73986733782,
           7976393
          ]
         ],
         "hovertemplate": "Actor=김선영<br>Genre=%{x}<br>Count=%{y}<br>Total Revenue=%{customdata[0]}<br>Total Audience=%{customdata[1]}<extra></extra>",
         "legendgroup": "김선영",
         "marker": {
          "color": "#FFA15A",
          "pattern": {
           "shape": ""
          }
         },
         "name": "김선영",
         "offsetgroup": "김선영",
         "orientation": "v",
         "showlegend": true,
         "textposition": "auto",
         "type": "bar",
         "x": [
          "드라마"
         ],
         "xaxis": "x",
         "y": [
          3
         ],
         "yaxis": "y"
        },
        {
         "alignmentgroup": "True",
         "customdata": [
          [
           61465560678,
           6983313
          ]
         ],
         "hovertemplate": "Actor=김국희<br>Genre=%{x}<br>Count=%{y}<br>Total Revenue=%{customdata[0]}<br>Total Audience=%{customdata[1]}<extra></extra>",
         "legendgroup": "김국희",
         "marker": {
          "color": "#19d3f3",
          "pattern": {
           "shape": ""
          }
         },
         "name": "김국희",
         "offsetgroup": "김국희",
         "orientation": "v",
         "showlegend": true,
         "textposition": "auto",
         "type": "bar",
         "x": [
          "드라마"
         ],
         "xaxis": "x",
         "y": [
          3
         ],
         "yaxis": "y"
        },
        {
         "alignmentgroup": "True",
         "customdata": [
          [
           54017197282,
           6250948
          ]
         ],
         "hovertemplate": "Actor=백현진<br>Genre=%{x}<br>Count=%{y}<br>Total Revenue=%{customdata[0]}<br>Total Audience=%{customdata[1]}<extra></extra>",
         "legendgroup": "백현진",
         "marker": {
          "color": "#FF6692",
          "pattern": {
           "shape": ""
          }
         },
         "name": "백현진",
         "offsetgroup": "백현진",
         "orientation": "v",
         "showlegend": true,
         "textposition": "auto",
         "type": "bar",
         "x": [
          "드라마"
         ],
         "xaxis": "x",
         "y": [
          3
         ],
         "yaxis": "y"
        },
        {
         "alignmentgroup": "True",
         "customdata": [
          [
           47117218785,
           6768322
          ]
         ],
         "hovertemplate": "Actor=신현탁<br>Genre=%{x}<br>Count=%{y}<br>Total Revenue=%{customdata[0]}<br>Total Audience=%{customdata[1]}<extra></extra>",
         "legendgroup": "신현탁",
         "marker": {
          "color": "#B6E880",
          "pattern": {
           "shape": ""
          }
         },
         "name": "신현탁",
         "offsetgroup": "신현탁",
         "orientation": "v",
         "showlegend": true,
         "textposition": "auto",
         "type": "bar",
         "x": [
          "드라마"
         ],
         "xaxis": "x",
         "y": [
          3
         ],
         "yaxis": "y"
        },
        {
         "alignmentgroup": "True",
         "customdata": [
          [
           32995437000,
           6757903
          ]
         ],
         "hovertemplate": "Actor=수애<br>Genre=%{x}<br>Count=%{y}<br>Total Revenue=%{customdata[0]}<br>Total Audience=%{customdata[1]}<extra></extra>",
         "legendgroup": "수애",
         "marker": {
          "color": "#FF97FF",
          "pattern": {
           "shape": ""
          }
         },
         "name": "수애",
         "offsetgroup": "수애",
         "orientation": "v",
         "showlegend": true,
         "textposition": "auto",
         "type": "bar",
         "x": [
          "드라마"
         ],
         "xaxis": "x",
         "y": [
          3
         ],
         "yaxis": "y"
        },
        {
         "alignmentgroup": "True",
         "customdata": [
          [
           28456853938,
           6682762
          ]
         ],
         "hovertemplate": "Actor=송윤아<br>Genre=%{x}<br>Count=%{y}<br>Total Revenue=%{customdata[0]}<br>Total Audience=%{customdata[1]}<extra></extra>",
         "legendgroup": "송윤아",
         "marker": {
          "color": "#FECB52",
          "pattern": {
           "shape": ""
          }
         },
         "name": "송윤아",
         "offsetgroup": "송윤아",
         "orientation": "v",
         "showlegend": true,
         "textposition": "auto",
         "type": "bar",
         "x": [
          "드라마"
         ],
         "xaxis": "x",
         "y": [
          3
         ],
         "yaxis": "y"
        },
        {
         "alignmentgroup": "True",
         "customdata": [
          [
           49549447419,
           6026166
          ]
         ],
         "hovertemplate": "Actor=이무생<br>Genre=%{x}<br>Count=%{y}<br>Total Revenue=%{customdata[0]}<br>Total Audience=%{customdata[1]}<extra></extra>",
         "legendgroup": "이무생",
         "marker": {
          "color": "#636efa",
          "pattern": {
           "shape": ""
          }
         },
         "name": "이무생",
         "offsetgroup": "이무생",
         "orientation": "v",
         "showlegend": true,
         "textposition": "auto",
         "type": "bar",
         "x": [
          "드라마"
         ],
         "xaxis": "x",
         "y": [
          3
         ],
         "yaxis": "y"
        },
        {
         "alignmentgroup": "True",
         "customdata": [
          [
           45557966914,
           5906765
          ],
          [
           45841068558,
           6016779
          ]
         ],
         "hovertemplate": "Actor=김강현<br>Genre=%{x}<br>Count=%{y}<br>Total Revenue=%{customdata[0]}<br>Total Audience=%{customdata[1]}<extra></extra>",
         "legendgroup": "김강현",
         "marker": {
          "color": "#EF553B",
          "pattern": {
           "shape": ""
          }
         },
         "name": "김강현",
         "offsetgroup": "김강현",
         "orientation": "v",
         "showlegend": true,
         "textposition": "auto",
         "type": "bar",
         "x": [
          "드라마",
          "코미디"
         ],
         "xaxis": "x",
         "y": [
          3,
          3
         ],
         "yaxis": "y"
        },
        {
         "alignmentgroup": "True",
         "customdata": [
          [
           52271437900,
           6373059
          ],
          [
           66298648928,
           15563908
          ]
         ],
         "hovertemplate": "Actor=우현<br>Genre=%{x}<br>Count=%{y}<br>Total Revenue=%{customdata[0]}<br>Total Audience=%{customdata[1]}<extra></extra>",
         "legendgroup": "우현",
         "marker": {
          "color": "#00cc96",
          "pattern": {
           "shape": ""
          }
         },
         "name": "우현",
         "offsetgroup": "우현",
         "orientation": "v",
         "showlegend": true,
         "textposition": "auto",
         "type": "bar",
         "x": [
          "드라마",
          "코미디"
         ],
         "xaxis": "x",
         "y": [
          3,
          5
         ],
         "yaxis": "y"
        },
        {
         "alignmentgroup": "True",
         "customdata": [
          [
           32884304842,
           5933784
          ]
         ],
         "hovertemplate": "Actor=이윤희<br>Genre=%{x}<br>Count=%{y}<br>Total Revenue=%{customdata[0]}<br>Total Audience=%{customdata[1]}<extra></extra>",
         "legendgroup": "이윤희",
         "marker": {
          "color": "#ab63fa",
          "pattern": {
           "shape": ""
          }
         },
         "name": "이윤희",
         "offsetgroup": "이윤희",
         "orientation": "v",
         "showlegend": true,
         "textposition": "auto",
         "type": "bar",
         "x": [
          "드라마"
         ],
         "xaxis": "x",
         "y": [
          3
         ],
         "yaxis": "y"
        },
        {
         "alignmentgroup": "True",
         "customdata": [
          [
           40721064819,
           5128316
          ]
         ],
         "hovertemplate": "Actor=박근형<br>Genre=%{x}<br>Count=%{y}<br>Total Revenue=%{customdata[0]}<br>Total Audience=%{customdata[1]}<extra></extra>",
         "legendgroup": "박근형",
         "marker": {
          "color": "#FFA15A",
          "pattern": {
           "shape": ""
          }
         },
         "name": "박근형",
         "offsetgroup": "박근형",
         "orientation": "v",
         "showlegend": true,
         "textposition": "auto",
         "type": "bar",
         "x": [
          "드라마"
         ],
         "xaxis": "x",
         "y": [
          3
         ],
         "yaxis": "y"
        },
        {
         "alignmentgroup": "True",
         "customdata": [
          [
           35560950550,
           4806309
          ]
         ],
         "hovertemplate": "Actor=최희서<br>Genre=%{x}<br>Count=%{y}<br>Total Revenue=%{customdata[0]}<br>Total Audience=%{customdata[1]}<extra></extra>",
         "legendgroup": "최희서",
         "marker": {
          "color": "#19d3f3",
          "pattern": {
           "shape": ""
          }
         },
         "name": "최희서",
         "offsetgroup": "최희서",
         "orientation": "v",
         "showlegend": true,
         "textposition": "auto",
         "type": "bar",
         "x": [
          "드라마"
         ],
         "xaxis": "x",
         "y": [
          3
         ],
         "yaxis": "y"
        },
        {
         "alignmentgroup": "True",
         "customdata": [
          [
           36082919988,
           4610570
          ]
         ],
         "hovertemplate": "Actor=정준원<br>Genre=%{x}<br>Count=%{y}<br>Total Revenue=%{customdata[0]}<br>Total Audience=%{customdata[1]}<extra></extra>",
         "legendgroup": "정준원",
         "marker": {
          "color": "#FF6692",
          "pattern": {
           "shape": ""
          }
         },
         "name": "정준원",
         "offsetgroup": "정준원",
         "orientation": "v",
         "showlegend": true,
         "textposition": "auto",
         "type": "bar",
         "x": [
          "드라마"
         ],
         "xaxis": "x",
         "y": [
          3
         ],
         "yaxis": "y"
        },
        {
         "alignmentgroup": "True",
         "customdata": [
          [
           20824962671,
           5226019
          ],
          [
           45752067671,
           28357902
          ]
         ],
         "hovertemplate": "Actor=김수미<br>Genre=%{x}<br>Count=%{y}<br>Total Revenue=%{customdata[0]}<br>Total Audience=%{customdata[1]}<extra></extra>",
         "legendgroup": "김수미",
         "marker": {
          "color": "#B6E880",
          "pattern": {
           "shape": ""
          }
         },
         "name": "김수미",
         "offsetgroup": "김수미",
         "orientation": "v",
         "showlegend": true,
         "textposition": "auto",
         "type": "bar",
         "x": [
          "드라마",
          "코미디"
         ],
         "xaxis": "x",
         "y": [
          3,
          12
         ],
         "yaxis": "y"
        },
        {
         "alignmentgroup": "True",
         "customdata": [
          [
           44453177788,
           5424961
          ],
          [
           94951629432,
           11129704
          ]
         ],
         "hovertemplate": "Actor=이광수<br>Genre=%{x}<br>Count=%{y}<br>Total Revenue=%{customdata[0]}<br>Total Audience=%{customdata[1]}<extra></extra>",
         "legendgroup": "이광수",
         "marker": {
          "color": "#FF97FF",
          "pattern": {
           "shape": ""
          }
         },
         "name": "이광수",
         "offsetgroup": "이광수",
         "orientation": "v",
         "showlegend": true,
         "textposition": "auto",
         "type": "bar",
         "x": [
          "드라마",
          "코미디"
         ],
         "xaxis": "x",
         "y": [
          3,
          6
         ],
         "yaxis": "y"
        },
        {
         "alignmentgroup": "True",
         "customdata": [
          [
           38591837575,
           4624900
          ],
          [
           38591837575,
           4624900
          ]
         ],
         "hovertemplate": "Actor=유재명<br>Genre=%{x}<br>Count=%{y}<br>Total Revenue=%{customdata[0]}<br>Total Audience=%{customdata[1]}<extra></extra>",
         "legendgroup": "유재명",
         "marker": {
          "color": "#FECB52",
          "pattern": {
           "shape": ""
          }
         },
         "name": "유재명",
         "offsetgroup": "유재명",
         "orientation": "v",
         "showlegend": true,
         "textposition": "auto",
         "type": "bar",
         "x": [
          "드라마",
          "범죄"
         ],
         "xaxis": "x",
         "y": [
          3,
          3
         ],
         "yaxis": "y"
        },
        {
         "alignmentgroup": "True",
         "customdata": [
          [
           36158580976,
           4607306
          ]
         ],
         "hovertemplate": "Actor=허준석<br>Genre=%{x}<br>Count=%{y}<br>Total Revenue=%{customdata[0]}<br>Total Audience=%{customdata[1]}<extra></extra>",
         "legendgroup": "허준석",
         "marker": {
          "color": "#636efa",
          "pattern": {
           "shape": ""
          }
         },
         "name": "허준석",
         "offsetgroup": "허준석",
         "orientation": "v",
         "showlegend": true,
         "textposition": "auto",
         "type": "bar",
         "x": [
          "드라마"
         ],
         "xaxis": "x",
         "y": [
          3
         ],
         "yaxis": "y"
        },
        {
         "alignmentgroup": "True",
         "customdata": [
          [
           40252746986,
           5024134
          ]
         ],
         "hovertemplate": "Actor=김중기<br>Genre=%{x}<br>Count=%{y}<br>Total Revenue=%{customdata[0]}<br>Total Audience=%{customdata[1]}<extra></extra>",
         "legendgroup": "김중기",
         "marker": {
          "color": "#EF553B",
          "pattern": {
           "shape": ""
          }
         },
         "name": "김중기",
         "offsetgroup": "김중기",
         "orientation": "v",
         "showlegend": true,
         "textposition": "auto",
         "type": "bar",
         "x": [
          "드라마"
         ],
         "xaxis": "x",
         "y": [
          3
         ],
         "yaxis": "y"
        },
        {
         "alignmentgroup": "True",
         "customdata": [
          [
           null,
           4674803
          ],
          [
           null,
           4173587
          ],
          [
           22317339861,
           5271598
          ],
          [
           null,
           10800529
          ]
         ],
         "hovertemplate": "Actor=성지루<br>Genre=%{x}<br>Count=%{y}<br>Total Revenue=%{customdata[0]}<br>Total Audience=%{customdata[1]}<extra></extra>",
         "legendgroup": "성지루",
         "marker": {
          "color": "#00cc96",
          "pattern": {
           "shape": ""
          }
         },
         "name": "성지루",
         "offsetgroup": "성지루",
         "orientation": "v",
         "showlegend": true,
         "textposition": "auto",
         "type": "bar",
         "x": [
          "드라마",
          "범죄",
          "스릴러",
          "코미디"
         ],
         "xaxis": "x",
         "y": [
          3,
          3,
          3,
          6
         ],
         "yaxis": "y"
        },
        {
         "alignmentgroup": "True",
         "customdata": [
          [
           23865969000,
           5106232
          ]
         ],
         "hovertemplate": "Actor=이상훈<br>Genre=%{x}<br>Count=%{y}<br>Total Revenue=%{customdata[0]}<br>Total Audience=%{customdata[1]}<extra></extra>",
         "legendgroup": "이상훈",
         "marker": {
          "color": "#ab63fa",
          "pattern": {
           "shape": ""
          }
         },
         "name": "이상훈",
         "offsetgroup": "이상훈",
         "orientation": "v",
         "showlegend": true,
         "textposition": "auto",
         "type": "bar",
         "x": [
          "드라마"
         ],
         "xaxis": "x",
         "y": [
          3
         ],
         "yaxis": "y"
        },
        {
         "alignmentgroup": "True",
         "customdata": [
          [
           36852414835,
           4616178
          ],
          [
           44513214322,
           5680606
          ]
         ],
         "hovertemplate": "Actor=조복래<br>Genre=%{x}<br>Count=%{y}<br>Total Revenue=%{customdata[0]}<br>Total Audience=%{customdata[1]}<extra></extra>",
         "legendgroup": "조복래",
         "marker": {
          "color": "#FFA15A",
          "pattern": {
           "shape": ""
          }
         },
         "name": "조복래",
         "offsetgroup": "조복래",
         "orientation": "v",
         "showlegend": true,
         "textposition": "auto",
         "type": "bar",
         "x": [
          "드라마",
          "코미디"
         ],
         "xaxis": "x",
         "y": [
          3,
          3
         ],
         "yaxis": "y"
        },
        {
         "alignmentgroup": "True",
         "customdata": [
          [
           35428284410,
           4211646
          ]
         ],
         "hovertemplate": "Actor=박혜수<br>Genre=%{x}<br>Count=%{y}<br>Total Revenue=%{customdata[0]}<br>Total Audience=%{customdata[1]}<extra></extra>",
         "legendgroup": "박혜수",
         "marker": {
          "color": "#19d3f3",
          "pattern": {
           "shape": ""
          }
         },
         "name": "박혜수",
         "offsetgroup": "박혜수",
         "orientation": "v",
         "showlegend": true,
         "textposition": "auto",
         "type": "bar",
         "x": [
          "드라마"
         ],
         "xaxis": "x",
         "y": [
          3
         ],
         "yaxis": "y"
        },
        {
         "alignmentgroup": "True",
         "customdata": [
          [
           20972649639,
           3942269
          ],
          [
           38086215930,
           5890554
          ],
          [
           46255708083,
           7486624
          ]
         ],
         "hovertemplate": "Actor=공효진<br>Genre=%{x}<br>Count=%{y}<br>Total Revenue=%{customdata[0]}<br>Total Audience=%{customdata[1]}<extra></extra>",
         "legendgroup": "공효진",
         "marker": {
          "color": "#FF6692",
          "pattern": {
           "shape": ""
          }
         },
         "name": "공효진",
         "offsetgroup": "공효진",
         "orientation": "v",
         "showlegend": true,
         "textposition": "auto",
         "type": "bar",
         "x": [
          "드라마",
          "멜로/로맨스",
          "코미디"
         ],
         "xaxis": "x",
         "y": [
          3,
          3,
          4
         ],
         "yaxis": "y"
        },
        {
         "alignmentgroup": "True",
         "customdata": [
          [
           0,
           9201864
          ],
          [
           13579712500,
           6429589
          ]
         ],
         "hovertemplate": "Actor=박용우<br>Genre=%{x}<br>Count=%{y}<br>Total Revenue=%{customdata[0]}<br>Total Audience=%{customdata[1]}<extra></extra>",
         "legendgroup": "박용우",
         "marker": {
          "color": "#B6E880",
          "pattern": {
           "shape": ""
          }
         },
         "name": "박용우",
         "offsetgroup": "박용우",
         "orientation": "v",
         "showlegend": true,
         "textposition": "auto",
         "type": "bar",
         "x": [
          "멜로/로맨스",
          "스릴러"
         ],
         "xaxis": "x",
         "y": [
          3,
          3
         ],
         "yaxis": "y"
        },
        {
         "alignmentgroup": "True",
         "customdata": [
          [
           0,
           6424597
          ],
          [
           65837192701,
           7935995
          ],
          [
           51602018040,
           9018678
          ],
          [
           null,
           16527959
          ]
         ],
         "hovertemplate": "Actor=권상우<br>Genre=%{x}<br>Count=%{y}<br>Total Revenue=%{customdata[0]}<br>Total Audience=%{customdata[1]}<extra></extra>",
         "legendgroup": "권상우",
         "marker": {
          "color": "#FF97FF",
          "pattern": {
           "shape": ""
          }
         },
         "name": "권상우",
         "offsetgroup": "권상우",
         "orientation": "v",
         "showlegend": true,
         "textposition": "auto",
         "type": "bar",
         "x": [
          "멜로/로맨스",
          "범죄",
          "액션",
          "코미디"
         ],
         "xaxis": "x",
         "y": [
          3,
          3,
          4,
          6
         ],
         "yaxis": "y"
        },
        {
         "alignmentgroup": "True",
         "customdata": [
          [
           0,
           6886856
          ]
         ],
         "hovertemplate": "Actor=김부선<br>Genre=%{x}<br>Count=%{y}<br>Total Revenue=%{customdata[0]}<br>Total Audience=%{customdata[1]}<extra></extra>",
         "legendgroup": "김부선",
         "marker": {
          "color": "#FECB52",
          "pattern": {
           "shape": ""
          }
         },
         "name": "김부선",
         "offsetgroup": "김부선",
         "orientation": "v",
         "showlegend": true,
         "textposition": "auto",
         "type": "bar",
         "x": [
          "멜로/로맨스"
         ],
         "xaxis": "x",
         "y": [
          3
         ],
         "yaxis": "y"
        },
        {
         "alignmentgroup": "True",
         "customdata": [
          [
           51005279925,
           6878161
          ],
          [
           null,
           7668358
          ]
         ],
         "hovertemplate": "Actor=김주혁<br>Genre=%{x}<br>Count=%{y}<br>Total Revenue=%{customdata[0]}<br>Total Audience=%{customdata[1]}<extra></extra>",
         "legendgroup": "김주혁",
         "marker": {
          "color": "#636efa",
          "pattern": {
           "shape": ""
          }
         },
         "name": "김주혁",
         "offsetgroup": "김주혁",
         "orientation": "v",
         "showlegend": true,
         "textposition": "auto",
         "type": "bar",
         "x": [
          "멜로/로맨스",
          "코미디"
         ],
         "xaxis": "x",
         "y": [
          3,
          3
         ],
         "yaxis": "y"
        },
        {
         "alignmentgroup": "True",
         "customdata": [
          [
           62199701893,
           8362569
          ],
          [
           62199701893,
           8362569
          ]
         ],
         "hovertemplate": "Actor=송새벽<br>Genre=%{x}<br>Count=%{y}<br>Total Revenue=%{customdata[0]}<br>Total Audience=%{customdata[1]}<extra></extra>",
         "legendgroup": "송새벽",
         "marker": {
          "color": "#EF553B",
          "pattern": {
           "shape": ""
          }
         },
         "name": "송새벽",
         "offsetgroup": "송새벽",
         "orientation": "v",
         "showlegend": true,
         "textposition": "auto",
         "type": "bar",
         "x": [
          "멜로/로맨스",
          "코미디"
         ],
         "xaxis": "x",
         "y": [
          3,
          3
         ],
         "yaxis": "y"
        },
        {
         "alignmentgroup": "True",
         "customdata": [
          [
           58926402054,
           7847518
          ],
          [
           58926402054,
           7847518
          ]
         ],
         "hovertemplate": "Actor=류현경<br>Genre=%{x}<br>Count=%{y}<br>Total Revenue=%{customdata[0]}<br>Total Audience=%{customdata[1]}<extra></extra>",
         "legendgroup": "류현경",
         "marker": {
          "color": "#00cc96",
          "pattern": {
           "shape": ""
          }
         },
         "name": "류현경",
         "offsetgroup": "류현경",
         "orientation": "v",
         "showlegend": true,
         "textposition": "auto",
         "type": "bar",
         "x": [
          "멜로/로맨스",
          "코미디"
         ],
         "xaxis": "x",
         "y": [
          3,
          3
         ],
         "yaxis": "y"
        },
        {
         "alignmentgroup": "True",
         "customdata": [
          [
           35809841446,
           6722426
          ],
          [
           58770731446,
           9847495
          ]
         ],
         "hovertemplate": "Actor=이민기<br>Genre=%{x}<br>Count=%{y}<br>Total Revenue=%{customdata[0]}<br>Total Audience=%{customdata[1]}<extra></extra>",
         "legendgroup": "이민기",
         "marker": {
          "color": "#ab63fa",
          "pattern": {
           "shape": ""
          }
         },
         "name": "이민기",
         "offsetgroup": "이민기",
         "orientation": "v",
         "showlegend": true,
         "textposition": "auto",
         "type": "bar",
         "x": [
          "멜로/로맨스",
          "코미디"
         ],
         "xaxis": "x",
         "y": [
          3,
          4
         ],
         "yaxis": "y"
        },
        {
         "alignmentgroup": "True",
         "customdata": [
          [
           35231923161,
           7003639
          ],
          [
           62448606944,
           8202521
          ],
          [
           25961860161,
           4587380
          ]
         ],
         "hovertemplate": "Actor=조은지<br>Genre=%{x}<br>Count=%{y}<br>Total Revenue=%{customdata[0]}<br>Total Audience=%{customdata[1]}<extra></extra>",
         "legendgroup": "조은지",
         "marker": {
          "color": "#FFA15A",
          "pattern": {
           "shape": ""
          }
         },
         "name": "조은지",
         "offsetgroup": "조은지",
         "orientation": "v",
         "showlegend": true,
         "textposition": "auto",
         "type": "bar",
         "x": [
          "멜로/로맨스",
          "액션",
          "코미디"
         ],
         "xaxis": "x",
         "y": [
          3,
          4,
          3
         ],
         "yaxis": "y"
        },
        {
         "alignmentgroup": "True",
         "customdata": [
          [
           26135075701,
           5612851
          ]
         ],
         "hovertemplate": "Actor=최강희<br>Genre=%{x}<br>Count=%{y}<br>Total Revenue=%{customdata[0]}<br>Total Audience=%{customdata[1]}<extra></extra>",
         "legendgroup": "최강희",
         "marker": {
          "color": "#19d3f3",
          "pattern": {
           "shape": ""
          }
         },
         "name": "최강희",
         "offsetgroup": "최강희",
         "orientation": "v",
         "showlegend": true,
         "textposition": "auto",
         "type": "bar",
         "x": [
          "멜로/로맨스"
         ],
         "xaxis": "x",
         "y": [
          3
         ],
         "yaxis": "y"
        },
        {
         "alignmentgroup": "True",
         "customdata": [
          [
           0,
           8133962
          ],
          [
           13414023500,
           4726313
          ],
          [
           89559232124,
           17976860
          ]
         ],
         "hovertemplate": "Actor=한석규<br>Genre=%{x}<br>Count=%{y}<br>Total Revenue=%{customdata[0]}<br>Total Audience=%{customdata[1]}<extra></extra>",
         "legendgroup": "한석규",
         "marker": {
          "color": "#FF6692",
          "pattern": {
           "shape": ""
          }
         },
         "name": "한석규",
         "offsetgroup": "한석규",
         "orientation": "v",
         "showlegend": true,
         "textposition": "auto",
         "type": "bar",
         "x": [
          "미스터리",
          "스릴러",
          "액션"
         ],
         "xaxis": "x",
         "y": [
          3,
          3,
          4
         ],
         "yaxis": "y"
        },
        {
         "alignmentgroup": "True",
         "customdata": [
          [
           152625993051,
           21172840
          ],
          [
           92196552841,
           14156757
          ],
          [
           104711449741,
           12852698
          ]
         ],
         "hovertemplate": "Actor=박성웅<br>Genre=%{x}<br>Count=%{y}<br>Total Revenue=%{customdata[0]}<br>Total Audience=%{customdata[1]}<extra></extra>",
         "legendgroup": "박성웅",
         "marker": {
          "color": "#B6E880",
          "pattern": {
           "shape": ""
          }
         },
         "name": "박성웅",
         "offsetgroup": "박성웅",
         "orientation": "v",
         "showlegend": true,
         "textposition": "auto",
         "type": "bar",
         "x": [
          "범죄",
          "액션",
          "코미디"
         ],
         "xaxis": "x",
         "y": [
          5,
          5,
          3
         ],
         "yaxis": "y"
        },
        {
         "alignmentgroup": "True",
         "customdata": [
          [
           216744233777,
           22937376
          ],
          [
           237358511777,
           25343608
          ]
         ],
         "hovertemplate": "Actor=허동원<br>Genre=%{x}<br>Count=%{y}<br>Total Revenue=%{customdata[0]}<br>Total Audience=%{customdata[1]}<extra></extra>",
         "legendgroup": "허동원",
         "marker": {
          "color": "#FF97FF",
          "pattern": {
           "shape": ""
          }
         },
         "name": "허동원",
         "offsetgroup": "허동원",
         "orientation": "v",
         "showlegend": true,
         "textposition": "auto",
         "type": "bar",
         "x": [
          "범죄",
          "액션"
         ],
         "xaxis": "x",
         "y": [
          3,
          4
         ],
         "yaxis": "y"
        },
        {
         "alignmentgroup": "True",
         "customdata": [
          [
           112358013977,
           13397073
          ],
          [
           204150617703,
           22081521
          ]
         ],
         "hovertemplate": "Actor=김성규<br>Genre=%{x}<br>Count=%{y}<br>Total Revenue=%{customdata[0]}<br>Total Audience=%{customdata[1]}<extra></extra>",
         "legendgroup": "김성규",
         "marker": {
          "color": "#FECB52",
          "pattern": {
           "shape": ""
          }
         },
         "name": "김성규",
         "offsetgroup": "김성규",
         "orientation": "v",
         "showlegend": true,
         "textposition": "auto",
         "type": "bar",
         "x": [
          "범죄",
          "액션"
         ],
         "xaxis": "x",
         "y": [
          3,
          4
         ],
         "yaxis": "y"
        },
        {
         "alignmentgroup": "True",
         "customdata": [
          [
           81316695151,
           10850177
          ],
          [
           57061104090,
           10190030
          ]
         ],
         "hovertemplate": "Actor=서영희<br>Genre=%{x}<br>Count=%{y}<br>Total Revenue=%{customdata[0]}<br>Total Audience=%{customdata[1]}<extra></extra>",
         "legendgroup": "서영희",
         "marker": {
          "color": "#636efa",
          "pattern": {
           "shape": ""
          }
         },
         "name": "서영희",
         "offsetgroup": "서영희",
         "orientation": "v",
         "showlegend": true,
         "textposition": "auto",
         "type": "bar",
         "x": [
          "범죄",
          "코미디"
         ],
         "xaxis": "x",
         "y": [
          3,
          4
         ],
         "yaxis": "y"
        },
        {
         "alignmentgroup": "True",
         "customdata": [
          [
           74542572799,
           8457698
          ]
         ],
         "hovertemplate": "Actor=이주영<br>Genre=%{x}<br>Count=%{y}<br>Total Revenue=%{customdata[0]}<br>Total Audience=%{customdata[1]}<extra></extra>",
         "legendgroup": "이주영",
         "marker": {
          "color": "#EF553B",
          "pattern": {
           "shape": ""
          }
         },
         "name": "이주영",
         "offsetgroup": "이주영",
         "orientation": "v",
         "showlegend": true,
         "textposition": "auto",
         "type": "bar",
         "x": [
          "범죄"
         ],
         "xaxis": "x",
         "y": [
          3
         ],
         "yaxis": "y"
        },
        {
         "alignmentgroup": "True",
         "customdata": [
          [
           69511745425,
           8636049
          ],
          [
           29336070762,
           7953503
          ]
         ],
         "hovertemplate": "Actor=유지태<br>Genre=%{x}<br>Count=%{y}<br>Total Revenue=%{customdata[0]}<br>Total Audience=%{customdata[1]}<extra></extra>",
         "legendgroup": "유지태",
         "marker": {
          "color": "#00cc96",
          "pattern": {
           "shape": ""
          }
         },
         "name": "유지태",
         "offsetgroup": "유지태",
         "orientation": "v",
         "showlegend": true,
         "textposition": "auto",
         "type": "bar",
         "x": [
          "범죄",
          "스릴러"
         ],
         "xaxis": "x",
         "y": [
          3,
          4
         ],
         "yaxis": "y"
        },
        {
         "alignmentgroup": "True",
         "customdata": [
          [
           61126788269,
           7365160
          ]
         ],
         "hovertemplate": "Actor=김재영<br>Genre=%{x}<br>Count=%{y}<br>Total Revenue=%{customdata[0]}<br>Total Audience=%{customdata[1]}<extra></extra>",
         "legendgroup": "김재영",
         "marker": {
          "color": "#ab63fa",
          "pattern": {
           "shape": ""
          }
         },
         "name": "김재영",
         "offsetgroup": "김재영",
         "orientation": "v",
         "showlegend": true,
         "textposition": "auto",
         "type": "bar",
         "x": [
          "범죄"
         ],
         "xaxis": "x",
         "y": [
          3
         ],
         "yaxis": "y"
        },
        {
         "alignmentgroup": "True",
         "customdata": [
          [
           53354391665,
           6325124
          ],
          [
           98983948370,
           12261350
          ]
         ],
         "hovertemplate": "Actor=김무열<br>Genre=%{x}<br>Count=%{y}<br>Total Revenue=%{customdata[0]}<br>Total Audience=%{customdata[1]}<extra></extra>",
         "legendgroup": "김무열",
         "marker": {
          "color": "#FFA15A",
          "pattern": {
           "shape": ""
          }
         },
         "name": "김무열",
         "offsetgroup": "김무열",
         "orientation": "v",
         "showlegend": true,
         "textposition": "auto",
         "type": "bar",
         "x": [
          "범죄",
          "액션"
         ],
         "xaxis": "x",
         "y": [
          3,
          3
         ],
         "yaxis": "y"
        },
        {
         "alignmentgroup": "True",
         "customdata": [
          [
           56871196708,
           6783747
          ]
         ],
         "hovertemplate": "Actor=정인겸<br>Genre=%{x}<br>Count=%{y}<br>Total Revenue=%{customdata[0]}<br>Total Audience=%{customdata[1]}<extra></extra>",
         "legendgroup": "정인겸",
         "marker": {
          "color": "#19d3f3",
          "pattern": {
           "shape": ""
          }
         },
         "name": "정인겸",
         "offsetgroup": "정인겸",
         "orientation": "v",
         "showlegend": true,
         "textposition": "auto",
         "type": "bar",
         "x": [
          "범죄"
         ],
         "xaxis": "x",
         "y": [
          3
         ],
         "yaxis": "y"
        },
        {
         "alignmentgroup": "True",
         "customdata": [
          [
           79143313957,
           10886537
          ],
          [
           134710680358,
           15817711
          ]
         ],
         "hovertemplate": "Actor=손현주<br>Genre=%{x}<br>Count=%{y}<br>Total Revenue=%{customdata[0]}<br>Total Audience=%{customdata[1]}<extra></extra>",
         "legendgroup": "손현주",
         "marker": {
          "color": "#FF6692",
          "pattern": {
           "shape": ""
          }
         },
         "name": "손현주",
         "offsetgroup": "손현주",
         "orientation": "v",
         "showlegend": true,
         "textposition": "auto",
         "type": "bar",
         "x": [
          "스릴러",
          "액션"
         ],
         "xaxis": "x",
         "y": [
          4,
          3
         ],
         "yaxis": "y"
        },
        {
         "alignmentgroup": "True",
         "customdata": [
          [
           41500459681,
           7691887
          ],
          [
           null,
           7182195
          ]
         ],
         "hovertemplate": "Actor=조희봉<br>Genre=%{x}<br>Count=%{y}<br>Total Revenue=%{customdata[0]}<br>Total Audience=%{customdata[1]}<extra></extra>",
         "legendgroup": "조희봉",
         "marker": {
          "color": "#B6E880",
          "pattern": {
           "shape": ""
          }
         },
         "name": "조희봉",
         "offsetgroup": "조희봉",
         "orientation": "v",
         "showlegend": true,
         "textposition": "auto",
         "type": "bar",
         "x": [
          "스릴러",
          "코미디"
         ],
         "xaxis": "x",
         "y": [
          4,
          4
         ],
         "yaxis": "y"
        },
        {
         "alignmentgroup": "True",
         "customdata": [
          [
           33642234279,
           6323872
          ]
         ],
         "hovertemplate": "Actor=신현종<br>Genre=%{x}<br>Count=%{y}<br>Total Revenue=%{customdata[0]}<br>Total Audience=%{customdata[1]}<extra></extra>",
         "legendgroup": "신현종",
         "marker": {
          "color": "#FF97FF",
          "pattern": {
           "shape": ""
          }
         },
         "name": "신현종",
         "offsetgroup": "신현종",
         "orientation": "v",
         "showlegend": true,
         "textposition": "auto",
         "type": "bar",
         "x": [
          "스릴러"
         ],
         "xaxis": "x",
         "y": [
          4
         ],
         "yaxis": "y"
        },
        {
         "alignmentgroup": "True",
         "customdata": [
          [
           89731362001,
           12061076
          ]
         ],
         "hovertemplate": "Actor=문정희<br>Genre=%{x}<br>Count=%{y}<br>Total Revenue=%{customdata[0]}<br>Total Audience=%{customdata[1]}<extra></extra>",
         "legendgroup": "문정희",
         "marker": {
          "color": "#FECB52",
          "pattern": {
           "shape": ""
          }
         },
         "name": "문정희",
         "offsetgroup": "문정희",
         "orientation": "v",
         "showlegend": true,
         "textposition": "auto",
         "type": "bar",
         "x": [
          "스릴러"
         ],
         "xaxis": "x",
         "y": [
          3
         ],
         "yaxis": "y"
        },
        {
         "alignmentgroup": "True",
         "customdata": [
          [
           79663551486,
           9628221
          ],
          [
           53813328488,
           7346954
          ]
         ],
         "hovertemplate": "Actor=조성하<br>Genre=%{x}<br>Count=%{y}<br>Total Revenue=%{customdata[0]}<br>Total Audience=%{customdata[1]}<extra></extra>",
         "legendgroup": "조성하",
         "marker": {
          "color": "#636efa",
          "pattern": {
           "shape": ""
          }
         },
         "name": "조성하",
         "offsetgroup": "조성하",
         "orientation": "v",
         "showlegend": true,
         "textposition": "auto",
         "type": "bar",
         "x": [
          "스릴러",
          "액션"
         ],
         "xaxis": "x",
         "y": [
          3,
          3
         ],
         "yaxis": "y"
        },
        {
         "alignmentgroup": "True",
         "customdata": [
          [
           55120181830,
           6277630
          ],
          [
           97425500047,
           13046862
          ],
          [
           102951143168,
           13558585
          ]
         ],
         "hovertemplate": "Actor=최무성<br>Genre=%{x}<br>Count=%{y}<br>Total Revenue=%{customdata[0]}<br>Total Audience=%{customdata[1]}<extra></extra>",
         "legendgroup": "최무성",
         "marker": {
          "color": "#EF553B",
          "pattern": {
           "shape": ""
          }
         },
         "name": "최무성",
         "offsetgroup": "최무성",
         "orientation": "v",
         "showlegend": true,
         "textposition": "auto",
         "type": "bar",
         "x": [
          "스릴러",
          "액션",
          "코미디"
         ],
         "xaxis": "x",
         "y": [
          3,
          3,
          4
         ],
         "yaxis": "y"
        },
        {
         "alignmentgroup": "True",
         "customdata": [
          [
           53400926466,
           6826281
          ]
         ],
         "hovertemplate": "Actor=이상희<br>Genre=%{x}<br>Count=%{y}<br>Total Revenue=%{customdata[0]}<br>Total Audience=%{customdata[1]}<extra></extra>",
         "legendgroup": "이상희",
         "marker": {
          "color": "#00cc96",
          "pattern": {
           "shape": ""
          }
         },
         "name": "이상희",
         "offsetgroup": "이상희",
         "orientation": "v",
         "showlegend": true,
         "textposition": "auto",
         "type": "bar",
         "x": [
          "스릴러"
         ],
         "xaxis": "x",
         "y": [
          3
         ],
         "yaxis": "y"
        },
        {
         "alignmentgroup": "True",
         "customdata": [
          [
           9905406822,
           4918126
          ]
         ],
         "hovertemplate": "Actor=윤세아<br>Genre=%{x}<br>Count=%{y}<br>Total Revenue=%{customdata[0]}<br>Total Audience=%{customdata[1]}<extra></extra>",
         "legendgroup": "윤세아",
         "marker": {
          "color": "#ab63fa",
          "pattern": {
           "shape": ""
          }
         },
         "name": "윤세아",
         "offsetgroup": "윤세아",
         "orientation": "v",
         "showlegend": true,
         "textposition": "auto",
         "type": "bar",
         "x": [
          "스릴러"
         ],
         "xaxis": "x",
         "y": [
          3
         ],
         "yaxis": "y"
        },
        {
         "alignmentgroup": "True",
         "customdata": [
          [
           25114973124,
           4946022
          ],
          [
           114145721372,
           15431147
          ]
         ],
         "hovertemplate": "Actor=엄지원<br>Genre=%{x}<br>Count=%{y}<br>Total Revenue=%{customdata[0]}<br>Total Audience=%{customdata[1]}<extra></extra>",
         "legendgroup": "엄지원",
         "marker": {
          "color": "#FFA15A",
          "pattern": {
           "shape": ""
          }
         },
         "name": "엄지원",
         "offsetgroup": "엄지원",
         "orientation": "v",
         "showlegend": true,
         "textposition": "auto",
         "type": "bar",
         "x": [
          "스릴러",
          "액션"
         ],
         "xaxis": "x",
         "y": [
          3,
          3
         ],
         "yaxis": "y"
        },
        {
         "alignmentgroup": "True",
         "customdata": [
          [
           276804953612,
           34015599
          ]
         ],
         "hovertemplate": "Actor=주석태<br>Genre=%{x}<br>Count=%{y}<br>Total Revenue=%{customdata[0]}<br>Total Audience=%{customdata[1]}<extra></extra>",
         "legendgroup": "주석태",
         "marker": {
          "color": "#19d3f3",
          "pattern": {
           "shape": ""
          }
         },
         "name": "주석태",
         "offsetgroup": "주석태",
         "orientation": "v",
         "showlegend": true,
         "textposition": "auto",
         "type": "bar",
         "x": [
          "액션"
         ],
         "xaxis": "x",
         "y": [
          5
         ],
         "yaxis": "y"
        },
        {
         "alignmentgroup": "True",
         "customdata": [
          [
           133498659227,
           19051075
          ],
          [
           null,
           11533218
          ]
         ],
         "hovertemplate": "Actor=이범수<br>Genre=%{x}<br>Count=%{y}<br>Total Revenue=%{customdata[0]}<br>Total Audience=%{customdata[1]}<extra></extra>",
         "legendgroup": "이범수",
         "marker": {
          "color": "#FF6692",
          "pattern": {
           "shape": ""
          }
         },
         "name": "이범수",
         "offsetgroup": "이범수",
         "orientation": "v",
         "showlegend": true,
         "textposition": "auto",
         "type": "bar",
         "x": [
          "액션",
          "코미디"
         ],
         "xaxis": "x",
         "y": [
          5,
          5
         ],
         "yaxis": "y"
        },
        {
         "alignmentgroup": "True",
         "customdata": [
          [
           230311383268,
           29246768
          ]
         ],
         "hovertemplate": "Actor=이정현<br>Genre=%{x}<br>Count=%{y}<br>Total Revenue=%{customdata[0]}<br>Total Audience=%{customdata[1]}<extra></extra>",
         "legendgroup": "이정현",
         "marker": {
          "color": "#B6E880",
          "pattern": {
           "shape": ""
          }
         },
         "name": "이정현",
         "offsetgroup": "이정현",
         "orientation": "v",
         "showlegend": true,
         "textposition": "auto",
         "type": "bar",
         "x": [
          "액션"
         ],
         "xaxis": "x",
         "y": [
          4
         ],
         "yaxis": "y"
        },
        {
         "alignmentgroup": "True",
         "customdata": [
          [
           152035934215,
           19625402
          ],
          [
           72153130908,
           16756939
          ]
         ],
         "hovertemplate": "Actor=정웅인<br>Genre=%{x}<br>Count=%{y}<br>Total Revenue=%{customdata[0]}<br>Total Audience=%{customdata[1]}<extra></extra>",
         "legendgroup": "정웅인",
         "marker": {
          "color": "#FF97FF",
          "pattern": {
           "shape": ""
          }
         },
         "name": "정웅인",
         "offsetgroup": "정웅인",
         "orientation": "v",
         "showlegend": true,
         "textposition": "auto",
         "type": "bar",
         "x": [
          "액션",
          "코미디"
         ],
         "xaxis": "x",
         "y": [
          4,
          6
         ],
         "yaxis": "y"
        },
        {
         "alignmentgroup": "True",
         "customdata": [
          [
           152546599024,
           22737891
          ]
         ],
         "hovertemplate": "Actor=김수현<br>Genre=%{x}<br>Count=%{y}<br>Total Revenue=%{customdata[0]}<br>Total Audience=%{customdata[1]}<extra></extra>",
         "legendgroup": "김수현",
         "marker": {
          "color": "#FECB52",
          "pattern": {
           "shape": ""
          }
         },
         "name": "김수현",
         "offsetgroup": "김수현",
         "orientation": "v",
         "showlegend": true,
         "textposition": "auto",
         "type": "bar",
         "x": [
          "액션"
         ],
         "xaxis": "x",
         "y": [
          4
         ],
         "yaxis": "y"
        },
        {
         "alignmentgroup": "True",
         "customdata": [
          [
           233932479531,
           24012402
          ]
         ],
         "hovertemplate": "Actor=안세호<br>Genre=%{x}<br>Count=%{y}<br>Total Revenue=%{customdata[0]}<br>Total Audience=%{customdata[1]}<extra></extra>",
         "legendgroup": "안세호",
         "marker": {
          "color": "#636efa",
          "pattern": {
           "shape": ""
          }
         },
         "name": "안세호",
         "offsetgroup": "안세호",
         "orientation": "v",
         "showlegend": true,
         "textposition": "auto",
         "type": "bar",
         "x": [
          "액션"
         ],
         "xaxis": "x",
         "y": [
          4
         ],
         "yaxis": "y"
        },
        {
         "alignmentgroup": "True",
         "customdata": [
          [
           115754739709,
           14224860
          ]
         ],
         "hovertemplate": "Actor=김우빈<br>Genre=%{x}<br>Count=%{y}<br>Total Revenue=%{customdata[0]}<br>Total Audience=%{customdata[1]}<extra></extra>",
         "legendgroup": "김우빈",
         "marker": {
          "color": "#EF553B",
          "pattern": {
           "shape": ""
          }
         },
         "name": "김우빈",
         "offsetgroup": "김우빈",
         "orientation": "v",
         "showlegend": true,
         "textposition": "auto",
         "type": "bar",
         "x": [
          "액션"
         ],
         "xaxis": "x",
         "y": [
          4
         ],
         "yaxis": "y"
        },
        {
         "alignmentgroup": "True",
         "customdata": [
          [
           123868523230,
           13172054
          ],
          [
           43167205687,
           4551038
          ]
         ],
         "hovertemplate": "Actor=윤병희<br>Genre=%{x}<br>Count=%{y}<br>Total Revenue=%{customdata[0]}<br>Total Audience=%{customdata[1]}<extra></extra>",
         "legendgroup": "윤병희",
         "marker": {
          "color": "#00cc96",
          "pattern": {
           "shape": ""
          }
         },
         "name": "윤병희",
         "offsetgroup": "윤병희",
         "orientation": "v",
         "showlegend": true,
         "textposition": "auto",
         "type": "bar",
         "x": [
          "액션",
          "코미디"
         ],
         "xaxis": "x",
         "y": [
          4,
          3
         ],
         "yaxis": "y"
        },
        {
         "alignmentgroup": "True",
         "customdata": [
          [
           13414023500,
           10381690
          ]
         ],
         "hovertemplate": "Actor=김혜정<br>Genre=%{x}<br>Count=%{y}<br>Total Revenue=%{customdata[0]}<br>Total Audience=%{customdata[1]}<extra></extra>",
         "legendgroup": "김혜정",
         "marker": {
          "color": "#ab63fa",
          "pattern": {
           "shape": ""
          }
         },
         "name": "김혜정",
         "offsetgroup": "김혜정",
         "orientation": "v",
         "showlegend": true,
         "textposition": "auto",
         "type": "bar",
         "x": [
          "액션"
         ],
         "xaxis": "x",
         "y": [
          4
         ],
         "yaxis": "y"
        },
        {
         "alignmentgroup": "True",
         "customdata": [
          [
           62404586086,
           7884544
          ],
          [
           62772574884,
           8313560
          ]
         ],
         "hovertemplate": "Actor=이선균<br>Genre=%{x}<br>Count=%{y}<br>Total Revenue=%{customdata[0]}<br>Total Audience=%{customdata[1]}<extra></extra>",
         "legendgroup": "이선균",
         "marker": {
          "color": "#FFA15A",
          "pattern": {
           "shape": ""
          }
         },
         "name": "이선균",
         "offsetgroup": "이선균",
         "orientation": "v",
         "showlegend": true,
         "textposition": "auto",
         "type": "bar",
         "x": [
          "액션",
          "코미디"
         ],
         "xaxis": "x",
         "y": [
          4,
          3
         ],
         "yaxis": "y"
        },
        {
         "alignmentgroup": "True",
         "customdata": [
          [
           172508258106,
           22410741
          ]
         ],
         "hovertemplate": "Actor=박보검<br>Genre=%{x}<br>Count=%{y}<br>Total Revenue=%{customdata[0]}<br>Total Audience=%{customdata[1]}<extra></extra>",
         "legendgroup": "박보검",
         "marker": {
          "color": "#19d3f3",
          "pattern": {
           "shape": ""
          }
         },
         "name": "박보검",
         "offsetgroup": "박보검",
         "orientation": "v",
         "showlegend": true,
         "textposition": "auto",
         "type": "bar",
         "x": [
          "액션"
         ],
         "xaxis": "x",
         "y": [
          3
         ],
         "yaxis": "y"
        },
        {
         "alignmentgroup": "True",
         "customdata": [
          [
           244483632918,
           32855229
          ]
         ],
         "hovertemplate": "Actor=전지현<br>Genre=%{x}<br>Count=%{y}<br>Total Revenue=%{customdata[0]}<br>Total Audience=%{customdata[1]}<extra></extra>",
         "legendgroup": "전지현",
         "marker": {
          "color": "#FF6692",
          "pattern": {
           "shape": ""
          }
         },
         "name": "전지현",
         "offsetgroup": "전지현",
         "orientation": "v",
         "showlegend": true,
         "textposition": "auto",
         "type": "bar",
         "x": [
          "액션"
         ],
         "xaxis": "x",
         "y": [
          3
         ],
         "yaxis": "y"
        },
        {
         "alignmentgroup": "True",
         "customdata": [
          [
           196842492537,
           20667420
          ]
         ],
         "hovertemplate": "Actor=최귀화<br>Genre=%{x}<br>Count=%{y}<br>Total Revenue=%{customdata[0]}<br>Total Audience=%{customdata[1]}<extra></extra>",
         "legendgroup": "최귀화",
         "marker": {
          "color": "#B6E880",
          "pattern": {
           "shape": ""
          }
         },
         "name": "최귀화",
         "offsetgroup": "최귀화",
         "orientation": "v",
         "showlegend": true,
         "textposition": "auto",
         "type": "bar",
         "x": [
          "액션"
         ],
         "xaxis": "x",
         "y": [
          3
         ],
         "yaxis": "y"
        },
        {
         "alignmentgroup": "True",
         "customdata": [
          [
           213930296074,
           24226337
          ]
         ],
         "hovertemplate": "Actor=임윤아<br>Genre=%{x}<br>Count=%{y}<br>Total Revenue=%{customdata[0]}<br>Total Audience=%{customdata[1]}<extra></extra>",
         "legendgroup": "임윤아",
         "marker": {
          "color": "#FF97FF",
          "pattern": {
           "shape": ""
          }
         },
         "name": "임윤아",
         "offsetgroup": "임윤아",
         "orientation": "v",
         "showlegend": true,
         "textposition": "auto",
         "type": "bar",
         "x": [
          "액션"
         ],
         "xaxis": "x",
         "y": [
          3
         ],
         "yaxis": "y"
        },
        {
         "alignmentgroup": "True",
         "customdata": [
          [
           147973856402,
           16399576
          ]
         ],
         "hovertemplate": "Actor=현빈<br>Genre=%{x}<br>Count=%{y}<br>Total Revenue=%{customdata[0]}<br>Total Audience=%{customdata[1]}<extra></extra>",
         "legendgroup": "현빈",
         "marker": {
          "color": "#FECB52",
          "pattern": {
           "shape": ""
          }
         },
         "name": "현빈",
         "offsetgroup": "현빈",
         "orientation": "v",
         "showlegend": true,
         "textposition": "auto",
         "type": "bar",
         "x": [
          "액션"
         ],
         "xaxis": "x",
         "y": [
          3
         ],
         "yaxis": "y"
        },
        {
         "alignmentgroup": "True",
         "customdata": [
          [
           127106337276,
           14199308
          ]
         ],
         "hovertemplate": "Actor=변요한<br>Genre=%{x}<br>Count=%{y}<br>Total Revenue=%{customdata[0]}<br>Total Audience=%{customdata[1]}<extra></extra>",
         "legendgroup": "변요한",
         "marker": {
          "color": "#636efa",
          "pattern": {
           "shape": ""
          }
         },
         "name": "변요한",
         "offsetgroup": "변요한",
         "orientation": "v",
         "showlegend": true,
         "textposition": "auto",
         "type": "bar",
         "x": [
          "액션"
         ],
         "xaxis": "x",
         "y": [
          3
         ],
         "yaxis": "y"
        },
        {
         "alignmentgroup": "True",
         "customdata": [
          [
           189618415990,
           18820160
          ]
         ],
         "hovertemplate": "Actor=박훈<br>Genre=%{x}<br>Count=%{y}<br>Total Revenue=%{customdata[0]}<br>Total Audience=%{customdata[1]}<extra></extra>",
         "legendgroup": "박훈",
         "marker": {
          "color": "#EF553B",
          "pattern": {
           "shape": ""
          }
         },
         "name": "박훈",
         "offsetgroup": "박훈",
         "orientation": "v",
         "showlegend": true,
         "textposition": "auto",
         "type": "bar",
         "x": [
          "액션"
         ],
         "xaxis": "x",
         "y": [
          3
         ],
         "yaxis": "y"
        },
        {
         "alignmentgroup": "True",
         "customdata": [
          [
           121402747412,
           15545425
          ]
         ],
         "hovertemplate": "Actor=배정남<br>Genre=%{x}<br>Count=%{y}<br>Total Revenue=%{customdata[0]}<br>Total Audience=%{customdata[1]}<extra></extra>",
         "legendgroup": "배정남",
         "marker": {
          "color": "#00cc96",
          "pattern": {
           "shape": ""
          }
         },
         "name": "배정남",
         "offsetgroup": "배정남",
         "orientation": "v",
         "showlegend": true,
         "textposition": "auto",
         "type": "bar",
         "x": [
          "액션"
         ],
         "xaxis": "x",
         "y": [
          3
         ],
         "yaxis": "y"
        },
        {
         "alignmentgroup": "True",
         "customdata": [
          [
           89449010060,
           10917715
          ]
         ],
         "hovertemplate": "Actor=우도환<br>Genre=%{x}<br>Count=%{y}<br>Total Revenue=%{customdata[0]}<br>Total Audience=%{customdata[1]}<extra></extra>",
         "legendgroup": "우도환",
         "marker": {
          "color": "#ab63fa",
          "pattern": {
           "shape": ""
          }
         },
         "name": "우도환",
         "offsetgroup": "우도환",
         "orientation": "v",
         "showlegend": true,
         "textposition": "auto",
         "type": "bar",
         "x": [
          "액션"
         ],
         "xaxis": "x",
         "y": [
          3
         ],
         "yaxis": "y"
        },
        {
         "alignmentgroup": "True",
         "customdata": [
          [
           133666029335,
           15003626
          ]
         ],
         "hovertemplate": "Actor=이태형<br>Genre=%{x}<br>Count=%{y}<br>Total Revenue=%{customdata[0]}<br>Total Audience=%{customdata[1]}<extra></extra>",
         "legendgroup": "이태형",
         "marker": {
          "color": "#FFA15A",
          "pattern": {
           "shape": ""
          }
         },
         "name": "이태형",
         "offsetgroup": "이태형",
         "orientation": "v",
         "showlegend": true,
         "textposition": "auto",
         "type": "bar",
         "x": [
          "액션"
         ],
         "xaxis": "x",
         "y": [
          3
         ],
         "yaxis": "y"
        },
        {
         "alignmentgroup": "True",
         "customdata": [
          [
           73819943499,
           9533407
          ]
         ],
         "hovertemplate": "Actor=차엽<br>Genre=%{x}<br>Count=%{y}<br>Total Revenue=%{customdata[0]}<br>Total Audience=%{customdata[1]}<extra></extra>",
         "legendgroup": "차엽",
         "marker": {
          "color": "#19d3f3",
          "pattern": {
           "shape": ""
          }
         },
         "name": "차엽",
         "offsetgroup": "차엽",
         "orientation": "v",
         "showlegend": true,
         "textposition": "auto",
         "type": "bar",
         "x": [
          "액션"
         ],
         "xaxis": "x",
         "y": [
          3
         ],
         "yaxis": "y"
        },
        {
         "alignmentgroup": "True",
         "customdata": [
          [
           68140021539,
           10721661
          ]
         ],
         "hovertemplate": "Actor=유오성<br>Genre=%{x}<br>Count=%{y}<br>Total Revenue=%{customdata[0]}<br>Total Audience=%{customdata[1]}<extra></extra>",
         "legendgroup": "유오성",
         "marker": {
          "color": "#FF6692",
          "pattern": {
           "shape": ""
          }
         },
         "name": "유오성",
         "offsetgroup": "유오성",
         "orientation": "v",
         "showlegend": true,
         "textposition": "auto",
         "type": "bar",
         "x": [
          "액션"
         ],
         "xaxis": "x",
         "y": [
          3
         ],
         "yaxis": "y"
        },
        {
         "alignmentgroup": "True",
         "customdata": [
          [
           102878799288,
           10673632
          ]
         ],
         "hovertemplate": "Actor=박경혜<br>Genre=%{x}<br>Count=%{y}<br>Total Revenue=%{customdata[0]}<br>Total Audience=%{customdata[1]}<extra></extra>",
         "legendgroup": "박경혜",
         "marker": {
          "color": "#B6E880",
          "pattern": {
           "shape": ""
          }
         },
         "name": "박경혜",
         "offsetgroup": "박경혜",
         "orientation": "v",
         "showlegend": true,
         "textposition": "auto",
         "type": "bar",
         "x": [
          "액션"
         ],
         "xaxis": "x",
         "y": [
          3
         ],
         "yaxis": "y"
        },
        {
         "alignmentgroup": "True",
         "customdata": [
          [
           102878799288,
           10673632
          ]
         ],
         "hovertemplate": "Actor=주보비<br>Genre=%{x}<br>Count=%{y}<br>Total Revenue=%{customdata[0]}<br>Total Audience=%{customdata[1]}<extra></extra>",
         "legendgroup": "주보비",
         "marker": {
          "color": "#FF97FF",
          "pattern": {
           "shape": ""
          }
         },
         "name": "주보비",
         "offsetgroup": "주보비",
         "orientation": "v",
         "showlegend": true,
         "textposition": "auto",
         "type": "bar",
         "x": [
          "액션"
         ],
         "xaxis": "x",
         "y": [
          3
         ],
         "yaxis": "y"
        },
        {
         "alignmentgroup": "True",
         "customdata": [
          [
           72963967633,
           9224290
          ]
         ],
         "hovertemplate": "Actor=김윤성<br>Genre=%{x}<br>Count=%{y}<br>Total Revenue=%{customdata[0]}<br>Total Audience=%{customdata[1]}<extra></extra>",
         "legendgroup": "김윤성",
         "marker": {
          "color": "#FECB52",
          "pattern": {
           "shape": ""
          }
         },
         "name": "김윤성",
         "offsetgroup": "김윤성",
         "orientation": "v",
         "showlegend": true,
         "textposition": "auto",
         "type": "bar",
         "x": [
          "액션"
         ],
         "xaxis": "x",
         "y": [
          3
         ],
         "yaxis": "y"
        },
        {
         "alignmentgroup": "True",
         "customdata": [
          [
           48163116495,
           8891613
          ]
         ],
         "hovertemplate": "Actor=박효준<br>Genre=%{x}<br>Count=%{y}<br>Total Revenue=%{customdata[0]}<br>Total Audience=%{customdata[1]}<extra></extra>",
         "legendgroup": "박효준",
         "marker": {
          "color": "#636efa",
          "pattern": {
           "shape": ""
          }
         },
         "name": "박효준",
         "offsetgroup": "박효준",
         "orientation": "v",
         "showlegend": true,
         "textposition": "auto",
         "type": "bar",
         "x": [
          "액션"
         ],
         "xaxis": "x",
         "y": [
          3
         ],
         "yaxis": "y"
        },
        {
         "alignmentgroup": "True",
         "customdata": [
          [
           81259180420,
           10109717
          ]
         ],
         "hovertemplate": "Actor=지승현<br>Genre=%{x}<br>Count=%{y}<br>Total Revenue=%{customdata[0]}<br>Total Audience=%{customdata[1]}<extra></extra>",
         "legendgroup": "지승현",
         "marker": {
          "color": "#EF553B",
          "pattern": {
           "shape": ""
          }
         },
         "name": "지승현",
         "offsetgroup": "지승현",
         "orientation": "v",
         "showlegend": true,
         "textposition": "auto",
         "type": "bar",
         "x": [
          "액션"
         ],
         "xaxis": "x",
         "y": [
          3
         ],
         "yaxis": "y"
        },
        {
         "alignmentgroup": "True",
         "customdata": [
          [
           97629242737,
           10356546
          ]
         ],
         "hovertemplate": "Actor=박명훈<br>Genre=%{x}<br>Count=%{y}<br>Total Revenue=%{customdata[0]}<br>Total Audience=%{customdata[1]}<extra></extra>",
         "legendgroup": "박명훈",
         "marker": {
          "color": "#00cc96",
          "pattern": {
           "shape": ""
          }
         },
         "name": "박명훈",
         "offsetgroup": "박명훈",
         "orientation": "v",
         "showlegend": true,
         "textposition": "auto",
         "type": "bar",
         "x": [
          "액션"
         ],
         "xaxis": "x",
         "y": [
          3
         ],
         "yaxis": "y"
        },
        {
         "alignmentgroup": "True",
         "customdata": [
          [
           45397716152,
           6743241
          ]
         ],
         "hovertemplate": "Actor=강지환<br>Genre=%{x}<br>Count=%{y}<br>Total Revenue=%{customdata[0]}<br>Total Audience=%{customdata[1]}<extra></extra>",
         "legendgroup": "강지환",
         "marker": {
          "color": "#ab63fa",
          "pattern": {
           "shape": ""
          }
         },
         "name": "강지환",
         "offsetgroup": "강지환",
         "orientation": "v",
         "showlegend": true,
         "textposition": "auto",
         "type": "bar",
         "x": [
          "액션"
         ],
         "xaxis": "x",
         "y": [
          3
         ],
         "yaxis": "y"
        },
        {
         "alignmentgroup": "True",
         "customdata": [
          [
           0,
           6425540
          ]
         ],
         "hovertemplate": "Actor=이종혁<br>Genre=%{x}<br>Count=%{y}<br>Total Revenue=%{customdata[0]}<br>Total Audience=%{customdata[1]}<extra></extra>",
         "legendgroup": "이종혁",
         "marker": {
          "color": "#FFA15A",
          "pattern": {
           "shape": ""
          }
         },
         "name": "이종혁",
         "offsetgroup": "이종혁",
         "orientation": "v",
         "showlegend": true,
         "textposition": "auto",
         "type": "bar",
         "x": [
          "액션"
         ],
         "xaxis": "x",
         "y": [
          3
         ],
         "yaxis": "y"
        },
        {
         "alignmentgroup": "True",
         "customdata": [
          [
           37457206833,
           4945868
          ]
         ],
         "hovertemplate": "Actor=염동헌<br>Genre=%{x}<br>Count=%{y}<br>Total Revenue=%{customdata[0]}<br>Total Audience=%{customdata[1]}<extra></extra>",
         "legendgroup": "염동헌",
         "marker": {
          "color": "#19d3f3",
          "pattern": {
           "shape": ""
          }
         },
         "name": "염동헌",
         "offsetgroup": "염동헌",
         "orientation": "v",
         "showlegend": true,
         "textposition": "auto",
         "type": "bar",
         "x": [
          "액션"
         ],
         "xaxis": "x",
         "y": [
          3
         ],
         "yaxis": "y"
        },
        {
         "alignmentgroup": "True",
         "customdata": [
          [
           45479234841,
           5757324
          ]
         ],
         "hovertemplate": "Actor=조달환<br>Genre=%{x}<br>Count=%{y}<br>Total Revenue=%{customdata[0]}<br>Total Audience=%{customdata[1]}<extra></extra>",
         "legendgroup": "조달환",
         "marker": {
          "color": "#FF6692",
          "pattern": {
           "shape": ""
          }
         },
         "name": "조달환",
         "offsetgroup": "조달환",
         "orientation": "v",
         "showlegend": true,
         "textposition": "auto",
         "type": "bar",
         "x": [
          "액션"
         ],
         "xaxis": "x",
         "y": [
          3
         ],
         "yaxis": "y"
        },
        {
         "alignmentgroup": "True",
         "customdata": [
          [
           0,
           5592966
          ]
         ],
         "hovertemplate": "Actor=정두홍<br>Genre=%{x}<br>Count=%{y}<br>Total Revenue=%{customdata[0]}<br>Total Audience=%{customdata[1]}<extra></extra>",
         "legendgroup": "정두홍",
         "marker": {
          "color": "#B6E880",
          "pattern": {
           "shape": ""
          }
         },
         "name": "정두홍",
         "offsetgroup": "정두홍",
         "orientation": "v",
         "showlegend": true,
         "textposition": "auto",
         "type": "bar",
         "x": [
          "액션"
         ],
         "xaxis": "x",
         "y": [
          3
         ],
         "yaxis": "y"
        },
        {
         "alignmentgroup": "True",
         "customdata": [
          [
           null,
           5404736
          ]
         ],
         "hovertemplate": "Actor=주현<br>Genre=%{x}<br>Count=%{y}<br>Total Revenue=%{customdata[0]}<br>Total Audience=%{customdata[1]}<extra></extra>",
         "legendgroup": "주현",
         "marker": {
          "color": "#FF97FF",
          "pattern": {
           "shape": ""
          }
         },
         "name": "주현",
         "offsetgroup": "주현",
         "orientation": "v",
         "showlegend": true,
         "textposition": "auto",
         "type": "bar",
         "x": [
          "액션"
         ],
         "xaxis": "x",
         "y": [
          3
         ],
         "yaxis": "y"
        },
        {
         "alignmentgroup": "True",
         "customdata": [
          [
           18983903610,
           18214430
          ]
         ],
         "hovertemplate": "Actor=임창정<br>Genre=%{x}<br>Count=%{y}<br>Total Revenue=%{customdata[0]}<br>Total Audience=%{customdata[1]}<extra></extra>",
         "legendgroup": "임창정",
         "marker": {
          "color": "#FECB52",
          "pattern": {
           "shape": ""
          }
         },
         "name": "임창정",
         "offsetgroup": "임창정",
         "orientation": "v",
         "showlegend": true,
         "textposition": "auto",
         "type": "bar",
         "x": [
          "코미디"
         ],
         "xaxis": "x",
         "y": [
          9
         ],
         "yaxis": "y"
        },
        {
         "alignmentgroup": "True",
         "customdata": [
          [
           511288500,
           12741301
          ]
         ],
         "hovertemplate": "Actor=신이<br>Genre=%{x}<br>Count=%{y}<br>Total Revenue=%{customdata[0]}<br>Total Audience=%{customdata[1]}<extra></extra>",
         "legendgroup": "신이",
         "marker": {
          "color": "#636efa",
          "pattern": {
           "shape": ""
          }
         },
         "name": "신이",
         "offsetgroup": "신이",
         "orientation": "v",
         "showlegend": true,
         "textposition": "auto",
         "type": "bar",
         "x": [
          "코미디"
         ],
         "xaxis": "x",
         "y": [
          6
         ],
         "yaxis": "y"
        },
        {
         "alignmentgroup": "True",
         "customdata": [
          [
           68529832356,
           13374544
          ]
         ],
         "hovertemplate": "Actor=김서현<br>Genre=%{x}<br>Count=%{y}<br>Total Revenue=%{customdata[0]}<br>Total Audience=%{customdata[1]}<extra></extra>",
         "legendgroup": "김서현",
         "marker": {
          "color": "#EF553B",
          "pattern": {
           "shape": ""
          }
         },
         "name": "김서현",
         "offsetgroup": "김서현",
         "orientation": "v",
         "showlegend": true,
         "textposition": "auto",
         "type": "bar",
         "x": [
          "코미디"
         ],
         "xaxis": "x",
         "y": [
          5
         ],
         "yaxis": "y"
        },
        {
         "alignmentgroup": "True",
         "customdata": [
          [
           17792219500,
           15087360
          ]
         ],
         "hovertemplate": "Actor=신현준<br>Genre=%{x}<br>Count=%{y}<br>Total Revenue=%{customdata[0]}<br>Total Audience=%{customdata[1]}<extra></extra>",
         "legendgroup": "신현준",
         "marker": {
          "color": "#00cc96",
          "pattern": {
           "shape": ""
          }
         },
         "name": "신현준",
         "offsetgroup": "신현준",
         "orientation": "v",
         "showlegend": true,
         "textposition": "auto",
         "type": "bar",
         "x": [
          "코미디"
         ],
         "xaxis": "x",
         "y": [
          5
         ],
         "yaxis": "y"
        },
        {
         "alignmentgroup": "True",
         "customdata": [
          [
           null,
           10392641
          ]
         ],
         "hovertemplate": "Actor=이문식<br>Genre=%{x}<br>Count=%{y}<br>Total Revenue=%{customdata[0]}<br>Total Audience=%{customdata[1]}<extra></extra>",
         "legendgroup": "이문식",
         "marker": {
          "color": "#ab63fa",
          "pattern": {
           "shape": ""
          }
         },
         "name": "이문식",
         "offsetgroup": "이문식",
         "orientation": "v",
         "showlegend": true,
         "textposition": "auto",
         "type": "bar",
         "x": [
          "코미디"
         ],
         "xaxis": "x",
         "y": [
          5
         ],
         "yaxis": "y"
        },
        {
         "alignmentgroup": "True",
         "customdata": [
          [
           0,
           8512775
          ]
         ],
         "hovertemplate": "Actor=김수로<br>Genre=%{x}<br>Count=%{y}<br>Total Revenue=%{customdata[0]}<br>Total Audience=%{customdata[1]}<extra></extra>",
         "legendgroup": "김수로",
         "marker": {
          "color": "#FFA15A",
          "pattern": {
           "shape": ""
          }
         },
         "name": "김수로",
         "offsetgroup": "김수로",
         "orientation": "v",
         "showlegend": true,
         "textposition": "auto",
         "type": "bar",
         "x": [
          "코미디"
         ],
         "xaxis": "x",
         "y": [
          5
         ],
         "yaxis": "y"
        },
        {
         "alignmentgroup": "True",
         "customdata": [
          [
           122043292501,
           16849747
          ]
         ],
         "hovertemplate": "Actor=박성일<br>Genre=%{x}<br>Count=%{y}<br>Total Revenue=%{customdata[0]}<br>Total Audience=%{customdata[1]}<extra></extra>",
         "legendgroup": "박성일",
         "marker": {
          "color": "#19d3f3",
          "pattern": {
           "shape": ""
          }
         },
         "name": "박성일",
         "offsetgroup": "박성일",
         "orientation": "v",
         "showlegend": true,
         "textposition": "auto",
         "type": "bar",
         "x": [
          "코미디"
         ],
         "xaxis": "x",
         "y": [
          4
         ],
         "yaxis": "y"
        },
        {
         "alignmentgroup": "True",
         "customdata": [
          [
           17792219500,
           13815360
          ]
         ],
         "hovertemplate": "Actor=탁재훈<br>Genre=%{x}<br>Count=%{y}<br>Total Revenue=%{customdata[0]}<br>Total Audience=%{customdata[1]}<extra></extra>",
         "legendgroup": "탁재훈",
         "marker": {
          "color": "#FF6692",
          "pattern": {
           "shape": ""
          }
         },
         "name": "탁재훈",
         "offsetgroup": "탁재훈",
         "orientation": "v",
         "showlegend": true,
         "textposition": "auto",
         "type": "bar",
         "x": [
          "코미디"
         ],
         "xaxis": "x",
         "y": [
          4
         ],
         "yaxis": "y"
        },
        {
         "alignmentgroup": "True",
         "customdata": [
          [
           null,
           12296726
          ]
         ],
         "hovertemplate": "Actor=김하늘<br>Genre=%{x}<br>Count=%{y}<br>Total Revenue=%{customdata[0]}<br>Total Audience=%{customdata[1]}<extra></extra>",
         "legendgroup": "김하늘",
         "marker": {
          "color": "#B6E880",
          "pattern": {
           "shape": ""
          }
         },
         "name": "김하늘",
         "offsetgroup": "김하늘",
         "orientation": "v",
         "showlegend": true,
         "textposition": "auto",
         "type": "bar",
         "x": [
          "코미디"
         ],
         "xaxis": "x",
         "y": [
          4
         ],
         "yaxis": "y"
        },
        {
         "alignmentgroup": "True",
         "customdata": [
          [
           38977734887,
           7032947
          ]
         ],
         "hovertemplate": "Actor=이지훈<br>Genre=%{x}<br>Count=%{y}<br>Total Revenue=%{customdata[0]}<br>Total Audience=%{customdata[1]}<extra></extra>",
         "legendgroup": "이지훈",
         "marker": {
          "color": "#FF97FF",
          "pattern": {
           "shape": ""
          }
         },
         "name": "이지훈",
         "offsetgroup": "이지훈",
         "orientation": "v",
         "showlegend": true,
         "textposition": "auto",
         "type": "bar",
         "x": [
          "코미디"
         ],
         "xaxis": "x",
         "y": [
          4
         ],
         "yaxis": "y"
        },
        {
         "alignmentgroup": "True",
         "customdata": [
          [
           0,
           7282034
          ]
         ],
         "hovertemplate": "Actor=이원종<br>Genre=%{x}<br>Count=%{y}<br>Total Revenue=%{customdata[0]}<br>Total Audience=%{customdata[1]}<extra></extra>",
         "legendgroup": "이원종",
         "marker": {
          "color": "#FECB52",
          "pattern": {
           "shape": ""
          }
         },
         "name": "이원종",
         "offsetgroup": "이원종",
         "orientation": "v",
         "showlegend": true,
         "textposition": "auto",
         "type": "bar",
         "x": [
          "코미디"
         ],
         "xaxis": "x",
         "y": [
          4
         ],
         "yaxis": "y"
        },
        {
         "alignmentgroup": "True",
         "customdata": [
          [
           0,
           8284165
          ]
         ],
         "hovertemplate": "Actor=강성진<br>Genre=%{x}<br>Count=%{y}<br>Total Revenue=%{customdata[0]}<br>Total Audience=%{customdata[1]}<extra></extra>",
         "legendgroup": "강성진",
         "marker": {
          "color": "#636efa",
          "pattern": {
           "shape": ""
          }
         },
         "name": "강성진",
         "offsetgroup": "강성진",
         "orientation": "v",
         "showlegend": true,
         "textposition": "auto",
         "type": "bar",
         "x": [
          "코미디"
         ],
         "xaxis": "x",
         "y": [
          4
         ],
         "yaxis": "y"
        },
        {
         "alignmentgroup": "True",
         "customdata": [
          [
           null,
           8469508
          ]
         ],
         "hovertemplate": "Actor=김선아<br>Genre=%{x}<br>Count=%{y}<br>Total Revenue=%{customdata[0]}<br>Total Audience=%{customdata[1]}<extra></extra>",
         "legendgroup": "김선아",
         "marker": {
          "color": "#EF553B",
          "pattern": {
           "shape": ""
          }
         },
         "name": "김선아",
         "offsetgroup": "김선아",
         "orientation": "v",
         "showlegend": true,
         "textposition": "auto",
         "type": "bar",
         "x": [
          "코미디"
         ],
         "xaxis": "x",
         "y": [
          4
         ],
         "yaxis": "y"
        },
        {
         "alignmentgroup": "True",
         "customdata": [
          [
           26388959601,
           6991886
          ]
         ],
         "hovertemplate": "Actor=손병욱<br>Genre=%{x}<br>Count=%{y}<br>Total Revenue=%{customdata[0]}<br>Total Audience=%{customdata[1]}<extra></extra>",
         "legendgroup": "손병욱",
         "marker": {
          "color": "#00cc96",
          "pattern": {
           "shape": ""
          }
         },
         "name": "손병욱",
         "offsetgroup": "손병욱",
         "orientation": "v",
         "showlegend": true,
         "textposition": "auto",
         "type": "bar",
         "x": [
          "코미디"
         ],
         "xaxis": "x",
         "y": [
          4
         ],
         "yaxis": "y"
        },
        {
         "alignmentgroup": "True",
         "customdata": [
          [
           53414213919,
           6682205
          ]
         ],
         "hovertemplate": "Actor=안재홍<br>Genre=%{x}<br>Count=%{y}<br>Total Revenue=%{customdata[0]}<br>Total Audience=%{customdata[1]}<extra></extra>",
         "legendgroup": "안재홍",
         "marker": {
          "color": "#ab63fa",
          "pattern": {
           "shape": ""
          }
         },
         "name": "안재홍",
         "offsetgroup": "안재홍",
         "orientation": "v",
         "showlegend": true,
         "textposition": "auto",
         "type": "bar",
         "x": [
          "코미디"
         ],
         "xaxis": "x",
         "y": [
          4
         ],
         "yaxis": "y"
        },
        {
         "alignmentgroup": "True",
         "customdata": [
          [
           75291116614,
           10611787
          ]
         ],
         "hovertemplate": "Actor=조민수<br>Genre=%{x}<br>Count=%{y}<br>Total Revenue=%{customdata[0]}<br>Total Audience=%{customdata[1]}<extra></extra>",
         "legendgroup": "조민수",
         "marker": {
          "color": "#FFA15A",
          "pattern": {
           "shape": ""
          }
         },
         "name": "조민수",
         "offsetgroup": "조민수",
         "orientation": "v",
         "showlegend": true,
         "textposition": "auto",
         "type": "bar",
         "x": [
          "코미디"
         ],
         "xaxis": "x",
         "y": [
          3
         ],
         "yaxis": "y"
        },
        {
         "alignmentgroup": "True",
         "customdata": [
          [
           66374980162,
           9346065
          ]
         ],
         "hovertemplate": "Actor=전혜빈<br>Genre=%{x}<br>Count=%{y}<br>Total Revenue=%{customdata[0]}<br>Total Audience=%{customdata[1]}<extra></extra>",
         "legendgroup": "전혜빈",
         "marker": {
          "color": "#19d3f3",
          "pattern": {
           "shape": ""
          }
         },
         "name": "전혜빈",
         "offsetgroup": "전혜빈",
         "orientation": "v",
         "showlegend": true,
         "textposition": "auto",
         "type": "bar",
         "x": [
          "코미디"
         ],
         "xaxis": "x",
         "y": [
          3
         ],
         "yaxis": "y"
        },
        {
         "alignmentgroup": "True",
         "customdata": [
          [
           13896872616,
           10881423
          ]
         ],
         "hovertemplate": "Actor=김아중<br>Genre=%{x}<br>Count=%{y}<br>Total Revenue=%{customdata[0]}<br>Total Audience=%{customdata[1]}<extra></extra>",
         "legendgroup": "김아중",
         "marker": {
          "color": "#FF6692",
          "pattern": {
           "shape": ""
          }
         },
         "name": "김아중",
         "offsetgroup": "김아중",
         "orientation": "v",
         "showlegend": true,
         "textposition": "auto",
         "type": "bar",
         "x": [
          "코미디"
         ],
         "xaxis": "x",
         "y": [
          3
         ],
         "yaxis": "y"
        },
        {
         "alignmentgroup": "True",
         "customdata": [
          [
           10300187478,
           8868484
          ]
         ],
         "hovertemplate": "Actor=강성필<br>Genre=%{x}<br>Count=%{y}<br>Total Revenue=%{customdata[0]}<br>Total Audience=%{customdata[1]}<extra></extra>",
         "legendgroup": "강성필",
         "marker": {
          "color": "#B6E880",
          "pattern": {
           "shape": ""
          }
         },
         "name": "강성필",
         "offsetgroup": "강성필",
         "orientation": "v",
         "showlegend": true,
         "textposition": "auto",
         "type": "bar",
         "x": [
          "코미디"
         ],
         "xaxis": "x",
         "y": [
          3
         ],
         "yaxis": "y"
        },
        {
         "alignmentgroup": "True",
         "customdata": [
          [
           17792219500,
           11468049
          ]
         ],
         "hovertemplate": "Actor=정준하<br>Genre=%{x}<br>Count=%{y}<br>Total Revenue=%{customdata[0]}<br>Total Audience=%{customdata[1]}<extra></extra>",
         "legendgroup": "정준하",
         "marker": {
          "color": "#FF97FF",
          "pattern": {
           "shape": ""
          }
         },
         "name": "정준하",
         "offsetgroup": "정준하",
         "orientation": "v",
         "showlegend": true,
         "textposition": "auto",
         "type": "bar",
         "x": [
          "코미디"
         ],
         "xaxis": "x",
         "y": [
          3
         ],
         "yaxis": "y"
        },
        {
         "alignmentgroup": "True",
         "customdata": [
          [
           22853629794,
           12134898
          ]
         ],
         "hovertemplate": "Actor=공형진<br>Genre=%{x}<br>Count=%{y}<br>Total Revenue=%{customdata[0]}<br>Total Audience=%{customdata[1]}<extra></extra>",
         "legendgroup": "공형진",
         "marker": {
          "color": "#FECB52",
          "pattern": {
           "shape": ""
          }
         },
         "name": "공형진",
         "offsetgroup": "공형진",
         "orientation": "v",
         "showlegend": true,
         "textposition": "auto",
         "type": "bar",
         "x": [
          "코미디"
         ],
         "xaxis": "x",
         "y": [
          3
         ],
         "yaxis": "y"
        },
        {
         "alignmentgroup": "True",
         "customdata": [
          [
           511288500,
           8029599
          ]
         ],
         "hovertemplate": "Actor=최성국<br>Genre=%{x}<br>Count=%{y}<br>Total Revenue=%{customdata[0]}<br>Total Audience=%{customdata[1]}<extra></extra>",
         "legendgroup": "최성국",
         "marker": {
          "color": "#636efa",
          "pattern": {
           "shape": ""
          }
         },
         "name": "최성국",
         "offsetgroup": "최성국",
         "orientation": "v",
         "showlegend": true,
         "textposition": "auto",
         "type": "bar",
         "x": [
          "코미디"
         ],
         "xaxis": "x",
         "y": [
          3
         ],
         "yaxis": "y"
        },
        {
         "alignmentgroup": "True",
         "customdata": [
          [
           47890145719,
           6583277
          ]
         ],
         "hovertemplate": "Actor=오나라<br>Genre=%{x}<br>Count=%{y}<br>Total Revenue=%{customdata[0]}<br>Total Audience=%{customdata[1]}<extra></extra>",
         "legendgroup": "오나라",
         "marker": {
          "color": "#EF553B",
          "pattern": {
           "shape": ""
          }
         },
         "name": "오나라",
         "offsetgroup": "오나라",
         "orientation": "v",
         "showlegend": true,
         "textposition": "auto",
         "type": "bar",
         "x": [
          "코미디"
         ],
         "xaxis": "x",
         "y": [
          3
         ],
         "yaxis": "y"
        },
        {
         "alignmentgroup": "True",
         "customdata": [
          [
           0,
           6905429
          ]
         ],
         "hovertemplate": "Actor=김도연<br>Genre=%{x}<br>Count=%{y}<br>Total Revenue=%{customdata[0]}<br>Total Audience=%{customdata[1]}<extra></extra>",
         "legendgroup": "김도연",
         "marker": {
          "color": "#00cc96",
          "pattern": {
           "shape": ""
          }
         },
         "name": "김도연",
         "offsetgroup": "김도연",
         "orientation": "v",
         "showlegend": true,
         "textposition": "auto",
         "type": "bar",
         "x": [
          "코미디"
         ],
         "xaxis": "x",
         "y": [
          3
         ],
         "yaxis": "y"
        },
        {
         "alignmentgroup": "True",
         "customdata": [
          [
           16912706195,
           7085789
          ]
         ],
         "hovertemplate": "Actor=김용건<br>Genre=%{x}<br>Count=%{y}<br>Total Revenue=%{customdata[0]}<br>Total Audience=%{customdata[1]}<extra></extra>",
         "legendgroup": "김용건",
         "marker": {
          "color": "#ab63fa",
          "pattern": {
           "shape": ""
          }
         },
         "name": "김용건",
         "offsetgroup": "김용건",
         "orientation": "v",
         "showlegend": true,
         "textposition": "auto",
         "type": "bar",
         "x": [
          "코미디"
         ],
         "xaxis": "x",
         "y": [
          3
         ],
         "yaxis": "y"
        },
        {
         "alignmentgroup": "True",
         "customdata": [
          [
           56286508870,
           6948120
          ]
         ],
         "hovertemplate": "Actor=최성원<br>Genre=%{x}<br>Count=%{y}<br>Total Revenue=%{customdata[0]}<br>Total Audience=%{customdata[1]}<extra></extra>",
         "legendgroup": "최성원",
         "marker": {
          "color": "#FFA15A",
          "pattern": {
           "shape": ""
          }
         },
         "name": "최성원",
         "offsetgroup": "최성원",
         "orientation": "v",
         "showlegend": true,
         "textposition": "auto",
         "type": "bar",
         "x": [
          "코미디"
         ],
         "xaxis": "x",
         "y": [
          3
         ],
         "yaxis": "y"
        },
        {
         "alignmentgroup": "True",
         "customdata": [
          [
           0,
           6138267
          ]
         ],
         "hovertemplate": "Actor=김인문<br>Genre=%{x}<br>Count=%{y}<br>Total Revenue=%{customdata[0]}<br>Total Audience=%{customdata[1]}<extra></extra>",
         "legendgroup": "김인문",
         "marker": {
          "color": "#19d3f3",
          "pattern": {
           "shape": ""
          }
         },
         "name": "김인문",
         "offsetgroup": "김인문",
         "orientation": "v",
         "showlegend": true,
         "textposition": "auto",
         "type": "bar",
         "x": [
          "코미디"
         ],
         "xaxis": "x",
         "y": [
          3
         ],
         "yaxis": "y"
        },
        {
         "alignmentgroup": "True",
         "customdata": [
          [
           12081618074,
           6128920
          ]
         ],
         "hovertemplate": "Actor=길해연<br>Genre=%{x}<br>Count=%{y}<br>Total Revenue=%{customdata[0]}<br>Total Audience=%{customdata[1]}<extra></extra>",
         "legendgroup": "길해연",
         "marker": {
          "color": "#FF6692",
          "pattern": {
           "shape": ""
          }
         },
         "name": "길해연",
         "offsetgroup": "길해연",
         "orientation": "v",
         "showlegend": true,
         "textposition": "auto",
         "type": "bar",
         "x": [
          "코미디"
         ],
         "xaxis": "x",
         "y": [
          3
         ],
         "yaxis": "y"
        },
        {
         "alignmentgroup": "True",
         "customdata": [
          [
           12676951144,
           5762586
          ]
         ],
         "hovertemplate": "Actor=장항선<br>Genre=%{x}<br>Count=%{y}<br>Total Revenue=%{customdata[0]}<br>Total Audience=%{customdata[1]}<extra></extra>",
         "legendgroup": "장항선",
         "marker": {
          "color": "#B6E880",
          "pattern": {
           "shape": ""
          }
         },
         "name": "장항선",
         "offsetgroup": "장항선",
         "orientation": "v",
         "showlegend": true,
         "textposition": "auto",
         "type": "bar",
         "x": [
          "코미디"
         ],
         "xaxis": "x",
         "y": [
          3
         ],
         "yaxis": "y"
        },
        {
         "alignmentgroup": "True",
         "customdata": [
          [
           0,
           5429042
          ]
         ],
         "hovertemplate": "Actor=박준규<br>Genre=%{x}<br>Count=%{y}<br>Total Revenue=%{customdata[0]}<br>Total Audience=%{customdata[1]}<extra></extra>",
         "legendgroup": "박준규",
         "marker": {
          "color": "#FF97FF",
          "pattern": {
           "shape": ""
          }
         },
         "name": "박준규",
         "offsetgroup": "박준규",
         "orientation": "v",
         "showlegend": true,
         "textposition": "auto",
         "type": "bar",
         "x": [
          "코미디"
         ],
         "xaxis": "x",
         "y": [
          3
         ],
         "yaxis": "y"
        },
        {
         "alignmentgroup": "True",
         "customdata": [
          [
           0,
           4751075
          ]
         ],
         "hovertemplate": "Actor=최무인<br>Genre=%{x}<br>Count=%{y}<br>Total Revenue=%{customdata[0]}<br>Total Audience=%{customdata[1]}<extra></extra>",
         "legendgroup": "최무인",
         "marker": {
          "color": "#FECB52",
          "pattern": {
           "shape": ""
          }
         },
         "name": "최무인",
         "offsetgroup": "최무인",
         "orientation": "v",
         "showlegend": true,
         "textposition": "auto",
         "type": "bar",
         "x": [
          "코미디"
         ],
         "xaxis": "x",
         "y": [
          3
         ],
         "yaxis": "y"
        },
        {
         "alignmentgroup": "True",
         "customdata": [
          [
           null,
           5519861
          ]
         ],
         "hovertemplate": "Actor=이상윤<br>Genre=%{x}<br>Count=%{y}<br>Total Revenue=%{customdata[0]}<br>Total Audience=%{customdata[1]}<extra></extra>",
         "legendgroup": "이상윤",
         "marker": {
          "color": "#636efa",
          "pattern": {
           "shape": ""
          }
         },
         "name": "이상윤",
         "offsetgroup": "이상윤",
         "orientation": "v",
         "showlegend": true,
         "textposition": "auto",
         "type": "bar",
         "x": [
          "코미디"
         ],
         "xaxis": "x",
         "y": [
          3
         ],
         "yaxis": "y"
        },
        {
         "alignmentgroup": "True",
         "customdata": [
          [
           0,
           4292237
          ]
         ],
         "hovertemplate": "Actor=박상면<br>Genre=%{x}<br>Count=%{y}<br>Total Revenue=%{customdata[0]}<br>Total Audience=%{customdata[1]}<extra></extra>",
         "legendgroup": "박상면",
         "marker": {
          "color": "#EF553B",
          "pattern": {
           "shape": ""
          }
         },
         "name": "박상면",
         "offsetgroup": "박상면",
         "orientation": "v",
         "showlegend": true,
         "textposition": "auto",
         "type": "bar",
         "x": [
          "코미디"
         ],
         "xaxis": "x",
         "y": [
          3
         ],
         "yaxis": "y"
        },
        {
         "alignmentgroup": "True",
         "customdata": [
          [
           null,
           3993938
          ]
         ],
         "hovertemplate": "Actor=박상욱<br>Genre=%{x}<br>Count=%{y}<br>Total Revenue=%{customdata[0]}<br>Total Audience=%{customdata[1]}<extra></extra>",
         "legendgroup": "박상욱",
         "marker": {
          "color": "#00cc96",
          "pattern": {
           "shape": ""
          }
         },
         "name": "박상욱",
         "offsetgroup": "박상욱",
         "orientation": "v",
         "showlegend": true,
         "textposition": "auto",
         "type": "bar",
         "x": [
          "코미디"
         ],
         "xaxis": "x",
         "y": [
          3
         ],
         "yaxis": "y"
        }
       ],
       "layout": {
        "barmode": "relative",
        "legend": {
         "title": {
          "text": "Actor"
         },
         "tracegroupgap": 0
        },
        "template": {
         "data": {
          "bar": [
           {
            "error_x": {
             "color": "#2a3f5f"
            },
            "error_y": {
             "color": "#2a3f5f"
            },
            "marker": {
             "line": {
              "color": "#E5ECF6",
              "width": 0.5
             },
             "pattern": {
              "fillmode": "overlay",
              "size": 10,
              "solidity": 0.2
             }
            },
            "type": "bar"
           }
          ],
          "barpolar": [
           {
            "marker": {
             "line": {
              "color": "#E5ECF6",
              "width": 0.5
             },
             "pattern": {
              "fillmode": "overlay",
              "size": 10,
              "solidity": 0.2
             }
            },
            "type": "barpolar"
           }
          ],
          "carpet": [
           {
            "aaxis": {
             "endlinecolor": "#2a3f5f",
             "gridcolor": "white",
             "linecolor": "white",
             "minorgridcolor": "white",
             "startlinecolor": "#2a3f5f"
            },
            "baxis": {
             "endlinecolor": "#2a3f5f",
             "gridcolor": "white",
             "linecolor": "white",
             "minorgridcolor": "white",
             "startlinecolor": "#2a3f5f"
            },
            "type": "carpet"
           }
          ],
          "choropleth": [
           {
            "colorbar": {
             "outlinewidth": 0,
             "ticks": ""
            },
            "type": "choropleth"
           }
          ],
          "contour": [
           {
            "colorbar": {
             "outlinewidth": 0,
             "ticks": ""
            },
            "colorscale": [
             [
              0,
              "#0d0887"
             ],
             [
              0.1111111111111111,
              "#46039f"
             ],
             [
              0.2222222222222222,
              "#7201a8"
             ],
             [
              0.3333333333333333,
              "#9c179e"
             ],
             [
              0.4444444444444444,
              "#bd3786"
             ],
             [
              0.5555555555555556,
              "#d8576b"
             ],
             [
              0.6666666666666666,
              "#ed7953"
             ],
             [
              0.7777777777777778,
              "#fb9f3a"
             ],
             [
              0.8888888888888888,
              "#fdca26"
             ],
             [
              1,
              "#f0f921"
             ]
            ],
            "type": "contour"
           }
          ],
          "contourcarpet": [
           {
            "colorbar": {
             "outlinewidth": 0,
             "ticks": ""
            },
            "type": "contourcarpet"
           }
          ],
          "heatmap": [
           {
            "colorbar": {
             "outlinewidth": 0,
             "ticks": ""
            },
            "colorscale": [
             [
              0,
              "#0d0887"
             ],
             [
              0.1111111111111111,
              "#46039f"
             ],
             [
              0.2222222222222222,
              "#7201a8"
             ],
             [
              0.3333333333333333,
              "#9c179e"
             ],
             [
              0.4444444444444444,
              "#bd3786"
             ],
             [
              0.5555555555555556,
              "#d8576b"
             ],
             [
              0.6666666666666666,
              "#ed7953"
             ],
             [
              0.7777777777777778,
              "#fb9f3a"
             ],
             [
              0.8888888888888888,
              "#fdca26"
             ],
             [
              1,
              "#f0f921"
             ]
            ],
            "type": "heatmap"
           }
          ],
          "heatmapgl": [
           {
            "colorbar": {
             "outlinewidth": 0,
             "ticks": ""
            },
            "colorscale": [
             [
              0,
              "#0d0887"
             ],
             [
              0.1111111111111111,
              "#46039f"
             ],
             [
              0.2222222222222222,
              "#7201a8"
             ],
             [
              0.3333333333333333,
              "#9c179e"
             ],
             [
              0.4444444444444444,
              "#bd3786"
             ],
             [
              0.5555555555555556,
              "#d8576b"
             ],
             [
              0.6666666666666666,
              "#ed7953"
             ],
             [
              0.7777777777777778,
              "#fb9f3a"
             ],
             [
              0.8888888888888888,
              "#fdca26"
             ],
             [
              1,
              "#f0f921"
             ]
            ],
            "type": "heatmapgl"
           }
          ],
          "histogram": [
           {
            "marker": {
             "pattern": {
              "fillmode": "overlay",
              "size": 10,
              "solidity": 0.2
             }
            },
            "type": "histogram"
           }
          ],
          "histogram2d": [
           {
            "colorbar": {
             "outlinewidth": 0,
             "ticks": ""
            },
            "colorscale": [
             [
              0,
              "#0d0887"
             ],
             [
              0.1111111111111111,
              "#46039f"
             ],
             [
              0.2222222222222222,
              "#7201a8"
             ],
             [
              0.3333333333333333,
              "#9c179e"
             ],
             [
              0.4444444444444444,
              "#bd3786"
             ],
             [
              0.5555555555555556,
              "#d8576b"
             ],
             [
              0.6666666666666666,
              "#ed7953"
             ],
             [
              0.7777777777777778,
              "#fb9f3a"
             ],
             [
              0.8888888888888888,
              "#fdca26"
             ],
             [
              1,
              "#f0f921"
             ]
            ],
            "type": "histogram2d"
           }
          ],
          "histogram2dcontour": [
           {
            "colorbar": {
             "outlinewidth": 0,
             "ticks": ""
            },
            "colorscale": [
             [
              0,
              "#0d0887"
             ],
             [
              0.1111111111111111,
              "#46039f"
             ],
             [
              0.2222222222222222,
              "#7201a8"
             ],
             [
              0.3333333333333333,
              "#9c179e"
             ],
             [
              0.4444444444444444,
              "#bd3786"
             ],
             [
              0.5555555555555556,
              "#d8576b"
             ],
             [
              0.6666666666666666,
              "#ed7953"
             ],
             [
              0.7777777777777778,
              "#fb9f3a"
             ],
             [
              0.8888888888888888,
              "#fdca26"
             ],
             [
              1,
              "#f0f921"
             ]
            ],
            "type": "histogram2dcontour"
           }
          ],
          "mesh3d": [
           {
            "colorbar": {
             "outlinewidth": 0,
             "ticks": ""
            },
            "type": "mesh3d"
           }
          ],
          "parcoords": [
           {
            "line": {
             "colorbar": {
              "outlinewidth": 0,
              "ticks": ""
             }
            },
            "type": "parcoords"
           }
          ],
          "pie": [
           {
            "automargin": true,
            "type": "pie"
           }
          ],
          "scatter": [
           {
            "fillpattern": {
             "fillmode": "overlay",
             "size": 10,
             "solidity": 0.2
            },
            "type": "scatter"
           }
          ],
          "scatter3d": [
           {
            "line": {
             "colorbar": {
              "outlinewidth": 0,
              "ticks": ""
             }
            },
            "marker": {
             "colorbar": {
              "outlinewidth": 0,
              "ticks": ""
             }
            },
            "type": "scatter3d"
           }
          ],
          "scattercarpet": [
           {
            "marker": {
             "colorbar": {
              "outlinewidth": 0,
              "ticks": ""
             }
            },
            "type": "scattercarpet"
           }
          ],
          "scattergeo": [
           {
            "marker": {
             "colorbar": {
              "outlinewidth": 0,
              "ticks": ""
             }
            },
            "type": "scattergeo"
           }
          ],
          "scattergl": [
           {
            "marker": {
             "colorbar": {
              "outlinewidth": 0,
              "ticks": ""
             }
            },
            "type": "scattergl"
           }
          ],
          "scattermapbox": [
           {
            "marker": {
             "colorbar": {
              "outlinewidth": 0,
              "ticks": ""
             }
            },
            "type": "scattermapbox"
           }
          ],
          "scatterpolar": [
           {
            "marker": {
             "colorbar": {
              "outlinewidth": 0,
              "ticks": ""
             }
            },
            "type": "scatterpolar"
           }
          ],
          "scatterpolargl": [
           {
            "marker": {
             "colorbar": {
              "outlinewidth": 0,
              "ticks": ""
             }
            },
            "type": "scatterpolargl"
           }
          ],
          "scatterternary": [
           {
            "marker": {
             "colorbar": {
              "outlinewidth": 0,
              "ticks": ""
             }
            },
            "type": "scatterternary"
           }
          ],
          "surface": [
           {
            "colorbar": {
             "outlinewidth": 0,
             "ticks": ""
            },
            "colorscale": [
             [
              0,
              "#0d0887"
             ],
             [
              0.1111111111111111,
              "#46039f"
             ],
             [
              0.2222222222222222,
              "#7201a8"
             ],
             [
              0.3333333333333333,
              "#9c179e"
             ],
             [
              0.4444444444444444,
              "#bd3786"
             ],
             [
              0.5555555555555556,
              "#d8576b"
             ],
             [
              0.6666666666666666,
              "#ed7953"
             ],
             [
              0.7777777777777778,
              "#fb9f3a"
             ],
             [
              0.8888888888888888,
              "#fdca26"
             ],
             [
              1,
              "#f0f921"
             ]
            ],
            "type": "surface"
           }
          ],
          "table": [
           {
            "cells": {
             "fill": {
              "color": "#EBF0F8"
             },
             "line": {
              "color": "white"
             }
            },
            "header": {
             "fill": {
              "color": "#C8D4E3"
             },
             "line": {
              "color": "white"
             }
            },
            "type": "table"
           }
          ]
         },
         "layout": {
          "annotationdefaults": {
           "arrowcolor": "#2a3f5f",
           "arrowhead": 0,
           "arrowwidth": 1
          },
          "autotypenumbers": "strict",
          "coloraxis": {
           "colorbar": {
            "outlinewidth": 0,
            "ticks": ""
           }
          },
          "colorscale": {
           "diverging": [
            [
             0,
             "#8e0152"
            ],
            [
             0.1,
             "#c51b7d"
            ],
            [
             0.2,
             "#de77ae"
            ],
            [
             0.3,
             "#f1b6da"
            ],
            [
             0.4,
             "#fde0ef"
            ],
            [
             0.5,
             "#f7f7f7"
            ],
            [
             0.6,
             "#e6f5d0"
            ],
            [
             0.7,
             "#b8e186"
            ],
            [
             0.8,
             "#7fbc41"
            ],
            [
             0.9,
             "#4d9221"
            ],
            [
             1,
             "#276419"
            ]
           ],
           "sequential": [
            [
             0,
             "#0d0887"
            ],
            [
             0.1111111111111111,
             "#46039f"
            ],
            [
             0.2222222222222222,
             "#7201a8"
            ],
            [
             0.3333333333333333,
             "#9c179e"
            ],
            [
             0.4444444444444444,
             "#bd3786"
            ],
            [
             0.5555555555555556,
             "#d8576b"
            ],
            [
             0.6666666666666666,
             "#ed7953"
            ],
            [
             0.7777777777777778,
             "#fb9f3a"
            ],
            [
             0.8888888888888888,
             "#fdca26"
            ],
            [
             1,
             "#f0f921"
            ]
           ],
           "sequentialminus": [
            [
             0,
             "#0d0887"
            ],
            [
             0.1111111111111111,
             "#46039f"
            ],
            [
             0.2222222222222222,
             "#7201a8"
            ],
            [
             0.3333333333333333,
             "#9c179e"
            ],
            [
             0.4444444444444444,
             "#bd3786"
            ],
            [
             0.5555555555555556,
             "#d8576b"
            ],
            [
             0.6666666666666666,
             "#ed7953"
            ],
            [
             0.7777777777777778,
             "#fb9f3a"
            ],
            [
             0.8888888888888888,
             "#fdca26"
            ],
            [
             1,
             "#f0f921"
            ]
           ]
          },
          "colorway": [
           "#636efa",
           "#EF553B",
           "#00cc96",
           "#ab63fa",
           "#FFA15A",
           "#19d3f3",
           "#FF6692",
           "#B6E880",
           "#FF97FF",
           "#FECB52"
          ],
          "font": {
           "color": "#2a3f5f"
          },
          "geo": {
           "bgcolor": "white",
           "lakecolor": "white",
           "landcolor": "#E5ECF6",
           "showlakes": true,
           "showland": true,
           "subunitcolor": "white"
          },
          "hoverlabel": {
           "align": "left"
          },
          "hovermode": "closest",
          "mapbox": {
           "style": "light"
          },
          "paper_bgcolor": "white",
          "plot_bgcolor": "#E5ECF6",
          "polar": {
           "angularaxis": {
            "gridcolor": "white",
            "linecolor": "white",
            "ticks": ""
           },
           "bgcolor": "#E5ECF6",
           "radialaxis": {
            "gridcolor": "white",
            "linecolor": "white",
            "ticks": ""
           }
          },
          "scene": {
           "xaxis": {
            "backgroundcolor": "#E5ECF6",
            "gridcolor": "white",
            "gridwidth": 2,
            "linecolor": "white",
            "showbackground": true,
            "ticks": "",
            "zerolinecolor": "white"
           },
           "yaxis": {
            "backgroundcolor": "#E5ECF6",
            "gridcolor": "white",
            "gridwidth": 2,
            "linecolor": "white",
            "showbackground": true,
            "ticks": "",
            "zerolinecolor": "white"
           },
           "zaxis": {
            "backgroundcolor": "#E5ECF6",
            "gridcolor": "white",
            "gridwidth": 2,
            "linecolor": "white",
            "showbackground": true,
            "ticks": "",
            "zerolinecolor": "white"
           }
          },
          "shapedefaults": {
           "line": {
            "color": "#2a3f5f"
           }
          },
          "ternary": {
           "aaxis": {
            "gridcolor": "white",
            "linecolor": "white",
            "ticks": ""
           },
           "baxis": {
            "gridcolor": "white",
            "linecolor": "white",
            "ticks": ""
           },
           "bgcolor": "#E5ECF6",
           "caxis": {
            "gridcolor": "white",
            "linecolor": "white",
            "ticks": ""
           }
          },
          "title": {
           "x": 0.05
          },
          "xaxis": {
           "automargin": true,
           "gridcolor": "white",
           "linecolor": "white",
           "ticks": "",
           "title": {
            "standoff": 15
           },
           "zerolinecolor": "white",
           "zerolinewidth": 2
          },
          "yaxis": {
           "automargin": true,
           "gridcolor": "white",
           "linecolor": "white",
           "ticks": "",
           "title": {
            "standoff": 15
           },
           "zerolinecolor": "white",
           "zerolinewidth": 2
          }
         }
        },
        "title": {
         "text": "장르별 배우 출연 횟수 (3회 이상 출연한 배우)"
        },
        "xaxis": {
         "anchor": "y",
         "categoryarray": [
          "판타지",
          "코미디",
          "전쟁",
          "어드벤처",
          "액션",
          "스릴러",
          "사극",
          "범죄",
          "미스터리",
          "멜로/로맨스",
          "드라마"
         ],
         "categoryorder": "total descending",
         "domain": [
          0,
          1
         ],
         "title": {
          "text": "Genre"
         }
        },
        "yaxis": {
         "anchor": "x",
         "domain": [
          0,
          1
         ],
         "title": {
          "text": "Count"
         }
        }
       }
      }
     },
     "metadata": {},
     "output_type": "display_data"
    }
   ],
   "source": [
    "data = pd.read_csv('../5.4_edit_maker.csv')\n",
    "\n",
    "# 매출액과 관객수 데이터 형태 처리\n",
    "data['매출액'] = data['매출액'].str.replace(',', '').astype(float)\n",
    "data['관객수'] = data['관객수'].str.replace(',', '').astype(int)\n",
    "\n",
    "# 데이터 형태 확인 및 처리\n",
    "def safe_eval(x):\n",
    "    if isinstance(x, str):\n",
    "        try:\n",
    "            return eval(x)\n",
    "        except:\n",
    "            return []  # 오류 발생시 빈 리스트 반환\n",
    "    return x if isinstance(x, list) else []\n",
    "\n",
    "data['actor_main_name'] = data['actor_main_name'].apply(safe_eval)\n",
    "data['actor_sub_name'] = data['actor_sub_name'].apply(safe_eval)\n",
    "\n",
    "# 장르명 정규화 함수\n",
    "def normalize_genre(genre):\n",
    "    genre = genre.strip()  # 공백 제거\n",
    "    genre = genre.replace(' ', '')  # 중간 공백 제거\n",
    "    genre = genre.lower()  # 소문자로 통일\n",
    "    return genre\n",
    "\n",
    "# 장르별로 배우 출연 횟수 및 매출, 관객수 집계\n",
    "genre_actor_stats = {}\n",
    "\n",
    "for index, row in data.iterrows():\n",
    "    genres = [normalize_genre(gen) for gen in row['gener'].split(',')]\n",
    "    actors = set(row['actor_main_name'] + row['actor_sub_name'])  # 주연과 조연 합치기\n",
    "    revenue = row['매출액']\n",
    "    audience = row['관객수']\n",
    "    \n",
    "    for genre in genres:\n",
    "        if genre not in genre_actor_stats:\n",
    "            genre_actor_stats[genre] = {}\n",
    "        \n",
    "        for actor in actors:\n",
    "            if actor not in genre_actor_stats[genre]:\n",
    "                genre_actor_stats[genre][actor] = {'Count': 0, 'Total Revenue': 0, 'Total Audience': 0}\n",
    "            genre_actor_stats[genre][actor]['Count'] += 1\n",
    "            genre_actor_stats[genre][actor]['Total Revenue'] += revenue\n",
    "            genre_actor_stats[genre][actor]['Total Audience'] += audience\n",
    "\n",
    "# 데이터 프레임으로 변환\n",
    "rows = []\n",
    "for genre, actor_stats in genre_actor_stats.items():\n",
    "    for actor, stats in actor_stats.items():\n",
    "        if stats['Count'] >= 3:  # 3회 이상 출연한 배우만 포함\n",
    "            rows.append({\n",
    "                'Genre': genre, \n",
    "                'Actor': actor, \n",
    "                'Count': stats['Count'],\n",
    "                'Total Revenue': stats['Total Revenue'],\n",
    "                'Total Audience': stats['Total Audience']\n",
    "            })\n",
    "\n",
    "df_actor_stats = pd.DataFrame(rows)\n",
    "\n",
    "# 데이터를 출연 횟수에 따라 내림차순 정렬\n",
    "df_actor_stats.sort_values(by=['Genre', 'Count'], ascending=[True, False], inplace=True)\n",
    "\n",
    "# 시각화\n",
    "fig = px.bar(df_actor_stats, x='Genre', y='Count', color='Actor', title='장르별 배우 출연 횟수 (3회 이상 출연한 배우)',\n",
    "             hover_data=['Total Revenue', 'Total Audience'],\n",
    "             category_orders={\"Genre\": sorted(df_actor_stats['Genre'].unique(), reverse=True)})\n",
    "fig.update_layout(xaxis={'categoryorder':'total descending'})\n",
    "fig.show()"
   ]
  },
  {
   "cell_type": "code",
   "execution_count": null,
   "metadata": {},
   "outputs": [],
   "source": []
  }
 ],
 "metadata": {
  "kernelspec": {
   "display_name": "base",
   "language": "python",
   "name": "python3"
  },
  "language_info": {
   "codemirror_mode": {
    "name": "ipython",
    "version": 3
   },
   "file_extension": ".py",
   "mimetype": "text/x-python",
   "name": "python",
   "nbconvert_exporter": "python",
   "pygments_lexer": "ipython3",
   "version": "3.11.5"
  }
 },
 "nbformat": 4,
 "nbformat_minor": 2
}
